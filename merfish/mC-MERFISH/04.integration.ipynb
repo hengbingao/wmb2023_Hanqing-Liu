{
 "cells": [
  {
   "cell_type": "code",
   "execution_count": 2,
   "id": "1b082f0a",
   "metadata": {
    "ExecuteTime": {
     "end_time": "2022-06-28T03:45:54.589891Z",
     "start_time": "2022-06-28T03:45:47.264494Z"
    },
    "execution": {
     "iopub.execute_input": "2023-02-27T04:08:29.522497Z",
     "iopub.status.busy": "2023-02-27T04:08:29.522198Z",
     "iopub.status.idle": "2023-02-27T04:08:36.756539Z",
     "shell.execute_reply": "2023-02-27T04:08:36.755348Z"
    },
    "papermill": {
     "duration": 7.241188,
     "end_time": "2023-02-27T04:08:36.758544",
     "exception": false,
     "start_time": "2023-02-27T04:08:29.517356",
     "status": "completed"
    },
    "tags": []
   },
   "outputs": [],
   "source": [
    "import anndata\n",
    "import matplotlib.pyplot as plt\n",
    "import numpy as np\n",
    "import pandas as pd\n",
    "from ALLCools.clustering import *\n",
    "from ALLCools.integration.seurat_class import SeuratIntegration\n",
    "from ALLCools.plot import *\n",
    "from wmb import aibs, brain, cemba"
   ]
  },
  {
   "cell_type": "code",
   "execution_count": 3,
   "id": "ac8f2b9c-3a94-4c9d-955e-48de895c1550",
   "metadata": {
    "execution": {
     "iopub.execute_input": "2023-02-27T04:08:36.808465Z",
     "iopub.status.busy": "2023-02-27T04:08:36.807549Z",
     "iopub.status.idle": "2023-02-27T04:08:36.812043Z",
     "shell.execute_reply": "2023-02-27T04:08:36.811304Z"
    },
    "papermill": {
     "duration": 0.010899,
     "end_time": "2023-02-27T04:08:36.813819",
     "exception": false,
     "start_time": "2023-02-27T04:08:36.802920",
     "status": "completed"
    },
    "tags": []
   },
   "outputs": [],
   "source": [
    "categorical_key = [\"L4Region\", 'CellType',\"DissectionRegion\"]\n",
    "ref_dataset = \"mc\""
   ]
  },
  {
   "cell_type": "markdown",
   "id": "cb21fd77",
   "metadata": {
    "papermill": {
     "duration": 0.006444,
     "end_time": "2023-02-27T04:08:36.826153",
     "exception": false,
     "start_time": "2023-02-27T04:08:36.819709",
     "status": "completed"
    },
    "tags": []
   },
   "source": [
    "## Input LSI before integration"
   ]
  },
  {
   "cell_type": "code",
   "execution_count": 4,
   "id": "1a23191e",
   "metadata": {
    "ExecuteTime": {
     "end_time": "2022-06-28T03:45:55.726143Z",
     "start_time": "2022-06-28T03:45:55.444985Z"
    },
    "execution": {
     "iopub.execute_input": "2023-02-27T04:08:36.840057Z",
     "iopub.status.busy": "2023-02-27T04:08:36.839707Z",
     "iopub.status.idle": "2023-02-27T04:08:36.998629Z",
     "shell.execute_reply": "2023-02-27T04:08:36.997846Z"
    },
    "papermill": {
     "duration": 0.167762,
     "end_time": "2023-02-27T04:08:37.000830",
     "exception": false,
     "start_time": "2023-02-27T04:08:36.833068",
     "status": "completed"
    },
    "tags": []
   },
   "outputs": [],
   "source": [
    "if ref_dataset.lower() == 'mc':\n",
    "    ref_adata = anndata.read_h5ad(\"mc_pca.h5ad\")\n",
    "    query_adata = anndata.read_h5ad(\"merfish_pca.h5ad\")\n",
    "else:\n",
    "    ref_adata = anndata.read_h5ad(\"merfish_pca.h5ad\")\n",
    "    query_adata = anndata.read_h5ad(\"mc_pca.h5ad\")"
   ]
  },
  {
   "cell_type": "code",
   "execution_count": 5,
   "id": "e4824c10",
   "metadata": {
    "ExecuteTime": {
     "end_time": "2022-06-28T03:45:55.944589Z",
     "start_time": "2022-06-28T03:45:55.941371Z"
    },
    "execution": {
     "iopub.execute_input": "2023-02-27T04:08:37.014798Z",
     "iopub.status.busy": "2023-02-27T04:08:37.014193Z",
     "iopub.status.idle": "2023-02-27T04:08:37.017769Z",
     "shell.execute_reply": "2023-02-27T04:08:37.017125Z"
    },
    "papermill": {
     "duration": 0.012149,
     "end_time": "2023-02-27T04:08:37.019331",
     "exception": false,
     "start_time": "2023-02-27T04:08:37.007182",
     "status": "completed"
    },
    "tags": []
   },
   "outputs": [],
   "source": [
    "adata_list = [ref_adata, query_adata]"
   ]
  },
  {
   "cell_type": "markdown",
   "id": "f5323f5a",
   "metadata": {
    "papermill": {
     "duration": 0.003125,
     "end_time": "2023-02-27T04:08:37.026236",
     "exception": false,
     "start_time": "2023-02-27T04:08:37.023111",
     "status": "completed"
    },
    "tags": []
   },
   "source": [
    "### Init empty adata_merge"
   ]
  },
  {
   "cell_type": "code",
   "execution_count": 6,
   "id": "4ed65e1a-de4a-436b-bccd-ba58e3c7cfc5",
   "metadata": {
    "execution": {
     "iopub.execute_input": "2023-02-27T04:08:37.037056Z",
     "iopub.status.busy": "2023-02-27T04:08:37.036483Z",
     "iopub.status.idle": "2023-02-27T04:08:41.645775Z",
     "shell.execute_reply": "2023-02-27T04:08:41.644585Z"
    },
    "papermill": {
     "duration": 4.618079,
     "end_time": "2023-02-27T04:08:41.647909",
     "exception": false,
     "start_time": "2023-02-27T04:08:37.029830",
     "status": "completed"
    },
    "tags": []
   },
   "outputs": [],
   "source": [
    "mc_annot = cemba.get_mc_annot()"
   ]
  },
  {
   "cell_type": "code",
   "execution_count": 7,
   "id": "2d46405d-b69c-478f-aaa2-a80b08920b89",
   "metadata": {
    "execution": {
     "iopub.execute_input": "2023-02-27T04:08:41.660857Z",
     "iopub.status.busy": "2023-02-27T04:08:41.660106Z",
     "iopub.status.idle": "2023-02-27T04:08:41.808287Z",
     "shell.execute_reply": "2023-02-27T04:08:41.807193Z"
    },
    "papermill": {
     "duration": 0.156444,
     "end_time": "2023-02-27T04:08:41.810368",
     "exception": false,
     "start_time": "2023-02-27T04:08:41.653924",
     "status": "completed"
    },
    "tags": []
   },
   "outputs": [],
   "source": [
    "for _key in categorical_key:\n",
    "    ref_adata.obs[_key] = mc_annot[_key].to_pandas()\n"
   ]
  },
  {
   "cell_type": "code",
   "execution_count": 8,
   "id": "2932b576",
   "metadata": {
    "ExecuteTime": {
     "end_time": "2022-06-28T03:45:56.464228Z",
     "start_time": "2022-06-28T03:45:56.456509Z"
    },
    "execution": {
     "iopub.execute_input": "2023-02-27T04:08:41.822263Z",
     "iopub.status.busy": "2023-02-27T04:08:41.821405Z",
     "iopub.status.idle": "2023-02-27T04:08:41.837621Z",
     "shell.execute_reply": "2023-02-27T04:08:41.836770Z"
    },
    "papermill": {
     "duration": 0.0242,
     "end_time": "2023-02-27T04:08:41.839604",
     "exception": false,
     "start_time": "2023-02-27T04:08:41.815404",
     "status": "completed"
    },
    "tags": []
   },
   "outputs": [],
   "source": [
    "from scipy.sparse import csr_matrix\n",
    "\n",
    "cells = sum([a.shape[0] for a in adata_list])\n",
    "features = adata_list[0].shape[1]\n",
    "\n",
    "adata_merge = anndata.AnnData(\n",
    "    X=csr_matrix((cells, features), dtype=np.float32),\n",
    "    obs=pd.concat([a.obs for a in adata_list]),\n",
    "    var=adata_list[0].var,\n",
    ")"
   ]
  },
  {
   "cell_type": "code",
   "execution_count": 9,
   "id": "bb980f27-995d-42ab-9be2-44e470185ac7",
   "metadata": {
    "execution": {
     "iopub.execute_input": "2023-02-27T04:08:41.851028Z",
     "iopub.status.busy": "2023-02-27T04:08:41.850646Z",
     "iopub.status.idle": "2023-02-27T04:08:41.863953Z",
     "shell.execute_reply": "2023-02-27T04:08:41.863014Z"
    },
    "papermill": {
     "duration": 0.021667,
     "end_time": "2023-02-27T04:08:41.865772",
     "exception": false,
     "start_time": "2023-02-27T04:08:41.844105",
     "status": "completed"
    },
    "tags": []
   },
   "outputs": [
    {
     "data": {
      "text/plain": [
       "40"
      ]
     },
     "execution_count": 9,
     "metadata": {},
     "output_type": "execute_result"
    }
   ],
   "source": [
    "n_pc = adata_list[0].obsm[\"X_pca\"].shape[1]\n",
    "if n_pc < 10:\n",
    "    n_cca_components = n_pc\n",
    "else:\n",
    "    n_cca_components = max(n_pc - 10, 10)\n",
    "\n",
    "n_cca_components"
   ]
  },
  {
   "cell_type": "code",
   "execution_count": 10,
   "id": "d4656633-2436-44fa-9864-3c7201ca9dd1",
   "metadata": {
    "execution": {
     "iopub.execute_input": "2023-02-27T04:08:41.877604Z",
     "iopub.status.busy": "2023-02-27T04:08:41.877048Z",
     "iopub.status.idle": "2023-02-27T04:08:41.881864Z",
     "shell.execute_reply": "2023-02-27T04:08:41.881053Z"
    },
    "papermill": {
     "duration": 0.012581,
     "end_time": "2023-02-27T04:08:41.883406",
     "exception": false,
     "start_time": "2023-02-27T04:08:41.870825",
     "status": "completed"
    },
    "tags": []
   },
   "outputs": [],
   "source": [
    "n_adata_features = adata_merge.shape[1]\n",
    "\n",
    "n_features = 60\n",
    "n_features = min(int(n_adata_features * n_cca_components / 11), n_features)"
   ]
  },
  {
   "cell_type": "code",
   "execution_count": 11,
   "id": "090b8f87-f19a-4cb6-952e-bd1f5d928beb",
   "metadata": {
    "execution": {
     "iopub.execute_input": "2023-02-27T04:08:41.893160Z",
     "iopub.status.busy": "2023-02-27T04:08:41.892795Z",
     "iopub.status.idle": "2023-02-27T04:08:41.902173Z",
     "shell.execute_reply": "2023-02-27T04:08:41.901263Z"
    },
    "papermill": {
     "duration": 0.016021,
     "end_time": "2023-02-27T04:08:41.903881",
     "exception": false,
     "start_time": "2023-02-27T04:08:41.887860",
     "status": "completed"
    },
    "tags": []
   },
   "outputs": [],
   "source": [
    "min_sample = adata_merge.obs[\"Modality\"].value_counts().min()"
   ]
  },
  {
   "cell_type": "markdown",
   "id": "fe3a3a9d",
   "metadata": {
    "papermill": {
     "duration": 0.006032,
     "end_time": "2023-02-27T04:08:41.915474",
     "exception": false,
     "start_time": "2023-02-27T04:08:41.909442",
     "status": "completed"
    },
    "tags": []
   },
   "source": [
    "## Integration and transform"
   ]
  },
  {
   "cell_type": "code",
   "execution_count": 12,
   "id": "ebdcaeac",
   "metadata": {
    "ExecuteTime": {
     "end_time": "2022-06-26T06:08:13.548054Z",
     "start_time": "2022-06-26T06:08:13.546257Z"
    },
    "execution": {
     "iopub.execute_input": "2023-02-27T04:08:41.926623Z",
     "iopub.status.busy": "2023-02-27T04:08:41.925968Z",
     "iopub.status.idle": "2023-02-27T04:08:41.929784Z",
     "shell.execute_reply": "2023-02-27T04:08:41.929065Z"
    },
    "papermill": {
     "duration": 0.011885,
     "end_time": "2023-02-27T04:08:41.931886",
     "exception": false,
     "start_time": "2023-02-27T04:08:41.920001",
     "status": "completed"
    },
    "tags": []
   },
   "outputs": [],
   "source": [
    "integrator = SeuratIntegration()"
   ]
  },
  {
   "cell_type": "code",
   "execution_count": 13,
   "id": "8a45a35b",
   "metadata": {
    "ExecuteTime": {
     "end_time": "2022-06-26T06:08:45.314671Z",
     "start_time": "2022-06-26T06:08:13.549744Z"
    },
    "execution": {
     "iopub.execute_input": "2023-02-27T04:08:41.943755Z",
     "iopub.status.busy": "2023-02-27T04:08:41.943466Z",
     "iopub.status.idle": "2023-02-27T04:11:30.282482Z",
     "shell.execute_reply": "2023-02-27T04:11:30.281650Z"
    },
    "papermill": {
     "duration": 168.346799,
     "end_time": "2023-02-27T04:11:30.283899",
     "exception": false,
     "start_time": "2023-02-27T04:08:41.937100",
     "status": "completed"
    },
    "tags": []
   },
   "outputs": [
    {
     "name": "stdout",
     "output_type": "stream",
     "text": [
      "Find anchors across datasets.\n",
      "Run CCA\n",
      "non zero dims 40\n",
      "Find Anchors using k=30\n"
     ]
    },
    {
     "name": "stderr",
     "output_type": "stream",
     "text": [
      "/opt/conda/lib/python3.7/site-packages/scipy/sparse/_index.py:125: SparseEfficiencyWarning: Changing the sparsity structure of a csr_matrix is expensive. lil_matrix is more efficient.\n",
      "  self._set_arrayXarray(i, j, x)\n"
     ]
    },
    {
     "name": "stdout",
     "output_type": "stream",
     "text": [
      "Anchor selected with high CC feature graph: 9934 / 23144\n",
      "Score Anchors\n",
      "Identified 9934 anchors between datasets 0 and 1.\n"
     ]
    }
   ],
   "source": [
    "# take ~2.5-3h for 300K mC + 4M 10X merfish\n",
    "anchor = integrator.find_anchor(\n",
    "        adata_list,\n",
    "        k_local=None,\n",
    "        key_local=\"X_pca\",\n",
    "        k_anchor=5,\n",
    "        key_anchor=\"X\",\n",
    "        dim_red=\"cca\",\n",
    "        max_cc_cells=100000,\n",
    "        k_score=30,\n",
    "        k_filter=min(100, min_sample),\n",
    "        scale1=True,\n",
    "        scale2=True,\n",
    "        n_components=n_cca_components,\n",
    "        n_features=n_features,\n",
    "        alignments=[[[0], [1]]],\n",
    "    )"
   ]
  },
  {
   "cell_type": "code",
   "execution_count": 14,
   "id": "8f26f373-0fa2-4784-863b-d0d5949a9664",
   "metadata": {
    "execution": {
     "iopub.execute_input": "2023-02-27T04:11:30.292693Z",
     "iopub.status.busy": "2023-02-27T04:11:30.292466Z",
     "iopub.status.idle": "2023-02-27T04:11:30.296458Z",
     "shell.execute_reply": "2023-02-27T04:11:30.295798Z"
    },
    "papermill": {
     "duration": 0.009959,
     "end_time": "2023-02-27T04:11:30.297820",
     "exception": false,
     "start_time": "2023-02-27T04:11:30.287861",
     "status": "completed"
    },
    "tags": []
   },
   "outputs": [],
   "source": [
    "if min_sample < 500:\n",
    "    k_weight = 50\n",
    "elif min_sample < 300:\n",
    "    k_weight = 30\n",
    "else:\n",
    "    k_weight = 100"
   ]
  },
  {
   "cell_type": "code",
   "execution_count": 15,
   "id": "9f56e4e0",
   "metadata": {
    "ExecuteTime": {
     "end_time": "2022-06-26T06:08:53.260292Z",
     "start_time": "2022-06-26T06:08:45.316850Z"
    },
    "execution": {
     "iopub.execute_input": "2023-02-27T04:11:30.306541Z",
     "iopub.status.busy": "2023-02-27T04:11:30.306330Z",
     "iopub.status.idle": "2023-02-27T04:11:41.273653Z",
     "shell.execute_reply": "2023-02-27T04:11:41.272740Z"
    },
    "papermill": {
     "duration": 10.974038,
     "end_time": "2023-02-27T04:11:41.275958",
     "exception": false,
     "start_time": "2023-02-27T04:11:30.301920",
     "status": "completed"
    },
    "tags": []
   },
   "outputs": [
    {
     "name": "stdout",
     "output_type": "stream",
     "text": [
      "Merge datasets\n",
      "[[0], [1]]\n",
      "Initialize\n",
      "Find nearest anchors. "
     ]
    },
    {
     "name": "stderr",
     "output_type": "stream",
     "text": [
      "/opt/conda/lib/python3.7/site-packages/ALLCools/integration/seurat_class.py:735: VisibleDeprecationWarning: Creating an ndarray from ragged nested sequences (which is a list-or-tuple of lists-or-tuples-or ndarrays with different lengths or shapes) is deprecated. If you meant to do this, you must specify 'dtype=object' when creating the ndarray\n",
      "  data=np.array(corrected),\n"
     ]
    },
    {
     "name": "stdout",
     "output_type": "stream",
     "text": [
      "k_weight:  100\n",
      "Normalize graph\n",
      "Transform data\n"
     ]
    }
   ],
   "source": [
    "try:\n",
    "    corrected = integrator.integrate(\n",
    "        key_correct=\"X_pca\",\n",
    "        row_normalize=True,\n",
    "        k_weight=k_weight,\n",
    "        sd=1,\n",
    "        alignments=[[[0], [1]]],\n",
    "    )\n",
    "except BaseException:\n",
    "    for k_weight in range(50, 0, -5):\n",
    "        if k_weight < 2:\n",
    "            raise\n",
    "        print(k_weight)\n",
    "        try:\n",
    "            corrected = integrator.integrate(\n",
    "            key_correct=\"X_pca\",\n",
    "            row_normalize=True,\n",
    "            k_weight=k_weight,\n",
    "            sd=1,\n",
    "            alignments=[[[0], [1]]],\n",
    "            )\n",
    "        except BaseException:\n",
    "            pass\n",
    "adata_merge.obsm[\"X_pca_integrate\"] = np.concatenate(corrected)"
   ]
  },
  {
   "cell_type": "markdown",
   "id": "1b0ab55c",
   "metadata": {
    "papermill": {
     "duration": 0.005764,
     "end_time": "2023-02-27T04:11:41.288003",
     "exception": false,
     "start_time": "2023-02-27T04:11:41.282239",
     "status": "completed"
    },
    "tags": []
   },
   "source": [
    "## Label transfer"
   ]
  },
  {
   "cell_type": "code",
   "execution_count": 16,
   "id": "7eb06547",
   "metadata": {
    "ExecuteTime": {
     "end_time": "2022-06-26T06:09:06.134216Z",
     "start_time": "2022-06-26T06:08:53.268361Z"
    },
    "execution": {
     "iopub.execute_input": "2023-02-27T04:11:41.301289Z",
     "iopub.status.busy": "2023-02-27T04:11:41.300986Z",
     "iopub.status.idle": "2023-02-27T04:11:41.304512Z",
     "shell.execute_reply": "2023-02-27T04:11:41.303803Z"
    },
    "papermill": {
     "duration": 0.012129,
     "end_time": "2023-02-27T04:11:41.305936",
     "exception": false,
     "start_time": "2023-02-27T04:11:41.293807",
     "status": "completed"
    },
    "tags": []
   },
   "outputs": [],
   "source": [
    "# transfer_results = integrator.label_transfer(\n",
    "#     ref=[0],\n",
    "#     qry=[1],\n",
    "#     categorical_key=categorical_key,\n",
    "#     key_dist='X_pca'\n",
    "# )\n",
    "# for k, v in transfer_results.items():\n",
    "#     v.to_hdf(f'{k}_transfer.hdf', key='data')\n",
    "# integrator.save_transfer_results_to_adata(adata_merge, transfer_results)"
   ]
  },
  {
   "cell_type": "markdown",
   "id": "504cb48a",
   "metadata": {
    "papermill": {
     "duration": 0.005459,
     "end_time": "2023-02-27T04:11:41.317541",
     "exception": false,
     "start_time": "2023-02-27T04:11:41.312082",
     "status": "completed"
    },
    "tags": []
   },
   "source": [
    "## Save"
   ]
  },
  {
   "cell_type": "code",
   "execution_count": 17,
   "id": "74e9b2d6-054e-4f1e-ae32-01eff31737df",
   "metadata": {
    "execution": {
     "iopub.execute_input": "2023-02-27T04:11:41.326640Z",
     "iopub.status.busy": "2023-02-27T04:11:41.326347Z",
     "iopub.status.idle": "2023-02-27T04:11:41.434577Z",
     "shell.execute_reply": "2023-02-27T04:11:41.433737Z"
    },
    "papermill": {
     "duration": 0.114948,
     "end_time": "2023-02-27T04:11:41.436408",
     "exception": false,
     "start_time": "2023-02-27T04:11:41.321460",
     "status": "completed"
    },
    "tags": []
   },
   "outputs": [],
   "source": [
    "adata_merge.write_h5ad(\"final.h5ad\")"
   ]
  },
  {
   "cell_type": "code",
   "execution_count": 18,
   "id": "8dee4091-aeaa-4a53-97db-d3dbda46a087",
   "metadata": {
    "execution": {
     "iopub.execute_input": "2023-02-27T04:11:41.446056Z",
     "iopub.status.busy": "2023-02-27T04:11:41.445811Z",
     "iopub.status.idle": "2023-02-27T04:11:41.450813Z",
     "shell.execute_reply": "2023-02-27T04:11:41.450104Z"
    },
    "papermill": {
     "duration": 0.011223,
     "end_time": "2023-02-27T04:11:41.452133",
     "exception": false,
     "start_time": "2023-02-27T04:11:41.440910",
     "status": "completed"
    },
    "tags": []
   },
   "outputs": [
    {
     "data": {
      "text/plain": [
       "AnnData object with n_obs × n_vars = 60198 × 448\n",
       "    obs: 'blank_count', 'n_counts', 'n_genes', 'Modality', 'L4Region', 'CellType', 'DissectionRegion'\n",
       "    var: 'chrom-mC', 'cov_mean-mC', 'end-mC', 'start-mC', 'cef-mC', 'id-merfish'\n",
       "    obsm: 'X_pca_integrate'"
      ]
     },
     "execution_count": 18,
     "metadata": {},
     "output_type": "execute_result"
    }
   ],
   "source": [
    "adata_merge"
   ]
  },
  {
   "cell_type": "code",
   "execution_count": 19,
   "id": "900cde6e",
   "metadata": {
    "ExecuteTime": {
     "end_time": "2022-06-26T06:09:06.747764Z",
     "start_time": "2022-06-26T06:09:06.332437Z"
    },
    "execution": {
     "iopub.execute_input": "2023-02-27T04:11:41.461179Z",
     "iopub.status.busy": "2023-02-27T04:11:41.460949Z",
     "iopub.status.idle": "2023-02-27T04:11:41.464444Z",
     "shell.execute_reply": "2023-02-27T04:11:41.463783Z"
    },
    "papermill": {
     "duration": 0.009761,
     "end_time": "2023-02-27T04:11:41.465864",
     "exception": false,
     "start_time": "2023-02-27T04:11:41.456103",
     "status": "completed"
    },
    "tags": []
   },
   "outputs": [],
   "source": [
    "# integrator.save(\"integration\")"
   ]
  },
  {
   "cell_type": "code",
   "execution_count": 20,
   "id": "a6b82e5c",
   "metadata": {
    "execution": {
     "iopub.execute_input": "2023-02-27T04:11:41.476117Z",
     "iopub.status.busy": "2023-02-27T04:11:41.475895Z",
     "iopub.status.idle": "2023-02-27T04:11:41.557784Z",
     "shell.execute_reply": "2023-02-27T04:11:41.557032Z"
    },
    "papermill": {
     "duration": 0.088806,
     "end_time": "2023-02-27T04:11:41.559375",
     "exception": false,
     "start_time": "2023-02-27T04:11:41.470569",
     "status": "completed"
    },
    "tags": []
   },
   "outputs": [
    {
     "data": {
      "text/plain": [
       "CompletedProcess(args=['rm', '-f', 'mc_pca.h5ad', 'merfish_pca.h5ad'], returncode=0)"
      ]
     },
     "execution_count": 20,
     "metadata": {},
     "output_type": "execute_result"
    }
   ],
   "source": [
    "import subprocess\n",
    "subprocess.run(['rm', '-f', 'mc_pca.h5ad', 'merfish_pca.h5ad'])"
   ]
  },
  {
   "cell_type": "code",
   "execution_count": null,
   "id": "1db0538f",
   "metadata": {
    "papermill": {
     "duration": 0.004261,
     "end_time": "2023-02-27T04:11:41.568349",
     "exception": false,
     "start_time": "2023-02-27T04:11:41.564088",
     "status": "completed"
    },
    "tags": []
   },
   "outputs": [],
   "source": []
  },
  {
   "cell_type": "code",
   "execution_count": null,
   "id": "edcfb8b6",
   "metadata": {
    "papermill": {
     "duration": 0.004176,
     "end_time": "2023-02-27T04:11:41.576724",
     "exception": false,
     "start_time": "2023-02-27T04:11:41.572548",
     "status": "completed"
    },
    "tags": []
   },
   "outputs": [],
   "source": []
  }
 ],
 "metadata": {
  "celltoolbar": "无",
  "hide_input": false,
  "kernelspec": {
   "display_name": "Python 3 (ipykernel)",
   "language": "python",
   "name": "python3"
  },
  "language_info": {
   "codemirror_mode": {
    "name": "ipython",
    "version": 3
   },
   "file_extension": ".py",
   "mimetype": "text/x-python",
   "name": "python",
   "nbconvert_exporter": "python",
   "pygments_lexer": "ipython3",
   "version": "3.7.12"
  },
  "papermill": {
   "default_parameters": {},
   "duration": 195.028739,
   "end_time": "2023-02-27T04:11:43.001919",
   "environment_variables": {},
   "exception": null,
   "input_path": "/home/qzeng_salk_edu/project/cemba/230223_spatial/integration/mc_merfish/template/04.integration.ipynb",
   "output_path": "/home/qzeng_salk_edu/project/cemba/230223_spatial/integration/mc_merfish/Round1/Slice3-4_Neu/04.integration.ipynb",
   "parameters": {
    "cpu": 1,
    "group_name": "Slice3-4_Neu",
    "mem_gb": 1
   },
   "start_time": "2023-02-27T04:08:27.973180",
   "version": "2.3.3"
  },
  "toc": {
   "base_numbering": 1,
   "nav_menu": {},
   "number_sections": true,
   "sideBar": true,
   "skip_h1_title": true,
   "title_cell": "Table of Contents",
   "title_sidebar": "Contents",
   "toc_cell": false,
   "toc_position": {},
   "toc_section_display": true,
   "toc_window_display": true
  }
 },
 "nbformat": 4,
 "nbformat_minor": 5
}
