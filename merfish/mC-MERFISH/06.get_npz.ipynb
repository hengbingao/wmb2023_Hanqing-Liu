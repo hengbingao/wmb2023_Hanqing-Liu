{
 "cells": [
  {
   "cell_type": "code",
   "execution_count": 1,
   "id": "654919d4",
   "metadata": {
    "ExecuteTime": {
     "end_time": "2022-06-26T18:29:33.963964Z",
     "start_time": "2022-06-26T18:29:14.619104Z"
    },
    "papermill": {
     "duration": 5.496131,
     "end_time": "2023-02-27T04:13:47.373353",
     "exception": false,
     "start_time": "2023-02-27T04:13:41.877222",
     "status": "completed"
    },
    "tags": []
   },
   "outputs": [],
   "source": [
    "import pathlib\n",
    "\n",
    "import anndata\n",
    "import matplotlib.pyplot as plt\n",
    "import networkx as nx\n",
    "import numpy as np\n",
    "import pandas as pd\n",
    "\n",
    "# from wmb import mc, brain\n",
    "import pynndescent\n",
    "import seaborn as sns\n",
    "from ALLCools.integration import calculate_overlap_score, confusion_matrix_clustering\n",
    "from ALLCools.mcds import MCDS\n",
    "from ALLCools.plot import *\n",
    "from sklearn.preprocessing import OneHotEncoder, normalize\n",
    "import joblib"
   ]
  },
  {
   "cell_type": "code",
   "execution_count": 2,
   "id": "a5a0b7c1-857d-400c-8605-5c75b8d3e32d",
   "metadata": {
    "papermill": {
     "duration": 0.008977,
     "end_time": "2023-02-27T04:13:47.386839",
     "exception": false,
     "start_time": "2023-02-27T04:13:47.377862",
     "status": "completed"
    },
    "tags": [
     "parameters"
    ]
   },
   "outputs": [],
   "source": [
    "var = \"L4Region\"\n",
    "group_name = 'Slice9-10_NN'"
   ]
  },
  {
   "cell_type": "markdown",
   "id": "5f74fe0a",
   "metadata": {
    "papermill": {
     "duration": 0.002654,
     "end_time": "2023-02-27T04:13:47.457158",
     "exception": false,
     "start_time": "2023-02-27T04:13:47.454504",
     "status": "completed"
    },
    "tags": []
   },
   "source": [
    "## Load"
   ]
  },
  {
   "cell_type": "code",
   "execution_count": 4,
   "id": "c87cb4ee",
   "metadata": {
    "ExecuteTime": {
     "end_time": "2022-06-26T18:29:41.357924Z",
     "start_time": "2022-06-26T18:29:41.224395Z"
    },
    "papermill": {
     "duration": 0.102262,
     "end_time": "2023-02-27T04:13:47.561956",
     "exception": false,
     "start_time": "2023-02-27T04:13:47.459694",
     "status": "completed"
    },
    "tags": []
   },
   "outputs": [],
   "source": [
    "adata_merge = anndata.read_h5ad(\"final_with_coords.h5ad\")"
   ]
  },
  {
   "cell_type": "code",
   "execution_count": 5,
   "id": "ebf28ffb-0d5c-49e9-ae85-ae257b50cad5",
   "metadata": {
    "papermill": {
     "duration": 0.033331,
     "end_time": "2023-02-27T04:13:47.598221",
     "exception": false,
     "start_time": "2023-02-27T04:13:47.564890",
     "status": "completed"
    },
    "tags": []
   },
   "outputs": [
    {
     "name": "stdout",
     "output_type": "stream",
     "text": [
      "[] []\n"
     ]
    }
   ],
   "source": [
    "data = (\n",
    "    adata_merge.obs[[\"leiden\", f\"{var}\"]]\n",
    "    .astype(str)\n",
    "    .value_counts()\n",
    "    .unstack(fill_value=0)\n",
    ")\n",
    "mc_only_cluster = data.index[data[\"nan\"] == 0]\n",
    "data = data.drop([\"nan\"], axis=1)\n",
    "merfish_only_cluster = data.index[data.sum(axis=1) == 0]\n",
    "data = data.drop(merfish_only_cluster, axis=0)\n",
    "datac = data / data.sum(axis=0)\n",
    "datar = data / data.sum(axis=1)[:, None]\n",
    "confusion_matrix = datar.where(datar > datac, datac)\n",
    "print(mc_only_cluster.tolist(), merfish_only_cluster.tolist())"
   ]
  },
  {
   "cell_type": "code",
   "execution_count": 6,
   "id": "63f85b7c-3774-49c4-8c0d-1a34d913763c",
   "metadata": {
    "papermill": {
     "duration": 0.066597,
     "end_time": "2023-02-27T04:13:47.667828",
     "exception": false,
     "start_time": "2023-02-27T04:13:47.601231",
     "status": "completed"
    },
    "tags": []
   },
   "outputs": [],
   "source": [
    "# confusion matrix contains mc only clusters, but not merfish only clusters\n",
    "if data.values.max() > 0.1:\n",
    "    (\n",
    "        query_group,\n",
    "        ref_group,\n",
    "        confusion_matrix,\n",
    "        g,\n",
    "        modularity_score1,\n",
    "    ) = confusion_matrix_clustering(\n",
    "        confusion_matrix=confusion_matrix.T,\n",
    "        min_value=0.1,\n",
    "        max_value=0.9,\n",
    "        partition_type=None,\n",
    "        resolution=1.0,\n",
    "        seed=0,\n",
    "    )\n",
    "else:\n",
    "    ref_group = pd.Series(-1, index=data.index)\n",
    "    query_group = pd.Series(-1, index=data.columns)\n",
    "    confusion_matrix = confusion_matrix.T\n",
    "    modularity_score1 = 0"
   ]
  },
  {
   "cell_type": "code",
   "execution_count": 7,
   "id": "a0147e7a-04eb-4236-9d3d-f307cb7c4d62",
   "metadata": {
    "papermill": {
     "duration": 0.009649,
     "end_time": "2023-02-27T04:13:47.680559",
     "exception": false,
     "start_time": "2023-02-27T04:13:47.670910",
     "status": "completed"
    },
    "tags": []
   },
   "outputs": [
    {
     "name": "stdout",
     "output_type": "stream",
     "text": [
      "0.9157125690840409 (25,) (25,)\n"
     ]
    }
   ],
   "source": [
    "print(modularity_score1, ref_group.unique().shape, query_group.unique().shape)"
   ]
  },
  {
   "cell_type": "code",
   "execution_count": 8,
   "id": "3cf0c00a-7713-4e0d-9402-39896be4b6e0",
   "metadata": {
    "papermill": {
     "duration": 0.296837,
     "end_time": "2023-02-27T04:13:47.980461",
     "exception": false,
     "start_time": "2023-02-27T04:13:47.683624",
     "status": "completed"
    },
    "tags": []
   },
   "outputs": [
    {
     "data": {
      "image/png": "[encoded data removed]",
      "text/plain": [
       "<Figure size 600x600 with 1 Axes>"
      ]
     },
     "metadata": {
      "needs_background": "light"
     },
     "output_type": "display_data"
    }
   ],
   "source": [
    "fig, ax = plt.subplots(figsize=(3, 3), dpi=200)\n",
    "sns.heatmap(confusion_matrix, ax=ax, vmin=0.1, vmax=0.9, cmap=\"cividis\", cbar=None)\n",
    "cumsum_c, cumsum_r = 0, 0\n",
    "for xx in ref_group.sort_values().unique():\n",
    "    rlen, clen = (query_group == xx).sum(), (ref_group == xx).sum()\n",
    "    ax.plot([cumsum_c, cumsum_c + clen], [cumsum_r, cumsum_r], c=\"w\", linewidth=0.5)\n",
    "    ax.plot(\n",
    "        [cumsum_c, cumsum_c + clen],\n",
    "        [cumsum_r + rlen, cumsum_r + rlen],\n",
    "        c=\"w\",\n",
    "        linewidth=0.5,\n",
    "    )\n",
    "    ax.plot([cumsum_c, cumsum_c], [cumsum_r, cumsum_r + rlen], c=\"w\", linewidth=0.5)\n",
    "    ax.plot(\n",
    "        [cumsum_c + clen, cumsum_c + clen],\n",
    "        [cumsum_r, cumsum_r + rlen],\n",
    "        c=\"w\",\n",
    "        linewidth=0.5,\n",
    "    )\n",
    "    cumsum_c += clen\n",
    "    cumsum_r += rlen"
   ]
  },
  {
   "cell_type": "markdown",
   "id": "f4b06706-a878-43fa-9fab-9e532cbb6005",
   "metadata": {
    "tags": []
   },
   "source": [
    "## mc as query"
   ]
  },
  {
   "cell_type": "code",
   "execution_count": 9,
   "id": "e305ffc3-13e9-4713-bd68-eac029999ed5",
   "metadata": {
    "papermill": {
     "duration": 0.164442,
     "end_time": "2023-02-27T04:13:48.148676",
     "exception": false,
     "start_time": "2023-02-27T04:13:47.984234",
     "status": "completed"
    },
    "tags": []
   },
   "outputs": [
    {
     "name": "stdout",
     "output_type": "stream",
     "text": [
      "25 25\n"
     ]
    }
   ],
   "source": [
    "integration_group_cluster = {}\n",
    "integration_group_cell = {}\n",
    "\n",
    "for group, leiden_inteGroup in ref_group.groupby(ref_group):\n",
    "    ref_cluster = leiden_inteGroup.index\n",
    "    qry_cluster = (datac.loc[ref_cluster].sum(axis=0) > 0.3) | (\n",
    "        datar.loc[ref_cluster].max(axis=0) > 0.3\n",
    "    )\n",
    "    qry_cluster = qry_cluster.index[qry_cluster].astype(str)\n",
    "\n",
    "    ref_cell = adata_merge.obs.index[\n",
    "        (adata_merge.obs[\"Modality\"] == \"merfish\")\n",
    "        & (adata_merge.obs[\"leiden\"].isin(ref_cluster))\n",
    "    ]\n",
    "    qry_cell = adata_merge.obs.index[\n",
    "        (adata_merge.obs[\"Modality\"] == \"mC\")\n",
    "        & (adata_merge.obs[f\"{var}\"].isin(qry_cluster))\n",
    "    ]\n",
    "\n",
    "    if (len(qry_cell) > 0) and (len(ref_cell) > 0):\n",
    "        integration_group_cluster[f\"IG{group}\"] = {\n",
    "            \"ref\": ref_cluster.tolist(),\n",
    "            \"qry\": qry_cluster.tolist(),\n",
    "        }\n",
    "        integration_group_cell[f\"IG{group}\"] = {\n",
    "            \"ref\": ref_cell.tolist(),\n",
    "            \"qry\": qry_cell.tolist(),\n",
    "        }\n",
    "    else:\n",
    "        print(group, ref_cluster, qry_cluster)\n",
    "print(len(integration_group_cluster), len(integration_group_cell))"
   ]
  },
  {
   "cell_type": "code",
   "execution_count": 10,
   "id": "445a8c3f-061f-4651-b7ac-b8287ebe312c",
   "metadata": {
    "papermill": {
     "duration": 0.010611,
     "end_time": "2023-02-27T04:13:48.163153",
     "exception": false,
     "start_time": "2023-02-27T04:13:48.152542",
     "status": "completed"
    },
    "tags": []
   },
   "outputs": [
    {
     "name": "stdout",
     "output_type": "stream",
     "text": [
      "27 1260\n"
     ]
    }
   ],
   "source": [
    "all_ref_clusters, all_qry_clusters = [], []\n",
    "for group, group_dict in integration_group_cluster.items():\n",
    "    if group != -1:\n",
    "        all_ref_clusters += group_dict[\"ref\"]\n",
    "        all_qry_clusters += group_dict[\"qry\"]\n",
    "\n",
    "all_ref_clusters = set(all_ref_clusters)\n",
    "all_qry_clusters = set(all_qry_clusters)\n",
    "print(len(all_ref_clusters), len(all_qry_clusters))"
   ]
  },
  {
   "cell_type": "code",
   "execution_count": 11,
   "id": "babc78d4-fde6-4332-ab20-3d33a0320fa1",
   "metadata": {
    "papermill": {
     "duration": 0.018397,
     "end_time": "2023-02-27T04:13:48.185690",
     "exception": false,
     "start_time": "2023-02-27T04:13:48.167293",
     "status": "completed"
    },
    "tags": []
   },
   "outputs": [
    {
     "name": "stdout",
     "output_type": "stream",
     "text": [
      "30000 30194\n"
     ]
    }
   ],
   "source": [
    "mc_cell = (adata_merge.obs[\"Modality\"] == \"mC\") & (\n",
    "    adata_merge.obs[f\"{var}\"].isin(all_qry_clusters)\n",
    ")\n",
    "merfish_cell = (adata_merge.obs[\"Modality\"] == \"merfish\") & (\n",
    "    adata_merge.obs[\"leiden\"].isin(all_ref_clusters)\n",
    ")\n",
    "print(mc_cell.sum(), merfish_cell.sum())\n",
    "cluster = pd.DataFrame(\n",
    "    -1,\n",
    "    index=adata_merge.obs.index[adata_merge.obs[\"Modality\"] == \"merfish\"],\n",
    "    columns=[f\"{var}\", f\"{var}_score\",'CellType','CellType_score'],\n",
    ")"
   ]
  },
  {
   "cell_type": "code",
   "execution_count": 12,
   "id": "02449cfe-2e60-41c0-bb4a-dc65db6324e1",
   "metadata": {
    "papermill": {
     "duration": 57.600133,
     "end_time": "2023-02-27T04:14:45.789734",
     "exception": false,
     "start_time": "2023-02-27T04:13:48.189601",
     "status": "completed"
    },
    "tags": []
   },
   "outputs": [],
   "source": [
    "chunk_size = 50000\n",
    "if (mc_cell.sum() > 0) and (merfish_cell.sum() > 0):\n",
    "    # assign merfish cell to mc clusters\n",
    "    sd = 1\n",
    "\n",
    "    index = pynndescent.NNDescent(\n",
    "        adata_merge.obsm[\"X_pca_integrate\"][mc_cell],\n",
    "        metric=\"euclidean\",\n",
    "        n_neighbors=min(50, mc_cell.sum()),\n",
    "        random_state=0,\n",
    "        n_jobs=-1)  # get mc index first\n",
    "    G, D = index.query(adata_merge.obsm[\"X_pca_integrate\"][merfish_cell], k=min(25, mc_cell.sum()))\n",
    "    \n",
    "    # np.savez(\n",
    "    #     \"MERFISH_mCxNN.npz\",\n",
    "    #     G=G,\n",
    "    #     D=D,\n",
    "    #     mc_cell=adata_merge.obs.index[mc_cell],\n",
    "    #     merfish_cell=adata_merge.obs.index[merfish_cell])\n",
    "        \n",
    "    cellfilter = D[:, -1] == 0\n",
    "    D = 1 - D / D[:, -1][:, None]\n",
    "    D[cellfilter] = 1\n",
    "    D = 1 - np.exp(-D * (sd**2) / 4)\n",
    "    D = D / (np.sum(D, axis=1) + 1e-6)[:, None]\n",
    "\n",
    "    enc = OneHotEncoder()\n",
    "    for _var in ['L4Region', 'CellType']:\n",
    "        labelref = enc.fit_transform(adata_merge.obs.loc[mc_cell, [f\"{_var}\"]].values.astype(str))\n",
    "        for chunk_start in range(0, merfish_cell.sum(), chunk_size):\n",
    "            result = (D[chunk_start : (chunk_start + chunk_size), :, None] * labelref[G[chunk_start : (chunk_start + chunk_size)].flatten()].toarray().reshape((-1, min(25, mc_cell.sum()), enc.categories_[0].shape[0]))).sum(axis=1)\n",
    "            result = pd.DataFrame(result, columns=enc.categories_[0], index=adata_merge.obs.index[merfish_cell][chunk_start : (chunk_start + chunk_size)])\n",
    "\n",
    "            cluster.loc[result.index, f\"{_var}\"] = result.idxmax(axis=1).values\n",
    "            cluster.loc[result.index, f\"{_var}_score\"] = result.max(axis=1).values\n",
    "\n",
    "    # cluster.to_hdf('MERFISH_mc_cluster.hdf', key='data')\n"
   ]
  },
  {
   "cell_type": "code",
   "execution_count": 15,
   "id": "effcd5c3-9f99-44a0-98ee-e82456f4e57a",
   "metadata": {
    "papermill": {
     "duration": 0.66349,
     "end_time": "2023-02-27T04:14:46.457566",
     "exception": false,
     "start_time": "2023-02-27T04:14:45.794076",
     "status": "completed"
    },
    "tags": []
   },
   "outputs": [],
   "source": [
    "merfish_meta = pd.read_csv('/home/qzeng_salk_edu/project/cemba/230223_spatial/integration/_prepare/merfish_meta.tenx.csv',index_col = 0)"
   ]
  },
  {
   "cell_type": "code",
   "execution_count": 16,
   "id": "af1bd6ae-31b5-40bf-874f-492491284ae0",
   "metadata": {
    "papermill": {
     "duration": 0.112862,
     "end_time": "2023-02-27T04:14:46.574536",
     "exception": false,
     "start_time": "2023-02-27T04:14:46.461674",
     "status": "completed"
    },
    "tags": []
   },
   "outputs": [
    {
     "data": {
      "text/plain": [
       "0.7109690667019938"
      ]
     },
     "execution_count": 16,
     "metadata": {},
     "output_type": "execute_result"
    }
   ],
   "source": [
    "cluster['tenx_cell_type'] = merfish_meta['cell_type']\n",
    "(cluster['CellType'] == cluster['tenx_cell_type']).sum() / cluster.shape[0]"
   ]
  },
  {
   "cell_type": "markdown",
   "id": "50fbe30c-3848-423a-8aaa-d15fb193285c",
   "metadata": {
    "papermill": {
     "duration": 0.004428,
     "end_time": "2023-02-27T04:14:47.146070",
     "exception": false,
     "start_time": "2023-02-27T04:14:47.141642",
     "status": "completed"
    },
    "tags": []
   },
   "source": [
    "## mc as ref"
   ]
  },
  {
   "cell_type": "code",
   "execution_count": 9,
   "id": "f326d19d-ace2-42b2-b8d6-abe89a94671f",
   "metadata": {},
   "outputs": [
    {
     "name": "stdout",
     "output_type": "stream",
     "text": [
      "25 25\n"
     ]
    }
   ],
   "source": [
    "integration_group_cluster = {}\n",
    "integration_group_cell = {}\n",
    "\n",
    "for group, leiden_inteGroup in ref_group.groupby(ref_group):\n",
    "    qry_cluster = leiden_inteGroup.index\n",
    "    \n",
    "    ref_cluster = (datac.loc[qry_cluster].sum(axis=0) > 0.3) | (datar.loc[qry_cluster].max(axis=0) > 0.3)\n",
    "    \n",
    "    ref_cluster = ref_cluster.index[ref_cluster].astype(str)\n",
    "    \n",
    "    ref_cell = adata_merge.obs.index[\n",
    "        (adata_merge.obs[\"Modality\"] == \"mC\") & \n",
    "        (adata_merge.obs[f\"{var}\"].isin(ref_cluster))]\n",
    "    \n",
    "    qry_cell = adata_merge.obs.index[\n",
    "        (adata_merge.obs[\"Modality\"] == \"merfish\")\n",
    "        & (adata_merge.obs[\"leiden\"].isin(qry_cluster))]\n",
    "    \n",
    "    if (len(qry_cell) > 0) and (len(ref_cell) > 0):\n",
    "        integration_group_cluster[f\"IG{group}\"] = {\n",
    "            \"ref\": ref_cluster.tolist(),\n",
    "            \"qry\": qry_cluster.tolist(),\n",
    "        }\n",
    "        integration_group_cell[f\"IG{group}\"] = {\n",
    "            \"ref\": ref_cell.tolist(),\n",
    "            \"qry\": qry_cell.tolist(),\n",
    "        }\n",
    "    else:\n",
    "        print(group, ref_cluster, qry_cluster)\n",
    "print(len(integration_group_cluster), len(integration_group_cell))"
   ]
  },
  {
   "cell_type": "code",
   "execution_count": 10,
   "id": "e214fb22-5a34-4116-9845-ea1c4c9a1abd",
   "metadata": {
    "papermill": {
     "duration": 0.010611,
     "end_time": "2023-02-27T04:13:48.163153",
     "exception": false,
     "start_time": "2023-02-27T04:13:48.152542",
     "status": "completed"
    },
    "tags": []
   },
   "outputs": [
    {
     "name": "stdout",
     "output_type": "stream",
     "text": [
      "1260 27\n"
     ]
    }
   ],
   "source": [
    "all_ref_clusters, all_qry_clusters = [], []\n",
    "for group, group_dict in integration_group_cluster.items():\n",
    "    if group != -1:\n",
    "        all_ref_clusters += group_dict[\"ref\"]\n",
    "        all_qry_clusters += group_dict[\"qry\"]\n",
    "\n",
    "all_ref_clusters = set(all_ref_clusters)\n",
    "all_qry_clusters = set(all_qry_clusters)\n",
    "print(len(all_ref_clusters), len(all_qry_clusters))"
   ]
  },
  {
   "cell_type": "code",
   "execution_count": 11,
   "id": "cf6fbe13-c6e8-4d00-98d0-5846916a3ba8",
   "metadata": {
    "papermill": {
     "duration": 0.018397,
     "end_time": "2023-02-27T04:13:48.185690",
     "exception": false,
     "start_time": "2023-02-27T04:13:48.167293",
     "status": "completed"
    },
    "tags": []
   },
   "outputs": [
    {
     "name": "stdout",
     "output_type": "stream",
     "text": [
      "30000 30194\n"
     ]
    }
   ],
   "source": [
    "mc_cell = (adata_merge.obs[\"Modality\"] == \"mC\") & (\n",
    "    adata_merge.obs[f\"{var}\"].isin(all_ref_clusters))\n",
    "merfish_cell = (adata_merge.obs[\"Modality\"] == \"merfish\") & (\n",
    "    adata_merge.obs[\"leiden\"].isin(all_qry_clusters))\n",
    "    \n",
    "print(mc_cell.sum(), merfish_cell.sum())\n",
    "\n",
    "cluster = pd.DataFrame(\n",
    "    -1,\n",
    "    index=adata_merge.obs.index[adata_merge.obs[\"Modality\"] == \"merfish\"],\n",
    "    columns=[f\"{var}\", f\"{var}_score\",'CellType','CellType_score'],\n",
    ")"
   ]
  },
  {
   "cell_type": "code",
   "execution_count": 12,
   "id": "79996c1f-235b-4c54-bf78-8472d0c717e5",
   "metadata": {
    "papermill": {
     "duration": 57.600133,
     "end_time": "2023-02-27T04:14:45.789734",
     "exception": false,
     "start_time": "2023-02-27T04:13:48.189601",
     "status": "completed"
    },
    "tags": []
   },
   "outputs": [
    {
     "name": "stdout",
     "output_type": "stream",
     "text": [
      "(30000, 10)\n",
      "(30000, 25)\n",
      "(30000, 50)\n"
     ]
    }
   ],
   "source": [
    "chunk_size = 50000\n",
    "if (mc_cell.sum() > 0) and (merfish_cell.sum() > 0):\n",
    "    for knn in [25]:\n",
    "        # assign mc cell to merfish clusters\n",
    "        sd = 1\n",
    "        index = pynndescent.NNDescent(\n",
    "            adata_merge.obsm[\"X_pca_integrate\"][merfish_cell],\n",
    "            metric=\"euclidean\",\n",
    "            n_neighbors=min(50, merfish_cell.sum()),\n",
    "            random_state=0,\n",
    "            n_jobs=-1)  # get mc index first\n",
    "        G, D = index.query(adata_merge.obsm[\"X_pca_integrate\"][mc_cell], k=min(knn, merfish_cell.sum()))\n",
    "\n",
    "        np.savez(\n",
    "            f\"mC_MERFISHxNN.npz\",\n",
    "            G=G,\n",
    "            D=D,\n",
    "            merfish_cell=adata_merge.obs.index[merfish_cell],\n",
    "            mc_cell=adata_merge.obs.index[mc_cell])\n",
    "        \n",
    "        print(G.shape)"
   ]
  },
  {
   "cell_type": "code",
   "execution_count": null,
   "id": "755522b5-f671-44c6-b68f-1b1817f7ec32",
   "metadata": {},
   "outputs": [],
   "source": []
  },
  {
   "cell_type": "code",
   "execution_count": null,
   "id": "469a7c42-a7f3-427e-9c28-ba9cf8cdd166",
   "metadata": {},
   "outputs": [],
   "source": []
  },
  {
   "cell_type": "code",
   "execution_count": null,
   "id": "b6ea1e1d-d7e9-4e06-b467-fff3654d07d7",
   "metadata": {},
   "outputs": [],
   "source": []
  },
  {
   "cell_type": "code",
   "execution_count": null,
   "id": "088a0b93-9fcd-4863-9d95-ef20f4e97cf4",
   "metadata": {},
   "outputs": [],
   "source": []
  },
  {
   "cell_type": "code",
   "execution_count": null,
   "id": "b450964d-0536-4888-8f9a-46673b68abec",
   "metadata": {},
   "outputs": [],
   "source": []
  },
  {
   "cell_type": "code",
   "execution_count": null,
   "id": "0d3d0235-ee43-4ece-9252-70dd37bcd520",
   "metadata": {},
   "outputs": [],
   "source": []
  },
  {
   "cell_type": "code",
   "execution_count": null,
   "id": "4effb4bd-69dd-4f4e-b3b2-5b17df794ab2",
   "metadata": {},
   "outputs": [],
   "source": []
  },
  {
   "cell_type": "code",
   "execution_count": null,
   "id": "abf498e8-e808-48b6-a307-ab205ef76212",
   "metadata": {},
   "outputs": [],
   "source": []
  },
  {
   "cell_type": "code",
   "execution_count": null,
   "id": "81186e47-4eb3-41af-beab-98e5fd75b60a",
   "metadata": {},
   "outputs": [],
   "source": []
  },
  {
   "cell_type": "code",
   "execution_count": null,
   "id": "aa4677df-7148-47f7-bf38-4b1edce7ddc3",
   "metadata": {},
   "outputs": [],
   "source": []
  },
  {
   "cell_type": "code",
   "execution_count": null,
   "id": "52142ab8-e85c-4b29-80fb-cb1e36714361",
   "metadata": {},
   "outputs": [],
   "source": []
  },
  {
   "cell_type": "code",
   "execution_count": null,
   "id": "11975c91-d767-46ea-bd7e-f080dfc4f522",
   "metadata": {},
   "outputs": [],
   "source": []
  },
  {
   "cell_type": "code",
   "execution_count": null,
   "id": "4503ba5b-176b-4c6e-8664-c46467b6c6d6",
   "metadata": {},
   "outputs": [],
   "source": []
  },
  {
   "cell_type": "code",
   "execution_count": null,
   "id": "204f32aa-642b-4fa3-9dc6-96e2f80b49b0",
   "metadata": {},
   "outputs": [],
   "source": []
  },
  {
   "cell_type": "code",
   "execution_count": null,
   "id": "f72de97c-8f13-4488-8a6d-281a8547df14",
   "metadata": {
    "papermill": {
     "duration": 0.004413,
     "end_time": "2023-02-27T04:14:47.154887",
     "exception": false,
     "start_time": "2023-02-27T04:14:47.150474",
     "status": "completed"
    },
    "tags": []
   },
   "outputs": [],
   "source": []
  },
  {
   "cell_type": "code",
   "execution_count": null,
   "id": "f97385ed-81fb-4b74-a5a4-d1721189bdd7",
   "metadata": {
    "papermill": {
     "duration": 0.004327,
     "end_time": "2023-02-27T04:14:47.163465",
     "exception": false,
     "start_time": "2023-02-27T04:14:47.159138",
     "status": "completed"
    },
    "tags": []
   },
   "outputs": [],
   "source": []
  }
 ],
 "metadata": {
  "celltoolbar": "Tags",
  "hide_input": false,
  "kernelspec": {
   "display_name": "Python 3 (ipykernel)",
   "language": "python",
   "name": "python3"
  },
  "language_info": {
   "codemirror_mode": {
    "name": "ipython",
    "version": 3
   },
   "file_extension": ".py",
   "mimetype": "text/x-python",
   "name": "python",
   "nbconvert_exporter": "python",
   "pygments_lexer": "ipython3",
   "version": "3.7.12"
  },
  "papermill": {
   "default_parameters": {},
   "duration": 67.985438,
   "end_time": "2023-02-27T04:14:48.627224",
   "environment_variables": {},
   "exception": null,
   "input_path": "/home/qzeng_salk_edu/project/cemba/230223_spatial/integration/mc_merfish/template/06.get_npz.ipynb",
   "output_path": "/home/qzeng_salk_edu/project/cemba/230223_spatial/integration/mc_merfish/Round1/Slice3-4_Neu/06.get_npz.ipynb",
   "parameters": {
    "cpu": 1,
    "group_name": "Slice3-4_Neu",
    "mem_gb": 1,
    "var": "L4Region"
   },
   "start_time": "2023-02-27T04:13:40.641786",
   "version": "2.4.0"
  },
  "toc": {
   "base_numbering": 1,
   "nav_menu": {},
   "number_sections": true,
   "sideBar": true,
   "skip_h1_title": true,
   "title_cell": "Table of Contents",
   "title_sidebar": "Contents",
   "toc_cell": false,
   "toc_position": {},
   "toc_section_display": true,
   "toc_window_display": true
  }
 },
 "nbformat": 4,
 "nbformat_minor": 5
}
