{
 "cells": [
  {
   "cell_type": "code",
   "execution_count": 2,
   "id": "fc8a8b6d",
   "metadata": {
    "ExecuteTime": {
     "end_time": "2022-06-26T05:59:00.522304Z",
     "start_time": "2022-06-26T05:58:57.945965Z"
    },
    "execution": {
     "iopub.execute_input": "2023-02-27T04:08:10.433869Z",
     "iopub.status.busy": "2023-02-27T04:08:10.433539Z",
     "iopub.status.idle": "2023-02-27T04:08:19.531398Z",
     "shell.execute_reply": "2023-02-27T04:08:19.530493Z"
    },
    "papermill": {
     "duration": 9.110276,
     "end_time": "2023-02-27T04:08:19.533742",
     "exception": false,
     "start_time": "2023-02-27T04:08:10.423466",
     "status": "completed"
    },
    "tags": []
   },
   "outputs": [],
   "source": [
    "import anndata\n",
    "import numpy as np\n",
    "from ALLCools.clustering import *\n",
    "from sklearn.decomposition import PCA, TruncatedSVD\n",
    "\n",
    "import matplotlib.pyplot as plt"
   ]
  },
  {
   "cell_type": "code",
   "execution_count": 3,
   "id": "2245fdba-e062-45c4-af31-3fb14cb2e40e",
   "metadata": {
    "execution": {
     "iopub.execute_input": "2023-02-27T04:08:19.642958Z",
     "iopub.status.busy": "2023-02-27T04:08:19.642542Z",
     "iopub.status.idle": "2023-02-27T04:08:19.645988Z",
     "shell.execute_reply": "2023-02-27T04:08:19.645386Z"
    },
    "papermill": {
     "duration": 0.023365,
     "end_time": "2023-02-27T04:08:19.649280",
     "exception": false,
     "start_time": "2023-02-27T04:08:19.625915",
     "status": "completed"
    },
    "tags": []
   },
   "outputs": [],
   "source": [
    "n_train_cell = 100000\n",
    "ref_dataset = \"mc\""
   ]
  },
  {
   "cell_type": "markdown",
   "id": "bd6dd2a1",
   "metadata": {
    "papermill": {
     "duration": 0.010002,
     "end_time": "2023-02-27T04:08:19.666512",
     "exception": false,
     "start_time": "2023-02-27T04:08:19.656510",
     "status": "completed"
    },
    "tags": []
   },
   "source": [
    "## Merge Adata"
   ]
  },
  {
   "cell_type": "code",
   "execution_count": 4,
   "id": "faf92a2f",
   "metadata": {
    "ExecuteTime": {
     "end_time": "2022-06-26T05:59:00.713265Z",
     "start_time": "2022-06-26T05:59:00.530609Z"
    },
    "execution": {
     "iopub.execute_input": "2023-02-27T04:08:19.679931Z",
     "iopub.status.busy": "2023-02-27T04:08:19.679566Z",
     "iopub.status.idle": "2023-02-27T04:08:19.819469Z",
     "shell.execute_reply": "2023-02-27T04:08:19.818538Z"
    },
    "papermill": {
     "duration": 0.149498,
     "end_time": "2023-02-27T04:08:19.821769",
     "exception": false,
     "start_time": "2023-02-27T04:08:19.672271",
     "status": "completed"
    },
    "tags": []
   },
   "outputs": [],
   "source": [
    "if ref_dataset.lower() == 'mc':\n",
    "    ref_adata = anndata.read_h5ad(\"mc_input.h5ad\")\n",
    "    query_adata = anndata.read_h5ad(\"merfish_input.h5ad\")\n",
    "    batch_categories=[\"mC\", \"merfish\"]\n",
    "else:\n",
    "    ref_adata = anndata.read_h5ad(\"merfish_input.h5ad\")\n",
    "    query_adata = anndata.read_h5ad(\"mc_input.h5ad\")\n",
    "    batch_categories=[\"merfish\", \"mC\"]"
   ]
  },
  {
   "cell_type": "code",
   "execution_count": 5,
   "id": "4f97dad6",
   "metadata": {
    "ExecuteTime": {
     "end_time": "2022-06-26T05:59:01.488767Z",
     "start_time": "2022-06-26T05:59:00.715514Z"
    },
    "execution": {
     "iopub.execute_input": "2023-02-27T04:08:19.837574Z",
     "iopub.status.busy": "2023-02-27T04:08:19.835939Z",
     "iopub.status.idle": "2023-02-27T04:08:19.949437Z",
     "shell.execute_reply": "2023-02-27T04:08:19.946530Z"
    },
    "papermill": {
     "duration": 0.128726,
     "end_time": "2023-02-27T04:08:19.957074",
     "exception": false,
     "start_time": "2023-02-27T04:08:19.828348",
     "status": "completed"
    },
    "tags": []
   },
   "outputs": [],
   "source": [
    "# the _inplace_subset_var consumes peak memory, 220G for 3.6M cell * 3318 features\n",
    "use_var = ref_adata.var_names.intersection(query_adata.var_names)\n",
    "ref_adata._inplace_subset_var(use_var)\n",
    "query_adata._inplace_subset_var(use_var)"
   ]
  },
  {
   "cell_type": "code",
   "execution_count": 6,
   "id": "16181217",
   "metadata": {
    "ExecuteTime": {
     "end_time": "2022-06-26T05:59:01.645324Z",
     "start_time": "2022-06-26T05:59:01.492107Z"
    },
    "execution": {
     "iopub.execute_input": "2023-02-27T04:08:19.982695Z",
     "iopub.status.busy": "2023-02-27T04:08:19.979406Z",
     "iopub.status.idle": "2023-02-27T04:08:20.630538Z",
     "shell.execute_reply": "2023-02-27T04:08:20.620529Z"
    },
    "papermill": {
     "duration": 0.670032,
     "end_time": "2023-02-27T04:08:20.633871",
     "exception": false,
     "start_time": "2023-02-27T04:08:19.963839",
     "status": "completed"
    },
    "tags": []
   },
   "outputs": [
    {
     "name": "stderr",
     "output_type": "stream",
     "text": [
      "/opt/conda/lib/python3.7/site-packages/anndata/_core/anndata.py:1785: FutureWarning: X.dtype being converted to np.float32 from float64. In the next version of anndata (0.9) conversion will not be automatic. Pass dtype explicitly to avoid this warning. Pass `AnnData(X, dtype=X.dtype, ...)` to get the future behavour.\n",
      "  [AnnData(sparse.csr_matrix(a.shape), obs=a.obs) for a in all_adatas],\n"
     ]
    },
    {
     "data": {
      "text/plain": [
       "AnnData object with n_obs × n_vars = 60198 × 448\n",
       "    obs: 'blank_count', 'n_counts', 'n_genes', 'Modality'\n",
       "    var: 'chrom-mC', 'cov_mean-mC', 'end-mC', 'start-mC', 'cef-mC', 'id-merfish'"
      ]
     },
     "execution_count": 6,
     "metadata": {},
     "output_type": "execute_result"
    }
   ],
   "source": [
    "adata_merge = ref_adata.concatenate(\n",
    "    query_adata, batch_categories=batch_categories, batch_key=\"Modality\", index_unique=None\n",
    ")\n",
    "adata_merge"
   ]
  },
  {
   "cell_type": "code",
   "execution_count": 7,
   "id": "864649e1",
   "metadata": {
    "ExecuteTime": {
     "end_time": "2022-06-26T05:59:01.650859Z",
     "start_time": "2022-06-26T05:59:01.647252Z"
    },
    "execution": {
     "iopub.execute_input": "2023-02-27T04:08:20.655722Z",
     "iopub.status.busy": "2023-02-27T04:08:20.655393Z",
     "iopub.status.idle": "2023-02-27T04:08:20.669092Z",
     "shell.execute_reply": "2023-02-27T04:08:20.668218Z"
    },
    "papermill": {
     "duration": 0.030722,
     "end_time": "2023-02-27T04:08:20.671192",
     "exception": false,
     "start_time": "2023-02-27T04:08:20.640470",
     "status": "completed"
    },
    "tags": []
   },
   "outputs": [],
   "source": [
    "np.random.seed(0)\n",
    "\n",
    "# select mC cells to fit the model\n",
    "train_cell = np.zeros(ref_adata.shape[0], dtype=bool)\n",
    "if ref_adata.shape[0] > n_train_cell:\n",
    "    train_cell[\n",
    "        np.random.choice(np.arange(ref_adata.shape[0]), n_train_cell, False)\n",
    "    ] = True\n",
    "else:\n",
    "    train_cell[:] = True\n",
    "\n",
    "ref_adata.obs[\"Train\"] = train_cell.copy()"
   ]
  },
  {
   "cell_type": "markdown",
   "id": "9de25aba",
   "metadata": {
    "papermill": {
     "duration": 0.007178,
     "end_time": "2023-02-27T04:08:20.684667",
     "exception": false,
     "start_time": "2023-02-27T04:08:20.677489",
     "status": "completed"
    },
    "tags": []
   },
   "source": [
    "## Run PCA on ref Adata"
   ]
  },
  {
   "cell_type": "code",
   "execution_count": 8,
   "id": "2a642423",
   "metadata": {
    "ExecuteTime": {
     "end_time": "2022-06-26T05:59:03.349887Z",
     "start_time": "2022-06-26T05:59:01.652688Z"
    },
    "execution": {
     "iopub.execute_input": "2023-02-27T04:08:20.699773Z",
     "iopub.status.busy": "2023-02-27T04:08:20.699459Z",
     "iopub.status.idle": "2023-02-27T04:08:21.708704Z",
     "shell.execute_reply": "2023-02-27T04:08:21.707675Z"
    },
    "papermill": {
     "duration": 1.019043,
     "end_time": "2023-02-27T04:08:21.711025",
     "exception": false,
     "start_time": "2023-02-27T04:08:20.691982",
     "status": "completed"
    },
    "tags": []
   },
   "outputs": [
    {
     "name": "stdout",
     "output_type": "stream",
     "text": [
      "100 non-zero singular values\n"
     ]
    }
   ],
   "source": [
    "n_feature = ref_adata.shape[1]\n",
    "if n_feature >= 100:\n",
    "    model = TruncatedSVD(n_components=100, random_state=0, algorithm='randomized')\n",
    "else:\n",
    "    model = TruncatedSVD(n_components=n_feature - 1, random_state=0, algorithm='randomized')\n",
    "\n",
    "# use selected mC cells to fit\n",
    "model.fit(ref_adata.X[ref_adata.obs[\"Train\"].values])\n",
    "sel_dim = model.singular_values_ != 0\n",
    "print(sel_dim.sum(), 'non-zero singular values')"
   ]
  },
  {
   "cell_type": "code",
   "execution_count": 9,
   "id": "70ea23ad-6556-4f26-9c60-8afe14edf6a1",
   "metadata": {
    "execution": {
     "iopub.execute_input": "2023-02-27T04:08:21.735903Z",
     "iopub.status.busy": "2023-02-27T04:08:21.735424Z",
     "iopub.status.idle": "2023-02-27T04:08:21.906566Z",
     "shell.execute_reply": "2023-02-27T04:08:21.894535Z"
    },
    "papermill": {
     "duration": 0.191505,
     "end_time": "2023-02-27T04:08:21.909578",
     "exception": false,
     "start_time": "2023-02-27T04:08:21.718073",
     "status": "completed"
    },
    "tags": []
   },
   "outputs": [
    {
     "data": {
      "text/plain": [
       "[<matplotlib.lines.Line2D at 0x7f1b312edd90>]"
      ]
     },
     "execution_count": 9,
     "metadata": {},
     "output_type": "execute_result"
    },
    {
     "data": {
      "image/png": "[encoded data removed]",
      "text/plain": [
       "<Figure size 432x288 with 1 Axes>"
      ]
     },
     "metadata": {
      "needs_background": "light"
     },
     "output_type": "display_data"
    }
   ],
   "source": [
    "fig, ax = plt.subplots()\n",
    "ax.plot(model.explained_variance_ratio_)"
   ]
  },
  {
   "cell_type": "code",
   "execution_count": 10,
   "id": "af589004",
   "metadata": {
    "ExecuteTime": {
     "end_time": "2022-06-26T05:59:03.641424Z",
     "start_time": "2022-06-26T05:59:03.353577Z"
    },
    "execution": {
     "iopub.execute_input": "2023-02-27T04:08:21.934718Z",
     "iopub.status.busy": "2023-02-27T04:08:21.931443Z",
     "iopub.status.idle": "2023-02-27T04:08:24.591979Z",
     "shell.execute_reply": "2023-02-27T04:08:24.591093Z"
    },
    "papermill": {
     "duration": 2.676969,
     "end_time": "2023-02-27T04:08:24.593652",
     "exception": false,
     "start_time": "2023-02-27T04:08:21.916683",
     "status": "completed"
    },
    "tags": []
   },
   "outputs": [
    {
     "name": "stdout",
     "output_type": "stream",
     "text": [
      "Downsample PC matrix to 50000 cells to calculate significant PC components\n",
      "50 components passed P cutoff of 0.05.\n",
      "Changing adata.obsm['X_pca'] from shape (60198, 100) to (60198, 50)\n"
     ]
    }
   ],
   "source": [
    "# transform all other data\n",
    "chunk_size = 50000\n",
    "chunks = []\n",
    "for chunk_start in range(0, adata_merge.shape[0], chunk_size):\n",
    "    chunks.append(\n",
    "        model.transform(adata_merge.X[chunk_start : (chunk_start + chunk_size)])\n",
    "    )\n",
    "\n",
    "# add NNZ PCs to adata\n",
    "adata_merge.obsm[\"X_pca\"] = np.concatenate(chunks, axis=0)[:, sel_dim]\n",
    "\n",
    "# remove low variance PCs\n",
    "n_pcs = significant_pc_test(adata_merge, p_cutoff=0.05, obsm=\"X_pca\")\n",
    "\n",
    "# scale PC by singular values\n",
    "adata_merge.obsm[\"X_pca\"] /= model.singular_values_[sel_dim][:n_pcs]"
   ]
  },
  {
   "cell_type": "code",
   "execution_count": 11,
   "id": "e9cc32a9",
   "metadata": {
    "ExecuteTime": {
     "end_time": "2022-06-26T05:59:04.203528Z",
     "start_time": "2022-06-26T05:59:03.813404Z"
    },
    "execution": {
     "iopub.execute_input": "2023-02-27T04:08:24.609710Z",
     "iopub.status.busy": "2023-02-27T04:08:24.609149Z",
     "iopub.status.idle": "2023-02-27T04:08:24.942676Z",
     "shell.execute_reply": "2023-02-27T04:08:24.941856Z"
    },
    "papermill": {
     "duration": 0.344016,
     "end_time": "2023-02-27T04:08:24.944772",
     "exception": false,
     "start_time": "2023-02-27T04:08:24.600756",
     "status": "completed"
    },
    "tags": []
   },
   "outputs": [],
   "source": [
    "for m in [\"mC\", \"merfish\"]:\n",
    "    adata = adata_merge[adata_merge.obs[\"Modality\"] == m]\n",
    "    adata.write_h5ad(f\"{m.lower()}_pca.h5ad\")"
   ]
  },
  {
   "cell_type": "code",
   "execution_count": 12,
   "id": "263724af",
   "metadata": {
    "execution": {
     "iopub.execute_input": "2023-02-27T04:08:24.961130Z",
     "iopub.status.busy": "2023-02-27T04:08:24.960590Z",
     "iopub.status.idle": "2023-02-27T04:08:24.994731Z",
     "shell.execute_reply": "2023-02-27T04:08:24.993851Z"
    },
    "papermill": {
     "duration": 0.044475,
     "end_time": "2023-02-27T04:08:24.996358",
     "exception": false,
     "start_time": "2023-02-27T04:08:24.951883",
     "status": "completed"
    },
    "tags": []
   },
   "outputs": [
    {
     "data": {
      "text/plain": [
       "CompletedProcess(args=['rm', '-f', 'mc_input.h5ad', 'merfish_input.h5ad'], returncode=0)"
      ]
     },
     "execution_count": 12,
     "metadata": {},
     "output_type": "execute_result"
    }
   ],
   "source": [
    "import subprocess\n",
    "subprocess.run(['rm', '-f', 'mc_input.h5ad', 'merfish_input.h5ad'])"
   ]
  },
  {
   "cell_type": "code",
   "execution_count": null,
   "id": "43b4bf82-6f04-42d8-a221-3c3a1aa2418e",
   "metadata": {
    "papermill": {
     "duration": 0.006896,
     "end_time": "2023-02-27T04:08:25.010327",
     "exception": false,
     "start_time": "2023-02-27T04:08:25.003431",
     "status": "completed"
    },
    "tags": []
   },
   "outputs": [],
   "source": []
  },
  {
   "cell_type": "code",
   "execution_count": null,
   "id": "f1134005-7de6-4c9a-b22e-d1d5adb676cb",
   "metadata": {
    "papermill": {
     "duration": 0.009362,
     "end_time": "2023-02-27T04:08:25.027744",
     "exception": false,
     "start_time": "2023-02-27T04:08:25.018382",
     "status": "completed"
    },
    "tags": []
   },
   "outputs": [],
   "source": []
  }
 ],
 "metadata": {
  "celltoolbar": "Tags",
  "hide_input": false,
  "kernelspec": {
   "display_name": "Python 3 (ipykernel)",
   "language": "python",
   "name": "python3"
  },
  "language_info": {
   "codemirror_mode": {
    "name": "ipython",
    "version": 3
   },
   "file_extension": ".py",
   "mimetype": "text/x-python",
   "name": "python",
   "nbconvert_exporter": "python",
   "pygments_lexer": "ipython3",
   "version": "3.7.12"
  },
  "papermill": {
   "default_parameters": {},
   "duration": 18.694905,
   "end_time": "2023-02-27T04:08:26.272905",
   "environment_variables": {},
   "exception": null,
   "input_path": "/home/qzeng_salk_edu/project/cemba/230223_spatial/integration/mc_merfish/template/03.merge_and_pca.ipynb",
   "output_path": "/home/qzeng_salk_edu/project/cemba/230223_spatial/integration/mc_merfish/Round1/Slice3-4_Neu/03.merge_and_pca.ipynb",
   "parameters": {
    "cpu": 1,
    "group_name": "Slice3-4_Neu",
    "mem_gb": 1
   },
   "start_time": "2023-02-27T04:08:07.578000",
   "version": "2.3.3"
  },
  "toc": {
   "base_numbering": 1,
   "nav_menu": {},
   "number_sections": true,
   "sideBar": true,
   "skip_h1_title": true,
   "title_cell": "Table of Contents",
   "title_sidebar": "Contents",
   "toc_cell": false,
   "toc_position": {},
   "toc_section_display": true,
   "toc_window_display": true
  }
 },
 "nbformat": 4,
 "nbformat_minor": 5
}
