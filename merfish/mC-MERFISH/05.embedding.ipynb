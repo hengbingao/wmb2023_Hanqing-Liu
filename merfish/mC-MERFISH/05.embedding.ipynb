{
 "cells": [
  {
   "cell_type": "code",
   "execution_count": 2,
   "id": "41436b0c",
   "metadata": {
    "ExecuteTime": {
     "end_time": "2022-06-26T06:09:24.226519Z",
     "start_time": "2022-06-26T06:09:18.181248Z"
    },
    "papermill": {
     "duration": 5.63706,
     "end_time": "2023-02-27T04:11:51.323761",
     "exception": false,
     "start_time": "2023-02-27T04:11:45.686701",
     "status": "completed"
    },
    "tags": []
   },
   "outputs": [],
   "source": [
    "import matplotlib.pyplot as plt\n",
    "\n",
    "from ALLCools.clustering import tsne\n",
    "from ALLCools.plot import *\n",
    "from ALLCools.integration import SeuratIntegration\n",
    "from wmb import brain, cemba,aibs\n",
    "\n",
    "import scanpy as sc\n",
    "import anndata\n",
    "from harmonypy import run_harmony"
   ]
  },
  {
   "cell_type": "markdown",
   "id": "928af19c",
   "metadata": {
    "papermill": {
     "duration": 0.054158,
     "end_time": "2023-02-27T04:11:51.381207",
     "exception": false,
     "start_time": "2023-02-27T04:11:51.327049",
     "status": "completed"
    },
    "tags": []
   },
   "source": [
    "## Parameters"
   ]
  },
  {
   "cell_type": "code",
   "execution_count": 3,
   "id": "9839a9f9-ca23-433a-8046-1e068fb64efd",
   "metadata": {
    "papermill": {
     "duration": 0.009338,
     "end_time": "2023-02-27T04:11:51.393573",
     "exception": false,
     "start_time": "2023-02-27T04:11:51.384235",
     "status": "completed"
    },
    "tags": []
   },
   "outputs": [],
   "source": [
    "resolution = 0.5"
   ]
  },
  {
   "cell_type": "markdown",
   "id": "cdc26c09",
   "metadata": {
    "papermill": {
     "duration": 0.003011,
     "end_time": "2023-02-27T04:11:51.399785",
     "exception": false,
     "start_time": "2023-02-27T04:11:51.396774",
     "status": "completed"
    },
    "tags": []
   },
   "source": [
    "## Load"
   ]
  },
  {
   "cell_type": "code",
   "execution_count": 1,
   "id": "4e36bcc4",
   "metadata": {
    "ExecuteTime": {
     "end_time": "2022-06-26T06:09:24.318988Z",
     "start_time": "2022-06-26T06:09:24.268975Z"
    },
    "papermill": {
     "duration": 0.083235,
     "end_time": "2023-02-27T04:11:51.485978",
     "exception": false,
     "start_time": "2023-02-27T04:11:51.402743",
     "status": "completed"
    },
    "tags": []
   },
   "outputs": [],
   "source": [
    "adata_merge = anndata.read_h5ad('final.h5ad')\n",
    "adata_merge"
   ]
  },
  {
   "cell_type": "markdown",
   "id": "34271d84",
   "metadata": {
    "papermill": {
     "duration": 0.003072,
     "end_time": "2023-02-27T04:11:51.492412",
     "exception": false,
     "start_time": "2023-02-27T04:11:51.489340",
     "status": "completed"
    },
    "tags": []
   },
   "source": [
    "## Harmony for embedding"
   ]
  },
  {
   "cell_type": "code",
   "execution_count": null,
   "id": "27de4556-0f8a-4e22-ac9e-eabc02c3f4fa",
   "metadata": {},
   "outputs": [],
   "source": [
    "# this step can be skipped"
   ]
  },
  {
   "cell_type": "code",
   "execution_count": 5,
   "id": "63f4adde",
   "metadata": {
    "ExecuteTime": {
     "end_time": "2022-06-26T06:09:34.025943Z",
     "start_time": "2022-06-26T06:09:24.321033Z"
    },
    "execution": {
     "iopub.execute_input": "2023-02-27T04:11:51.499729Z",
     "iopub.status.busy": "2023-02-27T04:11:51.499444Z",
     "iopub.status.idle": "2023-02-27T04:11:51.502869Z",
     "shell.execute_reply": "2023-02-27T04:11:51.502187Z"
    },
    "papermill": {
     "duration": 0.008588,
     "end_time": "2023-02-27T04:11:51.504036",
     "exception": false,
     "start_time": "2023-02-27T04:11:51.495448",
     "status": "completed"
    },
    "tags": []
   },
   "outputs": [],
   "source": [
    "# # 30 mins to run 4M + 3K cell\n",
    "\n",
    "# ho = run_harmony(data_mat=adata_merge.obsm['X_pca_integrate'],\n",
    "#                  meta_data=adata_merge.obs,\n",
    "#                  nclust=50,\n",
    "#                  vars_use=['Modality'], \n",
    "#                  max_iter_harmony=30)"
   ]
  },
  {
   "cell_type": "code",
   "execution_count": 6,
   "id": "0974e48d",
   "metadata": {
    "ExecuteTime": {
     "end_time": "2022-06-26T06:09:34.053751Z",
     "start_time": "2022-06-26T06:09:34.050848Z"
    },
    "execution": {
     "iopub.execute_input": "2023-02-27T04:11:51.511499Z",
     "iopub.status.busy": "2023-02-27T04:11:51.511009Z",
     "iopub.status.idle": "2023-02-27T04:11:51.514156Z",
     "shell.execute_reply": "2023-02-27T04:11:51.513560Z"
    },
    "papermill": {
     "duration": 0.008203,
     "end_time": "2023-02-27T04:11:51.515310",
     "exception": false,
     "start_time": "2023-02-27T04:11:51.507107",
     "status": "completed"
    },
    "tags": []
   },
   "outputs": [],
   "source": [
    "# adata_merge.obsm['X_harmony'] = ho.Z_corr.T"
   ]
  },
  {
   "cell_type": "markdown",
   "id": "775dfad2",
   "metadata": {
    "papermill": {
     "duration": 0.002962,
     "end_time": "2023-02-27T04:11:51.521237",
     "exception": false,
     "start_time": "2023-02-27T04:11:51.518275",
     "status": "completed"
    },
    "tags": []
   },
   "source": [
    "### TSNE"
   ]
  },
  {
   "cell_type": "code",
   "execution_count": 7,
   "id": "548cabe9",
   "metadata": {
    "ExecuteTime": {
     "end_time": "2022-06-26T06:11:02.856899Z",
     "start_time": "2022-06-26T06:09:34.055748Z"
    },
    "execution": {
     "iopub.execute_input": "2023-02-27T04:11:51.528788Z",
     "iopub.status.busy": "2023-02-27T04:11:51.528215Z",
     "iopub.status.idle": "2023-02-27T04:11:51.531425Z",
     "shell.execute_reply": "2023-02-27T04:11:51.530746Z"
    },
    "papermill": {
     "duration": 0.008336,
     "end_time": "2023-02-27T04:11:51.532616",
     "exception": false,
     "start_time": "2023-02-27T04:11:51.524280",
     "status": "completed"
    },
    "tags": []
   },
   "outputs": [],
   "source": [
    "# # 1 hour to run 4M + 3K cell\n",
    "# tsne(adata_merge, obsm='X_pca_integrate')"
   ]
  },
  {
   "cell_type": "markdown",
   "id": "de6b71a1",
   "metadata": {
    "papermill": {
     "duration": 0.003068,
     "end_time": "2023-02-27T04:11:51.538684",
     "exception": false,
     "start_time": "2023-02-27T04:11:51.535616",
     "status": "completed"
    },
    "tags": []
   },
   "source": [
    "### UMAP"
   ]
  },
  {
   "cell_type": "code",
   "execution_count": 8,
   "id": "cd4cff16",
   "metadata": {
    "execution": {
     "iopub.execute_input": "2023-02-27T04:11:51.546475Z",
     "iopub.status.busy": "2023-02-27T04:11:51.545921Z",
     "iopub.status.idle": "2023-02-27T04:12:35.876671Z",
     "shell.execute_reply": "2023-02-27T04:12:35.875746Z"
    },
    "papermill": {
     "duration": 44.337034,
     "end_time": "2023-02-27T04:12:35.878722",
     "exception": false,
     "start_time": "2023-02-27T04:11:51.541688",
     "status": "completed"
    },
    "tags": []
   },
   "outputs": [],
   "source": [
    "# 15 min to run 4M + 3K cell\n",
    "sc.pp.neighbors(adata_merge, use_rep='X_pca_integrate')"
   ]
  },
  {
   "cell_type": "code",
   "execution_count": 9,
   "id": "c2f6ffa9-2da0-4470-a979-11aa500ef84a",
   "metadata": {
    "execution": {
     "iopub.execute_input": "2023-02-27T04:12:35.886783Z",
     "iopub.status.busy": "2023-02-27T04:12:35.886524Z",
     "iopub.status.idle": "2023-02-27T04:12:46.771462Z",
     "shell.execute_reply": "2023-02-27T04:12:46.770283Z"
    },
    "papermill": {
     "duration": 10.891667,
     "end_time": "2023-02-27T04:12:46.773851",
     "exception": false,
     "start_time": "2023-02-27T04:12:35.882184",
     "status": "completed"
    },
    "tags": []
   },
   "outputs": [],
   "source": [
    "# 2 hours to run 4M + 3K cell\n",
    "sc.tl.leiden(adata_merge, resolution=resolution)"
   ]
  },
  {
   "cell_type": "code",
   "execution_count": 10,
   "id": "760cec3e-7d52-4a48-89b6-da8074a705e6",
   "metadata": {
    "execution": {
     "iopub.execute_input": "2023-02-27T04:12:46.782547Z",
     "iopub.status.busy": "2023-02-27T04:12:46.782152Z",
     "iopub.status.idle": "2023-02-27T04:13:36.492128Z",
     "shell.execute_reply": "2023-02-27T04:13:36.490604Z"
    },
    "papermill": {
     "duration": 49.716758,
     "end_time": "2023-02-27T04:13:36.494327",
     "exception": false,
     "start_time": "2023-02-27T04:12:46.777569",
     "status": "completed"
    },
    "tags": []
   },
   "outputs": [],
   "source": [
    "# 2 hours to run 4M + 3K cell\n",
    "# 4 hours to run 4M + 3K cell if using spectral init, the init step is very slow\n",
    "min_dist = max(0.1, 1 - adata_merge.shape[0] / 60000)\n",
    "try:\n",
    "    sc.tl.paga(adata_merge, groups='leiden')\n",
    "    sc.pl.paga(adata_merge, plot=False)\n",
    "    sc.tl.umap(adata_merge, min_dist=min_dist, init_pos='paga')\n",
    "except Exception:\n",
    "    print('Init with PAGA failed, use default spectral init')\n",
    "    sc.tl.umap(adata_merge, min_dist=min_dist)"
   ]
  },
  {
   "cell_type": "markdown",
   "id": "01deb143",
   "metadata": {
    "papermill": {
     "duration": 0.003209,
     "end_time": "2023-02-27T04:13:36.501166",
     "exception": false,
     "start_time": "2023-02-27T04:13:36.497957",
     "status": "completed"
    },
    "tags": []
   },
   "source": [
    "## Plot"
   ]
  },
  {
   "cell_type": "code",
   "execution_count": 11,
   "id": "d69b594f-937b-4b95-abc1-1e7639a43cd8",
   "metadata": {
    "execution": {
     "iopub.execute_input": "2023-02-27T04:13:36.509608Z",
     "iopub.status.busy": "2023-02-27T04:13:36.509295Z",
     "iopub.status.idle": "2023-02-27T04:13:36.540221Z",
     "shell.execute_reply": "2023-02-27T04:13:36.539553Z"
    },
    "papermill": {
     "duration": 0.03767,
     "end_time": "2023-02-27T04:13:36.541909",
     "exception": false,
     "start_time": "2023-02-27T04:13:36.504239",
     "status": "completed"
    },
    "tags": []
   },
   "outputs": [],
   "source": [
    "mc_data = adata_merge[adata_merge.obs['Modality'] == 'mC']\n",
    "merfish_data = adata_merge[adata_merge.obs['Modality'] == 'merfish']"
   ]
  },
  {
   "cell_type": "markdown",
   "id": "abd6b74f",
   "metadata": {
    "papermill": {
     "duration": 0.005934,
     "end_time": "2023-02-27T04:13:37.728158",
     "exception": false,
     "start_time": "2023-02-27T04:13:37.722224",
     "status": "completed"
    },
    "tags": []
   },
   "source": [
    "## Save"
   ]
  },
  {
   "cell_type": "code",
   "execution_count": 13,
   "id": "74db24cf",
   "metadata": {
    "ExecuteTime": {
     "end_time": "2022-06-26T06:12:08.734702Z",
     "start_time": "2022-06-26T06:12:08.641380Z"
    },
    "execution": {
     "iopub.execute_input": "2023-02-27T04:13:37.758720Z",
     "iopub.status.busy": "2023-02-27T04:13:37.758319Z",
     "iopub.status.idle": "2023-02-27T04:13:37.871566Z",
     "shell.execute_reply": "2023-02-27T04:13:37.870704Z"
    },
    "papermill": {
     "duration": 0.122097,
     "end_time": "2023-02-27T04:13:37.873089",
     "exception": false,
     "start_time": "2023-02-27T04:13:37.750992",
     "status": "completed"
    },
    "tags": []
   },
   "outputs": [],
   "source": [
    "adata_merge.write_h5ad('final_with_coords.h5ad')"
   ]
  },
  {
   "cell_type": "code",
   "execution_count": 14,
   "id": "cf75bd52",
   "metadata": {
    "ExecuteTime": {
     "end_time": "2022-06-26T06:12:51.563392Z",
     "start_time": "2022-06-26T06:12:51.560187Z"
    },
    "execution": {
     "iopub.execute_input": "2023-02-27T04:13:37.886535Z",
     "iopub.status.busy": "2023-02-27T04:13:37.886218Z",
     "iopub.status.idle": "2023-02-27T04:13:37.891644Z",
     "shell.execute_reply": "2023-02-27T04:13:37.890917Z"
    },
    "papermill": {
     "duration": 0.013574,
     "end_time": "2023-02-27T04:13:37.892973",
     "exception": false,
     "start_time": "2023-02-27T04:13:37.879399",
     "status": "completed"
    },
    "tags": []
   },
   "outputs": [
    {
     "data": {
      "text/plain": [
       "AnnData object with n_obs × n_vars = 60198 × 448\n",
       "    obs: 'blank_count', 'n_counts', 'n_genes', 'Modality', 'L4Region', 'CellType', 'DissectionRegion', 'leiden'\n",
       "    var: 'chrom-mC', 'cov_mean-mC', 'end-mC', 'start-mC', 'cef-mC', 'id-merfish'\n",
       "    uns: 'neighbors', 'leiden', 'paga', 'leiden_sizes', 'umap'\n",
       "    obsm: 'X_pca_integrate', 'X_umap'\n",
       "    obsp: 'distances', 'connectivities'"
      ]
     },
     "execution_count": 14,
     "metadata": {},
     "output_type": "execute_result"
    }
   ],
   "source": [
    "adata_merge"
   ]
  },
  {
   "cell_type": "code",
   "execution_count": 15,
   "id": "2fdf4e07",
   "metadata": {
    "execution": {
     "iopub.execute_input": "2023-02-27T04:13:37.906957Z",
     "iopub.status.busy": "2023-02-27T04:13:37.906620Z",
     "iopub.status.idle": "2023-02-27T04:13:37.960165Z",
     "shell.execute_reply": "2023-02-27T04:13:37.959373Z"
    },
    "papermill": {
     "duration": 0.061689,
     "end_time": "2023-02-27T04:13:37.961476",
     "exception": false,
     "start_time": "2023-02-27T04:13:37.899787",
     "status": "completed"
    },
    "tags": []
   },
   "outputs": [
    {
     "data": {
      "text/plain": [
       "CompletedProcess(args=['rm', '-f', 'final.h5ad'], returncode=0)"
      ]
     },
     "execution_count": 15,
     "metadata": {},
     "output_type": "execute_result"
    }
   ],
   "source": [
    "import subprocess\n",
    "subprocess.run(['rm', '-f', 'final.h5ad'])"
   ]
  },
  {
   "cell_type": "code",
   "execution_count": null,
   "id": "9ea3399c",
   "metadata": {
    "papermill": {
     "duration": 0.006026,
     "end_time": "2023-02-27T04:13:37.973547",
     "exception": false,
     "start_time": "2023-02-27T04:13:37.967521",
     "status": "completed"
    },
    "tags": []
   },
   "outputs": [],
   "source": []
  },
  {
   "cell_type": "code",
   "execution_count": null,
   "id": "9b8f0b42",
   "metadata": {
    "papermill": {
     "duration": 0.006004,
     "end_time": "2023-02-27T04:13:37.985789",
     "exception": false,
     "start_time": "2023-02-27T04:13:37.979785",
     "status": "completed"
    },
    "tags": []
   },
   "outputs": [],
   "source": []
  },
  {
   "cell_type": "code",
   "execution_count": null,
   "id": "2e365023",
   "metadata": {
    "papermill": {
     "duration": 0.005971,
     "end_time": "2023-02-27T04:13:37.997793",
     "exception": false,
     "start_time": "2023-02-27T04:13:37.991822",
     "status": "completed"
    },
    "tags": []
   },
   "outputs": [],
   "source": []
  }
 ],
 "metadata": {
  "celltoolbar": "Tags",
  "hide_input": false,
  "kernelspec": {
   "display_name": "Python 3 (ipykernel)",
   "language": "python",
   "name": "python3"
  },
  "language_info": {
   "codemirror_mode": {
    "name": "ipython",
    "version": 3
   },
   "file_extension": ".py",
   "mimetype": "text/x-python",
   "name": "python",
   "nbconvert_exporter": "python",
   "pygments_lexer": "ipython3",
   "version": "3.7.12"
  },
  "papermill": {
   "default_parameters": {},
   "duration": 114.894555,
   "end_time": "2023-02-27T04:13:39.323524",
   "environment_variables": {},
   "exception": null,
   "input_path": "/home/qzeng_salk_edu/project/cemba/230223_spatial/integration/mc_merfish/template/05.embedding.ipynb",
   "output_path": "/home/qzeng_salk_edu/project/cemba/230223_spatial/integration/mc_merfish/Round1/Slice3-4_Neu/05.embedding.ipynb",
   "parameters": {
    "cpu": 1,
    "group_name": "Slice3-4_Neu",
    "mem_gb": 1
   },
   "start_time": "2023-02-27T04:11:44.428969",
   "version": "2.4.0"
  },
  "toc": {
   "base_numbering": 1,
   "nav_menu": {},
   "number_sections": true,
   "sideBar": true,
   "skip_h1_title": true,
   "title_cell": "Table of Contents",
   "title_sidebar": "Contents",
   "toc_cell": false,
   "toc_position": {},
   "toc_section_display": true,
   "toc_window_display": true
  }
 },
 "nbformat": 4,
 "nbformat_minor": 5
}
