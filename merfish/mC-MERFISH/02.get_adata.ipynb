{
 "cells": [
  {
   "cell_type": "code",
   "execution_count": 1,
   "id": "40dd2e55-3c93-4971-82d4-8d0058e81562",
   "metadata": {
    "execution": {
     "iopub.execute_input": "2023-02-27T04:06:31.498177Z",
     "iopub.status.busy": "2023-02-27T04:06:31.497692Z",
     "iopub.status.idle": "2023-02-27T04:06:34.878141Z",
     "shell.execute_reply": "2023-02-27T04:06:34.876930Z"
    },
    "papermill": {
     "duration": 3.390897,
     "end_time": "2023-02-27T04:06:34.880573",
     "exception": false,
     "start_time": "2023-02-27T04:06:31.489676",
     "status": "completed"
    },
    "tags": []
   },
   "outputs": [],
   "source": [
    "from ALLCools.clustering import *\n",
    "from ALLCools.mcds import MCDS\n",
    "from wmb import brain, aibs, mm10\n",
    "\n",
    "import pandas as pd\n",
    "import anndata\n",
    "import seaborn as sns\n",
    "import matplotlib.pyplot as plt\n",
    "from ALLCools.plot import *\n",
    "\n",
    "import scanpy as sc\n",
    "from wmb import cemba\n",
    "import glob\n",
    "import numpy as np\n"
   ]
  },
  {
   "cell_type": "code",
   "execution_count": 2,
   "id": "2ae95355-d83d-44b0-812a-47a37f588b50",
   "metadata": {
    "execution": {
     "iopub.execute_input": "2023-02-27T04:06:34.891992Z",
     "iopub.status.busy": "2023-02-27T04:06:34.891095Z",
     "iopub.status.idle": "2023-02-27T04:06:34.895037Z",
     "shell.execute_reply": "2023-02-27T04:06:34.894390Z"
    },
    "papermill": {
     "duration": 0.010153,
     "end_time": "2023-02-27T04:06:34.896991",
     "exception": false,
     "start_time": "2023-02-27T04:06:34.886838",
     "status": "completed"
    },
    "tags": [
     "parameters"
    ]
   },
   "outputs": [],
   "source": [
    "group_name = 'Slice9-10_NN'"
   ]
  },
  {
   "cell_type": "code",
   "execution_count": 4,
   "id": "7c307caa-cefb-4612-b0f1-503822fc1146",
   "metadata": {
    "execution": {
     "iopub.execute_input": "2023-02-27T04:06:34.973752Z",
     "iopub.status.busy": "2023-02-27T04:06:34.973531Z",
     "iopub.status.idle": "2023-02-27T04:06:34.978659Z",
     "shell.execute_reply": "2023-02-27T04:06:34.977886Z"
    },
    "papermill": {
     "duration": 0.011961,
     "end_time": "2023-02-27T04:06:34.980208",
     "exception": false,
     "start_time": "2023-02-27T04:06:34.968247",
     "status": "completed"
    },
    "tags": []
   },
   "outputs": [],
   "source": [
    "_slice , cell_class = group_name.split('_')\n",
    "if cell_class == 'NN':\n",
    "    mc_type = 'CGN'\n",
    "if cell_class == 'Neu':\n",
    "    mc_type = 'CHN'"
   ]
  },
  {
   "cell_type": "code",
   "execution_count": 5,
   "id": "73530243-1290-4720-b0c6-3c29dfe8ae5c",
   "metadata": {
    "execution": {
     "iopub.execute_input": "2023-02-27T04:06:34.990821Z",
     "iopub.status.busy": "2023-02-27T04:06:34.990593Z",
     "iopub.status.idle": "2023-02-27T04:06:35.013242Z",
     "shell.execute_reply": "2023-02-27T04:06:35.012491Z"
    },
    "papermill": {
     "duration": 0.029724,
     "end_time": "2023-02-27T04:06:35.014696",
     "exception": false,
     "start_time": "2023-02-27T04:06:34.984972",
     "status": "completed"
    },
    "tags": []
   },
   "outputs": [
    {
     "data": {
      "text/plain": [
       "30004"
      ]
     },
     "execution_count": 5,
     "metadata": {},
     "output_type": "execute_result"
    }
   ],
   "source": [
    "mc_cells = pd.read_csv('mc_cells.txt', index_col=0, header=None).index\n",
    "mc_cells.name = 'cell'\n",
    "mc_cells.size"
   ]
  },
  {
   "cell_type": "code",
   "execution_count": 6,
   "id": "38eaf6f9-9f81-442b-855b-f8b58d166324",
   "metadata": {
    "execution": {
     "iopub.execute_input": "2023-02-27T04:06:35.022426Z",
     "iopub.status.busy": "2023-02-27T04:06:35.022154Z",
     "iopub.status.idle": "2023-02-27T04:06:35.051428Z",
     "shell.execute_reply": "2023-02-27T04:06:35.050743Z"
    },
    "papermill": {
     "duration": 0.035283,
     "end_time": "2023-02-27T04:06:35.053176",
     "exception": false,
     "start_time": "2023-02-27T04:06:35.017893",
     "status": "completed"
    },
    "tags": []
   },
   "outputs": [
    {
     "data": {
      "text/plain": [
       "30194"
      ]
     },
     "execution_count": 6,
     "metadata": {},
     "output_type": "execute_result"
    }
   ],
   "source": [
    "merfish_cells = pd.read_csv('merfish_cells.txt', index_col=0, header=None).index\n",
    "merfish_cells.name = 'cell'\n",
    "merfish_cells.size"
   ]
  },
  {
   "cell_type": "markdown",
   "id": "919a4c3e-3fa3-4d3f-9508-234770a210cf",
   "metadata": {
    "papermill": {
     "duration": 0.005023,
     "end_time": "2023-02-27T04:06:35.062696",
     "exception": false,
     "start_time": "2023-02-27T04:06:35.057673",
     "status": "completed"
    },
    "tags": []
   },
   "source": [
    "## get merfish adata"
   ]
  },
  {
   "cell_type": "code",
   "execution_count": 7,
   "id": "9c3ab915-f0ab-4e69-bfb0-b3ac3c02fa18",
   "metadata": {
    "execution": {
     "iopub.execute_input": "2023-02-27T04:06:35.073917Z",
     "iopub.status.busy": "2023-02-27T04:06:35.073458Z",
     "iopub.status.idle": "2023-02-27T04:06:35.080342Z",
     "shell.execute_reply": "2023-02-27T04:06:35.079650Z"
    },
    "papermill": {
     "duration": 0.014554,
     "end_time": "2023-02-27T04:06:35.081809",
     "exception": false,
     "start_time": "2023-02-27T04:06:35.067255",
     "status": "completed"
    },
    "tags": []
   },
   "outputs": [],
   "source": [
    "var_dim = 'gene'\n",
    "cef = pd.read_csv('mC.CEF.csv', header=None, index_col=0).squeeze()\n",
    "cef = cef[cef].index\n",
    "cef.name = var_dim"
   ]
  },
  {
   "cell_type": "code",
   "execution_count": 8,
   "id": "68e9c73b-58a6-42fd-8739-d153080d207b",
   "metadata": {
    "execution": {
     "iopub.execute_input": "2023-02-27T04:06:35.090122Z",
     "iopub.status.busy": "2023-02-27T04:06:35.089912Z",
     "iopub.status.idle": "2023-02-27T04:06:37.691710Z",
     "shell.execute_reply": "2023-02-27T04:06:37.690855Z"
    },
    "papermill": {
     "duration": 2.607628,
     "end_time": "2023-02-27T04:06:37.693272",
     "exception": false,
     "start_time": "2023-02-27T04:06:35.085644",
     "status": "completed"
    },
    "tags": []
   },
   "outputs": [
    {
     "name": "stderr",
     "output_type": "stream",
     "text": [
      "/opt/conda/lib/python3.7/site-packages/xarray/core/indexing.py:1233: PerformanceWarning: Slicing with an out-of-order index is generating 76 times more chunks\n",
      "  value = value[(slice(None),) * axis + (subkey,)]\n",
      "/opt/conda/lib/python3.7/site-packages/xarray/core/indexing.py:1233: PerformanceWarning: Slicing with an out-of-order index is generating 276 times more chunks\n",
      "  value = value[(slice(None),) * axis + (subkey,)]\n"
     ]
    },
    {
     "data": {
      "text/html": [
       "<div><svg style=\"position: absolute; width: 0; height: 0; overflow: hidden\">\n",
       "<defs>\n",
       "<symbol id=\"icon-database\" viewBox=\"0 0 32 32\">\n",
       "<path d=\"M16 0c-8.837 0-16 2.239-16 5v4c0 2.761 7.163 5 16 5s16-2.239 16-5v-4c0-2.761-7.163-5-16-5z\"></path>\n",
       "<path d=\"M16 17c-8.837 0-16-2.239-16-5v6c0 2.761 7.163 5 16 5s16-2.239 16-5v-6c0 2.761-7.163 5-16 5z\"></path>\n",
       "<path d=\"M16 26c-8.837 0-16-2.239-16-5v6c0 2.761 7.163 5 16 5s16-2.239 16-5v-6c0 2.761-7.163 5-16 5z\"></path>\n",
       "</symbol>\n",
       "<symbol id=\"icon-file-text2\" viewBox=\"0 0 32 32\">\n",
       "<path d=\"M28.681 7.159c-0.694-0.947-1.662-2.053-2.724-3.116s-2.169-2.030-3.116-2.724c-1.612-1.182-2.393-1.319-2.841-1.319h-15.5c-1.378 0-2.5 1.121-2.5 2.5v27c0 1.378 1.122 2.5 2.5 2.5h23c1.378 0 2.5-1.122 2.5-2.5v-19.5c0-0.448-0.137-1.23-1.319-2.841zM24.543 5.457c0.959 0.959 1.712 1.825 2.268 2.543h-4.811v-4.811c0.718 0.556 1.584 1.309 2.543 2.268zM28 29.5c0 0.271-0.229 0.5-0.5 0.5h-23c-0.271 0-0.5-0.229-0.5-0.5v-27c0-0.271 0.229-0.5 0.5-0.5 0 0 15.499-0 15.5 0v7c0 0.552 0.448 1 1 1h7v19.5z\"></path>\n",
       "<path d=\"M23 26h-14c-0.552 0-1-0.448-1-1s0.448-1 1-1h14c0.552 0 1 0.448 1 1s-0.448 1-1 1z\"></path>\n",
       "<path d=\"M23 22h-14c-0.552 0-1-0.448-1-1s0.448-1 1-1h14c0.552 0 1 0.448 1 1s-0.448 1-1 1z\"></path>\n",
       "<path d=\"M23 18h-14c-0.552 0-1-0.448-1-1s0.448-1 1-1h14c0.552 0 1 0.448 1 1s-0.448 1-1 1z\"></path>\n",
       "</symbol>\n",
       "</defs>\n",
       "</svg>\n",
       "<style>/* CSS stylesheet for displaying xarray objects in jupyterlab.\n",
       " *\n",
       " */\n",
       "\n",
       ":root {\n",
       "  --xr-font-color0: var(--jp-content-font-color0, rgba(0, 0, 0, 1));\n",
       "  --xr-font-color2: var(--jp-content-font-color2, rgba(0, 0, 0, 0.54));\n",
       "  --xr-font-color3: var(--jp-content-font-color3, rgba(0, 0, 0, 0.38));\n",
       "  --xr-border-color: var(--jp-border-color2, #e0e0e0);\n",
       "  --xr-disabled-color: var(--jp-layout-color3, #bdbdbd);\n",
       "  --xr-background-color: var(--jp-layout-color0, white);\n",
       "  --xr-background-color-row-even: var(--jp-layout-color1, white);\n",
       "  --xr-background-color-row-odd: var(--jp-layout-color2, #eeeeee);\n",
       "}\n",
       "\n",
       "html[theme=dark],\n",
       "body.vscode-dark {\n",
       "  --xr-font-color0: rgba(255, 255, 255, 1);\n",
       "  --xr-font-color2: rgba(255, 255, 255, 0.54);\n",
       "  --xr-font-color3: rgba(255, 255, 255, 0.38);\n",
       "  --xr-border-color: #1F1F1F;\n",
       "  --xr-disabled-color: #515151;\n",
       "  --xr-background-color: #111111;\n",
       "  --xr-background-color-row-even: #111111;\n",
       "  --xr-background-color-row-odd: #313131;\n",
       "}\n",
       "\n",
       ".xr-wrap {\n",
       "  display: block !important;\n",
       "  min-width: 300px;\n",
       "  max-width: 700px;\n",
       "}\n",
       "\n",
       ".xr-text-repr-fallback {\n",
       "  /* fallback to plain text repr when CSS is not injected (untrusted notebook) */\n",
       "  display: none;\n",
       "}\n",
       "\n",
       ".xr-header {\n",
       "  padding-top: 6px;\n",
       "  padding-bottom: 6px;\n",
       "  margin-bottom: 4px;\n",
       "  border-bottom: solid 1px var(--xr-border-color);\n",
       "}\n",
       "\n",
       ".xr-header > div,\n",
       ".xr-header > ul {\n",
       "  display: inline;\n",
       "  margin-top: 0;\n",
       "  margin-bottom: 0;\n",
       "}\n",
       "\n",
       ".xr-obj-type,\n",
       ".xr-array-name {\n",
       "  margin-left: 2px;\n",
       "  margin-right: 10px;\n",
       "}\n",
       "\n",
       ".xr-obj-type {\n",
       "  color: var(--xr-font-color2);\n",
       "}\n",
       "\n",
       ".xr-sections {\n",
       "  padding-left: 0 !important;\n",
       "  display: grid;\n",
       "  grid-template-columns: 150px auto auto 1fr 20px 20px;\n",
       "}\n",
       "\n",
       ".xr-section-item {\n",
       "  display: contents;\n",
       "}\n",
       "\n",
       ".xr-section-item input {\n",
       "  display: none;\n",
       "}\n",
       "\n",
       ".xr-section-item input + label {\n",
       "  color: var(--xr-disabled-color);\n",
       "}\n",
       "\n",
       ".xr-section-item input:enabled + label {\n",
       "  cursor: pointer;\n",
       "  color: var(--xr-font-color2);\n",
       "}\n",
       "\n",
       ".xr-section-item input:enabled + label:hover {\n",
       "  color: var(--xr-font-color0);\n",
       "}\n",
       "\n",
       ".xr-section-summary {\n",
       "  grid-column: 1;\n",
       "  color: var(--xr-font-color2);\n",
       "  font-weight: 500;\n",
       "}\n",
       "\n",
       ".xr-section-summary > span {\n",
       "  display: inline-block;\n",
       "  padding-left: 0.5em;\n",
       "}\n",
       "\n",
       ".xr-section-summary-in:disabled + label {\n",
       "  color: var(--xr-font-color2);\n",
       "}\n",
       "\n",
       ".xr-section-summary-in + label:before {\n",
       "  display: inline-block;\n",
       "  content: '►';\n",
       "  font-size: 11px;\n",
       "  width: 15px;\n",
       "  text-align: center;\n",
       "}\n",
       "\n",
       ".xr-section-summary-in:disabled + label:before {\n",
       "  color: var(--xr-disabled-color);\n",
       "}\n",
       "\n",
       ".xr-section-summary-in:checked + label:before {\n",
       "  content: '▼';\n",
       "}\n",
       "\n",
       ".xr-section-summary-in:checked + label > span {\n",
       "  display: none;\n",
       "}\n",
       "\n",
       ".xr-section-summary,\n",
       ".xr-section-inline-details {\n",
       "  padding-top: 4px;\n",
       "  padding-bottom: 4px;\n",
       "}\n",
       "\n",
       ".xr-section-inline-details {\n",
       "  grid-column: 2 / -1;\n",
       "}\n",
       "\n",
       ".xr-section-details {\n",
       "  display: none;\n",
       "  grid-column: 1 / -1;\n",
       "  margin-bottom: 5px;\n",
       "}\n",
       "\n",
       ".xr-section-summary-in:checked ~ .xr-section-details {\n",
       "  display: contents;\n",
       "}\n",
       "\n",
       ".xr-array-wrap {\n",
       "  grid-column: 1 / -1;\n",
       "  display: grid;\n",
       "  grid-template-columns: 20px auto;\n",
       "}\n",
       "\n",
       ".xr-array-wrap > label {\n",
       "  grid-column: 1;\n",
       "  vertical-align: top;\n",
       "}\n",
       "\n",
       ".xr-preview {\n",
       "  color: var(--xr-font-color3);\n",
       "}\n",
       "\n",
       ".xr-array-preview,\n",
       ".xr-array-data {\n",
       "  padding: 0 5px !important;\n",
       "  grid-column: 2;\n",
       "}\n",
       "\n",
       ".xr-array-data,\n",
       ".xr-array-in:checked ~ .xr-array-preview {\n",
       "  display: none;\n",
       "}\n",
       "\n",
       ".xr-array-in:checked ~ .xr-array-data,\n",
       ".xr-array-preview {\n",
       "  display: inline-block;\n",
       "}\n",
       "\n",
       ".xr-dim-list {\n",
       "  display: inline-block !important;\n",
       "  list-style: none;\n",
       "  padding: 0 !important;\n",
       "  margin: 0;\n",
       "}\n",
       "\n",
       ".xr-dim-list li {\n",
       "  display: inline-block;\n",
       "  padding: 0;\n",
       "  margin: 0;\n",
       "}\n",
       "\n",
       ".xr-dim-list:before {\n",
       "  content: '(';\n",
       "}\n",
       "\n",
       ".xr-dim-list:after {\n",
       "  content: ')';\n",
       "}\n",
       "\n",
       ".xr-dim-list li:not(:last-child):after {\n",
       "  content: ',';\n",
       "  padding-right: 5px;\n",
       "}\n",
       "\n",
       ".xr-has-index {\n",
       "  font-weight: bold;\n",
       "}\n",
       "\n",
       ".xr-var-list,\n",
       ".xr-var-item {\n",
       "  display: contents;\n",
       "}\n",
       "\n",
       ".xr-var-item > div,\n",
       ".xr-var-item label,\n",
       ".xr-var-item > .xr-var-name span {\n",
       "  background-color: var(--xr-background-color-row-even);\n",
       "  margin-bottom: 0;\n",
       "}\n",
       "\n",
       ".xr-var-item > .xr-var-name:hover span {\n",
       "  padding-right: 5px;\n",
       "}\n",
       "\n",
       ".xr-var-list > li:nth-child(odd) > div,\n",
       ".xr-var-list > li:nth-child(odd) > label,\n",
       ".xr-var-list > li:nth-child(odd) > .xr-var-name span {\n",
       "  background-color: var(--xr-background-color-row-odd);\n",
       "}\n",
       "\n",
       ".xr-var-name {\n",
       "  grid-column: 1;\n",
       "}\n",
       "\n",
       ".xr-var-dims {\n",
       "  grid-column: 2;\n",
       "}\n",
       "\n",
       ".xr-var-dtype {\n",
       "  grid-column: 3;\n",
       "  text-align: right;\n",
       "  color: var(--xr-font-color2);\n",
       "}\n",
       "\n",
       ".xr-var-preview {\n",
       "  grid-column: 4;\n",
       "}\n",
       "\n",
       ".xr-var-name,\n",
       ".xr-var-dims,\n",
       ".xr-var-dtype,\n",
       ".xr-preview,\n",
       ".xr-attrs dt {\n",
       "  white-space: nowrap;\n",
       "  overflow: hidden;\n",
       "  text-overflow: ellipsis;\n",
       "  padding-right: 10px;\n",
       "}\n",
       "\n",
       ".xr-var-name:hover,\n",
       ".xr-var-dims:hover,\n",
       ".xr-var-dtype:hover,\n",
       ".xr-attrs dt:hover {\n",
       "  overflow: visible;\n",
       "  width: auto;\n",
       "  z-index: 1;\n",
       "}\n",
       "\n",
       ".xr-var-attrs,\n",
       ".xr-var-data {\n",
       "  display: none;\n",
       "  background-color: var(--xr-background-color) !important;\n",
       "  padding-bottom: 5px !important;\n",
       "}\n",
       "\n",
       ".xr-var-attrs-in:checked ~ .xr-var-attrs,\n",
       ".xr-var-data-in:checked ~ .xr-var-data {\n",
       "  display: block;\n",
       "}\n",
       "\n",
       ".xr-var-data > table {\n",
       "  float: right;\n",
       "}\n",
       "\n",
       ".xr-var-name span,\n",
       ".xr-var-data,\n",
       ".xr-attrs {\n",
       "  padding-left: 25px !important;\n",
       "}\n",
       "\n",
       ".xr-attrs,\n",
       ".xr-var-attrs,\n",
       ".xr-var-data {\n",
       "  grid-column: 1 / -1;\n",
       "}\n",
       "\n",
       "dl.xr-attrs {\n",
       "  padding: 0;\n",
       "  margin: 0;\n",
       "  display: grid;\n",
       "  grid-template-columns: 125px auto;\n",
       "}\n",
       "\n",
       ".xr-attrs dt,\n",
       ".xr-attrs dd {\n",
       "  padding: 0;\n",
       "  margin: 0;\n",
       "  float: left;\n",
       "  padding-right: 10px;\n",
       "  width: auto;\n",
       "}\n",
       "\n",
       ".xr-attrs dt {\n",
       "  font-weight: normal;\n",
       "  grid-column: 1;\n",
       "}\n",
       "\n",
       ".xr-attrs dt:hover span {\n",
       "  display: inline-block;\n",
       "  background: var(--xr-background-color);\n",
       "  padding-right: 10px;\n",
       "}\n",
       "\n",
       ".xr-attrs dd {\n",
       "  grid-column: 2;\n",
       "  white-space: pre-wrap;\n",
       "  word-break: break-all;\n",
       "}\n",
       "\n",
       ".xr-icon-database,\n",
       ".xr-icon-file-text2 {\n",
       "  display: inline-block;\n",
       "  vertical-align: middle;\n",
       "  width: 1em;\n",
       "  height: 1.5em !important;\n",
       "  stroke-width: 0;\n",
       "  stroke: currentColor;\n",
       "  fill: currentColor;\n",
       "}\n",
       "</style><pre class='xr-text-repr-fallback'>&lt;xarray.MCDS&gt;\n",
       "Dimensions:      (cell: 30194, gene: 448)\n",
       "Coordinates:\n",
       "    blank_count  (cell) uint32 0 0 1 1 1 0 0 2 0 1 0 2 ... 0 2 1 0 0 0 0 0 0 1 3\n",
       "  * cell         (cell) &lt;U51 &#x27;C3-R1-113536214012792458791364771000738170785&#x27; ...\n",
       "  * gene         (gene) &lt;U13 &#x27;Galnt9&#x27; &#x27;Kirrel3&#x27; &#x27;Npas3&#x27; ... &#x27;Igsf3&#x27; &#x27;Rxfp1&#x27;\n",
       "    gene_id      (gene) &lt;U18 &#x27;ENSMUSG00000033316&#x27; ... &#x27;ENSMUSG00000034009&#x27;\n",
       "    n_counts     (cell) uint32 62 155 143 259 92 163 234 ... 53 31 43 47 283 427\n",
       "    n_genes      (cell) uint32 48 104 99 129 70 93 120 ... 44 30 35 41 139 158\n",
       "Data variables:\n",
       "    count        (cell, gene) uint32 dask.array&lt;chunksize=(2, 1), meta=np.ndarray&gt;\n",
       "Attributes:\n",
       "    obs_dim:  cell\n",
       "    var_dim:  gene</pre><div class='xr-wrap' style='display:none'><div class='xr-header'><div class='xr-obj-type'>xarray.MCDS</div></div><ul class='xr-sections'><li class='xr-section-item'><input id='section-a231dd88-bb2b-40bb-ad05-6ee58545dfec' class='xr-section-summary-in' type='checkbox' disabled ><label for='section-a231dd88-bb2b-40bb-ad05-6ee58545dfec' class='xr-section-summary'  title='Expand/collapse section'>Dimensions:</label><div class='xr-section-inline-details'><ul class='xr-dim-list'><li><span class='xr-has-index'>cell</span>: 30194</li><li><span class='xr-has-index'>gene</span>: 448</li></ul></div><div class='xr-section-details'></div></li><li class='xr-section-item'><input id='section-e752be28-0370-4ee0-8435-1ad7bad852ce' class='xr-section-summary-in' type='checkbox'  checked><label for='section-e752be28-0370-4ee0-8435-1ad7bad852ce' class='xr-section-summary' >Coordinates: <span>(6)</span></label><div class='xr-section-inline-details'></div><div class='xr-section-details'><ul class='xr-var-list'><li class='xr-var-item'><div class='xr-var-name'><span>blank_count</span></div><div class='xr-var-dims'>(cell)</div><div class='xr-var-dtype'>uint32</div><div class='xr-var-preview xr-preview'>0 0 1 1 1 0 0 2 ... 0 0 0 0 0 0 1 3</div><input id='attrs-713941f5-8d1d-42b6-8a71-e0f10512fc3a' class='xr-var-attrs-in' type='checkbox' disabled><label for='attrs-713941f5-8d1d-42b6-8a71-e0f10512fc3a' title='Show/Hide attributes'><svg class='icon xr-icon-file-text2'><use xlink:href='#icon-file-text2'></use></svg></label><input id='data-494b1b6c-d312-4259-8a13-2ce2e3884440' class='xr-var-data-in' type='checkbox'><label for='data-494b1b6c-d312-4259-8a13-2ce2e3884440' title='Show/Hide data repr'><svg class='icon xr-icon-database'><use xlink:href='#icon-database'></use></svg></label><div class='xr-var-attrs'><dl class='xr-attrs'></dl></div><div class='xr-var-data'><pre>array([0, 0, 1, ..., 0, 1, 3], dtype=uint32)</pre></div></li><li class='xr-var-item'><div class='xr-var-name'><span class='xr-has-index'>cell</span></div><div class='xr-var-dims'>(cell)</div><div class='xr-var-dtype'>&lt;U51</div><div class='xr-var-preview xr-preview'>&#x27;C3-R1-1135362140127924587913647...</div><input id='attrs-a8966d02-ae9c-4d57-a5d8-816099bd2049' class='xr-var-attrs-in' type='checkbox' disabled><label for='attrs-a8966d02-ae9c-4d57-a5d8-816099bd2049' title='Show/Hide attributes'><svg class='icon xr-icon-file-text2'><use xlink:href='#icon-file-text2'></use></svg></label><input id='data-f606ee1c-439c-42e1-b065-aad9f1f7544c' class='xr-var-data-in' type='checkbox'><label for='data-f606ee1c-439c-42e1-b065-aad9f1f7544c' title='Show/Hide data repr'><svg class='icon xr-icon-database'><use xlink:href='#icon-database'></use></svg></label><div class='xr-var-attrs'><dl class='xr-attrs'></dl></div><div class='xr-var-data'><pre>array([&#x27;C3-R1-113536214012792458791364771000738170785&#x27;,\n",
       "       &#x27;C3-R1-166552328937518925904716687884686237071&#x27;,\n",
       "       &#x27;C3-R2-80564652746373641038777326679650738860&#x27;, ...,\n",
       "       &#x27;C3-R2-216673865863226559504915629173655617803&#x27;,\n",
       "       &#x27;C3-R2-221129126599551797908394136516701001497&#x27;,\n",
       "       &#x27;C3-R2-58480618894717168851810796409032703742&#x27;], dtype=&#x27;&lt;U51&#x27;)</pre></div></li><li class='xr-var-item'><div class='xr-var-name'><span class='xr-has-index'>gene</span></div><div class='xr-var-dims'>(gene)</div><div class='xr-var-dtype'>&lt;U13</div><div class='xr-var-preview xr-preview'>&#x27;Galnt9&#x27; &#x27;Kirrel3&#x27; ... &#x27;Rxfp1&#x27;</div><input id='attrs-f121a6cc-5208-420f-b518-02bf73abe637' class='xr-var-attrs-in' type='checkbox' disabled><label for='attrs-f121a6cc-5208-420f-b518-02bf73abe637' title='Show/Hide attributes'><svg class='icon xr-icon-file-text2'><use xlink:href='#icon-file-text2'></use></svg></label><input id='data-6113bfea-a0c8-4578-9c53-e6236c48ba51' class='xr-var-data-in' type='checkbox'><label for='data-6113bfea-a0c8-4578-9c53-e6236c48ba51' title='Show/Hide data repr'><svg class='icon xr-icon-database'><use xlink:href='#icon-database'></use></svg></label><div class='xr-var-attrs'><dl class='xr-attrs'></dl></div><div class='xr-var-data'><pre>array([&#x27;Galnt9&#x27;, &#x27;Kirrel3&#x27;, &#x27;Npas3&#x27;, ..., &#x27;Klhl29&#x27;, &#x27;Igsf3&#x27;, &#x27;Rxfp1&#x27;],\n",
       "      dtype=&#x27;&lt;U13&#x27;)</pre></div></li><li class='xr-var-item'><div class='xr-var-name'><span>gene_id</span></div><div class='xr-var-dims'>(gene)</div><div class='xr-var-dtype'>&lt;U18</div><div class='xr-var-preview xr-preview'>&#x27;ENSMUSG00000033316&#x27; ... &#x27;ENSMUS...</div><input id='attrs-bf7d143b-94df-438b-ba1e-b17a726901da' class='xr-var-attrs-in' type='checkbox' disabled><label for='attrs-bf7d143b-94df-438b-ba1e-b17a726901da' title='Show/Hide attributes'><svg class='icon xr-icon-file-text2'><use xlink:href='#icon-file-text2'></use></svg></label><input id='data-ca6b6a3b-8e2c-4f97-963e-fa8d066c5c0e' class='xr-var-data-in' type='checkbox'><label for='data-ca6b6a3b-8e2c-4f97-963e-fa8d066c5c0e' title='Show/Hide data repr'><svg class='icon xr-icon-database'><use xlink:href='#icon-database'></use></svg></label><div class='xr-var-attrs'><dl class='xr-attrs'></dl></div><div class='xr-var-data'><pre>array([&#x27;ENSMUSG00000033316&#x27;, &#x27;ENSMUSG00000032036&#x27;, &#x27;ENSMUSG00000021010&#x27;,\n",
       "       &#x27;ENSMUSG00000032076&#x27;, &#x27;ENSMUSG00000030222&#x27;, &#x27;ENSMUSG00000026610&#x27;,\n",
       "       &#x27;ENSMUSG00000000305&#x27;, &#x27;ENSMUSG00000030199&#x27;, &#x27;ENSMUSG00000112117&#x27;,\n",
       "       &#x27;ENSMUSG00000028434&#x27;, &#x27;ENSMUSG00000024647&#x27;, &#x27;ENSMUSG00000053930&#x27;,\n",
       "       &#x27;ENSMUSG00000040037&#x27;, &#x27;ENSMUSG00000024238&#x27;, &#x27;ENSMUSG00000051359&#x27;,\n",
       "       &#x27;ENSMUSG00000029245&#x27;, &#x27;ENSMUSG00000005125&#x27;, &#x27;ENSMUSG00000020044&#x27;,\n",
       "       &#x27;ENSMUSG00000051379&#x27;, &#x27;ENSMUSG00000001985&#x27;, &#x27;ENSMUSG00000026768&#x27;,\n",
       "       &#x27;ENSMUSG00000020354&#x27;, &#x27;ENSMUSG00000031772&#x27;, &#x27;ENSMUSG00000045731&#x27;,\n",
       "       &#x27;ENSMUSG00000021983&#x27;, &#x27;ENSMUSG00000066687&#x27;, &#x27;ENSMUSG00000024642&#x27;,\n",
       "       &#x27;ENSMUSG00000019889&#x27;, &#x27;ENSMUSG00000035681&#x27;, &#x27;ENSMUSG00000026799&#x27;,\n",
       "       &#x27;ENSMUSG00000022306&#x27;, &#x27;ENSMUSG00000063600&#x27;, &#x27;ENSMUSG00000069769&#x27;,\n",
       "       &#x27;ENSMUSG00000021508&#x27;, &#x27;ENSMUSG00000032528&#x27;, &#x27;ENSMUSG00000063063&#x27;,\n",
       "       &#x27;ENSMUSG00000029765&#x27;, &#x27;ENSMUSG00000025938&#x27;, &#x27;ENSMUSG00000033083&#x27;,\n",
       "       &#x27;ENSMUSG00000025812&#x27;, &#x27;ENSMUSG00000043556&#x27;, &#x27;ENSMUSG00000039197&#x27;,\n",
       "       &#x27;ENSMUSG00000036617&#x27;, &#x27;ENSMUSG00000038248&#x27;, &#x27;ENSMUSG00000044071&#x27;,\n",
       "       &#x27;ENSMUSG00000062209&#x27;, &#x27;ENSMUSG00000055214&#x27;, &#x27;ENSMUSG00000026872&#x27;,\n",
       "       &#x27;ENSMUSG00000028289&#x27;, &#x27;ENSMUSG00000073565&#x27;, &#x27;ENSMUSG00000033306&#x27;,\n",
       "       &#x27;ENSMUSG00000022371&#x27;, &#x27;ENSMUSG00000021846&#x27;, &#x27;ENSMUSG00000006800&#x27;,\n",
       "       &#x27;ENSMUSG00000031673&#x27;, &#x27;ENSMUSG00000063564&#x27;, &#x27;ENSMUSG00000051401&#x27;,\n",
       "       &#x27;ENSMUSG00000028184&#x27;, &#x27;ENSMUSG00000043673&#x27;, &#x27;ENSMUSG00000045991&#x27;,\n",
       "...\n",
       "       &#x27;ENSMUSG00000004040&#x27;, &#x27;ENSMUSG00000039683&#x27;, &#x27;ENSMUSG00000035131&#x27;,\n",
       "       &#x27;ENSMUSG00000022494&#x27;, &#x27;ENSMUSG00000017491&#x27;, &#x27;ENSMUSG00000092083&#x27;,\n",
       "       &#x27;ENSMUSG00000025477&#x27;, &#x27;ENSMUSG00000036510&#x27;, &#x27;ENSMUSG00000055013&#x27;,\n",
       "       &#x27;ENSMUSG00000058420&#x27;, &#x27;ENSMUSG00000106379&#x27;, &#x27;ENSMUSG00000036218&#x27;,\n",
       "       &#x27;ENSMUSG00000044646&#x27;, &#x27;ENSMUSG00000063434&#x27;, &#x27;ENSMUSG00000035566&#x27;,\n",
       "       &#x27;ENSMUSG00000038257&#x27;, &#x27;ENSMUSG00000027016&#x27;, &#x27;ENSMUSG00000038048&#x27;,\n",
       "       &#x27;ENSMUSG00000016386&#x27;, &#x27;ENSMUSG00000028804&#x27;, &#x27;ENSMUSG00000034310&#x27;,\n",
       "       &#x27;ENSMUSG00000026344&#x27;, &#x27;ENSMUSG00000038760&#x27;, &#x27;ENSMUSG00000058571&#x27;,\n",
       "       &#x27;ENSMUSG00000055639&#x27;, &#x27;ENSMUSG00000052516&#x27;, &#x27;ENSMUSG00000022103&#x27;,\n",
       "       &#x27;ENSMUSG00000045573&#x27;, &#x27;ENSMUSG00000021411&#x27;, &#x27;ENSMUSG00000044499&#x27;,\n",
       "       &#x27;ENSMUSG00000031997&#x27;, &#x27;ENSMUSG00000061731&#x27;, &#x27;ENSMUSG00000054863&#x27;,\n",
       "       &#x27;ENSMUSG00000048078&#x27;, &#x27;ENSMUSG00000039058&#x27;, &#x27;ENSMUSG00000040490&#x27;,\n",
       "       &#x27;ENSMUSG00000025370&#x27;, &#x27;ENSMUSG00000039316&#x27;, &#x27;ENSMUSG00000027210&#x27;,\n",
       "       &#x27;ENSMUSG00000029608&#x27;, &#x27;ENSMUSG00000048988&#x27;, &#x27;ENSMUSG00000023809&#x27;,\n",
       "       &#x27;ENSMUSG00000040536&#x27;, &#x27;ENSMUSG00000026452&#x27;, &#x27;ENSMUSG00000027748&#x27;,\n",
       "       &#x27;ENSMUSG00000027204&#x27;, &#x27;ENSMUSG00000049001&#x27;, &#x27;ENSMUSG00000020728&#x27;,\n",
       "       &#x27;ENSMUSG00000029778&#x27;, &#x27;ENSMUSG00000056427&#x27;, &#x27;ENSMUSG00000043531&#x27;,\n",
       "       &#x27;ENSMUSG00000025810&#x27;, &#x27;ENSMUSG00000025400&#x27;, &#x27;ENSMUSG00000049112&#x27;,\n",
       "       &#x27;ENSMUSG00000008658&#x27;, &#x27;ENSMUSG00000020627&#x27;, &#x27;ENSMUSG00000042035&#x27;,\n",
       "       &#x27;ENSMUSG00000034009&#x27;], dtype=&#x27;&lt;U18&#x27;)</pre></div></li><li class='xr-var-item'><div class='xr-var-name'><span>n_counts</span></div><div class='xr-var-dims'>(cell)</div><div class='xr-var-dtype'>uint32</div><div class='xr-var-preview xr-preview'>62 155 143 259 92 ... 43 47 283 427</div><input id='attrs-b5d72207-87fa-4b80-947d-ba4bb1acc749' class='xr-var-attrs-in' type='checkbox' disabled><label for='attrs-b5d72207-87fa-4b80-947d-ba4bb1acc749' title='Show/Hide attributes'><svg class='icon xr-icon-file-text2'><use xlink:href='#icon-file-text2'></use></svg></label><input id='data-060ab0bf-0420-41a6-8ed3-787de7c39192' class='xr-var-data-in' type='checkbox'><label for='data-060ab0bf-0420-41a6-8ed3-787de7c39192' title='Show/Hide data repr'><svg class='icon xr-icon-database'><use xlink:href='#icon-database'></use></svg></label><div class='xr-var-attrs'><dl class='xr-attrs'></dl></div><div class='xr-var-data'><pre>array([ 62, 155, 143, ...,  47, 283, 427], dtype=uint32)</pre></div></li><li class='xr-var-item'><div class='xr-var-name'><span>n_genes</span></div><div class='xr-var-dims'>(cell)</div><div class='xr-var-dtype'>uint32</div><div class='xr-var-preview xr-preview'>48 104 99 129 70 ... 35 41 139 158</div><input id='attrs-530de01a-4a5a-4dc2-b582-12b3653d1c6d' class='xr-var-attrs-in' type='checkbox' disabled><label for='attrs-530de01a-4a5a-4dc2-b582-12b3653d1c6d' title='Show/Hide attributes'><svg class='icon xr-icon-file-text2'><use xlink:href='#icon-file-text2'></use></svg></label><input id='data-e1181aca-56e7-4b6d-bd5e-d482d9667f29' class='xr-var-data-in' type='checkbox'><label for='data-e1181aca-56e7-4b6d-bd5e-d482d9667f29' title='Show/Hide data repr'><svg class='icon xr-icon-database'><use xlink:href='#icon-database'></use></svg></label><div class='xr-var-attrs'><dl class='xr-attrs'></dl></div><div class='xr-var-data'><pre>array([ 48, 104,  99, ...,  41, 139, 158], dtype=uint32)</pre></div></li></ul></div></li><li class='xr-section-item'><input id='section-b871ee6f-81a3-4343-aefa-38a893f75c5b' class='xr-section-summary-in' type='checkbox'  checked><label for='section-b871ee6f-81a3-4343-aefa-38a893f75c5b' class='xr-section-summary' >Data variables: <span>(1)</span></label><div class='xr-section-inline-details'></div><div class='xr-section-details'><ul class='xr-var-list'><li class='xr-var-item'><div class='xr-var-name'><span>count</span></div><div class='xr-var-dims'>(cell, gene)</div><div class='xr-var-dtype'>uint32</div><div class='xr-var-preview xr-preview'>dask.array&lt;chunksize=(2, 1), meta=np.ndarray&gt;</div><input id='attrs-bd3d60a0-6840-4183-9307-8a0565190d85' class='xr-var-attrs-in' type='checkbox' disabled><label for='attrs-bd3d60a0-6840-4183-9307-8a0565190d85' title='Show/Hide attributes'><svg class='icon xr-icon-file-text2'><use xlink:href='#icon-file-text2'></use></svg></label><input id='data-9a3d6195-9121-4b9c-a432-7844751f346f' class='xr-var-data-in' type='checkbox'><label for='data-9a3d6195-9121-4b9c-a432-7844751f346f' title='Show/Hide data repr'><svg class='icon xr-icon-database'><use xlink:href='#icon-database'></use></svg></label><div class='xr-var-attrs'><dl class='xr-attrs'></dl></div><div class='xr-var-data'><table>\n",
       "    <tr>\n",
       "        <td>\n",
       "            <table>\n",
       "                <thead>\n",
       "                    <tr>\n",
       "                        <td> </td>\n",
       "                        <th> Array </th>\n",
       "                        <th> Chunk </th>\n",
       "                    </tr>\n",
       "                </thead>\n",
       "                <tbody>\n",
       "                    \n",
       "                    <tr>\n",
       "                        <th> Bytes </th>\n",
       "                        <td> 51.60 MiB </td>\n",
       "                        <td> 11.61 kiB </td>\n",
       "                    </tr>\n",
       "                    \n",
       "                    <tr>\n",
       "                        <th> Shape </th>\n",
       "                        <td> (30194, 448) </td>\n",
       "                        <td> (991, 3) </td>\n",
       "                    </tr>\n",
       "                    <tr>\n",
       "                        <th> Count </th>\n",
       "                        <td> 728348 Tasks </td>\n",
       "                        <td> 725680 Chunks </td>\n",
       "                    </tr>\n",
       "                    <tr>\n",
       "                    <th> Type </th>\n",
       "                    <td> uint32 </td>\n",
       "                    <td> numpy.ndarray </td>\n",
       "                    </tr>\n",
       "                </tbody>\n",
       "            </table>\n",
       "        </td>\n",
       "        <td>\n",
       "        <svg width=\"77\" height=\"170\" style=\"stroke:rgb(0,0,0);stroke-width:1\" >\n",
       "\n",
       "  <!-- Horizontal lines -->\n",
       "  <line x1=\"0\" y1=\"0\" x2=\"27\" y2=\"0\" style=\"stroke-width:2\" />\n",
       "  <line x1=\"0\" y1=\"2\" x2=\"27\" y2=\"2\" />\n",
       "  <line x1=\"0\" y1=\"6\" x2=\"27\" y2=\"6\" />\n",
       "  <line x1=\"0\" y1=\"8\" x2=\"27\" y2=\"8\" />\n",
       "  <line x1=\"0\" y1=\"17\" x2=\"27\" y2=\"17\" />\n",
       "  <line x1=\"0\" y1=\"21\" x2=\"27\" y2=\"21\" />\n",
       "  <line x1=\"0\" y1=\"27\" x2=\"27\" y2=\"27\" />\n",
       "  <line x1=\"0\" y1=\"29\" x2=\"27\" y2=\"29\" />\n",
       "  <line x1=\"0\" y1=\"43\" x2=\"27\" y2=\"43\" />\n",
       "  <line x1=\"0\" y1=\"49\" x2=\"27\" y2=\"49\" />\n",
       "  <line x1=\"0\" y1=\"52\" x2=\"27\" y2=\"52\" />\n",
       "  <line x1=\"0\" y1=\"53\" x2=\"27\" y2=\"53\" />\n",
       "  <line x1=\"0\" y1=\"62\" x2=\"27\" y2=\"62\" />\n",
       "  <line x1=\"0\" y1=\"65\" x2=\"27\" y2=\"65\" />\n",
       "  <line x1=\"0\" y1=\"69\" x2=\"27\" y2=\"69\" />\n",
       "  <line x1=\"0\" y1=\"96\" x2=\"27\" y2=\"96\" />\n",
       "  <line x1=\"0\" y1=\"98\" x2=\"27\" y2=\"98\" />\n",
       "  <line x1=\"0\" y1=\"102\" x2=\"27\" y2=\"102\" />\n",
       "  <line x1=\"0\" y1=\"104\" x2=\"27\" y2=\"104\" />\n",
       "  <line x1=\"0\" y1=\"120\" x2=\"27\" y2=\"120\" style=\"stroke-width:2\" />\n",
       "\n",
       "  <!-- Vertical lines -->\n",
       "  <line x1=\"0\" y1=\"0\" x2=\"0\" y2=\"120\" style=\"stroke-width:2\" />\n",
       "  <line x1=\"1\" y1=\"0\" x2=\"1\" y2=\"120\" />\n",
       "  <line x1=\"2\" y1=\"0\" x2=\"2\" y2=\"120\" />\n",
       "  <line x1=\"4\" y1=\"0\" x2=\"4\" y2=\"120\" />\n",
       "  <line x1=\"6\" y1=\"0\" x2=\"6\" y2=\"120\" />\n",
       "  <line x1=\"7\" y1=\"0\" x2=\"7\" y2=\"120\" />\n",
       "  <line x1=\"9\" y1=\"0\" x2=\"9\" y2=\"120\" />\n",
       "  <line x1=\"10\" y1=\"0\" x2=\"10\" y2=\"120\" />\n",
       "  <line x1=\"11\" y1=\"0\" x2=\"11\" y2=\"120\" />\n",
       "  <line x1=\"13\" y1=\"0\" x2=\"13\" y2=\"120\" />\n",
       "  <line x1=\"14\" y1=\"0\" x2=\"14\" y2=\"120\" />\n",
       "  <line x1=\"15\" y1=\"0\" x2=\"15\" y2=\"120\" />\n",
       "  <line x1=\"17\" y1=\"0\" x2=\"17\" y2=\"120\" />\n",
       "  <line x1=\"18\" y1=\"0\" x2=\"18\" y2=\"120\" />\n",
       "  <line x1=\"20\" y1=\"0\" x2=\"20\" y2=\"120\" />\n",
       "  <line x1=\"21\" y1=\"0\" x2=\"21\" y2=\"120\" />\n",
       "  <line x1=\"22\" y1=\"0\" x2=\"22\" y2=\"120\" />\n",
       "  <line x1=\"24\" y1=\"0\" x2=\"24\" y2=\"120\" />\n",
       "  <line x1=\"25\" y1=\"0\" x2=\"25\" y2=\"120\" />\n",
       "  <line x1=\"27\" y1=\"0\" x2=\"27\" y2=\"120\" style=\"stroke-width:2\" />\n",
       "\n",
       "  <!-- Colored Rectangle -->\n",
       "  <polygon points=\"0.0,0.0 27.4004511263561,0.0 27.4004511263561,120.0 0.0,120.0\" style=\"fill:#8B4903A0;stroke-width:0\"/>\n",
       "\n",
       "  <!-- Text -->\n",
       "  <text x=\"13.700226\" y=\"140.000000\" font-size=\"1.0rem\" font-weight=\"100\" text-anchor=\"middle\" >448</text>\n",
       "  <text x=\"47.400451\" y=\"60.000000\" font-size=\"1.0rem\" font-weight=\"100\" text-anchor=\"middle\" transform=\"rotate(-90,47.400451,60.000000)\">30194</text>\n",
       "</svg>\n",
       "        </td>\n",
       "    </tr>\n",
       "</table></div></li></ul></div></li><li class='xr-section-item'><input id='section-1066439e-454a-47d5-8c13-36c4f513765e' class='xr-section-summary-in' type='checkbox'  checked><label for='section-1066439e-454a-47d5-8c13-36c4f513765e' class='xr-section-summary' >Attributes: <span>(2)</span></label><div class='xr-section-inline-details'></div><div class='xr-section-details'><dl class='xr-attrs'><dt><span>obs_dim :</span></dt><dd>cell</dd><dt><span>var_dim :</span></dt><dd>gene</dd></dl></div></li></ul></div></div>"
      ],
      "text/plain": [
       "<xarray.MCDS>\n",
       "Dimensions:      (cell: 30194, gene: 448)\n",
       "Coordinates:\n",
       "    blank_count  (cell) uint32 0 0 1 1 1 0 0 2 0 1 0 2 ... 0 2 1 0 0 0 0 0 0 1 3\n",
       "  * cell         (cell) <U51 'C3-R1-113536214012792458791364771000738170785' ...\n",
       "  * gene         (gene) <U13 'Galnt9' 'Kirrel3' 'Npas3' ... 'Igsf3' 'Rxfp1'\n",
       "    gene_id      (gene) <U18 'ENSMUSG00000033316' ... 'ENSMUSG00000034009'\n",
       "    n_counts     (cell) uint32 62 155 143 259 92 163 234 ... 53 31 43 47 283 427\n",
       "    n_genes      (cell) uint32 48 104 99 129 70 93 120 ... 44 30 35 41 139 158\n",
       "Data variables:\n",
       "    count        (cell, gene) uint32 dask.array<chunksize=(2, 1), meta=np.ndarray>\n",
       "Attributes:\n",
       "    obs_dim:  cell\n",
       "    var_dim:  gene"
      ]
     },
     "execution_count": 8,
     "metadata": {},
     "output_type": "execute_result"
    }
   ],
   "source": [
    "cef_gene_neme = [mm10.gene_id_to_name(gene_id) for gene_id in cef]\n",
    "merfish_ds = MCDS.open('/cemba/MERFISH/MERFISH.TotalWatershedCell.BasicFilter.zarr', var_dim=var_dim)\n",
    "merfish_ds = merfish_ds.sel(gene = cef_gene_neme, cell = merfish_cells)\n",
    "merfish_ds"
   ]
  },
  {
   "cell_type": "code",
   "execution_count": 9,
   "id": "4a0723dd-a8c3-496d-a335-36ff5de7e324",
   "metadata": {
    "execution": {
     "iopub.execute_input": "2023-02-27T04:06:37.703996Z",
     "iopub.status.busy": "2023-02-27T04:06:37.703548Z",
     "iopub.status.idle": "2023-02-27T04:07:53.789774Z",
     "shell.execute_reply": "2023-02-27T04:07:53.788733Z"
    },
    "papermill": {
     "duration": 76.100354,
     "end_time": "2023-02-27T04:07:53.798592",
     "exception": false,
     "start_time": "2023-02-27T04:06:37.698238",
     "status": "completed"
    },
    "tags": []
   },
   "outputs": [
    {
     "name": "stdout",
     "output_type": "stream",
     "text": [
      "Loading chunk 0-30194/30194\n"
     ]
    }
   ],
   "source": [
    "qry_adata = merfish_ds.get_count_adata(da_name='count', loading_chunk=50000)\n",
    "qry_adata = qry_adata[:, cef_gene_neme].copy()\n",
    "qry_adata.var.index = cef"
   ]
  },
  {
   "cell_type": "code",
   "execution_count": 10,
   "id": "0134980d-5cfa-4cc5-ad81-af1163e0c15d",
   "metadata": {
    "execution": {
     "iopub.execute_input": "2023-02-27T04:07:53.813928Z",
     "iopub.status.busy": "2023-02-27T04:07:53.813412Z",
     "iopub.status.idle": "2023-02-27T04:07:53.890144Z",
     "shell.execute_reply": "2023-02-27T04:07:53.889154Z"
    },
    "papermill": {
     "duration": 0.087001,
     "end_time": "2023-02-27T04:07:53.892359",
     "exception": false,
     "start_time": "2023-02-27T04:07:53.805358",
     "status": "completed"
    },
    "tags": []
   },
   "outputs": [],
   "source": [
    "qry_adata.X.data = qry_adata.X.data/np.repeat(qry_adata.obs['n_counts'].values, qry_adata.X.getnnz(axis=1)\n",
    "                                     ) * qry_adata.obs['n_counts'].median()\n",
    "sc.pp.log1p(qry_adata)"
   ]
  },
  {
   "cell_type": "code",
   "execution_count": 11,
   "id": "743b2b1f-dd62-4962-86e9-0da0c3f9f8fc",
   "metadata": {
    "execution": {
     "iopub.execute_input": "2023-02-27T04:07:53.902135Z",
     "iopub.status.busy": "2023-02-27T04:07:53.901875Z",
     "iopub.status.idle": "2023-02-27T04:07:53.955320Z",
     "shell.execute_reply": "2023-02-27T04:07:53.954336Z"
    },
    "papermill": {
     "duration": 0.060654,
     "end_time": "2023-02-27T04:07:53.957422",
     "exception": false,
     "start_time": "2023-02-27T04:07:53.896768",
     "status": "completed"
    },
    "tags": []
   },
   "outputs": [],
   "source": [
    "qry_adata.write_h5ad('merfish_input.h5ad')"
   ]
  },
  {
   "cell_type": "code",
   "execution_count": 12,
   "id": "c55b6e70-04bf-4808-9ec9-fd82f255187b",
   "metadata": {
    "execution": {
     "iopub.execute_input": "2023-02-27T04:07:53.970645Z",
     "iopub.status.busy": "2023-02-27T04:07:53.970357Z",
     "iopub.status.idle": "2023-02-27T04:07:53.975361Z",
     "shell.execute_reply": "2023-02-27T04:07:53.974667Z"
    },
    "papermill": {
     "duration": 0.014027,
     "end_time": "2023-02-27T04:07:53.976913",
     "exception": false,
     "start_time": "2023-02-27T04:07:53.962886",
     "status": "completed"
    },
    "tags": []
   },
   "outputs": [
    {
     "data": {
      "text/plain": [
       "AnnData object with n_obs × n_vars = 30194 × 448\n",
       "    obs: 'blank_count', 'n_counts', 'n_genes'\n",
       "    var: 'id'\n",
       "    uns: 'log1p'"
      ]
     },
     "execution_count": 12,
     "metadata": {},
     "output_type": "execute_result"
    }
   ],
   "source": [
    "qry_adata"
   ]
  },
  {
   "cell_type": "markdown",
   "id": "5071c05b-7a5a-4269-a32c-30b62705d63b",
   "metadata": {
    "papermill": {
     "duration": 0.005234,
     "end_time": "2023-02-27T04:07:53.987226",
     "exception": false,
     "start_time": "2023-02-27T04:07:53.981992",
     "status": "completed"
    },
    "tags": []
   },
   "source": [
    "## get mc adata"
   ]
  },
  {
   "cell_type": "code",
   "execution_count": 13,
   "id": "9febf8a9-2493-45d4-823b-42b6f1aaa7a2",
   "metadata": {
    "execution": {
     "iopub.execute_input": "2023-02-27T04:07:53.998473Z",
     "iopub.status.busy": "2023-02-27T04:07:53.998244Z",
     "iopub.status.idle": "2023-02-27T04:07:54.005199Z",
     "shell.execute_reply": "2023-02-27T04:07:54.004515Z"
    },
    "papermill": {
     "duration": 0.013872,
     "end_time": "2023-02-27T04:07:54.006790",
     "exception": false,
     "start_time": "2023-02-27T04:07:53.992918",
     "status": "completed"
    },
    "tags": []
   },
   "outputs": [],
   "source": [
    "var_dim = 'geneslop2k-vm23'\n",
    "cef = pd.read_csv('mC.CEF.csv', header=None, index_col=0).squeeze()\n",
    "cef = cef[cef].index\n",
    "cef.name = var_dim"
   ]
  },
  {
   "cell_type": "code",
   "execution_count": 14,
   "id": "1d540224-c0aa-4de4-a0fc-244ffaffc1e7",
   "metadata": {
    "execution": {
     "iopub.execute_input": "2023-02-27T04:07:54.018568Z",
     "iopub.status.busy": "2023-02-27T04:07:54.017862Z",
     "iopub.status.idle": "2023-02-27T04:07:54.021811Z",
     "shell.execute_reply": "2023-02-27T04:07:54.021106Z"
    },
    "papermill": {
     "duration": 0.011702,
     "end_time": "2023-02-27T04:07:54.023130",
     "exception": false,
     "start_time": "2023-02-27T04:07:54.011428",
     "status": "completed"
    },
    "tags": []
   },
   "outputs": [],
   "source": [
    "chrom_to_remove = ['chrX', 'chrY', 'chrM', 'chrL']\n",
    "downsample = 1000\n",
    "std_cutoff = 0.01"
   ]
  },
  {
   "cell_type": "code",
   "execution_count": 15,
   "id": "ff9aa72f-e806-4128-a914-5336874dbfa6",
   "metadata": {
    "execution": {
     "iopub.execute_input": "2023-02-27T04:07:54.033230Z",
     "iopub.status.busy": "2023-02-27T04:07:54.032937Z",
     "iopub.status.idle": "2023-02-27T04:07:54.831815Z",
     "shell.execute_reply": "2023-02-27T04:07:54.831030Z"
    },
    "papermill": {
     "duration": 0.806009,
     "end_time": "2023-02-27T04:07:54.833564",
     "exception": false,
     "start_time": "2023-02-27T04:07:54.027555",
     "status": "completed"
    },
    "tags": []
   },
   "outputs": [],
   "source": [
    "mcds = MCDS.open(cemba.CEMBA_SNMC_MCDS_PATH, var_dim=var_dim, use_obs=mc_cells)"
   ]
  },
  {
   "cell_type": "code",
   "execution_count": 16,
   "id": "06bb134b-408b-4757-8019-39c2973428d7",
   "metadata": {
    "execution": {
     "iopub.execute_input": "2023-02-27T04:07:54.844954Z",
     "iopub.status.busy": "2023-02-27T04:07:54.844604Z",
     "iopub.status.idle": "2023-02-27T04:08:01.000767Z",
     "shell.execute_reply": "2023-02-27T04:08:00.999645Z"
    },
    "papermill": {
     "duration": 6.164675,
     "end_time": "2023-02-27T04:08:01.003093",
     "exception": false,
     "start_time": "2023-02-27T04:07:54.838418",
     "status": "completed"
    },
    "tags": []
   },
   "outputs": [],
   "source": [
    "mcds.add_feature_selection_column(cef, f'{var_dim}_cef')\n",
    "adata = mcds.get_adata(mc_type=mc_type,\n",
    "                       select_hvf=f'{var_dim}_cef',\n",
    "                       split_large_chunks=False)"
   ]
  },
  {
   "cell_type": "code",
   "execution_count": 17,
   "id": "c3616792-3e44-4aca-a36d-dd06bab4014f",
   "metadata": {
    "execution": {
     "iopub.execute_input": "2023-02-27T04:08:01.020108Z",
     "iopub.status.busy": "2023-02-27T04:08:01.019677Z",
     "iopub.status.idle": "2023-02-27T04:08:01.094725Z",
     "shell.execute_reply": "2023-02-27T04:08:01.093882Z"
    },
    "papermill": {
     "duration": 0.086178,
     "end_time": "2023-02-27T04:08:01.096766",
     "exception": false,
     "start_time": "2023-02-27T04:08:01.010588",
     "status": "completed"
    },
    "tags": []
   },
   "outputs": [],
   "source": [
    "std_filter = adata.X.std(axis=0) > std_cutoff\n",
    "adata._inplace_subset_var(std_filter)"
   ]
  },
  {
   "cell_type": "code",
   "execution_count": 18,
   "id": "c9e3c449-3d08-4fb9-bd28-4b2b8f91ddfa",
   "metadata": {
    "execution": {
     "iopub.execute_input": "2023-02-27T04:08:01.107252Z",
     "iopub.status.busy": "2023-02-27T04:08:01.107026Z",
     "iopub.status.idle": "2023-02-27T04:08:01.276021Z",
     "shell.execute_reply": "2023-02-27T04:08:01.275049Z"
    },
    "papermill": {
     "duration": 0.178895,
     "end_time": "2023-02-27T04:08:01.280541",
     "exception": false,
     "start_time": "2023-02-27T04:08:01.101646",
     "status": "completed"
    },
    "tags": []
   },
   "outputs": [],
   "source": [
    "# log mC fraction and scale features\n",
    "log_scale(adata, with_mean=True)\n",
    "\n",
    "# reverse mC fraction so its positively corr with RNA\n",
    "adata.X *= -1"
   ]
  },
  {
   "cell_type": "code",
   "execution_count": 19,
   "id": "651c2409-0dcd-4b65-82e1-579ace692790",
   "metadata": {
    "execution": {
     "iopub.execute_input": "2023-02-27T04:08:01.296552Z",
     "iopub.status.busy": "2023-02-27T04:08:01.295894Z",
     "iopub.status.idle": "2023-02-27T04:08:01.402861Z",
     "shell.execute_reply": "2023-02-27T04:08:01.395478Z"
    },
    "papermill": {
     "duration": 0.125241,
     "end_time": "2023-02-27T04:08:01.412698",
     "exception": false,
     "start_time": "2023-02-27T04:08:01.287457",
     "status": "completed"
    },
    "tags": []
   },
   "outputs": [],
   "source": [
    "adata.write_h5ad('mc_input.h5ad')"
   ]
  },
  {
   "cell_type": "code",
   "execution_count": 20,
   "id": "5f01b464-32f2-4aee-bba9-6c629b2b0adb",
   "metadata": {
    "execution": {
     "iopub.execute_input": "2023-02-27T04:08:01.444308Z",
     "iopub.status.busy": "2023-02-27T04:08:01.443671Z",
     "iopub.status.idle": "2023-02-27T04:08:01.455540Z",
     "shell.execute_reply": "2023-02-27T04:08:01.454531Z"
    },
    "papermill": {
     "duration": 0.038741,
     "end_time": "2023-02-27T04:08:01.460460",
     "exception": false,
     "start_time": "2023-02-27T04:08:01.421719",
     "status": "completed"
    },
    "tags": []
   },
   "outputs": [
    {
     "data": {
      "text/plain": [
       "AnnData object with n_obs × n_vars = 30004 × 448\n",
       "    var: 'chrom', 'cov_mean', 'end', 'start', 'cef'\n",
       "    uns: 'log'"
      ]
     },
     "execution_count": 20,
     "metadata": {},
     "output_type": "execute_result"
    }
   ],
   "source": [
    "adata"
   ]
  },
  {
   "cell_type": "code",
   "execution_count": null,
   "id": "3163c69f-7c87-4545-aeca-0a0fe8a130b8",
   "metadata": {
    "papermill": {
     "duration": 0.011958,
     "end_time": "2023-02-27T04:08:01.484617",
     "exception": false,
     "start_time": "2023-02-27T04:08:01.472659",
     "status": "completed"
    },
    "tags": []
   },
   "outputs": [],
   "source": []
  },
  {
   "cell_type": "code",
   "execution_count": null,
   "id": "bec3c277-4058-4559-ae86-861b01331b2b",
   "metadata": {
    "papermill": {
     "duration": 0.011884,
     "end_time": "2023-02-27T04:08:01.508705",
     "exception": false,
     "start_time": "2023-02-27T04:08:01.496821",
     "status": "completed"
    },
    "tags": []
   },
   "outputs": [],
   "source": []
  }
 ],
 "metadata": {
  "kernelspec": {
   "display_name": "Python 3 (ipykernel)",
   "language": "python",
   "name": "python3"
  },
  "language_info": {
   "codemirror_mode": {
    "name": "ipython",
    "version": 3
   },
   "file_extension": ".py",
   "mimetype": "text/x-python",
   "name": "python",
   "nbconvert_exporter": "python",
   "pygments_lexer": "ipython3",
   "version": "3.7.12"
  },
  "papermill": {
   "default_parameters": {},
   "duration": 94.650487,
   "end_time": "2023-02-27T04:08:04.715118",
   "environment_variables": {},
   "exception": null,
   "input_path": "/home/qzeng_salk_edu/project/cemba/230223_spatial/integration/mc_merfish/template/02.get_adata.ipynb",
   "output_path": "/home/qzeng_salk_edu/project/cemba/230223_spatial/integration/mc_merfish/Round1/Slice3-4_Neu/02.get_adata.ipynb",
   "parameters": {
    "cpu": 1,
    "group_name": "Slice3-4_Neu",
    "mem_gb": 1
   },
   "start_time": "2023-02-27T04:06:30.064631",
   "version": "2.4.0"
  }
 },
 "nbformat": 4,
 "nbformat_minor": 5
}
