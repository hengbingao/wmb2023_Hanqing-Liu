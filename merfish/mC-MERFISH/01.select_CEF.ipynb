{
 "cells": [
  {
   "cell_type": "markdown",
   "id": "e3d74fe1-4259-404d-a0f9-384d5340629f",
   "metadata": {
    "papermill": {
     "duration": 0.006537,
     "end_time": "2023-02-27T04:03:37.134494",
     "exception": false,
     "start_time": "2023-02-27T04:03:37.127957",
     "status": "completed"
    },
    "tags": []
   },
   "source": [
    "## Import"
   ]
  },
  {
   "cell_type": "code",
   "execution_count": 1,
   "id": "fc8482e1-41ad-44c1-8697-13073ded48dd",
   "metadata": {
    "ExecuteTime": {
     "end_time": "2022-06-25T18:29:09.603883Z",
     "start_time": "2022-06-25T18:28:49.913862Z"
    },
    "execution": {
     "iopub.execute_input": "2023-02-27T04:03:37.187011Z",
     "iopub.status.busy": "2023-02-27T04:03:37.186697Z",
     "iopub.status.idle": "2023-02-27T04:03:39.751924Z",
     "shell.execute_reply": "2023-02-27T04:03:39.751071Z"
    },
    "papermill": {
     "duration": 2.572462,
     "end_time": "2023-02-27T04:03:39.753739",
     "exception": false,
     "start_time": "2023-02-27T04:03:37.181277",
     "status": "completed"
    },
    "tags": []
   },
   "outputs": [],
   "source": [
    "from wmb import cemba, mm10\n",
    "\n",
    "from ALLCools.clustering import *\n",
    "from ALLCools.mcds import MCDS\n",
    "\n",
    "import pandas as pd\n",
    "import joblib"
   ]
  },
  {
   "cell_type": "code",
   "execution_count": 2,
   "id": "a0367e62-cdc7-492d-bdbc-5e24097a1275",
   "metadata": {
    "ExecuteTime": {
     "end_time": "2022-06-25T18:29:10.928342Z",
     "start_time": "2022-06-25T18:29:10.925766Z"
    },
    "execution": {
     "iopub.execute_input": "2023-02-27T04:03:39.763553Z",
     "iopub.status.busy": "2023-02-27T04:03:39.763331Z",
     "iopub.status.idle": "2023-02-27T04:03:39.766904Z",
     "shell.execute_reply": "2023-02-27T04:03:39.766266Z"
    },
    "papermill": {
     "duration": 0.009719,
     "end_time": "2023-02-27T04:03:39.767992",
     "exception": false,
     "start_time": "2023-02-27T04:03:39.758273",
     "status": "completed"
    },
    "tags": [
     "parameters"
    ]
   },
   "outputs": [],
   "source": [
    "group_name='Slice9-10_NN'\n",
    "var_dim = 'geneslop2k-vm23'\n",
    "cef_cluster_level = 'L4Region'\n",
    "chrom_to_remove = ['chrX', 'chrY', 'chrM', 'chrL']\n",
    "downsample = 500\n",
    "\n",
    "global_cef = None"
   ]
  },
  {
   "cell_type": "code",
   "execution_count": 4,
   "id": "a9d81692-6826-4773-9b62-1869e5673e65",
   "metadata": {
    "execution": {
     "iopub.execute_input": "2023-02-27T04:03:39.792090Z",
     "iopub.status.busy": "2023-02-27T04:03:39.791809Z",
     "iopub.status.idle": "2023-02-27T04:03:39.795655Z",
     "shell.execute_reply": "2023-02-27T04:03:39.794877Z"
    },
    "papermill": {
     "duration": 0.010888,
     "end_time": "2023-02-27T04:03:39.797272",
     "exception": false,
     "start_time": "2023-02-27T04:03:39.786384",
     "status": "completed"
    },
    "tags": []
   },
   "outputs": [],
   "source": [
    "_slice , cell_class = group_name.split('_')\n",
    "if cell_class == 'NN':\n",
    "    mc_type = 'CGN'\n",
    "if cell_class == 'Neu':\n",
    "    mc_type = 'CHN'"
   ]
  },
  {
   "cell_type": "markdown",
   "id": "a7e6bf95-a367-4fc8-bef2-4b71b2715f91",
   "metadata": {
    "papermill": {
     "duration": 0.007818,
     "end_time": "2023-02-27T04:03:39.813031",
     "exception": false,
     "start_time": "2023-02-27T04:03:39.805213",
     "status": "completed"
    },
    "tags": []
   },
   "source": [
    "## Select cells"
   ]
  },
  {
   "cell_type": "code",
   "execution_count": 5,
   "id": "04951669-c1db-45bc-bf2a-32b99a63ebd9",
   "metadata": {
    "ExecuteTime": {
     "end_time": "2022-06-25T18:29:12.333727Z",
     "start_time": "2022-06-25T18:29:12.305321Z"
    },
    "execution": {
     "iopub.execute_input": "2023-02-27T04:03:39.825864Z",
     "iopub.status.busy": "2023-02-27T04:03:39.825583Z",
     "iopub.status.idle": "2023-02-27T04:03:39.854231Z",
     "shell.execute_reply": "2023-02-27T04:03:39.853286Z"
    },
    "papermill": {
     "duration": 0.037364,
     "end_time": "2023-02-27T04:03:39.855617",
     "exception": false,
     "start_time": "2023-02-27T04:03:39.818253",
     "status": "completed"
    },
    "tags": []
   },
   "outputs": [
    {
     "data": {
      "text/plain": [
       "30004"
      ]
     },
     "execution_count": 5,
     "metadata": {},
     "output_type": "execute_result"
    }
   ],
   "source": [
    "cells = pd.read_csv('mc_cells.txt', index_col=0, header=None).index\n",
    "cells.name = 'cell'\n",
    "cells.size"
   ]
  },
  {
   "cell_type": "markdown",
   "id": "4ed83c9e-4f7f-449f-bc96-49e2d60a7f2d",
   "metadata": {
    "papermill": {
     "duration": 0.004369,
     "end_time": "2023-02-27T04:03:39.864707",
     "exception": false,
     "start_time": "2023-02-27T04:03:39.860338",
     "status": "completed"
    },
    "tags": []
   },
   "source": [
    "## Select genes"
   ]
  },
  {
   "cell_type": "code",
   "execution_count": 6,
   "id": "824ad156-7a7b-415a-9b9b-e060885fb3dc",
   "metadata": {
    "execution": {
     "iopub.execute_input": "2023-02-27T04:03:39.874814Z",
     "iopub.status.busy": "2023-02-27T04:03:39.874586Z",
     "iopub.status.idle": "2023-02-27T04:03:39.879428Z",
     "shell.execute_reply": "2023-02-27T04:03:39.878633Z"
    },
    "papermill": {
     "duration": 0.011587,
     "end_time": "2023-02-27T04:03:39.880737",
     "exception": false,
     "start_time": "2023-02-27T04:03:39.869150",
     "status": "completed"
    },
    "tags": []
   },
   "outputs": [],
   "source": [
    "merfish_genes = joblib.load('/home/qzeng_salk_edu/project/cemba/230223_spatial/integration/_prepare/mc_merfish_gene_ids')"
   ]
  },
  {
   "cell_type": "markdown",
   "id": "d2645fda-697c-48d6-8103-f2d4b31d2f70",
   "metadata": {
    "ExecuteTime": {
     "end_time": "2022-06-21T04:51:56.476879Z",
     "start_time": "2022-06-21T04:51:56.474668Z"
    },
    "papermill": {
     "duration": 0.004399,
     "end_time": "2023-02-27T04:03:39.889632",
     "exception": false,
     "start_time": "2023-02-27T04:03:39.885233",
     "status": "completed"
    },
    "tags": []
   },
   "source": [
    "## Downsample cells\n",
    "\n",
    "Downsample large cluster to balance the data and reduce computation time and memory when calculating CEF"
   ]
  },
  {
   "cell_type": "code",
   "execution_count": 7,
   "id": "c1d968af-34c7-456c-acc1-56d6865fafcd",
   "metadata": {
    "ExecuteTime": {
     "end_time": "2022-06-25T18:29:19.073206Z",
     "start_time": "2022-06-25T18:29:15.055053Z"
    },
    "execution": {
     "iopub.execute_input": "2023-02-27T04:03:39.899664Z",
     "iopub.status.busy": "2023-02-27T04:03:39.899461Z",
     "iopub.status.idle": "2023-02-27T04:03:43.720652Z",
     "shell.execute_reply": "2023-02-27T04:03:43.720080Z"
    },
    "papermill": {
     "duration": 3.827781,
     "end_time": "2023-02-27T04:03:43.721900",
     "exception": false,
     "start_time": "2023-02-27T04:03:39.894119",
     "status": "completed"
    },
    "tags": []
   },
   "outputs": [
    {
     "data": {
      "text/plain": [
       "30004"
      ]
     },
     "execution_count": 7,
     "metadata": {},
     "output_type": "execute_result"
    }
   ],
   "source": [
    "annot = cemba.get_mc_annot()\n",
    "clusters = annot[cef_cluster_level].to_pandas()\n",
    "clusters = clusters.loc[cells].copy()\n",
    "\n",
    "if downsample is not None:\n",
    "    use_cells = []\n",
    "    for cluster, sub_series in clusters.groupby(clusters):\n",
    "        if sub_series.size > downsample:\n",
    "            _cells = sub_series.sample(downsample, random_state=0).index\n",
    "        else:\n",
    "            _cells = sub_series.index\n",
    "        use_cells += _cells.tolist()\n",
    "    use_cells = pd.Index(use_cells)\n",
    "else:\n",
    "    use_cells = cells\n",
    "    \n",
    "use_cells.size"
   ]
  },
  {
   "cell_type": "markdown",
   "id": "f598e1a5-d5e2-4adc-a77d-3078b26c24eb",
   "metadata": {
    "papermill": {
     "duration": 0.004501,
     "end_time": "2023-02-27T04:03:43.731536",
     "exception": false,
     "start_time": "2023-02-27T04:03:43.727035",
     "status": "completed"
    },
    "tags": []
   },
   "source": [
    "## Get adata"
   ]
  },
  {
   "cell_type": "code",
   "execution_count": 8,
   "id": "4ae5848b-06aa-4940-a581-a91cb67addcd",
   "metadata": {
    "ExecuteTime": {
     "end_time": "2022-06-25T18:29:28.675481Z",
     "start_time": "2022-06-25T18:29:20.888505Z"
    },
    "execution": {
     "iopub.execute_input": "2023-02-27T04:03:43.741403Z",
     "iopub.status.busy": "2023-02-27T04:03:43.741205Z",
     "iopub.status.idle": "2023-02-27T04:03:44.349086Z",
     "shell.execute_reply": "2023-02-27T04:03:44.348287Z"
    },
    "papermill": {
     "duration": 0.614571,
     "end_time": "2023-02-27T04:03:44.350556",
     "exception": false,
     "start_time": "2023-02-27T04:03:43.735985",
     "status": "completed"
    },
    "tags": []
   },
   "outputs": [
    {
     "data": {
      "text/html": [
       "<div><svg style=\"position: absolute; width: 0; height: 0; overflow: hidden\">\n",
       "<defs>\n",
       "<symbol id=\"icon-database\" viewBox=\"0 0 32 32\">\n",
       "<path d=\"M16 0c-8.837 0-16 2.239-16 5v4c0 2.761 7.163 5 16 5s16-2.239 16-5v-4c0-2.761-7.163-5-16-5z\"></path>\n",
       "<path d=\"M16 17c-8.837 0-16-2.239-16-5v6c0 2.761 7.163 5 16 5s16-2.239 16-5v-6c0 2.761-7.163 5-16 5z\"></path>\n",
       "<path d=\"M16 26c-8.837 0-16-2.239-16-5v6c0 2.761 7.163 5 16 5s16-2.239 16-5v-6c0 2.761-7.163 5-16 5z\"></path>\n",
       "</symbol>\n",
       "<symbol id=\"icon-file-text2\" viewBox=\"0 0 32 32\">\n",
       "<path d=\"M28.681 7.159c-0.694-0.947-1.662-2.053-2.724-3.116s-2.169-2.030-3.116-2.724c-1.612-1.182-2.393-1.319-2.841-1.319h-15.5c-1.378 0-2.5 1.121-2.5 2.5v27c0 1.378 1.122 2.5 2.5 2.5h23c1.378 0 2.5-1.122 2.5-2.5v-19.5c0-0.448-0.137-1.23-1.319-2.841zM24.543 5.457c0.959 0.959 1.712 1.825 2.268 2.543h-4.811v-4.811c0.718 0.556 1.584 1.309 2.543 2.268zM28 29.5c0 0.271-0.229 0.5-0.5 0.5h-23c-0.271 0-0.5-0.229-0.5-0.5v-27c0-0.271 0.229-0.5 0.5-0.5 0 0 15.499-0 15.5 0v7c0 0.552 0.448 1 1 1h7v19.5z\"></path>\n",
       "<path d=\"M23 26h-14c-0.552 0-1-0.448-1-1s0.448-1 1-1h14c0.552 0 1 0.448 1 1s-0.448 1-1 1z\"></path>\n",
       "<path d=\"M23 22h-14c-0.552 0-1-0.448-1-1s0.448-1 1-1h14c0.552 0 1 0.448 1 1s-0.448 1-1 1z\"></path>\n",
       "<path d=\"M23 18h-14c-0.552 0-1-0.448-1-1s0.448-1 1-1h14c0.552 0 1 0.448 1 1s-0.448 1-1 1z\"></path>\n",
       "</symbol>\n",
       "</defs>\n",
       "</svg>\n",
       "<style>/* CSS stylesheet for displaying xarray objects in jupyterlab.\n",
       " *\n",
       " */\n",
       "\n",
       ":root {\n",
       "  --xr-font-color0: var(--jp-content-font-color0, rgba(0, 0, 0, 1));\n",
       "  --xr-font-color2: var(--jp-content-font-color2, rgba(0, 0, 0, 0.54));\n",
       "  --xr-font-color3: var(--jp-content-font-color3, rgba(0, 0, 0, 0.38));\n",
       "  --xr-border-color: var(--jp-border-color2, #e0e0e0);\n",
       "  --xr-disabled-color: var(--jp-layout-color3, #bdbdbd);\n",
       "  --xr-background-color: var(--jp-layout-color0, white);\n",
       "  --xr-background-color-row-even: var(--jp-layout-color1, white);\n",
       "  --xr-background-color-row-odd: var(--jp-layout-color2, #eeeeee);\n",
       "}\n",
       "\n",
       "html[theme=dark],\n",
       "body.vscode-dark {\n",
       "  --xr-font-color0: rgba(255, 255, 255, 1);\n",
       "  --xr-font-color2: rgba(255, 255, 255, 0.54);\n",
       "  --xr-font-color3: rgba(255, 255, 255, 0.38);\n",
       "  --xr-border-color: #1F1F1F;\n",
       "  --xr-disabled-color: #515151;\n",
       "  --xr-background-color: #111111;\n",
       "  --xr-background-color-row-even: #111111;\n",
       "  --xr-background-color-row-odd: #313131;\n",
       "}\n",
       "\n",
       ".xr-wrap {\n",
       "  display: block !important;\n",
       "  min-width: 300px;\n",
       "  max-width: 700px;\n",
       "}\n",
       "\n",
       ".xr-text-repr-fallback {\n",
       "  /* fallback to plain text repr when CSS is not injected (untrusted notebook) */\n",
       "  display: none;\n",
       "}\n",
       "\n",
       ".xr-header {\n",
       "  padding-top: 6px;\n",
       "  padding-bottom: 6px;\n",
       "  margin-bottom: 4px;\n",
       "  border-bottom: solid 1px var(--xr-border-color);\n",
       "}\n",
       "\n",
       ".xr-header > div,\n",
       ".xr-header > ul {\n",
       "  display: inline;\n",
       "  margin-top: 0;\n",
       "  margin-bottom: 0;\n",
       "}\n",
       "\n",
       ".xr-obj-type,\n",
       ".xr-array-name {\n",
       "  margin-left: 2px;\n",
       "  margin-right: 10px;\n",
       "}\n",
       "\n",
       ".xr-obj-type {\n",
       "  color: var(--xr-font-color2);\n",
       "}\n",
       "\n",
       ".xr-sections {\n",
       "  padding-left: 0 !important;\n",
       "  display: grid;\n",
       "  grid-template-columns: 150px auto auto 1fr 20px 20px;\n",
       "}\n",
       "\n",
       ".xr-section-item {\n",
       "  display: contents;\n",
       "}\n",
       "\n",
       ".xr-section-item input {\n",
       "  display: none;\n",
       "}\n",
       "\n",
       ".xr-section-item input + label {\n",
       "  color: var(--xr-disabled-color);\n",
       "}\n",
       "\n",
       ".xr-section-item input:enabled + label {\n",
       "  cursor: pointer;\n",
       "  color: var(--xr-font-color2);\n",
       "}\n",
       "\n",
       ".xr-section-item input:enabled + label:hover {\n",
       "  color: var(--xr-font-color0);\n",
       "}\n",
       "\n",
       ".xr-section-summary {\n",
       "  grid-column: 1;\n",
       "  color: var(--xr-font-color2);\n",
       "  font-weight: 500;\n",
       "}\n",
       "\n",
       ".xr-section-summary > span {\n",
       "  display: inline-block;\n",
       "  padding-left: 0.5em;\n",
       "}\n",
       "\n",
       ".xr-section-summary-in:disabled + label {\n",
       "  color: var(--xr-font-color2);\n",
       "}\n",
       "\n",
       ".xr-section-summary-in + label:before {\n",
       "  display: inline-block;\n",
       "  content: '►';\n",
       "  font-size: 11px;\n",
       "  width: 15px;\n",
       "  text-align: center;\n",
       "}\n",
       "\n",
       ".xr-section-summary-in:disabled + label:before {\n",
       "  color: var(--xr-disabled-color);\n",
       "}\n",
       "\n",
       ".xr-section-summary-in:checked + label:before {\n",
       "  content: '▼';\n",
       "}\n",
       "\n",
       ".xr-section-summary-in:checked + label > span {\n",
       "  display: none;\n",
       "}\n",
       "\n",
       ".xr-section-summary,\n",
       ".xr-section-inline-details {\n",
       "  padding-top: 4px;\n",
       "  padding-bottom: 4px;\n",
       "}\n",
       "\n",
       ".xr-section-inline-details {\n",
       "  grid-column: 2 / -1;\n",
       "}\n",
       "\n",
       ".xr-section-details {\n",
       "  display: none;\n",
       "  grid-column: 1 / -1;\n",
       "  margin-bottom: 5px;\n",
       "}\n",
       "\n",
       ".xr-section-summary-in:checked ~ .xr-section-details {\n",
       "  display: contents;\n",
       "}\n",
       "\n",
       ".xr-array-wrap {\n",
       "  grid-column: 1 / -1;\n",
       "  display: grid;\n",
       "  grid-template-columns: 20px auto;\n",
       "}\n",
       "\n",
       ".xr-array-wrap > label {\n",
       "  grid-column: 1;\n",
       "  vertical-align: top;\n",
       "}\n",
       "\n",
       ".xr-preview {\n",
       "  color: var(--xr-font-color3);\n",
       "}\n",
       "\n",
       ".xr-array-preview,\n",
       ".xr-array-data {\n",
       "  padding: 0 5px !important;\n",
       "  grid-column: 2;\n",
       "}\n",
       "\n",
       ".xr-array-data,\n",
       ".xr-array-in:checked ~ .xr-array-preview {\n",
       "  display: none;\n",
       "}\n",
       "\n",
       ".xr-array-in:checked ~ .xr-array-data,\n",
       ".xr-array-preview {\n",
       "  display: inline-block;\n",
       "}\n",
       "\n",
       ".xr-dim-list {\n",
       "  display: inline-block !important;\n",
       "  list-style: none;\n",
       "  padding: 0 !important;\n",
       "  margin: 0;\n",
       "}\n",
       "\n",
       ".xr-dim-list li {\n",
       "  display: inline-block;\n",
       "  padding: 0;\n",
       "  margin: 0;\n",
       "}\n",
       "\n",
       ".xr-dim-list:before {\n",
       "  content: '(';\n",
       "}\n",
       "\n",
       ".xr-dim-list:after {\n",
       "  content: ')';\n",
       "}\n",
       "\n",
       ".xr-dim-list li:not(:last-child):after {\n",
       "  content: ',';\n",
       "  padding-right: 5px;\n",
       "}\n",
       "\n",
       ".xr-has-index {\n",
       "  font-weight: bold;\n",
       "}\n",
       "\n",
       ".xr-var-list,\n",
       ".xr-var-item {\n",
       "  display: contents;\n",
       "}\n",
       "\n",
       ".xr-var-item > div,\n",
       ".xr-var-item label,\n",
       ".xr-var-item > .xr-var-name span {\n",
       "  background-color: var(--xr-background-color-row-even);\n",
       "  margin-bottom: 0;\n",
       "}\n",
       "\n",
       ".xr-var-item > .xr-var-name:hover span {\n",
       "  padding-right: 5px;\n",
       "}\n",
       "\n",
       ".xr-var-list > li:nth-child(odd) > div,\n",
       ".xr-var-list > li:nth-child(odd) > label,\n",
       ".xr-var-list > li:nth-child(odd) > .xr-var-name span {\n",
       "  background-color: var(--xr-background-color-row-odd);\n",
       "}\n",
       "\n",
       ".xr-var-name {\n",
       "  grid-column: 1;\n",
       "}\n",
       "\n",
       ".xr-var-dims {\n",
       "  grid-column: 2;\n",
       "}\n",
       "\n",
       ".xr-var-dtype {\n",
       "  grid-column: 3;\n",
       "  text-align: right;\n",
       "  color: var(--xr-font-color2);\n",
       "}\n",
       "\n",
       ".xr-var-preview {\n",
       "  grid-column: 4;\n",
       "}\n",
       "\n",
       ".xr-var-name,\n",
       ".xr-var-dims,\n",
       ".xr-var-dtype,\n",
       ".xr-preview,\n",
       ".xr-attrs dt {\n",
       "  white-space: nowrap;\n",
       "  overflow: hidden;\n",
       "  text-overflow: ellipsis;\n",
       "  padding-right: 10px;\n",
       "}\n",
       "\n",
       ".xr-var-name:hover,\n",
       ".xr-var-dims:hover,\n",
       ".xr-var-dtype:hover,\n",
       ".xr-attrs dt:hover {\n",
       "  overflow: visible;\n",
       "  width: auto;\n",
       "  z-index: 1;\n",
       "}\n",
       "\n",
       ".xr-var-attrs,\n",
       ".xr-var-data {\n",
       "  display: none;\n",
       "  background-color: var(--xr-background-color) !important;\n",
       "  padding-bottom: 5px !important;\n",
       "}\n",
       "\n",
       ".xr-var-attrs-in:checked ~ .xr-var-attrs,\n",
       ".xr-var-data-in:checked ~ .xr-var-data {\n",
       "  display: block;\n",
       "}\n",
       "\n",
       ".xr-var-data > table {\n",
       "  float: right;\n",
       "}\n",
       "\n",
       ".xr-var-name span,\n",
       ".xr-var-data,\n",
       ".xr-attrs {\n",
       "  padding-left: 25px !important;\n",
       "}\n",
       "\n",
       ".xr-attrs,\n",
       ".xr-var-attrs,\n",
       ".xr-var-data {\n",
       "  grid-column: 1 / -1;\n",
       "}\n",
       "\n",
       "dl.xr-attrs {\n",
       "  padding: 0;\n",
       "  margin: 0;\n",
       "  display: grid;\n",
       "  grid-template-columns: 125px auto;\n",
       "}\n",
       "\n",
       ".xr-attrs dt,\n",
       ".xr-attrs dd {\n",
       "  padding: 0;\n",
       "  margin: 0;\n",
       "  float: left;\n",
       "  padding-right: 10px;\n",
       "  width: auto;\n",
       "}\n",
       "\n",
       ".xr-attrs dt {\n",
       "  font-weight: normal;\n",
       "  grid-column: 1;\n",
       "}\n",
       "\n",
       ".xr-attrs dt:hover span {\n",
       "  display: inline-block;\n",
       "  background: var(--xr-background-color);\n",
       "  padding-right: 10px;\n",
       "}\n",
       "\n",
       ".xr-attrs dd {\n",
       "  grid-column: 2;\n",
       "  white-space: pre-wrap;\n",
       "  word-break: break-all;\n",
       "}\n",
       "\n",
       ".xr-icon-database,\n",
       ".xr-icon-file-text2 {\n",
       "  display: inline-block;\n",
       "  vertical-align: middle;\n",
       "  width: 1em;\n",
       "  height: 1.5em !important;\n",
       "  stroke-width: 0;\n",
       "  stroke: currentColor;\n",
       "  fill: currentColor;\n",
       "}\n",
       "</style><pre class='xr-text-repr-fallback'>&lt;xarray.MCDS&gt;\n",
       "Dimensions:                   (cell: 30004, count_type: 2, geneslop2k-vm23: 487, mc_type: 2)\n",
       "Coordinates:\n",
       "  * cell                      (cell) &lt;U15 &#x27;3A_M_2344&#x27; ... &#x27;4H_M_2027&#x27;\n",
       "  * count_type                (count_type) &lt;U3 &#x27;mc&#x27; &#x27;cov&#x27;\n",
       "  * geneslop2k-vm23           (geneslop2k-vm23) &lt;U18 &#x27;ENSMUSG00000033316&#x27; ......\n",
       "    geneslop2k-vm23_chrom     (geneslop2k-vm23) &lt;U5 &#x27;chr5&#x27; &#x27;chr9&#x27; ... &#x27;chr13&#x27;\n",
       "    geneslop2k-vm23_cov_mean  (geneslop2k-vm23) float64 1.644e+03 ... 2.055e+03\n",
       "    geneslop2k-vm23_end       (geneslop2k-vm23) int64 110623380 ... 43306172\n",
       "    geneslop2k-vm23_start     (geneslop2k-vm23) int64 110542355 ... 43193245\n",
       "  * mc_type                   (mc_type) &lt;U3 &#x27;CGN&#x27; &#x27;CHN&#x27;\n",
       "Data variables:\n",
       "    geneslop2k-vm23_da        (cell, geneslop2k-vm23, mc_type, count_type) uint16 dask.array&lt;chunksize=(1000, 487, 1, 1), meta=np.ndarray&gt;\n",
       "    geneslop2k-vm23_da_frac   (cell, geneslop2k-vm23, mc_type) float32 dask.array&lt;chunksize=(1000, 487, 1), meta=np.ndarray&gt;\n",
       "Attributes:\n",
       "    obs_dim:  cell\n",
       "    var_dim:  geneslop2k-vm23</pre><div class='xr-wrap' style='display:none'><div class='xr-header'><div class='xr-obj-type'>xarray.MCDS</div></div><ul class='xr-sections'><li class='xr-section-item'><input id='section-868a81cb-84dd-4f7f-b996-c134c8d100a9' class='xr-section-summary-in' type='checkbox' disabled ><label for='section-868a81cb-84dd-4f7f-b996-c134c8d100a9' class='xr-section-summary'  title='Expand/collapse section'>Dimensions:</label><div class='xr-section-inline-details'><ul class='xr-dim-list'><li><span class='xr-has-index'>cell</span>: 30004</li><li><span class='xr-has-index'>count_type</span>: 2</li><li><span class='xr-has-index'>geneslop2k-vm23</span>: 487</li><li><span class='xr-has-index'>mc_type</span>: 2</li></ul></div><div class='xr-section-details'></div></li><li class='xr-section-item'><input id='section-5321ec4b-0259-4a59-a8d3-71b888d9f053' class='xr-section-summary-in' type='checkbox'  checked><label for='section-5321ec4b-0259-4a59-a8d3-71b888d9f053' class='xr-section-summary' >Coordinates: <span>(8)</span></label><div class='xr-section-inline-details'></div><div class='xr-section-details'><ul class='xr-var-list'><li class='xr-var-item'><div class='xr-var-name'><span class='xr-has-index'>cell</span></div><div class='xr-var-dims'>(cell)</div><div class='xr-var-dtype'>&lt;U15</div><div class='xr-var-preview xr-preview'>&#x27;3A_M_2344&#x27; ... &#x27;4H_M_2027&#x27;</div><input id='attrs-43c46351-af20-4f4e-b002-9695eb5c4375' class='xr-var-attrs-in' type='checkbox' disabled><label for='attrs-43c46351-af20-4f4e-b002-9695eb5c4375' title='Show/Hide attributes'><svg class='icon xr-icon-file-text2'><use xlink:href='#icon-file-text2'></use></svg></label><input id='data-74cb9ce2-609d-43dc-aa0f-556acb8dae19' class='xr-var-data-in' type='checkbox'><label for='data-74cb9ce2-609d-43dc-aa0f-556acb8dae19' title='Show/Hide data repr'><svg class='icon xr-icon-database'><use xlink:href='#icon-database'></use></svg></label><div class='xr-var-attrs'><dl class='xr-attrs'></dl></div><div class='xr-var-data'><pre>array([&#x27;3A_M_2344&#x27;, &#x27;3A_M_2548&#x27;, &#x27;3A_M_344&#x27;, ..., &#x27;4H_M_1658&#x27;, &#x27;4H_M_1790&#x27;,\n",
       "       &#x27;4H_M_2027&#x27;], dtype=&#x27;&lt;U15&#x27;)</pre></div></li><li class='xr-var-item'><div class='xr-var-name'><span class='xr-has-index'>count_type</span></div><div class='xr-var-dims'>(count_type)</div><div class='xr-var-dtype'>&lt;U3</div><div class='xr-var-preview xr-preview'>&#x27;mc&#x27; &#x27;cov&#x27;</div><input id='attrs-a9f34afa-2a52-49df-83cd-ddcf103a97bb' class='xr-var-attrs-in' type='checkbox' disabled><label for='attrs-a9f34afa-2a52-49df-83cd-ddcf103a97bb' title='Show/Hide attributes'><svg class='icon xr-icon-file-text2'><use xlink:href='#icon-file-text2'></use></svg></label><input id='data-08920035-0280-4952-82ab-a9cc55a2430a' class='xr-var-data-in' type='checkbox'><label for='data-08920035-0280-4952-82ab-a9cc55a2430a' title='Show/Hide data repr'><svg class='icon xr-icon-database'><use xlink:href='#icon-database'></use></svg></label><div class='xr-var-attrs'><dl class='xr-attrs'></dl></div><div class='xr-var-data'><pre>array([&#x27;mc&#x27;, &#x27;cov&#x27;], dtype=&#x27;&lt;U3&#x27;)</pre></div></li><li class='xr-var-item'><div class='xr-var-name'><span class='xr-has-index'>geneslop2k-vm23</span></div><div class='xr-var-dims'>(geneslop2k-vm23)</div><div class='xr-var-dtype'>&lt;U18</div><div class='xr-var-preview xr-preview'>&#x27;ENSMUSG00000033316&#x27; ... &#x27;ENSMUS...</div><input id='attrs-973c4333-866b-4267-acf5-db9b575a63af' class='xr-var-attrs-in' type='checkbox' disabled><label for='attrs-973c4333-866b-4267-acf5-db9b575a63af' title='Show/Hide attributes'><svg class='icon xr-icon-file-text2'><use xlink:href='#icon-file-text2'></use></svg></label><input id='data-5c0c1a0e-cad7-4a9a-838a-22c6111ca5ab' class='xr-var-data-in' type='checkbox'><label for='data-5c0c1a0e-cad7-4a9a-838a-22c6111ca5ab' title='Show/Hide data repr'><svg class='icon xr-icon-database'><use xlink:href='#icon-database'></use></svg></label><div class='xr-var-attrs'><dl class='xr-attrs'></dl></div><div class='xr-var-data'><pre>array([&#x27;ENSMUSG00000033316&#x27;, &#x27;ENSMUSG00000032036&#x27;, &#x27;ENSMUSG00000021010&#x27;, ...,\n",
       "       &#x27;ENSMUSG00000042035&#x27;, &#x27;ENSMUSG00000034009&#x27;, &#x27;ENSMUSG00000051335&#x27;],\n",
       "      dtype=&#x27;&lt;U18&#x27;)</pre></div></li><li class='xr-var-item'><div class='xr-var-name'><span>geneslop2k-vm23_chrom</span></div><div class='xr-var-dims'>(geneslop2k-vm23)</div><div class='xr-var-dtype'>&lt;U5</div><div class='xr-var-preview xr-preview'>&#x27;chr5&#x27; &#x27;chr9&#x27; ... &#x27;chr3&#x27; &#x27;chr13&#x27;</div><input id='attrs-71016cdc-c6bf-48b8-b800-5d0c287fc05c' class='xr-var-attrs-in' type='checkbox' disabled><label for='attrs-71016cdc-c6bf-48b8-b800-5d0c287fc05c' title='Show/Hide attributes'><svg class='icon xr-icon-file-text2'><use xlink:href='#icon-file-text2'></use></svg></label><input id='data-478643fd-f546-4ccd-88cf-644dbb8a06b0' class='xr-var-data-in' type='checkbox'><label for='data-478643fd-f546-4ccd-88cf-644dbb8a06b0' title='Show/Hide data repr'><svg class='icon xr-icon-database'><use xlink:href='#icon-database'></use></svg></label><div class='xr-var-attrs'><dl class='xr-attrs'></dl></div><div class='xr-var-data'><pre>array([&#x27;chr5&#x27;, &#x27;chr9&#x27;, &#x27;chr12&#x27;, &#x27;chr9&#x27;, &#x27;chr6&#x27;, &#x27;chr1&#x27;, &#x27;chr2&#x27;, &#x27;chr1&#x27;,\n",
       "       &#x27;chr6&#x27;, &#x27;chr11&#x27;, &#x27;chr10&#x27;, &#x27;chr4&#x27;, &#x27;chr18&#x27;, &#x27;chr11&#x27;, &#x27;chr3&#x27;,\n",
       "       &#x27;chr18&#x27;, &#x27;chr15&#x27;, &#x27;chr1&#x27;, &#x27;chr5&#x27;, &#x27;chr15&#x27;, &#x27;chr10&#x27;, &#x27;chr2&#x27;, &#x27;chr4&#x27;,\n",
       "       &#x27;chr2&#x27;, &#x27;chr11&#x27;, &#x27;chr11&#x27;, &#x27;chr8&#x27;, &#x27;chr14&#x27;, &#x27;chr14&#x27;, &#x27;chr15&#x27;,\n",
       "       &#x27;chr9&#x27;, &#x27;chr19&#x27;, &#x27;chr10&#x27;, &#x27;chr10&#x27;, &#x27;chr2&#x27;, &#x27;chr15&#x27;, &#x27;chr6&#x27;, &#x27;chr3&#x27;,\n",
       "       &#x27;chr11&#x27;, &#x27;chr13&#x27;, &#x27;chr9&#x27;, &#x27;chr6&#x27;, &#x27;chr11&#x27;, &#x27;chr6&#x27;, &#x27;chr1&#x27;, &#x27;chr14&#x27;,\n",
       "       &#x27;chr8&#x27;, &#x27;chr15&#x27;, &#x27;chr14&#x27;, &#x27;chr14&#x27;, &#x27;chr2&#x27;, &#x27;chr10&#x27;, &#x27;chr10&#x27;,\n",
       "       &#x27;chr1&#x27;, &#x27;chr1&#x27;, &#x27;chr1&#x27;, &#x27;chr2&#x27;, &#x27;chr4&#x27;, &#x27;chr18&#x27;, &#x27;chr16&#x27;, &#x27;chr15&#x27;,\n",
       "       &#x27;chr14&#x27;, &#x27;chr2&#x27;, &#x27;chr8&#x27;, &#x27;chr6&#x27;, &#x27;chr11&#x27;, &#x27;chr18&#x27;, &#x27;chr3&#x27;, &#x27;chr12&#x27;,\n",
       "       &#x27;chr18&#x27;, &#x27;chr16&#x27;, &#x27;chr1&#x27;, &#x27;chr4&#x27;, &#x27;chr18&#x27;, &#x27;chr7&#x27;, &#x27;chr13&#x27;, &#x27;chr4&#x27;,\n",
       "       &#x27;chr18&#x27;, &#x27;chr8&#x27;, &#x27;chr1&#x27;, &#x27;chr1&#x27;, &#x27;chr2&#x27;, &#x27;chr2&#x27;, &#x27;chr3&#x27;, &#x27;chr9&#x27;,\n",
       "       &#x27;chr4&#x27;, &#x27;chr1&#x27;, &#x27;chr4&#x27;, &#x27;chr9&#x27;, &#x27;chr9&#x27;, &#x27;chr4&#x27;, &#x27;chr4&#x27;, &#x27;chr15&#x27;,\n",
       "       &#x27;chr12&#x27;, &#x27;chr17&#x27;, &#x27;chr8&#x27;, &#x27;chr9&#x27;, &#x27;chr12&#x27;, &#x27;chr2&#x27;, &#x27;chr2&#x27;, &#x27;chr7&#x27;,\n",
       "       &#x27;chr4&#x27;, &#x27;chr12&#x27;, &#x27;chr4&#x27;, &#x27;chr13&#x27;, &#x27;chr1&#x27;, &#x27;chr4&#x27;, &#x27;chr2&#x27;, &#x27;chr16&#x27;,\n",
       "       &#x27;chr11&#x27;, &#x27;chr17&#x27;, &#x27;chr15&#x27;, &#x27;chr2&#x27;, &#x27;chr4&#x27;, &#x27;chr6&#x27;, &#x27;chr15&#x27;, &#x27;chr3&#x27;,\n",
       "       &#x27;chr3&#x27;, &#x27;chr7&#x27;, &#x27;chr1&#x27;, &#x27;chr5&#x27;, &#x27;chr7&#x27;, &#x27;chr2&#x27;, &#x27;chr15&#x27;, &#x27;chr17&#x27;,\n",
       "       &#x27;chr7&#x27;, &#x27;chr6&#x27;, &#x27;chr4&#x27;, &#x27;chr9&#x27;, &#x27;chr12&#x27;, &#x27;chr1&#x27;, &#x27;chr14&#x27;, &#x27;chr4&#x27;,\n",
       "       &#x27;chr13&#x27;, &#x27;chr2&#x27;, &#x27;chr15&#x27;, &#x27;chr11&#x27;, &#x27;chr4&#x27;, &#x27;chr15&#x27;, &#x27;chr6&#x27;,\n",
       "       &#x27;chr15&#x27;, &#x27;chr2&#x27;, &#x27;chr15&#x27;, &#x27;chr13&#x27;, &#x27;chr10&#x27;, &#x27;chr2&#x27;, &#x27;chr13&#x27;,\n",
       "       &#x27;chr19&#x27;, &#x27;chr15&#x27;, &#x27;chr7&#x27;, &#x27;chr6&#x27;, &#x27;chr15&#x27;, &#x27;chr2&#x27;, &#x27;chr3&#x27;, &#x27;chr15&#x27;,\n",
       "...\n",
       "       &#x27;chr6&#x27;, &#x27;chr10&#x27;, &#x27;chr17&#x27;, &#x27;chr9&#x27;, &#x27;chr10&#x27;, &#x27;chr10&#x27;, &#x27;chr11&#x27;,\n",
       "       &#x27;chr9&#x27;, &#x27;chr11&#x27;, &#x27;chr2&#x27;, &#x27;chr10&#x27;, &#x27;chr8&#x27;, &#x27;chr1&#x27;, &#x27;chr6&#x27;, &#x27;chr14&#x27;,\n",
       "       &#x27;chr12&#x27;, &#x27;chr4&#x27;, &#x27;chr10&#x27;, &#x27;chr5&#x27;, &#x27;chr13&#x27;, &#x27;chr7&#x27;, &#x27;chr1&#x27;, &#x27;chr1&#x27;,\n",
       "       &#x27;chr2&#x27;, &#x27;chr5&#x27;, &#x27;chr16&#x27;, &#x27;chr14&#x27;, &#x27;chr4&#x27;, &#x27;chr1&#x27;, &#x27;chr7&#x27;, &#x27;chr11&#x27;,\n",
       "       &#x27;chr13&#x27;, &#x27;chr9&#x27;, &#x27;chr15&#x27;, &#x27;chr9&#x27;, &#x27;chr6&#x27;, &#x27;chr13&#x27;, &#x27;chr10&#x27;, &#x27;chr5&#x27;,\n",
       "       &#x27;chr5&#x27;, &#x27;chr9&#x27;, &#x27;chr16&#x27;, &#x27;chr9&#x27;, &#x27;chr18&#x27;, &#x27;chr16&#x27;, &#x27;chr3&#x27;, &#x27;chr8&#x27;,\n",
       "       &#x27;chr11&#x27;, &#x27;chr1&#x27;, &#x27;chr2&#x27;, &#x27;chr8&#x27;, &#x27;chr10&#x27;, &#x27;chr7&#x27;, &#x27;chr19&#x27;, &#x27;chr3&#x27;,\n",
       "       &#x27;chr16&#x27;, &#x27;chr1&#x27;, &#x27;chr10&#x27;, &#x27;chr18&#x27;, &#x27;chr13&#x27;, &#x27;chr4&#x27;, &#x27;chr5&#x27;,\n",
       "       &#x27;chr10&#x27;, &#x27;chr12&#x27;, &#x27;chr6&#x27;, &#x27;chr1&#x27;, &#x27;chr7&#x27;, &#x27;chr8&#x27;, &#x27;chr8&#x27;, &#x27;chr19&#x27;,\n",
       "       &#x27;chr19&#x27;, &#x27;chr4&#x27;, &#x27;chr2&#x27;, &#x27;chr10&#x27;, &#x27;chr9&#x27;, &#x27;chr5&#x27;, &#x27;chr6&#x27;, &#x27;chr8&#x27;,\n",
       "       &#x27;chr2&#x27;, &#x27;chr6&#x27;, &#x27;chr5&#x27;, &#x27;chr10&#x27;, &#x27;chr2&#x27;, &#x27;chr13&#x27;, &#x27;chr11&#x27;, &#x27;chr5&#x27;,\n",
       "       &#x27;chr1&#x27;, &#x27;chr7&#x27;, &#x27;chr16&#x27;, &#x27;chr14&#x27;, &#x27;chr11&#x27;, &#x27;chr1&#x27;, &#x27;chr7&#x27;, &#x27;chr8&#x27;,\n",
       "       &#x27;chr13&#x27;, &#x27;chr1&#x27;, &#x27;chr7&#x27;, &#x27;chr5&#x27;, &#x27;chr15&#x27;, &#x27;chr18&#x27;, &#x27;chr19&#x27;,\n",
       "       &#x27;chr14&#x27;, &#x27;chr8&#x27;, &#x27;chr2&#x27;, &#x27;chr17&#x27;, &#x27;chr2&#x27;, &#x27;chr4&#x27;, &#x27;chr5&#x27;, &#x27;chr1&#x27;,\n",
       "       &#x27;chr15&#x27;, &#x27;chr14&#x27;, &#x27;chr14&#x27;, &#x27;chr16&#x27;, &#x27;chr14&#x27;, &#x27;chr4&#x27;, &#x27;chr13&#x27;,\n",
       "       &#x27;chr10&#x27;, &#x27;chr9&#x27;, &#x27;chr2&#x27;, &#x27;chr15&#x27;, &#x27;chr15&#x27;, &#x27;chr7&#x27;, &#x27;chr3&#x27;, &#x27;chr17&#x27;,\n",
       "       &#x27;chr15&#x27;, &#x27;chr17&#x27;, &#x27;chr2&#x27;, &#x27;chr5&#x27;, &#x27;chr5&#x27;, &#x27;chr17&#x27;, &#x27;chr4&#x27;, &#x27;chr1&#x27;,\n",
       "       &#x27;chr3&#x27;, &#x27;chr2&#x27;, &#x27;chr6&#x27;, &#x27;chr11&#x27;, &#x27;chr6&#x27;, &#x27;chr11&#x27;, &#x27;chr19&#x27;, &#x27;chr8&#x27;,\n",
       "       &#x27;chr10&#x27;, &#x27;chr6&#x27;, &#x27;chr16&#x27;, &#x27;chr12&#x27;, &#x27;chr3&#x27;, &#x27;chr3&#x27;, &#x27;chr13&#x27;],\n",
       "      dtype=&#x27;&lt;U5&#x27;)</pre></div></li><li class='xr-var-item'><div class='xr-var-name'><span>geneslop2k-vm23_cov_mean</span></div><div class='xr-var-dims'>(geneslop2k-vm23)</div><div class='xr-var-dtype'>float64</div><div class='xr-var-preview xr-preview'>1.644e+03 9.981e+03 ... 2.055e+03</div><input id='attrs-a2ef71d1-242d-4bb9-9429-b8bb5aa59ebb' class='xr-var-attrs-in' type='checkbox' disabled><label for='attrs-a2ef71d1-242d-4bb9-9429-b8bb5aa59ebb' title='Show/Hide attributes'><svg class='icon xr-icon-file-text2'><use xlink:href='#icon-file-text2'></use></svg></label><input id='data-bd6d858a-6e66-4a3f-b0d2-54b0e9e71520' class='xr-var-data-in' type='checkbox'><label for='data-bd6d858a-6e66-4a3f-b0d2-54b0e9e71520' title='Show/Hide data repr'><svg class='icon xr-icon-database'><use xlink:href='#icon-database'></use></svg></label><div class='xr-var-attrs'><dl class='xr-attrs'></dl></div><div class='xr-var-data'><pre>array([ 1643.50161848,  9980.75595266, 12584.04954926,  5567.25062599,\n",
       "        1961.95957337,  9665.35122441,  9086.59864731,  3356.95458703,\n",
       "        4171.15554365,  2747.57947192,  1349.23291354,  2917.20254892,\n",
       "         185.69393601,  5031.00222368, 10678.73811086,  2695.31594736,\n",
       "        7248.53836156,  6074.71437415,  4037.39447529,   905.56096795,\n",
       "        1022.56917893,   360.30365244,  4666.9326305 ,  2830.6385134 ,\n",
       "         610.05414753, 14968.57307499,  4247.57998934,   509.96625673,\n",
       "        9413.28565049,  4136.13336536,  3488.61406832,  2174.51959888,\n",
       "        7052.05248131,  2536.21429253,  3602.23179246,  5646.5429352 ,\n",
       "        2401.57714353,  8096.64403256,  7167.19922572,   252.5429352 ,\n",
       "         756.34864654, 15059.94815622,  1573.95592678,  8321.96605038,\n",
       "        2027.03596695,  2618.23638458,  8788.52418483,  5154.83601746,\n",
       "       12551.78852864,  5736.76451167, 13253.63827009,  2960.69371117,\n",
       "        6684.36719364, 12220.92753945,  3007.04303529,  4820.34028464,\n",
       "        1942.47322806,  1941.25761118,  3678.44545978,  9298.69050809,\n",
       "        3210.45603304,  2870.17207341,  1881.07137335,  2311.63738308,\n",
       "        7820.61801674,  5519.18603455,  3895.69955372,  2718.30252212,\n",
       "         950.1947722 ,  1075.78579678, 10869.51190223,  1204.38618731,\n",
       "       27967.14515826,  4255.04592423,  5393.08449984,  2555.66097195,\n",
       "        4007.3798951 ,   317.05909076,   879.03734982,  5042.45582361,\n",
       "...\n",
       "        8055.86461115,  1285.85059149,  2730.50301983,   452.20423054,\n",
       "         781.7992713 ,   806.97816975,  2359.32270156,  2871.80688786,\n",
       "        6389.29949459,  3184.13994093, 13789.46586713,  4010.134508  ,\n",
       "        2861.93606766,  4850.33176259,  1235.45479185,  9045.54603664,\n",
       "        1039.52504412, 16291.85120747,  4351.00005236,   291.90429552,\n",
       "        4963.32004977,  6189.9154478 ,  2034.53352921,  6412.16057927,\n",
       "        3922.56560934,  4931.75564467,  5800.88174765,  8951.33138068,\n",
       "        1318.46031101,  7749.18791636,  5437.6217588 ,  6174.79480238,\n",
       "        9388.74729509,  1171.01808819,  2152.19946903,  6235.78630804,\n",
       "        8431.93650808,  2938.61736688, 10955.839855  , 11119.35192354,\n",
       "         842.41086339,   570.52016557, 14698.08596587,  4410.85860228,\n",
       "        6197.40461737,  1746.89326644,   162.60922057,   584.18944707,\n",
       "        4441.13289722,  1828.18958566,  2017.91849689,  4672.28231805,\n",
       "        4532.39922448, 13236.16327417,  3346.46456741,  3235.95003804,\n",
       "        1526.24814976,  3663.46911333,  3073.46920881,  1451.18540625,\n",
       "        1411.58876395,  2708.1029145 ,  2657.19788288,  2413.06209981,\n",
       "        2468.19353408,  3431.76009511,   648.03304721,  6317.43520991,\n",
       "        1163.65483681, 10880.37640558,  7540.80684475,  2330.71050273,\n",
       "         221.65373421,   430.7445971 , 24039.7859169 ,  5917.52343026,\n",
       "        1798.85322788,  1497.55963128,  2055.44932504])</pre></div></li><li class='xr-var-item'><div class='xr-var-name'><span>geneslop2k-vm23_end</span></div><div class='xr-var-dims'>(geneslop2k-vm23)</div><div class='xr-var-dtype'>int64</div><div class='xr-var-preview xr-preview'>110623380 35038716 ... 43306172</div><input id='attrs-9953ea16-10a3-42dc-a10b-b4450ae2615e' class='xr-var-attrs-in' type='checkbox' disabled><label for='attrs-9953ea16-10a3-42dc-a10b-b4450ae2615e' title='Show/Hide attributes'><svg class='icon xr-icon-file-text2'><use xlink:href='#icon-file-text2'></use></svg></label><input id='data-bb28bede-98ab-420c-b3eb-7f5e623ca07c' class='xr-var-data-in' type='checkbox'><label for='data-bb28bede-98ab-420c-b3eb-7f5e623ca07c' title='Show/Hide data repr'><svg class='icon xr-icon-database'><use xlink:href='#icon-database'></use></svg></label><div class='xr-var-attrs'><dl class='xr-attrs'></dl></div><div class='xr-var-data'><pre>array([110623380,  35038716,  54074175,  47859637, 137172497, 188216885,\n",
       "       179901373, 106396250, 134272158,  42631028,  92167170,  57145437,\n",
       "        86720283,  66527964, 157318445,   5777467,  37794570, 175494500,\n",
       "        84419382,  66971640,  86351506, 140673469, 125716173,  12303922,\n",
       "        85349066,  47990969, 112884717,  65427472,  60199179,  71729838,\n",
       "        48838222,  14600051,  28599397, 112469024,  29526793,  41106592,\n",
       "       115284006,  29693209,  88720513,  56298551, 121674954,  77981699,\n",
       "       120008782,  32590192,  12994650, 101611191, 127614286,  26897580,\n",
       "        24016491,  21450569,  20812713,  43176530, 123743204,  69110059,\n",
       "       177260203, 176277312,  45119395,  28969499,  51422044,  24994578,\n",
       "        55522803,  48283575, 166157663, 102787642, 136175511,  51585918,\n",
       "        40533630, 148992555,  11153056,  64402987,  67622908,  71655200,\n",
       "        78213961,  12585013, 117675580, 117027537, 136837988,  65888596,\n",
       "        94572531, 127490336,  56980650,  93203759, 121809087, 120888733,\n",
       "        24318398,  82707750, 167641623, 104746844,  69390246,  29965141,\n",
       "        20780866, 100446765,   4577553,  40848874,  53674720,  83093268,\n",
       "        45755712,  35537038,  51151111,  36107408, 135688293,  87232477,\n",
       "       117761737,  48088447,  12108945,  78199134, 102609259,  44397953,\n",
       "        63866175, 109300129,  67356457,  85584473,   9892034,  91402785,\n",
       "       111569230,  64924296, 130601877, 138909905, 109177207,  38666955,\n",
       "...\n",
       "        41163697, 101276795, 112237938, 114485296, 107892064,  74651737,\n",
       "        58135230,  99731065,  76325856,  46500525,  73970966,  72353069,\n",
       "        73048095, 142171425, 108963630, 108345928, 100487942, 129701844,\n",
       "       119326921,  39877211,  55270885,  17839632,  68628481,  28931673,\n",
       "         5608131,  54078609,  56927548,  95894483,  36953747, 140323552,\n",
       "        60833581, 119240802,  40257150, 159933729,  70491972,  17537586,\n",
       "        10636742,  21475445,   6546169,  33950831, 128164547,  89623253,\n",
       "        67997638, 116593817,  21731805, 125571808,   7511563, 101379897,\n",
       "        14258689,   8520825, 173278533,  57910332, 100941540, 142217586,\n",
       "       146904472,  70368735,  12272902,  16821156,  67773153,  15725750,\n",
       "       139581652,  99418471,  59135970,  89899617, 118450222,  23277597,\n",
       "        92773819,  76150564,  48807505,  84541002,  56132070,  77821639,\n",
       "        58412355, 106870356, 128569656, 128435077, 125915101,  44237912,\n",
       "       117978544,  98171765,  74413825,  70981838,   4140819,  34655486,\n",
       "        36836397,   8682741, 120852128,  53348159,  87761364,  96913093,\n",
       "       152670360,  49099588,  16859094,  50192674, 116067839, 121012092,\n",
       "       139976722,   7305315,  15151794, 134764593,  54320471, 125509993,\n",
       "        65714326, 108862615,  55503451,  35710507,  50680646, 128505363,\n",
       "       127733768, 112491943,   7413526,   5377682, 101465059,  79739880,\n",
       "        43306172])</pre></div></li><li class='xr-var-item'><div class='xr-var-name'><span>geneslop2k-vm23_start</span></div><div class='xr-var-dims'>(geneslop2k-vm23)</div><div class='xr-var-dtype'>int64</div><div class='xr-var-preview xr-preview'>110542355 34483894 ... 43193245</div><input id='attrs-7cb59cb7-dba9-4e96-bbe1-37755adbec95' class='xr-var-attrs-in' type='checkbox' disabled><label for='attrs-7cb59cb7-dba9-4e96-bbe1-37755adbec95' title='Show/Hide attributes'><svg class='icon xr-icon-file-text2'><use xlink:href='#icon-file-text2'></use></svg></label><input id='data-a7b57018-81a7-41c5-8679-66876cdac8ec' class='xr-var-data-in' type='checkbox'><label for='data-a7b57018-81a7-41c5-8679-66876cdac8ec' title='Show/Hide data repr'><svg class='icon xr-icon-database'><use xlink:href='#icon-database'></use></svg></label><div class='xr-var-attrs'><dl class='xr-attrs'></dl></div><div class='xr-var-data'><pre>array([110542355,  34483894,  53246677,  47528173, 137052825, 187606791,\n",
       "       179440431, 106169752, 134033700,  42417757,  92069037,  56989972,\n",
       "        86709110,  66209725, 156559794,   5589860,  37364175, 175057087,\n",
       "        84052761,  66927318,  86298372, 140648914, 125488700,  12104632,\n",
       "        85309244,  46894253, 112568043,  65398673,  59636540,  71429609,\n",
       "        48652297,  14446150,  28072820, 112269121,  29344819,  40653035,\n",
       "       115132902,  29080023,  88337382,  56286643, 121640716,  76879637,\n",
       "       119940763,  32142268,  12864549, 101440360, 127061893,  26538459,\n",
       "        23287431,  21050574,  19907780,  43000500, 123261996,  68030186,\n",
       "       177018073, 175960306,  44981632,  28811131,  51115733,  24391507,\n",
       "        55305750,  48118823, 166071089, 102630095, 135711233,  51287920,\n",
       "        40254962, 148813583,  11088202,  64338020,  66653421,  71583520,\n",
       "        75939238,  12331819, 117378979, 116852820, 136645539,  65870820,\n",
       "        94530990, 127203015,  56791981,  93185548, 121543529, 120602109,\n",
       "        24095996,  82288173, 167596384, 103617359,  68651786,  28992750,\n",
       "        20116874, 100093791,   4373491,  40443952,  53564861,  82861356,\n",
       "        45424628,  35495974,  51128438,  36079953, 135535481,  86981124,\n",
       "       117514479,  48043153,  11551102,  78099267, 102085543,  43746824,\n",
       "        63541534, 109223355,  66664947,  85533437,   9855078,  91248763,\n",
       "       110643581,  64695084, 130129501, 138740195, 109136572,  38175326,\n",
       "...\n",
       "        41009098, 101252269, 112063091, 114395936, 107722617,  73097342,\n",
       "        57715967,  99215426,  76223880,  46385706,  73477422,  71251634,\n",
       "        72306306, 141835136, 107940644, 107931387,  99770765, 129684565,\n",
       "       118281733,  39730118,  54833498,  17430319,  68062802,  28824176,\n",
       "         5586466,  53902785,  56759716,  95625174,  35704647, 140006689,\n",
       "        60760593, 119156022,  39869461, 159521769,  70362910,  15890537,\n",
       "        10151911,  21389307,   6416731,  33922593, 128124038,  89572020,\n",
       "        67838396, 116437275,  21213503, 125416063,   6537694, 101147609,\n",
       "        14023276,   8202756, 173222458,  57419195, 100883098, 141239490,\n",
       "       146492760,  70349944,  11982113,  16428839,  67659502,  15285254,\n",
       "       139387109,  99022471,  58804569,  89452806, 118378717,  22744059,\n",
       "        92394881,  75818178,  48204025,  84441563,  55938460,  77408634,\n",
       "        57767570, 106691269, 127985857, 127779630, 125865622,  44194135,\n",
       "       116923315,  97784853,  73889839,  70888120,   4131531,  34625834,\n",
       "        36504814,   8542142, 120714154,  53062038,  87542299,  96169246,\n",
       "       152460815,  48930379,  16726756,  49990257, 115861064, 120938499,\n",
       "       139905943,   7168115,  14950245, 134644677,  54154035, 125298594,\n",
       "        65669590, 108423192,  55449978,  35119224,  50141299, 128356604,\n",
       "       127722478, 112471683,   5883355,   5075472, 101375083,  79639611,\n",
       "        43193245])</pre></div></li><li class='xr-var-item'><div class='xr-var-name'><span class='xr-has-index'>mc_type</span></div><div class='xr-var-dims'>(mc_type)</div><div class='xr-var-dtype'>&lt;U3</div><div class='xr-var-preview xr-preview'>&#x27;CGN&#x27; &#x27;CHN&#x27;</div><input id='attrs-cdc5c90a-4683-476e-89a5-a03495176a63' class='xr-var-attrs-in' type='checkbox' disabled><label for='attrs-cdc5c90a-4683-476e-89a5-a03495176a63' title='Show/Hide attributes'><svg class='icon xr-icon-file-text2'><use xlink:href='#icon-file-text2'></use></svg></label><input id='data-b0de821e-4d0e-4d6b-acbd-5990b6b5aa34' class='xr-var-data-in' type='checkbox'><label for='data-b0de821e-4d0e-4d6b-acbd-5990b6b5aa34' title='Show/Hide data repr'><svg class='icon xr-icon-database'><use xlink:href='#icon-database'></use></svg></label><div class='xr-var-attrs'><dl class='xr-attrs'></dl></div><div class='xr-var-data'><pre>array([&#x27;CGN&#x27;, &#x27;CHN&#x27;], dtype=&#x27;&lt;U3&#x27;)</pre></div></li></ul></div></li><li class='xr-section-item'><input id='section-8984fafd-9aef-4265-a21e-78fb294c6485' class='xr-section-summary-in' type='checkbox'  checked><label for='section-8984fafd-9aef-4265-a21e-78fb294c6485' class='xr-section-summary' >Data variables: <span>(2)</span></label><div class='xr-section-inline-details'></div><div class='xr-section-details'><ul class='xr-var-list'><li class='xr-var-item'><div class='xr-var-name'><span>geneslop2k-vm23_da</span></div><div class='xr-var-dims'>(cell, geneslop2k-vm23, mc_type, count_type)</div><div class='xr-var-dtype'>uint16</div><div class='xr-var-preview xr-preview'>dask.array&lt;chunksize=(1000, 487, 1, 1), meta=np.ndarray&gt;</div><input id='attrs-f5287cb1-4885-49af-a7d5-991e7f48276a' class='xr-var-attrs-in' type='checkbox' disabled><label for='attrs-f5287cb1-4885-49af-a7d5-991e7f48276a' title='Show/Hide attributes'><svg class='icon xr-icon-file-text2'><use xlink:href='#icon-file-text2'></use></svg></label><input id='data-7084e6c2-c5f1-4ba3-8db0-01186cc0990d' class='xr-var-data-in' type='checkbox'><label for='data-7084e6c2-c5f1-4ba3-8db0-01186cc0990d' title='Show/Hide data repr'><svg class='icon xr-icon-database'><use xlink:href='#icon-database'></use></svg></label><div class='xr-var-attrs'><dl class='xr-attrs'></dl></div><div class='xr-var-data'><table>\n",
       "    <tr>\n",
       "        <td>\n",
       "            <table>\n",
       "                <thead>\n",
       "                    <tr>\n",
       "                        <td> </td>\n",
       "                        <th> Array </th>\n",
       "                        <th> Chunk </th>\n",
       "                    </tr>\n",
       "                </thead>\n",
       "                <tbody>\n",
       "                    \n",
       "                    <tr>\n",
       "                        <th> Bytes </th>\n",
       "                        <td> 111.48 MiB </td>\n",
       "                        <td> 0.93 MiB </td>\n",
       "                    </tr>\n",
       "                    \n",
       "                    <tr>\n",
       "                        <th> Shape </th>\n",
       "                        <td> (30004, 487, 2, 2) </td>\n",
       "                        <td> (1000, 487, 1, 1) </td>\n",
       "                    </tr>\n",
       "                    <tr>\n",
       "                        <th> Count </th>\n",
       "                        <td> 249 Tasks </td>\n",
       "                        <td> 124 Chunks </td>\n",
       "                    </tr>\n",
       "                    <tr>\n",
       "                    <th> Type </th>\n",
       "                    <td> uint16 </td>\n",
       "                    <td> numpy.ndarray </td>\n",
       "                    </tr>\n",
       "                </tbody>\n",
       "            </table>\n",
       "        </td>\n",
       "        <td>\n",
       "        <svg width=\"471\" height=\"91\" style=\"stroke:rgb(0,0,0);stroke-width:1\" >\n",
       "\n",
       "  <!-- Horizontal lines -->\n",
       "  <line x1=\"0\" y1=\"0\" x2=\"120\" y2=\"0\" style=\"stroke-width:2\" />\n",
       "  <line x1=\"0\" y1=\"25\" x2=\"120\" y2=\"25\" style=\"stroke-width:2\" />\n",
       "\n",
       "  <!-- Vertical lines -->\n",
       "  <line x1=\"0\" y1=\"0\" x2=\"0\" y2=\"25\" style=\"stroke-width:2\" />\n",
       "  <line x1=\"3\" y1=\"0\" x2=\"3\" y2=\"25\" />\n",
       "  <line x1=\"7\" y1=\"0\" x2=\"7\" y2=\"25\" />\n",
       "  <line x1=\"11\" y1=\"0\" x2=\"11\" y2=\"25\" />\n",
       "  <line x1=\"15\" y1=\"0\" x2=\"15\" y2=\"25\" />\n",
       "  <line x1=\"19\" y1=\"0\" x2=\"19\" y2=\"25\" />\n",
       "  <line x1=\"23\" y1=\"0\" x2=\"23\" y2=\"25\" />\n",
       "  <line x1=\"27\" y1=\"0\" x2=\"27\" y2=\"25\" />\n",
       "  <line x1=\"31\" y1=\"0\" x2=\"31\" y2=\"25\" />\n",
       "  <line x1=\"35\" y1=\"0\" x2=\"35\" y2=\"25\" />\n",
       "  <line x1=\"39\" y1=\"0\" x2=\"39\" y2=\"25\" />\n",
       "  <line x1=\"43\" y1=\"0\" x2=\"43\" y2=\"25\" />\n",
       "  <line x1=\"47\" y1=\"0\" x2=\"47\" y2=\"25\" />\n",
       "  <line x1=\"51\" y1=\"0\" x2=\"51\" y2=\"25\" />\n",
       "  <line x1=\"55\" y1=\"0\" x2=\"55\" y2=\"25\" />\n",
       "  <line x1=\"59\" y1=\"0\" x2=\"59\" y2=\"25\" />\n",
       "  <line x1=\"63\" y1=\"0\" x2=\"63\" y2=\"25\" />\n",
       "  <line x1=\"67\" y1=\"0\" x2=\"67\" y2=\"25\" />\n",
       "  <line x1=\"71\" y1=\"0\" x2=\"71\" y2=\"25\" />\n",
       "  <line x1=\"75\" y1=\"0\" x2=\"75\" y2=\"25\" />\n",
       "  <line x1=\"79\" y1=\"0\" x2=\"79\" y2=\"25\" />\n",
       "  <line x1=\"83\" y1=\"0\" x2=\"83\" y2=\"25\" />\n",
       "  <line x1=\"87\" y1=\"0\" x2=\"87\" y2=\"25\" />\n",
       "  <line x1=\"91\" y1=\"0\" x2=\"91\" y2=\"25\" />\n",
       "  <line x1=\"95\" y1=\"0\" x2=\"95\" y2=\"25\" />\n",
       "  <line x1=\"99\" y1=\"0\" x2=\"99\" y2=\"25\" />\n",
       "  <line x1=\"103\" y1=\"0\" x2=\"103\" y2=\"25\" />\n",
       "  <line x1=\"107\" y1=\"0\" x2=\"107\" y2=\"25\" />\n",
       "  <line x1=\"111\" y1=\"0\" x2=\"111\" y2=\"25\" />\n",
       "  <line x1=\"115\" y1=\"0\" x2=\"115\" y2=\"25\" />\n",
       "  <line x1=\"119\" y1=\"0\" x2=\"119\" y2=\"25\" />\n",
       "  <line x1=\"120\" y1=\"0\" x2=\"120\" y2=\"25\" style=\"stroke-width:2\" />\n",
       "\n",
       "  <!-- Colored Rectangle -->\n",
       "  <polygon points=\"0.0,0.0 120.0,0.0 120.0,25.412616514582485 0.0,25.412616514582485\" style=\"fill:#ECB172A0;stroke-width:0\"/>\n",
       "\n",
       "  <!-- Text -->\n",
       "  <text x=\"60.000000\" y=\"45.412617\" font-size=\"1.0rem\" font-weight=\"100\" text-anchor=\"middle\" >30004</text>\n",
       "  <text x=\"140.000000\" y=\"12.706308\" font-size=\"1.0rem\" font-weight=\"100\" text-anchor=\"middle\" transform=\"rotate(0,140.000000,12.706308)\">1</text>\n",
       "\n",
       "\n",
       "  <!-- Horizontal lines -->\n",
       "  <line x1=\"190\" y1=\"0\" x2=\"206\" y2=\"16\" style=\"stroke-width:2\" />\n",
       "  <line x1=\"190\" y1=\"12\" x2=\"206\" y2=\"29\" />\n",
       "  <line x1=\"190\" y1=\"25\" x2=\"206\" y2=\"41\" style=\"stroke-width:2\" />\n",
       "\n",
       "  <!-- Vertical lines -->\n",
       "  <line x1=\"190\" y1=\"0\" x2=\"190\" y2=\"25\" style=\"stroke-width:2\" />\n",
       "  <line x1=\"206\" y1=\"16\" x2=\"206\" y2=\"41\" style=\"stroke-width:2\" />\n",
       "\n",
       "  <!-- Colored Rectangle -->\n",
       "  <polygon points=\"190.0,0.0 206.39985677938472,16.399856779384734 206.39985677938472,41.812473293967216 190.0,25.412616514582485\" style=\"fill:#ECB172A0;stroke-width:0\"/>\n",
       "\n",
       "  <!-- Horizontal lines -->\n",
       "  <line x1=\"190\" y1=\"0\" x2=\"215\" y2=\"0\" style=\"stroke-width:2\" />\n",
       "  <line x1=\"206\" y1=\"16\" x2=\"231\" y2=\"16\" style=\"stroke-width:2\" />\n",
       "\n",
       "  <!-- Vertical lines -->\n",
       "  <line x1=\"190\" y1=\"0\" x2=\"206\" y2=\"16\" style=\"stroke-width:2\" />\n",
       "  <line x1=\"202\" y1=\"0\" x2=\"219\" y2=\"16\" />\n",
       "  <line x1=\"215\" y1=\"0\" x2=\"231\" y2=\"16\" style=\"stroke-width:2\" />\n",
       "\n",
       "  <!-- Colored Rectangle -->\n",
       "  <polygon points=\"190.0,0.0 215.41261651458248,0.0 231.81247329396723,16.399856779384734 206.39985677938472,16.399856779384734\" style=\"fill:#ECB172A0;stroke-width:0\"/>\n",
       "\n",
       "  <!-- Horizontal lines -->\n",
       "  <line x1=\"206\" y1=\"16\" x2=\"231\" y2=\"16\" style=\"stroke-width:2\" />\n",
       "  <line x1=\"206\" y1=\"29\" x2=\"231\" y2=\"29\" />\n",
       "  <line x1=\"206\" y1=\"41\" x2=\"231\" y2=\"41\" style=\"stroke-width:2\" />\n",
       "\n",
       "  <!-- Vertical lines -->\n",
       "  <line x1=\"206\" y1=\"16\" x2=\"206\" y2=\"41\" style=\"stroke-width:2\" />\n",
       "  <line x1=\"219\" y1=\"16\" x2=\"219\" y2=\"41\" />\n",
       "  <line x1=\"231\" y1=\"16\" x2=\"231\" y2=\"41\" style=\"stroke-width:2\" />\n",
       "\n",
       "  <!-- Colored Rectangle -->\n",
       "  <polygon points=\"206.39985677938472,16.399856779384734 231.8124732939672,16.399856779384734 231.8124732939672,41.812473293967216 206.39985677938472,41.812473293967216\" style=\"fill:#ECB172A0;stroke-width:0\"/>\n",
       "\n",
       "  <!-- Text -->\n",
       "  <text x=\"219.106165\" y=\"61.812473\" font-size=\"1.0rem\" font-weight=\"100\" text-anchor=\"middle\" >2</text>\n",
       "  <text x=\"251.812473\" y=\"29.106165\" font-size=\"1.0rem\" font-weight=\"100\" text-anchor=\"middle\" transform=\"rotate(0,251.812473,29.106165)\">2</text>\n",
       "  <text x=\"188.199928\" y=\"53.612545\" font-size=\"1.0rem\" font-weight=\"100\" text-anchor=\"middle\" transform=\"rotate(45,188.199928,53.612545)\">487</text>\n",
       "</svg>\n",
       "        </td>\n",
       "    </tr>\n",
       "</table></div></li><li class='xr-var-item'><div class='xr-var-name'><span>geneslop2k-vm23_da_frac</span></div><div class='xr-var-dims'>(cell, geneslop2k-vm23, mc_type)</div><div class='xr-var-dtype'>float32</div><div class='xr-var-preview xr-preview'>dask.array&lt;chunksize=(1000, 487, 1), meta=np.ndarray&gt;</div><input id='attrs-f3610b6b-958f-4609-8efd-34e8f5ea10df' class='xr-var-attrs-in' type='checkbox' disabled><label for='attrs-f3610b6b-958f-4609-8efd-34e8f5ea10df' title='Show/Hide attributes'><svg class='icon xr-icon-file-text2'><use xlink:href='#icon-file-text2'></use></svg></label><input id='data-f3236957-496c-495b-b79c-1be6694b144b' class='xr-var-data-in' type='checkbox'><label for='data-f3236957-496c-495b-b79c-1be6694b144b' title='Show/Hide data repr'><svg class='icon xr-icon-database'><use xlink:href='#icon-database'></use></svg></label><div class='xr-var-attrs'><dl class='xr-attrs'></dl></div><div class='xr-var-data'><table>\n",
       "    <tr>\n",
       "        <td>\n",
       "            <table>\n",
       "                <thead>\n",
       "                    <tr>\n",
       "                        <td> </td>\n",
       "                        <th> Array </th>\n",
       "                        <th> Chunk </th>\n",
       "                    </tr>\n",
       "                </thead>\n",
       "                <tbody>\n",
       "                    \n",
       "                    <tr>\n",
       "                        <th> Bytes </th>\n",
       "                        <td> 111.48 MiB </td>\n",
       "                        <td> 1.86 MiB </td>\n",
       "                    </tr>\n",
       "                    \n",
       "                    <tr>\n",
       "                        <th> Shape </th>\n",
       "                        <td> (30004, 487, 2) </td>\n",
       "                        <td> (1000, 487, 1) </td>\n",
       "                    </tr>\n",
       "                    <tr>\n",
       "                        <th> Count </th>\n",
       "                        <td> 125 Tasks </td>\n",
       "                        <td> 62 Chunks </td>\n",
       "                    </tr>\n",
       "                    <tr>\n",
       "                    <th> Type </th>\n",
       "                    <td> float32 </td>\n",
       "                    <td> numpy.ndarray </td>\n",
       "                    </tr>\n",
       "                </tbody>\n",
       "            </table>\n",
       "        </td>\n",
       "        <td>\n",
       "        <svg width=\"156\" height=\"148\" style=\"stroke:rgb(0,0,0);stroke-width:1\" >\n",
       "\n",
       "  <!-- Horizontal lines -->\n",
       "  <line x1=\"10\" y1=\"0\" x2=\"80\" y2=\"70\" style=\"stroke-width:2\" />\n",
       "  <line x1=\"10\" y1=\"27\" x2=\"80\" y2=\"98\" style=\"stroke-width:2\" />\n",
       "\n",
       "  <!-- Vertical lines -->\n",
       "  <line x1=\"10\" y1=\"0\" x2=\"10\" y2=\"27\" style=\"stroke-width:2\" />\n",
       "  <line x1=\"12\" y1=\"2\" x2=\"12\" y2=\"30\" />\n",
       "  <line x1=\"17\" y1=\"7\" x2=\"17\" y2=\"34\" />\n",
       "  <line x1=\"19\" y1=\"9\" x2=\"19\" y2=\"37\" />\n",
       "  <line x1=\"24\" y1=\"14\" x2=\"24\" y2=\"41\" />\n",
       "  <line x1=\"28\" y1=\"18\" x2=\"28\" y2=\"46\" />\n",
       "  <line x1=\"31\" y1=\"21\" x2=\"31\" y2=\"49\" />\n",
       "  <line x1=\"35\" y1=\"25\" x2=\"35\" y2=\"53\" />\n",
       "  <line x1=\"40\" y1=\"30\" x2=\"40\" y2=\"58\" />\n",
       "  <line x1=\"42\" y1=\"32\" x2=\"42\" y2=\"60\" />\n",
       "  <line x1=\"47\" y1=\"37\" x2=\"47\" y2=\"65\" />\n",
       "  <line x1=\"49\" y1=\"39\" x2=\"49\" y2=\"67\" />\n",
       "  <line x1=\"54\" y1=\"44\" x2=\"54\" y2=\"72\" />\n",
       "  <line x1=\"59\" y1=\"49\" x2=\"59\" y2=\"77\" />\n",
       "  <line x1=\"61\" y1=\"51\" x2=\"61\" y2=\"79\" />\n",
       "  <line x1=\"66\" y1=\"56\" x2=\"66\" y2=\"84\" />\n",
       "  <line x1=\"71\" y1=\"61\" x2=\"71\" y2=\"89\" />\n",
       "  <line x1=\"73\" y1=\"63\" x2=\"73\" y2=\"91\" />\n",
       "  <line x1=\"78\" y1=\"68\" x2=\"78\" y2=\"96\" />\n",
       "  <line x1=\"80\" y1=\"70\" x2=\"80\" y2=\"98\" style=\"stroke-width:2\" />\n",
       "\n",
       "  <!-- Colored Rectangle -->\n",
       "  <polygon points=\"10.0,0.0 80.58823529411765,70.58823529411765 80.58823529411765,98.4679918190717 10.0,27.879756524954047\" style=\"fill:#8B4903A0;stroke-width:0\"/>\n",
       "\n",
       "  <!-- Horizontal lines -->\n",
       "  <line x1=\"10\" y1=\"0\" x2=\"35\" y2=\"0\" style=\"stroke-width:2\" />\n",
       "  <line x1=\"12\" y1=\"2\" x2=\"37\" y2=\"2\" />\n",
       "  <line x1=\"17\" y1=\"7\" x2=\"42\" y2=\"7\" />\n",
       "  <line x1=\"19\" y1=\"9\" x2=\"44\" y2=\"9\" />\n",
       "  <line x1=\"24\" y1=\"14\" x2=\"49\" y2=\"14\" />\n",
       "  <line x1=\"28\" y1=\"18\" x2=\"54\" y2=\"18\" />\n",
       "  <line x1=\"31\" y1=\"21\" x2=\"56\" y2=\"21\" />\n",
       "  <line x1=\"35\" y1=\"25\" x2=\"61\" y2=\"25\" />\n",
       "  <line x1=\"40\" y1=\"30\" x2=\"65\" y2=\"30\" />\n",
       "  <line x1=\"42\" y1=\"32\" x2=\"68\" y2=\"32\" />\n",
       "  <line x1=\"47\" y1=\"37\" x2=\"73\" y2=\"37\" />\n",
       "  <line x1=\"49\" y1=\"39\" x2=\"75\" y2=\"39\" />\n",
       "  <line x1=\"54\" y1=\"44\" x2=\"80\" y2=\"44\" />\n",
       "  <line x1=\"59\" y1=\"49\" x2=\"84\" y2=\"49\" />\n",
       "  <line x1=\"61\" y1=\"51\" x2=\"87\" y2=\"51\" />\n",
       "  <line x1=\"66\" y1=\"56\" x2=\"91\" y2=\"56\" />\n",
       "  <line x1=\"71\" y1=\"61\" x2=\"96\" y2=\"61\" />\n",
       "  <line x1=\"73\" y1=\"63\" x2=\"98\" y2=\"63\" />\n",
       "  <line x1=\"78\" y1=\"68\" x2=\"103\" y2=\"68\" />\n",
       "  <line x1=\"80\" y1=\"70\" x2=\"106\" y2=\"70\" style=\"stroke-width:2\" />\n",
       "\n",
       "  <!-- Vertical lines -->\n",
       "  <line x1=\"10\" y1=\"0\" x2=\"80\" y2=\"70\" style=\"stroke-width:2\" />\n",
       "  <line x1=\"22\" y1=\"0\" x2=\"93\" y2=\"70\" />\n",
       "  <line x1=\"35\" y1=\"0\" x2=\"106\" y2=\"70\" style=\"stroke-width:2\" />\n",
       "\n",
       "  <!-- Colored Rectangle -->\n",
       "  <polygon points=\"10.0,0.0 35.41261651458248,0.0 106.00085180870013,70.58823529411765 80.58823529411765,70.58823529411765\" style=\"fill:#8B4903A0;stroke-width:0\"/>\n",
       "\n",
       "  <!-- Horizontal lines -->\n",
       "  <line x1=\"80\" y1=\"70\" x2=\"106\" y2=\"70\" style=\"stroke-width:2\" />\n",
       "  <line x1=\"80\" y1=\"98\" x2=\"106\" y2=\"98\" style=\"stroke-width:2\" />\n",
       "\n",
       "  <!-- Vertical lines -->\n",
       "  <line x1=\"80\" y1=\"70\" x2=\"80\" y2=\"98\" style=\"stroke-width:2\" />\n",
       "  <line x1=\"93\" y1=\"70\" x2=\"93\" y2=\"98\" />\n",
       "  <line x1=\"106\" y1=\"70\" x2=\"106\" y2=\"98\" style=\"stroke-width:2\" />\n",
       "\n",
       "  <!-- Colored Rectangle -->\n",
       "  <polygon points=\"80.58823529411765,70.58823529411765 106.00085180870013,70.58823529411765 106.00085180870013,98.4679918190717 80.58823529411765,98.4679918190717\" style=\"fill:#ECB172A0;stroke-width:0\"/>\n",
       "\n",
       "  <!-- Text -->\n",
       "  <text x=\"93.294544\" y=\"118.467992\" font-size=\"1.0rem\" font-weight=\"100\" text-anchor=\"middle\" >2</text>\n",
       "  <text x=\"126.000852\" y=\"84.528114\" font-size=\"1.0rem\" font-weight=\"100\" text-anchor=\"middle\" transform=\"rotate(-90,126.000852,84.528114)\">487</text>\n",
       "  <text x=\"35.294118\" y=\"83.173874\" font-size=\"1.0rem\" font-weight=\"100\" text-anchor=\"middle\" transform=\"rotate(45,35.294118,83.173874)\">30004</text>\n",
       "</svg>\n",
       "        </td>\n",
       "    </tr>\n",
       "</table></div></li></ul></div></li><li class='xr-section-item'><input id='section-2809cb5c-ed56-4779-a808-4af352a6803d' class='xr-section-summary-in' type='checkbox'  checked><label for='section-2809cb5c-ed56-4779-a808-4af352a6803d' class='xr-section-summary' >Attributes: <span>(2)</span></label><div class='xr-section-inline-details'></div><div class='xr-section-details'><dl class='xr-attrs'><dt><span>obs_dim :</span></dt><dd>cell</dd><dt><span>var_dim :</span></dt><dd>geneslop2k-vm23</dd></dl></div></li></ul></div></div>"
      ],
      "text/plain": [
       "<xarray.MCDS>\n",
       "Dimensions:                   (cell: 30004, count_type: 2, geneslop2k-vm23: 487, mc_type: 2)\n",
       "Coordinates:\n",
       "  * cell                      (cell) <U15 '3A_M_2344' ... '4H_M_2027'\n",
       "  * count_type                (count_type) <U3 'mc' 'cov'\n",
       "  * geneslop2k-vm23           (geneslop2k-vm23) <U18 'ENSMUSG00000033316' ......\n",
       "    geneslop2k-vm23_chrom     (geneslop2k-vm23) <U5 'chr5' 'chr9' ... 'chr13'\n",
       "    geneslop2k-vm23_cov_mean  (geneslop2k-vm23) float64 1.644e+03 ... 2.055e+03\n",
       "    geneslop2k-vm23_end       (geneslop2k-vm23) int64 110623380 ... 43306172\n",
       "    geneslop2k-vm23_start     (geneslop2k-vm23) int64 110542355 ... 43193245\n",
       "  * mc_type                   (mc_type) <U3 'CGN' 'CHN'\n",
       "Data variables:\n",
       "    geneslop2k-vm23_da        (cell, geneslop2k-vm23, mc_type, count_type) uint16 dask.array<chunksize=(1000, 487, 1, 1), meta=np.ndarray>\n",
       "    geneslop2k-vm23_da_frac   (cell, geneslop2k-vm23, mc_type) float32 dask.array<chunksize=(1000, 487, 1), meta=np.ndarray>\n",
       "Attributes:\n",
       "    obs_dim:  cell\n",
       "    var_dim:  geneslop2k-vm23"
      ]
     },
     "execution_count": 8,
     "metadata": {},
     "output_type": "execute_result"
    }
   ],
   "source": [
    "mcds = MCDS.open(cemba.CEMBA_SNMC_MCDS_PATH, var_dim=var_dim,use_obs=use_cells) \n",
    "mcds = mcds.sel({'geneslop2k-vm23':merfish_genes})\n",
    "mcds"
   ]
  },
  {
   "cell_type": "code",
   "execution_count": 9,
   "id": "5477c5cd-05fb-4a73-9482-7dbc3e00c016",
   "metadata": {
    "ExecuteTime": {
     "end_time": "2022-06-25T18:39:20.211422Z",
     "start_time": "2022-06-25T18:29:28.677571Z"
    },
    "execution": {
     "iopub.execute_input": "2023-02-27T04:03:44.363357Z",
     "iopub.status.busy": "2023-02-27T04:03:44.363115Z",
     "iopub.status.idle": "2023-02-27T04:06:07.820422Z",
     "shell.execute_reply": "2023-02-27T04:06:07.819040Z"
    },
    "papermill": {
     "duration": 143.467037,
     "end_time": "2023-02-27T04:06:07.823798",
     "exception": false,
     "start_time": "2023-02-27T04:03:44.356761",
     "status": "completed"
    },
    "tags": []
   },
   "outputs": [],
   "source": [
    "adata = mcds.get_adata(mc_type=mc_type,\n",
    "                       select_hvf=False,\n",
    "                       split_large_chunks=False)"
   ]
  },
  {
   "cell_type": "code",
   "execution_count": 10,
   "id": "c29b8c65-fcee-4da4-a6e6-243cd2694899",
   "metadata": {
    "ExecuteTime": {
     "end_time": "2022-06-25T18:39:20.233409Z",
     "start_time": "2022-06-25T18:39:20.213570Z"
    },
    "execution": {
     "iopub.execute_input": "2023-02-27T04:06:07.898639Z",
     "iopub.status.busy": "2023-02-27T04:06:07.898270Z",
     "iopub.status.idle": "2023-02-27T04:06:07.946014Z",
     "shell.execute_reply": "2023-02-27T04:06:07.944980Z"
    },
    "papermill": {
     "duration": 0.089378,
     "end_time": "2023-02-27T04:06:07.948259",
     "exception": false,
     "start_time": "2023-02-27T04:06:07.858881",
     "status": "completed"
    },
    "tags": []
   },
   "outputs": [],
   "source": [
    "adata.obs[cef_cluster_level] = annot[cef_cluster_level].to_pandas()"
   ]
  },
  {
   "cell_type": "markdown",
   "id": "4aa10f6f-45bc-4bb9-8bd8-f8037c188f18",
   "metadata": {
    "ExecuteTime": {
     "end_time": "2022-06-04T04:56:12.906887Z",
     "start_time": "2022-06-04T04:56:12.373611Z"
    },
    "papermill": {
     "duration": 0.012602,
     "end_time": "2023-02-27T04:06:07.992393",
     "exception": false,
     "start_time": "2023-02-27T04:06:07.979791",
     "status": "completed"
    },
    "tags": []
   },
   "source": [
    "## Basic Feature Filtering"
   ]
  },
  {
   "cell_type": "code",
   "execution_count": 11,
   "id": "70630e8c-34bc-47e6-b504-93feab1ade56",
   "metadata": {
    "ExecuteTime": {
     "end_time": "2022-06-25T18:39:25.144975Z",
     "start_time": "2022-06-25T18:39:20.234891Z"
    },
    "execution": {
     "iopub.execute_input": "2023-02-27T04:06:08.023004Z",
     "iopub.status.busy": "2023-02-27T04:06:08.021888Z",
     "iopub.status.idle": "2023-02-27T04:06:08.097721Z",
     "shell.execute_reply": "2023-02-27T04:06:08.096984Z"
    },
    "papermill": {
     "duration": 0.094289,
     "end_time": "2023-02-27T04:06:08.099512",
     "exception": false,
     "start_time": "2023-02-27T04:06:08.005223",
     "status": "completed"
    },
    "tags": []
   },
   "outputs": [
    {
     "name": "stdout",
     "output_type": "stream",
     "text": [
      "487 regions remained.\n"
     ]
    }
   ],
   "source": [
    "remove_chromosomes(adata, exclude_chromosomes=chrom_to_remove)"
   ]
  },
  {
   "cell_type": "code",
   "execution_count": 12,
   "id": "29ffc871-7354-4416-9cd2-0bb64eae2200",
   "metadata": {
    "ExecuteTime": {
     "end_time": "2022-06-25T18:39:30.446377Z",
     "start_time": "2022-06-25T18:39:25.146189Z"
    },
    "execution": {
     "iopub.execute_input": "2023-02-27T04:06:08.127774Z",
     "iopub.status.busy": "2023-02-27T04:06:08.127451Z",
     "iopub.status.idle": "2023-02-27T04:06:08.131460Z",
     "shell.execute_reply": "2023-02-27T04:06:08.130808Z"
    },
    "papermill": {
     "duration": 0.023083,
     "end_time": "2023-02-27T04:06:08.133123",
     "exception": false,
     "start_time": "2023-02-27T04:06:08.110040",
     "status": "completed"
    },
    "tags": []
   },
   "outputs": [],
   "source": [
    "#remove_black_list_region(adata, black_list_path=mm10.ENCODE_BLACKLIST_PATH)"
   ]
  },
  {
   "cell_type": "code",
   "execution_count": 13,
   "id": "61ed034e-df37-47cc-812f-33f347b3091f",
   "metadata": {
    "ExecuteTime": {
     "end_time": "2022-06-25T18:39:36.004354Z",
     "start_time": "2022-06-25T18:39:30.447816Z"
    },
    "execution": {
     "iopub.execute_input": "2023-02-27T04:06:08.164051Z",
     "iopub.status.busy": "2023-02-27T04:06:08.163574Z",
     "iopub.status.idle": "2023-02-27T04:06:08.263124Z",
     "shell.execute_reply": "2023-02-27T04:06:08.262279Z"
    },
    "papermill": {
     "duration": 0.121692,
     "end_time": "2023-02-27T04:06:08.265970",
     "exception": false,
     "start_time": "2023-02-27T04:06:08.144278",
     "status": "completed"
    },
    "tags": []
   },
   "outputs": [],
   "source": [
    "# remove low std features\n",
    "pass_std_filter = adata.X.std(axis=0) > 0.05\n",
    "adata._inplace_subset_var(pass_std_filter)"
   ]
  },
  {
   "cell_type": "markdown",
   "id": "1bc08452-df94-4041-ae12-9088894f09e2",
   "metadata": {
    "jupyter": {
     "outputs_hidden": false
    },
    "papermill": {
     "duration": 0.010767,
     "end_time": "2023-02-27T04:06:08.287934",
     "exception": false,
     "start_time": "2023-02-27T04:06:08.277167",
     "status": "completed"
    },
    "tags": []
   },
   "source": [
    "## CEF Feature Filtering\n",
    "\n",
    "Cluster enriched feature selection. Use per-cell normalized mC fraction as input, no log transform."
   ]
  },
  {
   "cell_type": "code",
   "execution_count": 14,
   "id": "730c408a-6109-4be1-9de8-612a74dcefe2",
   "metadata": {
    "ExecuteTime": {
     "end_time": "2022-06-25T18:39:52.010498Z",
     "start_time": "2022-06-25T18:39:36.005698Z"
    },
    "execution": {
     "iopub.execute_input": "2023-02-27T04:06:08.312367Z",
     "iopub.status.busy": "2023-02-27T04:06:08.311782Z",
     "iopub.status.idle": "2023-02-27T04:06:27.002903Z",
     "shell.execute_reply": "2023-02-27T04:06:26.999309Z"
    },
    "papermill": {
     "duration": 18.707148,
     "end_time": "2023-02-27T04:06:27.005318",
     "exception": false,
     "start_time": "2023-02-27T04:06:08.298170",
     "status": "completed"
    },
    "tags": []
   },
   "outputs": [
    {
     "name": "stdout",
     "output_type": "stream",
     "text": [
      "Found 1261 clusters to compute feature enrichment score\n",
      "Computing enrichment score\n",
      "Computing enrichment score FDR-corrected P values\n",
      "Selected 448 unique features\n"
     ]
    },
    {
     "data": {
      "image/png": "[encoded data removed]",
      "text/plain": [
       "<Figure size 1080x360 with 3 Axes>"
      ]
     },
     "metadata": {
      "needs_background": "light"
     },
     "output_type": "display_data"
    }
   ],
   "source": [
    "# CEF function take the original mC fraction as input\n",
    "cluster_enriched_features(adata,\n",
    "                          cluster_col=cef_cluster_level,\n",
    "                          top_n=50,\n",
    "                          alpha=0.05,\n",
    "                          stat_plot=True,\n",
    "                          method='mc')"
   ]
  },
  {
   "cell_type": "code",
   "execution_count": 15,
   "id": "61a10adc-1a72-498e-b06c-84401fefa262",
   "metadata": {
    "ExecuteTime": {
     "end_time": "2022-06-25T18:39:52.047713Z",
     "start_time": "2022-06-25T18:39:52.012472Z"
    },
    "execution": {
     "iopub.execute_input": "2023-02-27T04:06:27.029273Z",
     "iopub.status.busy": "2023-02-27T04:06:27.028819Z",
     "iopub.status.idle": "2023-02-27T04:06:27.045389Z",
     "shell.execute_reply": "2023-02-27T04:06:27.044615Z"
    },
    "papermill": {
     "duration": 0.031145,
     "end_time": "2023-02-27T04:06:27.047547",
     "exception": false,
     "start_time": "2023-02-27T04:06:27.016402",
     "status": "completed"
    },
    "tags": []
   },
   "outputs": [],
   "source": [
    "# select CEF only\n",
    "cef = adata.var[f'{cef_cluster_level}_enriched_features'].copy()\n",
    "\n",
    "# add some global CEF to list\n",
    "if global_cef is not None:\n",
    "    global_cef = pd.read_csv(global_cef, header=None, index_col=0).index\n",
    "    cef.loc[cef.index.isin(global_cef)] = True\n",
    "\n",
    "cef.to_csv('mC.CEF.csv', header=None)"
   ]
  },
  {
   "cell_type": "code",
   "execution_count": 16,
   "id": "c1bc6040-d8b7-4993-bfe8-f4610e9352f8",
   "metadata": {
    "execution": {
     "iopub.execute_input": "2023-02-27T04:06:27.069744Z",
     "iopub.status.busy": "2023-02-27T04:06:27.069264Z",
     "iopub.status.idle": "2023-02-27T04:06:27.074666Z",
     "shell.execute_reply": "2023-02-27T04:06:27.074014Z"
    },
    "papermill": {
     "duration": 0.018055,
     "end_time": "2023-02-27T04:06:27.076215",
     "exception": false,
     "start_time": "2023-02-27T04:06:27.058160",
     "status": "completed"
    },
    "tags": []
   },
   "outputs": [
    {
     "data": {
      "text/plain": [
       "448"
      ]
     },
     "execution_count": 16,
     "metadata": {},
     "output_type": "execute_result"
    }
   ],
   "source": [
    "cef.sum()"
   ]
  },
  {
   "cell_type": "code",
   "execution_count": null,
   "id": "fe443f32-62d8-430e-aaa0-b4d2204de1a2",
   "metadata": {
    "papermill": {
     "duration": 0.010182,
     "end_time": "2023-02-27T04:06:27.097012",
     "exception": false,
     "start_time": "2023-02-27T04:06:27.086830",
     "status": "completed"
    },
    "tags": []
   },
   "outputs": [],
   "source": []
  },
  {
   "cell_type": "code",
   "execution_count": null,
   "id": "beed4d32-9dae-4cc1-b57e-e1da6e3d5dfc",
   "metadata": {
    "papermill": {
     "duration": 0.011827,
     "end_time": "2023-02-27T04:06:27.121135",
     "exception": false,
     "start_time": "2023-02-27T04:06:27.109308",
     "status": "completed"
    },
    "tags": []
   },
   "outputs": [],
   "source": []
  },
  {
   "cell_type": "code",
   "execution_count": null,
   "id": "3ef8c4ef-5415-4dfa-89e9-86b03e8917af",
   "metadata": {
    "papermill": {
     "duration": 0.010312,
     "end_time": "2023-02-27T04:06:27.142686",
     "exception": false,
     "start_time": "2023-02-27T04:06:27.132374",
     "status": "completed"
    },
    "tags": []
   },
   "outputs": [],
   "source": []
  },
  {
   "cell_type": "code",
   "execution_count": null,
   "id": "95bc68a3-128b-47a1-a379-a1b0bb813423",
   "metadata": {
    "papermill": {
     "duration": 0.010117,
     "end_time": "2023-02-27T04:06:27.163084",
     "exception": false,
     "start_time": "2023-02-27T04:06:27.152967",
     "status": "completed"
    },
    "tags": []
   },
   "outputs": [],
   "source": []
  },
  {
   "cell_type": "code",
   "execution_count": null,
   "id": "afe6ad0c-7406-4ce3-8dd5-13917035c787",
   "metadata": {
    "papermill": {
     "duration": 0.010979,
     "end_time": "2023-02-27T04:06:27.190098",
     "exception": false,
     "start_time": "2023-02-27T04:06:27.179119",
     "status": "completed"
    },
    "tags": []
   },
   "outputs": [],
   "source": []
  },
  {
   "cell_type": "code",
   "execution_count": null,
   "id": "6b8cd1bc-fdfa-4964-a8ac-9508c516cbc7",
   "metadata": {
    "papermill": {
     "duration": 0.014807,
     "end_time": "2023-02-27T04:06:27.218258",
     "exception": false,
     "start_time": "2023-02-27T04:06:27.203451",
     "status": "completed"
    },
    "tags": []
   },
   "outputs": [],
   "source": []
  },
  {
   "cell_type": "code",
   "execution_count": null,
   "id": "8c269ef2-4beb-4dd9-9f69-d93d4ec1d301",
   "metadata": {
    "papermill": {
     "duration": 0.017436,
     "end_time": "2023-02-27T04:06:27.253705",
     "exception": false,
     "start_time": "2023-02-27T04:06:27.236269",
     "status": "completed"
    },
    "tags": []
   },
   "outputs": [],
   "source": []
  },
  {
   "cell_type": "code",
   "execution_count": null,
   "id": "c580cd55-355b-4407-b379-acfd5c7cd886",
   "metadata": {
    "papermill": {
     "duration": 0.010303,
     "end_time": "2023-02-27T04:06:27.274542",
     "exception": false,
     "start_time": "2023-02-27T04:06:27.264239",
     "status": "completed"
    },
    "tags": []
   },
   "outputs": [],
   "source": []
  },
  {
   "cell_type": "code",
   "execution_count": null,
   "id": "08f3853a-9507-43dc-b8d5-f1b1acf864eb",
   "metadata": {
    "papermill": {
     "duration": 0.010992,
     "end_time": "2023-02-27T04:06:27.296045",
     "exception": false,
     "start_time": "2023-02-27T04:06:27.285053",
     "status": "completed"
    },
    "tags": []
   },
   "outputs": [],
   "source": []
  },
  {
   "cell_type": "code",
   "execution_count": null,
   "id": "cd81063c-eec3-41f2-86e6-ff6e2effec42",
   "metadata": {
    "papermill": {
     "duration": 0.01021,
     "end_time": "2023-02-27T04:06:27.317112",
     "exception": false,
     "start_time": "2023-02-27T04:06:27.306902",
     "status": "completed"
    },
    "tags": []
   },
   "outputs": [],
   "source": []
  },
  {
   "cell_type": "code",
   "execution_count": null,
   "id": "eaabf6ef-c7e9-4051-a1d2-27a7842ea28f",
   "metadata": {
    "papermill": {
     "duration": 0.011331,
     "end_time": "2023-02-27T04:06:27.338413",
     "exception": false,
     "start_time": "2023-02-27T04:06:27.327082",
     "status": "completed"
    },
    "tags": []
   },
   "outputs": [],
   "source": []
  },
  {
   "cell_type": "code",
   "execution_count": null,
   "id": "86f38da5-6e7f-49a7-b4fb-09dacadb9ad2",
   "metadata": {
    "papermill": {
     "duration": 0.013542,
     "end_time": "2023-02-27T04:06:27.408633",
     "exception": false,
     "start_time": "2023-02-27T04:06:27.395091",
     "status": "completed"
    },
    "tags": []
   },
   "outputs": [],
   "source": []
  },
  {
   "cell_type": "code",
   "execution_count": null,
   "id": "17c62d94-5aed-4267-b944-f9c2871f4f31",
   "metadata": {
    "papermill": {
     "duration": 0.010463,
     "end_time": "2023-02-27T04:06:27.430961",
     "exception": false,
     "start_time": "2023-02-27T04:06:27.420498",
     "status": "completed"
    },
    "tags": []
   },
   "outputs": [],
   "source": []
  },
  {
   "cell_type": "code",
   "execution_count": null,
   "id": "97f4d828-1be1-478b-8e06-e49d8bd2362c",
   "metadata": {
    "papermill": {
     "duration": 0.012653,
     "end_time": "2023-02-27T04:06:27.456016",
     "exception": false,
     "start_time": "2023-02-27T04:06:27.443363",
     "status": "completed"
    },
    "tags": []
   },
   "outputs": [],
   "source": []
  },
  {
   "cell_type": "code",
   "execution_count": null,
   "id": "b033541d-a14f-439c-90c8-67b8b1b9d566",
   "metadata": {
    "papermill": {
     "duration": 0.01119,
     "end_time": "2023-02-27T04:06:27.481706",
     "exception": false,
     "start_time": "2023-02-27T04:06:27.470516",
     "status": "completed"
    },
    "tags": []
   },
   "outputs": [],
   "source": []
  },
  {
   "cell_type": "code",
   "execution_count": null,
   "id": "cd0d8d58-d2cf-4ce1-a160-e252fd11d6ee",
   "metadata": {
    "papermill": {
     "duration": 0.011168,
     "end_time": "2023-02-27T04:06:27.503034",
     "exception": false,
     "start_time": "2023-02-27T04:06:27.491866",
     "status": "completed"
    },
    "tags": []
   },
   "outputs": [],
   "source": []
  },
  {
   "cell_type": "code",
   "execution_count": null,
   "id": "f01197e1-2bb0-45ae-acca-62f8dbcf473f",
   "metadata": {
    "papermill": {
     "duration": 0.036685,
     "end_time": "2023-02-27T04:06:27.563577",
     "exception": false,
     "start_time": "2023-02-27T04:06:27.526892",
     "status": "completed"
    },
    "tags": []
   },
   "outputs": [],
   "source": []
  },
  {
   "cell_type": "code",
   "execution_count": null,
   "id": "42549d5b-78ba-40d3-a5e2-69d233dcc4cf",
   "metadata": {
    "papermill": {
     "duration": 0.020493,
     "end_time": "2023-02-27T04:06:27.610190",
     "exception": false,
     "start_time": "2023-02-27T04:06:27.589697",
     "status": "completed"
    },
    "tags": []
   },
   "outputs": [],
   "source": []
  },
  {
   "cell_type": "code",
   "execution_count": null,
   "id": "edf12598-ef8c-41f8-948e-0403635d7287",
   "metadata": {
    "papermill": {
     "duration": 0.010526,
     "end_time": "2023-02-27T04:06:27.631360",
     "exception": false,
     "start_time": "2023-02-27T04:06:27.620834",
     "status": "completed"
    },
    "tags": []
   },
   "outputs": [],
   "source": []
  }
 ],
 "metadata": {
  "kernelspec": {
   "display_name": "Python 3 (ipykernel)",
   "language": "python",
   "name": "python3"
  },
  "language_info": {
   "codemirror_mode": {
    "name": "ipython",
    "version": 3
   },
   "file_extension": ".py",
   "mimetype": "text/x-python",
   "name": "python",
   "nbconvert_exporter": "python",
   "pygments_lexer": "ipython3",
   "version": "3.7.12"
  },
  "papermill": {
   "default_parameters": {},
   "duration": 172.68342,
   "end_time": "2023-02-27T04:06:28.562918",
   "environment_variables": {},
   "exception": null,
   "input_path": "/home/qzeng_salk_edu/project/cemba/230223_spatial/integration/mc_merfish/template/01.select_CEF.ipynb",
   "output_path": "/home/qzeng_salk_edu/project/cemba/230223_spatial/integration/mc_merfish/Round1/Slice3-4_Neu/01.select_CEF.ipynb",
   "parameters": {
    "cef_cluster_level": "L4Region",
    "chrom_to_remove": [
     "chrX",
     "chrY",
     "chrM",
     "chrL"
    ],
    "cpu": 1,
    "downsample": 500,
    "global_cef": null,
    "group_name": "Slice3-4_Neu",
    "mem_gb": 1,
    "var_dim": "geneslop2k-vm23"
   },
   "start_time": "2023-02-27T04:03:35.879498",
   "version": "2.4.0"
  }
 },
 "nbformat": 4,
 "nbformat_minor": 5
}
