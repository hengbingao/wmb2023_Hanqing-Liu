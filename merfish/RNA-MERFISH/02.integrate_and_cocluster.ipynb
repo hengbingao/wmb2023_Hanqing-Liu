{
 "cells": [
  {
   "cell_type": "code",
   "execution_count": 1,
   "id": "87fa1e2c",
   "metadata": {
    "papermill": {
     "duration": 14.660726,
     "end_time": "2022-10-16T08:18:26.468179",
     "exception": false,
     "start_time": "2022-10-16T08:18:11.807453",
     "status": "completed"
    },
    "tags": []
   },
   "outputs": [],
   "source": [
    "import glob\n",
    "import time\n",
    "\n",
    "import anndata\n",
    "import matplotlib.pyplot as plt\n",
    "import numpy as np\n",
    "import pandas as pd\n",
    "import scanpy as sc\n",
    "import scanpy.external as sce\n",
    "import pynndescent\n",
    "import seaborn as sns\n",
    "from ALLCools.clustering import significant_pc_test, tsne\n",
    "from ALLCools.integration import SeuratIntegration\n",
    "from scipy.sparse import csr_matrix\n",
    "from sklearn.decomposition import PCA\n",
    "from sklearn.preprocessing import normalize\n",
    "from wmb import aibs, brain, broad, cemba, mm10\n"
   ]
  },
  {
   "cell_type": "code",
   "execution_count": 2,
   "id": "b470d4b4-9234-410e-9ca0-3a4df67e7729",
   "metadata": {
    "tags": [
     "parameters"
    ]
   },
   "outputs": [],
   "source": [
    "group_name = \"All\"\n"
   ]
  },
  {
   "cell_type": "markdown",
   "id": "35e79993-1aed-4866-87d4-55ad5eb8cf9d",
   "metadata": {},
   "source": [
    "## load adata"
   ]
  },
  {
   "cell_type": "code",
   "execution_count": 3,
   "id": "d11aaf3f-2064-436a-86b8-3994add51241",
   "metadata": {
    "tags": []
   },
   "outputs": [],
   "source": [
    "def dump_embedding(adata, name, n_dim=2):\n",
    "    # put manifold coordinates into adata.obs\n",
    "    for i in range(n_dim):\n",
    "        adata.obs[f\"{name}_{i}\"] = adata.obsm[f\"X_{name}\"][:, i]\n",
    "    return adata\n"
   ]
  },
  {
   "cell_type": "code",
   "execution_count": 4,
   "id": "3ce8320a-dae3-4e6f-abd7-b7c49d67123b",
   "metadata": {
    "tags": []
   },
   "outputs": [
    {
     "name": "stdout",
     "output_type": "stream",
     "text": [
      "0.0034029149\n"
     ]
    }
   ],
   "source": [
    "ref_adata = anndata.read_h5ad(\"aibs_10x.h5ad\")\n",
    "ref_adata.var['mean'] = ref_adata.X.mean(axis=0).A1\n",
    "ref_adata.var['std'] = (ref_adata.X.multiply(ref_adata.X)).mean(axis=0).A1 - (ref_adata.var['mean'].values ** 2)\n",
    "print(ref_adata.var['std'].min())\n",
    "ref_adata = ref_adata[:, ref_adata.var['std']>1e-5].copy()\n"
   ]
  },
  {
   "cell_type": "code",
   "execution_count": 5,
   "id": "74ce820e-db46-4203-83cc-c100d2acf53b",
   "metadata": {
    "tags": []
   },
   "outputs": [
    {
     "name": "stdout",
     "output_type": "stream",
     "text": [
      "0.005477670362666543\n"
     ]
    }
   ],
   "source": [
    "qry_adata = anndata.read_h5ad(\"merfish.h5ad\")\n",
    "qry_adata.var['mean'] = qry_adata.X.mean(axis=0).A1\n",
    "qry_adata.var['std'] = (qry_adata.X.multiply(qry_adata.X)).mean(axis=0).A1 - (qry_adata.var['mean'].values ** 2)\n",
    "print(qry_adata.var['std'].min())\n",
    "qry_adata = qry_adata[:, qry_adata.var['std']>1e-5].copy()\n"
   ]
  },
  {
   "cell_type": "code",
   "execution_count": 6,
   "id": "f732d7f4-a754-4fb1-8604-23c4dad0ab98",
   "metadata": {
    "tags": []
   },
   "outputs": [
    {
     "name": "stdout",
     "output_type": "stream",
     "text": [
      "Downsample PC matrix to 50000 cells to calculate significant PC components\n",
      "41 components passed P cutoff of 0.1.\n",
      "50 41 4065284 613096\n"
     ]
    }
   ],
   "source": [
    "ncell = ref_adata.shape[0] + qry_adata.shape[0]\n",
    "ncc = significant_pc_test(ref_adata, p_cutoff=0.1, update=False, obsm=\"X_pca\")\n",
    "ncc = min(50, ncc, ref_adata.shape[0] - 1, qry_adata.shape[0] - 1, ref_adata.shape[1] // 5)\n",
    "ncc = max(ncc, 5)\n",
    "npc = min([50, ncc + 10, ref_adata.shape[0] - 1, ref_adata.obsm[\"X_pca\"].shape[1]])\n",
    "print(npc, ncc, ref_adata.shape[0], qry_adata.shape[0])\n"
   ]
  },
  {
   "cell_type": "code",
   "execution_count": 7,
   "id": "89b6b7cd-d14f-415c-823d-eb4ced93e21e",
   "metadata": {
    "tags": []
   },
   "outputs": [],
   "source": [
    "for xx in [ref_adata, qry_adata]:\n",
    "    xx.obsm[\"X_pca\"] = normalize(xx.obsm[\"X_pca\"][:, :npc], axis=1)\n",
    "    "
   ]
  },
  {
   "cell_type": "code",
   "execution_count": 8,
   "id": "d3cb326a-66b5-4483-bcd7-43ca27f3b5e0",
   "metadata": {
    "tags": []
   },
   "outputs": [],
   "source": [
    "qry_adata.obs[\"Study\"] = \"MERFISH\"\n",
    "ref_adata.obs[\"Study\"] = \"AIBS_10x\""
   ]
  },
  {
   "cell_type": "code",
   "execution_count": 9,
   "id": "ab95bf2b-b41b-4045-9b60-7a21f68322e6",
   "metadata": {
    "tags": []
   },
   "outputs": [],
   "source": [
    "adata_merge = anndata.AnnData(\n",
    "    X=np.ones((ncell, 1)), obs=pd.concat([ref_adata.obs, qry_adata.obs], axis=0)\n",
    ")"
   ]
  },
  {
   "cell_type": "code",
   "execution_count": 10,
   "id": "fb464952-7433-46dc-bbef-447ec513a44c",
   "metadata": {
    "execution": {
     "iopub.execute_input": "2023-01-29T06:04:28.681937Z",
     "iopub.status.busy": "2023-01-29T06:04:28.681684Z",
     "iopub.status.idle": "2023-01-29T06:29:33.356670Z",
     "shell.execute_reply": "2023-01-29T06:29:33.355321Z",
     "shell.execute_reply.started": "2023-01-29T06:04:28.681919Z"
    }
   },
   "outputs": [
    {
     "name": "stdout",
     "output_type": "stream",
     "text": [
      "Find anchors across datasets.\n",
      "Run CCA\n",
      "non zero dims 41\n",
      "Find Anchors using k=30\n",
      "Score Anchors\n",
      "Identified 579443 anchors between datasets 0 and 1.\n",
      "1126.2117319107056\n",
      "Merge datasets\n",
      "[[0], [1]]\n",
      "Initialize\n",
      "Find nearest anchors. k_weight:  100\n",
      "Normalize graph\n",
      "Transform data\n",
      "367.4503605365753\n"
     ]
    }
   ],
   "source": [
    "if min(ref_adata.shape[0], qry_adata.shape[0])<100:\n",
    "    adata_merge.obsm['X_pca'] = np.concatenate([ref_adata.obsm[\"X_pca\"], qry_adata.obsm[\"X_pca\"]], axis=0)\n",
    "    if min(ref_adata.shape[0], qry_adata.shape[0])<2:\n",
    "        adata_merge.obsm['X_pca_corrected'] = adata_merge.obsm['X_pca'].copy()\n",
    "    else:\n",
    "        if np.min([np.round(ncell / 30.0), 100]).astype(int)<2:\n",
    "            nclust = 2\n",
    "        else:\n",
    "            nclust = None\n",
    "        sce.pp.harmony_integrate(adata_merge, key='Study', adjusted_basis='X_pca_corrected', max_iter_harmony=30, random_state=0, nclust=nclust)\n",
    "else:\n",
    "    integrator = SeuratIntegration()\n",
    "    adata_list = [ref_adata, qry_adata]\n",
    "    start_time = time.time()\n",
    "    integrator.find_anchor(\n",
    "        adata_list,\n",
    "        k_local=None,\n",
    "        key_local=\"X_pca\",\n",
    "        k_anchor=5,\n",
    "        key_anchor=\"X\",\n",
    "        dim_red=\"cca\",\n",
    "        max_cc_cells=50000,\n",
    "        k_score=30,\n",
    "        # k_filter=min(200, ref_adata.shape[0] // 10),\n",
    "        k_filter=None,\n",
    "        scale1=True,\n",
    "        scale2=True,\n",
    "        # scale =[False, True]\n",
    "        n_components=ncc,\n",
    "        n_features=min(200, ncc * 10),\n",
    "        alignments=[[[0], [1]]],\n",
    "    )\n",
    "    print(time.time() - start_time)\n",
    "    start_time = time.time()\n",
    "    corrected = integrator.integrate(\n",
    "        key_correct=\"X_pca\",\n",
    "        row_normalize=True,\n",
    "        n_components=npc,\n",
    "        k_weight=min(100, integrator.anchor[(0, 1)].shape[0]),\n",
    "        sd=1,\n",
    "        alignments=[[[0], [1]]],\n",
    "    )\n",
    "    print(time.time() - start_time)\n",
    "    qry_adata.obsm[\"X_pca_corrected\"] = normalize(corrected[1], axis=1)\n",
    "    qry_adata.write_h5ad(\"merfish.h5ad\")\n",
    "    integrator.save(\"integration_aibs10x_merfish\")\n",
    "    adata_merge.obsm[\"X_pca_corrected\"] = np.concatenate(corrected, axis=0)\n"
   ]
  },
  {
   "cell_type": "code",
   "execution_count": 11,
   "id": "30da13c8",
   "metadata": {
    "execution": {
     "iopub.execute_input": "2023-01-29T06:29:34.735521Z",
     "iopub.status.busy": "2023-01-29T06:29:34.735365Z",
     "iopub.status.idle": "2023-01-29T07:19:23.046677Z",
     "shell.execute_reply": "2023-01-29T07:19:23.045753Z",
     "shell.execute_reply.started": "2023-01-29T06:29:34.735505Z"
    }
   },
   "outputs": [
    {
     "name": "stdout",
     "output_type": "stream",
     "text": [
      "2988.3058655261993\n"
     ]
    }
   ],
   "source": [
    "start_time = time.time()\n",
    "tsne(\n",
    "    adata_merge,\n",
    "    obsm=\"X_pca_corrected\",\n",
    "    metric=\"euclidean\",\n",
    "    exaggeration=-1,\n",
    "    perplexity=50,\n",
    "    n_jobs=-1,\n",
    ")\n",
    "dump_embedding(adata_merge, \"tsne\")\n",
    "adata_merge.obsm[f\"u{npc}seurat_tsne\"] = adata_merge.obsm[\"X_tsne\"].copy()\n",
    "print(time.time() - start_time)\n"
   ]
  },
  {
   "cell_type": "code",
   "execution_count": 16,
   "id": "f1f7ec2c-bd48-48c3-9df4-ed0dfb9d0192",
   "metadata": {
    "execution": {
     "iopub.execute_input": "2023-01-29T07:28:55.199190Z",
     "iopub.status.busy": "2023-01-29T07:28:55.198938Z",
     "iopub.status.idle": "2023-01-29T07:29:08.036926Z",
     "shell.execute_reply": "2023-01-29T07:29:08.036272Z",
     "shell.execute_reply.started": "2023-01-29T07:28:55.199172Z"
    }
   },
   "outputs": [],
   "source": [
    "for i in range(3):\n",
    "    adata_merge.obs[f\"L{i+1}\"] = adata_merge.obs[f\"L{i+1}\"].astype(str)\n",
    "    adata_merge.obs.loc[adata_merge.obs[\"Study\"] == \"AIBS_10x\", f\"L{i+1}\"] = (\n",
    "        adata_merge.obs.loc[adata_merge.obs[\"Study\"] == \"AIBS_10x\", f\"L{i+1}\"]\n",
    "        .astype(float)\n",
    "        .astype(int)\n",
    "        .astype(str)\n",
    "    )\n",
    "    "
   ]
  },
  {
   "cell_type": "code",
   "execution_count": 17,
   "id": "788b6c67-cbad-46d1-8caa-98a61a2c9fb4",
   "metadata": {
    "execution": {
     "iopub.execute_input": "2023-01-29T07:29:09.563665Z",
     "iopub.status.busy": "2023-01-29T07:29:09.563504Z",
     "iopub.status.idle": "2023-01-29T07:29:35.887898Z",
     "shell.execute_reply": "2023-01-29T07:29:35.887249Z",
     "shell.execute_reply.started": "2023-01-29T07:29:09.563650Z"
    },
    "tags": []
   },
   "outputs": [],
   "source": [
    "adata_merge.obs.loc[:, adata_merge.obs.dtypes == \"object\"] = adata_merge.obs.loc[\n",
    "    :, adata_merge.obs.dtypes == \"object\"\n",
    "].astype(str)\n",
    "adata_merge.write_h5ad(\"aibs10xmerfish.h5ad\")\n"
   ]
  },
  {
   "cell_type": "code",
   "execution_count": 10,
   "id": "854df048-ebb0-4bff-9c1c-c5771bcb63c4",
   "metadata": {
    "execution": {
     "iopub.execute_input": "2023-01-29T07:35:26.472825Z",
     "iopub.status.busy": "2023-01-29T07:35:26.472637Z",
     "iopub.status.idle": "2023-01-29T07:35:29.639336Z",
     "shell.execute_reply": "2023-01-29T07:35:29.638658Z",
     "shell.execute_reply.started": "2023-01-29T07:35:26.472808Z"
    },
    "tags": []
   },
   "outputs": [],
   "source": [
    "cell_per_cluster = 100\n",
    "selc = [qry_adata.obs.index]\n",
    "np.random.seed(0)\n",
    "for xx,yy in ref_adata.obs.groupby('L3'):\n",
    "    if yy.shape[0]>cell_per_cluster:\n",
    "        selc.append(np.random.choice(yy.index, cell_per_cluster, False))\n",
    "    else:\n",
    "        selc.append(yy.index)\n",
    "\n",
    "selc = np.concatenate(selc)\n",
    "selc = adata_merge.obs.reset_index().reset_index().set_index('cell').loc[selc]['index']\n"
   ]
  },
  {
   "cell_type": "code",
   "execution_count": 11,
   "id": "45205bff-790d-4417-bebd-11c8ece075d4",
   "metadata": {
    "execution": {
     "iopub.execute_input": "2023-01-29T07:35:30.860870Z",
     "iopub.status.busy": "2023-01-29T07:35:30.860672Z",
     "iopub.status.idle": "2023-01-29T07:35:31.132921Z",
     "shell.execute_reply": "2023-01-29T07:35:31.132278Z",
     "shell.execute_reply.started": "2023-01-29T07:35:30.860845Z"
    },
    "tags": []
   },
   "outputs": [
    {
     "data": {
      "text/plain": [
       "AnnData object with n_obs × n_vars = 1043707 × 1\n",
       "    obs: 'count', 'umi_count', 'L1', 'L2', 'L3', 'L1_annot', 'L2_annot', 'DissectionRegion', 'SubRegion', 'MajorRegion', 'Train', 'Study', 'blank_count', 'n_counts', 'n_genes', 'tsne_0', 'tsne_1'\n",
       "    obsm: 'X_pca_corrected'"
      ]
     },
     "execution_count": 11,
     "metadata": {},
     "output_type": "execute_result"
    }
   ],
   "source": [
    "adata_merge = anndata.AnnData(X=np.ones((len(selc), 1)), obs=adata_merge.obs.iloc[selc], obsm={'X_pca_corrected':adata_merge.obsm['X_pca_corrected'][selc]})\n",
    "adata_merge\n"
   ]
  },
  {
   "cell_type": "code",
   "execution_count": 1,
   "id": "1fbe3341-70db-419d-9ef2-1a0c4ceac486",
   "metadata": {
    "tags": []
   },
   "outputs": [],
   "source": [
    "start_time = time.time()\n",
    "sc.pp.neighbors(\n",
    "    adata_merge,\n",
    "    use_rep=\"X_pca_corrected\",\n",
    "    n_neighbors=25,\n",
    "    random_state=0,\n",
    "    metric=\"cosine\",\n",
    ")\n",
    "print(time.time() - start_time)\n"
   ]
  },
  {
   "cell_type": "code",
   "execution_count": 13,
   "id": "31b36a80-a98c-415d-9f16-496c69690ab2",
   "metadata": {
    "execution": {
     "iopub.execute_input": "2023-01-29T07:47:35.480121Z",
     "iopub.status.busy": "2023-01-29T07:47:35.479859Z",
     "iopub.status.idle": "2023-01-29T07:47:36.459885Z",
     "shell.execute_reply": "2023-01-29T07:47:36.459064Z",
     "shell.execute_reply.started": "2023-01-29T07:47:35.480103Z"
    },
    "tags": []
   },
   "outputs": [],
   "source": [
    "adata_merge.obs.loc[:, adata_merge.obs.dtypes == \"object\"] = adata_merge.obs.loc[\n",
    "    :, adata_merge.obs.dtypes == \"object\"\n",
    "].astype(str)\n",
    "adata_merge.write_h5ad(\"aibs10xmerfish_downsample.h5ad\")\n"
   ]
  },
  {
   "cell_type": "code",
   "execution_count": 14,
   "id": "3b201f11-7e53-4031-ae26-a2938046d7fa",
   "metadata": {
    "execution": {
     "iopub.execute_input": "2023-01-29T07:47:37.079052Z",
     "iopub.status.busy": "2023-01-29T07:47:37.078877Z",
     "iopub.status.idle": "2023-01-29T07:58:04.682479Z",
     "shell.execute_reply": "2023-01-29T07:58:04.681715Z",
     "shell.execute_reply.started": "2023-01-29T07:47:37.079036Z"
    },
    "tags": []
   },
   "outputs": [
    {
     "name": "stderr",
     "output_type": "stream",
     "text": [
      "IOStream.flush timed out\n",
      "IOStream.flush timed out\n",
      "IOStream.flush timed out\n"
     ]
    },
    {
     "name": "stdout",
     "output_type": "stream",
     "text": [
      "627.5981459617615\n"
     ]
    }
   ],
   "source": [
    "start_time = time.time()\n",
    "res = 1.0\n",
    "sc.tl.leiden(adata_merge, resolution=res, random_state=0)\n",
    "print(time.time() - start_time)\n"
   ]
  },
  {
   "cell_type": "code",
   "execution_count": 15,
   "id": "5e5fb356",
   "metadata": {
    "execution": {
     "iopub.execute_input": "2023-01-29T07:58:04.684176Z",
     "iopub.status.busy": "2023-01-29T07:58:04.683967Z",
     "iopub.status.idle": "2023-01-29T07:58:15.233986Z",
     "shell.execute_reply": "2023-01-29T07:58:15.233330Z",
     "shell.execute_reply.started": "2023-01-29T07:58:04.684155Z"
    },
    "tags": []
   },
   "outputs": [],
   "source": [
    "adata_merge.obs.loc[:, adata_merge.obs.dtypes == \"object\"] = adata_merge.obs.loc[\n",
    "    :, adata_merge.obs.dtypes == \"object\"\n",
    "].astype(str)\n",
    "adata_merge.write_h5ad(\"aibs10xmerfish_downsample.h5ad\")\n"
   ]
  },
  {
   "cell_type": "code",
   "execution_count": 16,
   "id": "9b6345e3-06b2-481a-a286-9bd5d5d7890e",
   "metadata": {
    "execution": {
     "iopub.execute_input": "2023-01-29T07:59:42.596540Z",
     "iopub.status.busy": "2023-01-29T07:59:42.596272Z",
     "iopub.status.idle": "2023-01-29T07:59:42.603651Z",
     "shell.execute_reply": "2023-01-29T07:59:42.603058Z",
     "shell.execute_reply.started": "2023-01-29T07:59:42.596520Z"
    }
   },
   "outputs": [
    {
     "data": {
      "text/plain": [
       "cell\n",
       "Sagittal-R1-1043754162511822305451378439343902674      5\n",
       "Sagittal-R1-115889605987730877346658197744887916157    0\n",
       "Sagittal-R1-118999854507870250420648053432664395722    9\n",
       "Sagittal-R1-124436133021557870166867524905466212748    0\n",
       "Sagittal-R1-131672228322041345871158129298266933775    9\n",
       "                                                      ..\n",
       "L8TX_190822_01_B12-CCTACGTCATACTGTG-1                  1\n",
       "L8TX_190725_01_E08-ATTCAGGAGGTGGGTT-1                  1\n",
       "L8TX_200130_01_B02-CCATAAGTCGAGTACT-1                  1\n",
       "L8TX_200130_01_G02-GAGTGAGTCCCAGCGA-1                  1\n",
       "L8TX_200130_01_G02-GCCTGTTAGTCTTGGT-1                  1\n",
       "Name: leiden, Length: 1043707, dtype: category\n",
       "Categories (97, object): ['0', '1', '2', '3', ..., '93', '94', '95', '96']"
      ]
     },
     "execution_count": 16,
     "metadata": {},
     "output_type": "execute_result"
    }
   ],
   "source": [
    "tmp = adata_merge.obs['leiden']\n",
    "tmp"
   ]
  },
  {
   "cell_type": "code",
   "execution_count": 17,
   "id": "a7797662-de46-4811-9189-250511d9e287",
   "metadata": {
    "execution": {
     "iopub.execute_input": "2023-01-29T07:59:58.317323Z",
     "iopub.status.busy": "2023-01-29T07:59:58.317040Z",
     "iopub.status.idle": "2023-01-29T08:00:03.570305Z",
     "shell.execute_reply": "2023-01-29T08:00:03.569488Z",
     "shell.execute_reply.started": "2023-01-29T07:59:58.317302Z"
    },
    "tags": []
   },
   "outputs": [
    {
     "data": {
      "text/plain": [
       "AnnData object with n_obs × n_vars = 4678380 × 1\n",
       "    obs: 'count', 'umi_count', 'L1', 'L2', 'L3', 'L1_annot', 'L2_annot', 'DissectionRegion', 'SubRegion', 'MajorRegion', 'Train', 'Study', 'blank_count', 'n_counts', 'n_genes', 'tsne_0', 'tsne_1'\n",
       "    obsm: 'X_pca_corrected', 'X_tsne', 'u50seurat_tsne'"
      ]
     },
     "execution_count": 17,
     "metadata": {},
     "output_type": "execute_result"
    }
   ],
   "source": [
    "adata_merge = anndata.read_h5ad(\"aibs10xmerfish.h5ad\")\n",
    "adata_merge\n"
   ]
  },
  {
   "cell_type": "code",
   "execution_count": 18,
   "id": "dbe756f5-4ac7-4d61-82c5-b83a18b23f1d",
   "metadata": {
    "execution": {
     "iopub.execute_input": "2023-01-29T08:01:02.655213Z",
     "iopub.status.busy": "2023-01-29T08:01:02.654906Z",
     "iopub.status.idle": "2023-01-29T08:01:03.912332Z",
     "shell.execute_reply": "2023-01-29T08:01:03.911710Z",
     "shell.execute_reply.started": "2023-01-29T08:01:02.655189Z"
    }
   },
   "outputs": [],
   "source": [
    "adata_merge.obs['leiden'] = tmp.copy()\n"
   ]
  },
  {
   "cell_type": "code",
   "execution_count": 19,
   "id": "db5dc223-bb88-495a-bb1c-45c4d50c214f",
   "metadata": {
    "execution": {
     "iopub.execute_input": "2023-01-29T08:01:08.231336Z",
     "iopub.status.busy": "2023-01-29T08:01:08.231092Z",
     "iopub.status.idle": "2023-01-29T08:01:31.325422Z",
     "shell.execute_reply": "2023-01-29T08:01:31.324611Z",
     "shell.execute_reply.started": "2023-01-29T08:01:08.231319Z"
    },
    "tags": []
   },
   "outputs": [],
   "source": [
    "adata_merge.obs.loc[:, adata_merge.obs.dtypes == \"object\"] = adata_merge.obs.loc[\n",
    "    :, adata_merge.obs.dtypes == \"object\"\n",
    "].astype(str)\n",
    "adata_merge.write_h5ad(\"aibs10xmerfish.h5ad\")\n"
   ]
  },
  {
   "cell_type": "code",
   "execution_count": 20,
   "id": "f1afd7da-404c-440d-a059-e4a6bb7ba7b1",
   "metadata": {
    "execution": {
     "iopub.execute_input": "2023-01-29T08:01:32.114779Z",
     "iopub.status.busy": "2023-01-29T08:01:32.114610Z",
     "iopub.status.idle": "2023-01-29T08:15:02.279335Z",
     "shell.execute_reply": "2023-01-29T08:15:02.278331Z",
     "shell.execute_reply.started": "2023-01-29T08:01:32.114762Z"
    },
    "tags": []
   },
   "outputs": [
    {
     "name": "stdout",
     "output_type": "stream",
     "text": [
      "810.1593112945557\n"
     ]
    }
   ],
   "source": [
    "start_time = time.time()\n",
    "sc.pp.neighbors(\n",
    "    adata_merge,\n",
    "    use_rep=\"X_pca_corrected\",\n",
    "    n_neighbors=25,\n",
    "    random_state=0,\n",
    "    metric=\"cosine\",\n",
    ")\n",
    "print(time.time() - start_time)\n"
   ]
  },
  {
   "cell_type": "code",
   "execution_count": 21,
   "id": "35d00e6b-f590-4cff-a5a7-4db9fc20fac9",
   "metadata": {
    "execution": {
     "iopub.execute_input": "2023-01-29T08:15:02.282902Z",
     "iopub.status.busy": "2023-01-29T08:15:02.282623Z",
     "iopub.status.idle": "2023-01-29T08:15:51.048769Z",
     "shell.execute_reply": "2023-01-29T08:15:51.047892Z",
     "shell.execute_reply.started": "2023-01-29T08:15:02.282876Z"
    },
    "tags": []
   },
   "outputs": [],
   "source": [
    "adata_merge.obs.loc[:, adata_merge.obs.dtypes == \"object\"] = adata_merge.obs.loc[\n",
    "    :, adata_merge.obs.dtypes == \"object\"\n",
    "].astype(str)\n",
    "adata_merge.write_h5ad(\"aibs10xmerfish.h5ad\")\n"
   ]
  },
  {
   "cell_type": "code",
   "execution_count": 22,
   "id": "4d4a3729-815b-4a0a-857e-a30f2cdadf37",
   "metadata": {
    "execution": {
     "iopub.execute_input": "2023-01-29T08:21:13.688680Z",
     "iopub.status.busy": "2023-01-29T08:21:13.688437Z",
     "iopub.status.idle": "2023-01-29T10:56:03.926383Z",
     "shell.execute_reply": "2023-01-29T10:56:03.924429Z",
     "shell.execute_reply.started": "2023-01-29T08:21:13.688662Z"
    },
    "tags": []
   },
   "outputs": [
    {
     "name": "stderr",
     "output_type": "stream",
     "text": [
      "IOStream.flush timed out\n",
      "IOStream.flush timed out\n",
      "IOStream.flush timed out\n",
      "IOStream.flush timed out\n",
      "IOStream.flush timed out\n",
      "IOStream.flush timed out\n",
      "IOStream.flush timed out\n",
      "IOStream.flush timed out\n",
      "IOStream.flush timed out\n",
      "IOStream.flush timed out\n",
      "IOStream.flush timed out\n"
     ]
    },
    {
     "name": "stdout",
     "output_type": "stream",
     "text": [
      "9290.229736566544\n"
     ]
    }
   ],
   "source": [
    "start_time = time.time()\n",
    "res = 1.0\n",
    "sc.tl.leiden(adata_merge, resolution=res, random_state=0)\n",
    "print(time.time() - start_time)\n"
   ]
  },
  {
   "cell_type": "code",
   "execution_count": 23,
   "id": "2aeb1fe9-90b9-4c32-8340-27b5fe4a3df9",
   "metadata": {
    "execution": {
     "iopub.execute_input": "2023-01-29T10:56:05.856956Z",
     "iopub.status.busy": "2023-01-29T10:56:05.856718Z",
     "iopub.status.idle": "2023-01-29T10:56:59.831287Z",
     "shell.execute_reply": "2023-01-29T10:56:59.830436Z",
     "shell.execute_reply.started": "2023-01-29T10:56:05.856935Z"
    },
    "tags": []
   },
   "outputs": [],
   "source": [
    "adata_merge.obs.loc[:, adata_merge.obs.dtypes == \"object\"] = adata_merge.obs.loc[\n",
    "    :, adata_merge.obs.dtypes == \"object\"\n",
    "].astype(str)\n",
    "adata_merge.write_h5ad(\"aibs10xmerfish.h5ad\")\n"
   ]
  },
  {
   "cell_type": "code",
   "execution_count": null,
   "id": "f7682417-0d82-4f94-959e-042686fdf4e2",
   "metadata": {},
   "outputs": [],
   "source": []
  }
 ],
 "metadata": {
  "celltoolbar": "Tags",
  "kernelspec": {
   "display_name": "Python 3 (ipykernel)",
   "language": "python",
   "name": "python3"
  },
  "language_info": {
   "codemirror_mode": {
    "name": "ipython",
    "version": 3
   },
   "file_extension": ".py",
   "mimetype": "text/x-python",
   "name": "python",
   "nbconvert_exporter": "python",
   "pygments_lexer": "ipython3",
   "version": "3.7.12"
  },
  "papermill": {
   "default_parameters": {},
   "duration": 1042.848489,
   "end_time": "2022-10-16T08:35:31.964437",
   "environment_variables": {},
   "exception": null,
   "input_path": "/gale/netapp/home2/yuwu/projects/RS2/script/integration_by_region/integrate_all_ds/HB/04.integrate_and_transfer.ipynb",
   "output_path": "/gale/netapp/home2/yuwu/projects/RS2/script/integration_by_region/integrate_all_ds/HB/04.integrate_and_transfer.ipynb",
   "parameters": {
    "t": "HB"
   },
   "start_time": "2022-10-16T08:18:09.115948",
   "version": "2.3.4"
  }
 },
 "nbformat": 4,
 "nbformat_minor": 5
}
