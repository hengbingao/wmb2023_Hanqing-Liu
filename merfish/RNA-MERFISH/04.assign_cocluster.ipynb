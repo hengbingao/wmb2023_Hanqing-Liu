{
 "cells": [
  {
   "cell_type": "code",
   "execution_count": 1,
   "id": "48630f6a-d575-45fa-816a-7adfc1c5f371",
   "metadata": {
    "tags": []
   },
   "outputs": [],
   "source": [
    "import time\n",
    "import numpy as np\n",
    "import pandas as pd\n",
    "from sklearn.preprocessing import OneHotEncoder, normalize\n"
   ]
  },
  {
   "cell_type": "code",
   "execution_count": 2,
   "id": "8dc3f6ea-ad38-433d-9dc3-a2ffa4987cba",
   "metadata": {
    "execution": {
     "iopub.execute_input": "2023-02-24T08:07:01.281487Z",
     "iopub.status.busy": "2023-02-24T08:07:01.281234Z",
     "iopub.status.idle": "2023-02-24T08:07:10.141964Z",
     "shell.execute_reply": "2023-02-24T08:07:10.140924Z",
     "shell.execute_reply.started": "2023-02-24T08:07:01.281468Z"
    },
    "tags": []
   },
   "outputs": [],
   "source": [
    "G = np.load('MERFISH_AIBS10xNN.npz', allow_pickle=True)['G']\n",
    "D = np.load('MERFISH_AIBS10xNN.npz', allow_pickle=True)['D']\n",
    "aibs_cell = np.load('MERFISH_AIBS10xNN.npz', allow_pickle=True)['aibs_cell']\n",
    "merfish_cell = np.load('MERFISH_AIBS10xNN.npz', allow_pickle=True)['merfish_cell']\n",
    "labelref = pd.read_csv('/home/jzhou_salk_edu/sky_workdir/230214_merfish_integration/RNA_cocluster.csv', header=0, index_col=0)['leiden']\n",
    "labelref = labelref.loc[aibs_cell]\n"
   ]
  },
  {
   "cell_type": "code",
   "execution_count": 3,
   "id": "fcd880e8-3b81-48a1-8622-236705c28abf",
   "metadata": {
    "execution": {
     "iopub.execute_input": "2023-02-24T08:07:10.143330Z",
     "iopub.status.busy": "2023-02-24T08:07:10.143113Z",
     "iopub.status.idle": "2023-02-24T08:07:45.687845Z",
     "shell.execute_reply": "2023-02-24T08:07:45.687022Z",
     "shell.execute_reply.started": "2023-02-24T08:07:10.143309Z"
    },
    "tags": []
   },
   "outputs": [
    {
     "name": "stdout",
     "output_type": "stream",
     "text": [
      "0.08375120162963867\n",
      "0\n",
      "50000\n",
      "100000\n",
      "150000\n",
      "200000\n",
      "250000\n",
      "300000\n",
      "350000\n",
      "400000\n",
      "450000\n",
      "500000\n",
      "550000\n",
      "600000\n",
      "35.256422996520996\n"
     ]
    }
   ],
   "source": [
    "chunk_size = 50000\n",
    "sd = 1\n",
    "start_time = time.time()\n",
    "cellfilter = (D[:,-1]==0)\n",
    "D = (1 - D/D[:,-1][:,None])\n",
    "D[cellfilter] = 1\n",
    "D = 1 - np.exp(-D*(sd**2)/4)\n",
    "D = D / (np.sum(D, axis=1) + 1e-6)[:,None]\n",
    "print(time.time() - start_time)\n",
    "enc = OneHotEncoder()\n",
    "# enc.fit(adata_merge.obs.loc[aibs_cell, ['L3']].values.astype(str))\n",
    "labelref = enc.fit_transform(labelref.loc[aibs_cell][:,None])\n",
    "cluster = pd.DataFrame(index=merfish_cell, columns=['cocluster', 'score'], dtype=str)\n",
    "if len(enc.categories_[0])==1:\n",
    "    cluster['cocluster'] = enc.categories_[0][0]\n",
    "    cluster['score'] = 1\n",
    "else:\n",
    "    for chunk_start in range(0, len(merfish_cell), chunk_size):\n",
    "        result = (D[chunk_start : (chunk_start + chunk_size), :, None] * labelref[G[chunk_start : (chunk_start + chunk_size)].flatten()].toarray().reshape((-1, min(25, len(aibs_cell)), enc.categories_[0].shape[0]))).sum(axis=1)\n",
    "        result = pd.DataFrame(result, columns=enc.categories_[0], index=merfish_cell[chunk_start : (chunk_start + chunk_size)])\n",
    "        result = result.loc[:, result.columns!='nan']\n",
    "        cluster.loc[result.index, 'cocluster'] = result.idxmax(axis=1).values\n",
    "        cluster.loc[result.index, 'score'] = result.max(axis=1).values\n",
    "        print(chunk_start)\n",
    "    \n",
    "print(time.time() - start_time)\n",
    "cluster.to_hdf('MERFISH_cocluster.hdf', key='data')\n"
   ]
  },
  {
   "cell_type": "code",
   "execution_count": null,
   "id": "2ef53d98-7bcf-444f-8076-823a29599589",
   "metadata": {},
   "outputs": [],
   "source": []
  }
 ],
 "metadata": {
  "kernelspec": {
   "display_name": "Python 3 (ipykernel)",
   "language": "python",
   "name": "python3"
  },
  "language_info": {
   "codemirror_mode": {
    "name": "ipython",
    "version": 3
   },
   "file_extension": ".py",
   "mimetype": "text/x-python",
   "name": "python",
   "nbconvert_exporter": "python",
   "pygments_lexer": "ipython3",
   "version": "3.7.12"
  }
 },
 "nbformat": 4,
 "nbformat_minor": 5
}
