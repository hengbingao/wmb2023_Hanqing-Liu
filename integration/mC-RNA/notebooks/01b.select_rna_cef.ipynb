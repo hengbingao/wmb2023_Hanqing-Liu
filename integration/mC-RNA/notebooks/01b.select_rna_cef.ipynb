{
 "cells": [
  {
   "cell_type": "markdown",
   "id": "68434496",
   "metadata": {
    "papermill": {
     "duration": 0.010318,
     "end_time": "2022-10-22T23:02:20.304288",
     "exception": false,
     "start_time": "2022-10-22T23:02:20.293970",
     "status": "completed"
    },
    "tags": []
   },
   "source": [
    "## Import"
   ]
  },
  {
   "cell_type": "code",
   "execution_count": 1,
   "id": "4b3c1327",
   "metadata": {
    "ExecuteTime": {
     "end_time": "2022-06-25T18:29:09.603883Z",
     "start_time": "2022-06-25T18:28:49.913862Z"
    },
    "execution": {
     "iopub.execute_input": "2022-10-22T23:02:20.321562Z",
     "iopub.status.busy": "2022-10-22T23:02:20.321277Z",
     "iopub.status.idle": "2022-10-22T23:02:22.849896Z",
     "shell.execute_reply": "2022-10-22T23:02:22.848924Z"
    },
    "papermill": {
     "duration": 2.540092,
     "end_time": "2022-10-22T23:02:22.852309",
     "exception": false,
     "start_time": "2022-10-22T23:02:20.312217",
     "status": "completed"
    },
    "tags": []
   },
   "outputs": [],
   "source": [
    "from wmb import aibs, mm10\n",
    "\n",
    "from ALLCools.clustering import *\n",
    "from ALLCools.mcds import MCDS\n",
    "\n",
    "import pandas as pd"
   ]
  },
  {
   "cell_type": "code",
   "execution_count": 2,
   "id": "ca8aa116",
   "metadata": {
    "ExecuteTime": {
     "end_time": "2022-06-25T18:29:10.928342Z",
     "start_time": "2022-06-25T18:29:10.925766Z"
    },
    "execution": {
     "iopub.execute_input": "2022-10-22T23:02:22.873029Z",
     "iopub.status.busy": "2022-10-22T23:02:22.872834Z",
     "iopub.status.idle": "2022-10-22T23:02:22.877125Z",
     "shell.execute_reply": "2022-10-22T23:02:22.876425Z"
    },
    "papermill": {
     "duration": 0.016424,
     "end_time": "2022-10-22T23:02:22.878334",
     "exception": false,
     "start_time": "2022-10-22T23:02:22.861910",
     "status": "completed"
    },
    "tags": [
     "parameters"
    ]
   },
   "outputs": [],
   "source": [
    "group_name='NOT_DEFINED'\n",
    "var_dim = 'gene'\n",
    "cef_cluster_level = 'L3'\n",
    "chrom_to_remove = ['chrX', 'chrY', 'chrM', 'chrL']\n",
    "downsample = 500\n",
    "mc_type = 'CHN'\n",
    "std_cutoff = 0.05\n",
    "global_cef = None"
   ]
  },
  {
   "cell_type": "code",
   "execution_count": 3,
   "id": "2033a487",
   "metadata": {
    "execution": {
     "iopub.execute_input": "2022-10-22T23:02:22.895627Z",
     "iopub.status.busy": "2022-10-22T23:02:22.895387Z",
     "iopub.status.idle": "2022-10-22T23:02:22.899074Z",
     "shell.execute_reply": "2022-10-22T23:02:22.898405Z"
    },
    "papermill": {
     "duration": 0.013069,
     "end_time": "2022-10-22T23:02:22.900283",
     "exception": false,
     "start_time": "2022-10-22T23:02:22.887214",
     "status": "completed"
    },
    "tags": [
     "injected-parameters"
    ]
   },
   "outputs": [],
   "source": [
    "# Parameters\n",
    "cef_cluster_level = \"L3\"\n",
    "chrom_to_remove = [\"chrX\", \"chrY\", \"chrM\", \"chrL\"]\n",
    "cpu = 1\n",
    "downsample = 500\n",
    "global_cef = None\n",
    "group_name = \"CorticalExc\"\n",
    "mc_type = \"CHN\"\n",
    "mem_gb = 1\n",
    "std_cutoff = 0.05\n",
    "var_dim = \"gene\"\n"
   ]
  },
  {
   "cell_type": "markdown",
   "id": "e60ee638",
   "metadata": {
    "papermill": {
     "duration": 0.007399,
     "end_time": "2022-10-22T23:02:22.915406",
     "exception": false,
     "start_time": "2022-10-22T23:02:22.908007",
     "status": "completed"
    },
    "tags": []
   },
   "source": [
    "## Select cells"
   ]
  },
  {
   "cell_type": "code",
   "execution_count": 4,
   "id": "e5e3ec7f",
   "metadata": {
    "ExecuteTime": {
     "end_time": "2022-06-25T18:29:12.333727Z",
     "start_time": "2022-06-25T18:29:12.305321Z"
    },
    "execution": {
     "iopub.execute_input": "2022-10-22T23:02:22.933327Z",
     "iopub.status.busy": "2022-10-22T23:02:22.933112Z",
     "iopub.status.idle": "2022-10-22T23:02:23.849535Z",
     "shell.execute_reply": "2022-10-22T23:02:23.848742Z"
    },
    "papermill": {
     "duration": 0.927362,
     "end_time": "2022-10-22T23:02:23.850950",
     "exception": false,
     "start_time": "2022-10-22T23:02:22.923588",
     "status": "completed"
    },
    "tags": []
   },
   "outputs": [
    {
     "data": {
      "text/plain": [
       "1412319"
      ]
     },
     "execution_count": 4,
     "metadata": {},
     "output_type": "execute_result"
    }
   ],
   "source": [
    "cells = pd.read_csv('rna_cells.txt', index_col=0, header=None).index\n",
    "cells.name = 'cell'\n",
    "cells.size"
   ]
  },
  {
   "cell_type": "markdown",
   "id": "09f4cf3b",
   "metadata": {
    "ExecuteTime": {
     "end_time": "2022-06-21T04:51:56.476879Z",
     "start_time": "2022-06-21T04:51:56.474668Z"
    },
    "papermill": {
     "duration": 0.009062,
     "end_time": "2022-10-22T23:02:23.870472",
     "exception": false,
     "start_time": "2022-10-22T23:02:23.861410",
     "status": "completed"
    },
    "tags": []
   },
   "source": [
    "## Downsample cells\n",
    "\n",
    "Downsample large cluster to balance the data and reduce computation time and memory when calculating CEF"
   ]
  },
  {
   "cell_type": "code",
   "execution_count": 5,
   "id": "75689412",
   "metadata": {
    "ExecuteTime": {
     "end_time": "2022-06-25T18:29:19.073206Z",
     "start_time": "2022-06-25T18:29:15.055053Z"
    },
    "execution": {
     "iopub.execute_input": "2022-10-22T23:02:23.890379Z",
     "iopub.status.busy": "2022-10-22T23:02:23.889582Z",
     "iopub.status.idle": "2022-10-22T23:02:35.803538Z",
     "shell.execute_reply": "2022-10-22T23:02:35.802243Z"
    },
    "papermill": {
     "duration": 11.926146,
     "end_time": "2022-10-22T23:02:35.805103",
     "exception": false,
     "start_time": "2022-10-22T23:02:23.878957",
     "status": "completed"
    },
    "tags": []
   },
   "outputs": [
    {
     "data": {
      "text/plain": [
       "203185"
      ]
     },
     "execution_count": 5,
     "metadata": {},
     "output_type": "execute_result"
    }
   ],
   "source": [
    "annot = aibs.get_tenx_annot()\n",
    "clusters = annot[cef_cluster_level].to_pandas()\n",
    "clusters = clusters.loc[cells].copy()\n",
    "\n",
    "if downsample is not None:\n",
    "    use_cells = []\n",
    "    for cluster, sub_series in clusters.groupby(clusters):\n",
    "        if sub_series.size > downsample:\n",
    "            _cells = sub_series.sample(downsample, random_state=0).index\n",
    "        else:\n",
    "            _cells = sub_series.index\n",
    "        use_cells += _cells.tolist()\n",
    "    use_cells = pd.Index(use_cells)\n",
    "else:\n",
    "    use_cells = cells\n",
    "    \n",
    "use_cells.size"
   ]
  },
  {
   "cell_type": "markdown",
   "id": "dc9549b3",
   "metadata": {
    "ExecuteTime": {
     "end_time": "2022-06-04T04:56:12.906887Z",
     "start_time": "2022-06-04T04:56:12.373611Z"
    },
    "papermill": {
     "duration": 0.055574,
     "end_time": "2022-10-22T23:02:35.870750",
     "exception": false,
     "start_time": "2022-10-22T23:02:35.815176",
     "status": "completed"
    },
    "tags": []
   },
   "source": [
    "## Basic Feature Filtering"
   ]
  },
  {
   "cell_type": "code",
   "execution_count": 6,
   "id": "a6636dd5",
   "metadata": {
    "ExecuteTime": {
     "end_time": "2022-06-25T18:29:28.675481Z",
     "start_time": "2022-06-25T18:29:20.888505Z"
    },
    "execution": {
     "iopub.execute_input": "2022-10-22T23:02:35.889115Z",
     "iopub.status.busy": "2022-10-22T23:02:35.888791Z",
     "iopub.status.idle": "2022-10-22T23:03:05.256530Z",
     "shell.execute_reply": "2022-10-22T23:03:05.255776Z"
    },
    "papermill": {
     "duration": 29.379004,
     "end_time": "2022-10-22T23:03:05.257996",
     "exception": false,
     "start_time": "2022-10-22T23:02:35.878992",
     "status": "completed"
    },
    "tags": []
   },
   "outputs": [
    {
     "data": {
      "text/html": [
       "<div><svg style=\"position: absolute; width: 0; height: 0; overflow: hidden\">\n",
       "<defs>\n",
       "<symbol id=\"icon-database\" viewBox=\"0 0 32 32\">\n",
       "<path d=\"M16 0c-8.837 0-16 2.239-16 5v4c0 2.761 7.163 5 16 5s16-2.239 16-5v-4c0-2.761-7.163-5-16-5z\"></path>\n",
       "<path d=\"M16 17c-8.837 0-16-2.239-16-5v6c0 2.761 7.163 5 16 5s16-2.239 16-5v-6c0 2.761-7.163 5-16 5z\"></path>\n",
       "<path d=\"M16 26c-8.837 0-16-2.239-16-5v6c0 2.761 7.163 5 16 5s16-2.239 16-5v-6c0 2.761-7.163 5-16 5z\"></path>\n",
       "</symbol>\n",
       "<symbol id=\"icon-file-text2\" viewBox=\"0 0 32 32\">\n",
       "<path d=\"M28.681 7.159c-0.694-0.947-1.662-2.053-2.724-3.116s-2.169-2.030-3.116-2.724c-1.612-1.182-2.393-1.319-2.841-1.319h-15.5c-1.378 0-2.5 1.121-2.5 2.5v27c0 1.378 1.122 2.5 2.5 2.5h23c1.378 0 2.5-1.122 2.5-2.5v-19.5c0-0.448-0.137-1.23-1.319-2.841zM24.543 5.457c0.959 0.959 1.712 1.825 2.268 2.543h-4.811v-4.811c0.718 0.556 1.584 1.309 2.543 2.268zM28 29.5c0 0.271-0.229 0.5-0.5 0.5h-23c-0.271 0-0.5-0.229-0.5-0.5v-27c0-0.271 0.229-0.5 0.5-0.5 0 0 15.499-0 15.5 0v7c0 0.552 0.448 1 1 1h7v19.5z\"></path>\n",
       "<path d=\"M23 26h-14c-0.552 0-1-0.448-1-1s0.448-1 1-1h14c0.552 0 1 0.448 1 1s-0.448 1-1 1z\"></path>\n",
       "<path d=\"M23 22h-14c-0.552 0-1-0.448-1-1s0.448-1 1-1h14c0.552 0 1 0.448 1 1s-0.448 1-1 1z\"></path>\n",
       "<path d=\"M23 18h-14c-0.552 0-1-0.448-1-1s0.448-1 1-1h14c0.552 0 1 0.448 1 1s-0.448 1-1 1z\"></path>\n",
       "</symbol>\n",
       "</defs>\n",
       "</svg>\n",
       "<style>/* CSS stylesheet for displaying xarray objects in jupyterlab.\n",
       " *\n",
       " */\n",
       "\n",
       ":root {\n",
       "  --xr-font-color0: var(--jp-content-font-color0, rgba(0, 0, 0, 1));\n",
       "  --xr-font-color2: var(--jp-content-font-color2, rgba(0, 0, 0, 0.54));\n",
       "  --xr-font-color3: var(--jp-content-font-color3, rgba(0, 0, 0, 0.38));\n",
       "  --xr-border-color: var(--jp-border-color2, #e0e0e0);\n",
       "  --xr-disabled-color: var(--jp-layout-color3, #bdbdbd);\n",
       "  --xr-background-color: var(--jp-layout-color0, white);\n",
       "  --xr-background-color-row-even: var(--jp-layout-color1, white);\n",
       "  --xr-background-color-row-odd: var(--jp-layout-color2, #eeeeee);\n",
       "}\n",
       "\n",
       "html[theme=dark],\n",
       "body.vscode-dark {\n",
       "  --xr-font-color0: rgba(255, 255, 255, 1);\n",
       "  --xr-font-color2: rgba(255, 255, 255, 0.54);\n",
       "  --xr-font-color3: rgba(255, 255, 255, 0.38);\n",
       "  --xr-border-color: #1F1F1F;\n",
       "  --xr-disabled-color: #515151;\n",
       "  --xr-background-color: #111111;\n",
       "  --xr-background-color-row-even: #111111;\n",
       "  --xr-background-color-row-odd: #313131;\n",
       "}\n",
       "\n",
       ".xr-wrap {\n",
       "  display: block !important;\n",
       "  min-width: 300px;\n",
       "  max-width: 700px;\n",
       "}\n",
       "\n",
       ".xr-text-repr-fallback {\n",
       "  /* fallback to plain text repr when CSS is not injected (untrusted notebook) */\n",
       "  display: none;\n",
       "}\n",
       "\n",
       ".xr-header {\n",
       "  padding-top: 6px;\n",
       "  padding-bottom: 6px;\n",
       "  margin-bottom: 4px;\n",
       "  border-bottom: solid 1px var(--xr-border-color);\n",
       "}\n",
       "\n",
       ".xr-header > div,\n",
       ".xr-header > ul {\n",
       "  display: inline;\n",
       "  margin-top: 0;\n",
       "  margin-bottom: 0;\n",
       "}\n",
       "\n",
       ".xr-obj-type,\n",
       ".xr-array-name {\n",
       "  margin-left: 2px;\n",
       "  margin-right: 10px;\n",
       "}\n",
       "\n",
       ".xr-obj-type {\n",
       "  color: var(--xr-font-color2);\n",
       "}\n",
       "\n",
       ".xr-sections {\n",
       "  padding-left: 0 !important;\n",
       "  display: grid;\n",
       "  grid-template-columns: 150px auto auto 1fr 20px 20px;\n",
       "}\n",
       "\n",
       ".xr-section-item {\n",
       "  display: contents;\n",
       "}\n",
       "\n",
       ".xr-section-item input {\n",
       "  display: none;\n",
       "}\n",
       "\n",
       ".xr-section-item input + label {\n",
       "  color: var(--xr-disabled-color);\n",
       "}\n",
       "\n",
       ".xr-section-item input:enabled + label {\n",
       "  cursor: pointer;\n",
       "  color: var(--xr-font-color2);\n",
       "}\n",
       "\n",
       ".xr-section-item input:enabled + label:hover {\n",
       "  color: var(--xr-font-color0);\n",
       "}\n",
       "\n",
       ".xr-section-summary {\n",
       "  grid-column: 1;\n",
       "  color: var(--xr-font-color2);\n",
       "  font-weight: 500;\n",
       "}\n",
       "\n",
       ".xr-section-summary > span {\n",
       "  display: inline-block;\n",
       "  padding-left: 0.5em;\n",
       "}\n",
       "\n",
       ".xr-section-summary-in:disabled + label {\n",
       "  color: var(--xr-font-color2);\n",
       "}\n",
       "\n",
       ".xr-section-summary-in + label:before {\n",
       "  display: inline-block;\n",
       "  content: '►';\n",
       "  font-size: 11px;\n",
       "  width: 15px;\n",
       "  text-align: center;\n",
       "}\n",
       "\n",
       ".xr-section-summary-in:disabled + label:before {\n",
       "  color: var(--xr-disabled-color);\n",
       "}\n",
       "\n",
       ".xr-section-summary-in:checked + label:before {\n",
       "  content: '▼';\n",
       "}\n",
       "\n",
       ".xr-section-summary-in:checked + label > span {\n",
       "  display: none;\n",
       "}\n",
       "\n",
       ".xr-section-summary,\n",
       ".xr-section-inline-details {\n",
       "  padding-top: 4px;\n",
       "  padding-bottom: 4px;\n",
       "}\n",
       "\n",
       ".xr-section-inline-details {\n",
       "  grid-column: 2 / -1;\n",
       "}\n",
       "\n",
       ".xr-section-details {\n",
       "  display: none;\n",
       "  grid-column: 1 / -1;\n",
       "  margin-bottom: 5px;\n",
       "}\n",
       "\n",
       ".xr-section-summary-in:checked ~ .xr-section-details {\n",
       "  display: contents;\n",
       "}\n",
       "\n",
       ".xr-array-wrap {\n",
       "  grid-column: 1 / -1;\n",
       "  display: grid;\n",
       "  grid-template-columns: 20px auto;\n",
       "}\n",
       "\n",
       ".xr-array-wrap > label {\n",
       "  grid-column: 1;\n",
       "  vertical-align: top;\n",
       "}\n",
       "\n",
       ".xr-preview {\n",
       "  color: var(--xr-font-color3);\n",
       "}\n",
       "\n",
       ".xr-array-preview,\n",
       ".xr-array-data {\n",
       "  padding: 0 5px !important;\n",
       "  grid-column: 2;\n",
       "}\n",
       "\n",
       ".xr-array-data,\n",
       ".xr-array-in:checked ~ .xr-array-preview {\n",
       "  display: none;\n",
       "}\n",
       "\n",
       ".xr-array-in:checked ~ .xr-array-data,\n",
       ".xr-array-preview {\n",
       "  display: inline-block;\n",
       "}\n",
       "\n",
       ".xr-dim-list {\n",
       "  display: inline-block !important;\n",
       "  list-style: none;\n",
       "  padding: 0 !important;\n",
       "  margin: 0;\n",
       "}\n",
       "\n",
       ".xr-dim-list li {\n",
       "  display: inline-block;\n",
       "  padding: 0;\n",
       "  margin: 0;\n",
       "}\n",
       "\n",
       ".xr-dim-list:before {\n",
       "  content: '(';\n",
       "}\n",
       "\n",
       ".xr-dim-list:after {\n",
       "  content: ')';\n",
       "}\n",
       "\n",
       ".xr-dim-list li:not(:last-child):after {\n",
       "  content: ',';\n",
       "  padding-right: 5px;\n",
       "}\n",
       "\n",
       ".xr-has-index {\n",
       "  font-weight: bold;\n",
       "}\n",
       "\n",
       ".xr-var-list,\n",
       ".xr-var-item {\n",
       "  display: contents;\n",
       "}\n",
       "\n",
       ".xr-var-item > div,\n",
       ".xr-var-item label,\n",
       ".xr-var-item > .xr-var-name span {\n",
       "  background-color: var(--xr-background-color-row-even);\n",
       "  margin-bottom: 0;\n",
       "}\n",
       "\n",
       ".xr-var-item > .xr-var-name:hover span {\n",
       "  padding-right: 5px;\n",
       "}\n",
       "\n",
       ".xr-var-list > li:nth-child(odd) > div,\n",
       ".xr-var-list > li:nth-child(odd) > label,\n",
       ".xr-var-list > li:nth-child(odd) > .xr-var-name span {\n",
       "  background-color: var(--xr-background-color-row-odd);\n",
       "}\n",
       "\n",
       ".xr-var-name {\n",
       "  grid-column: 1;\n",
       "}\n",
       "\n",
       ".xr-var-dims {\n",
       "  grid-column: 2;\n",
       "}\n",
       "\n",
       ".xr-var-dtype {\n",
       "  grid-column: 3;\n",
       "  text-align: right;\n",
       "  color: var(--xr-font-color2);\n",
       "}\n",
       "\n",
       ".xr-var-preview {\n",
       "  grid-column: 4;\n",
       "}\n",
       "\n",
       ".xr-var-name,\n",
       ".xr-var-dims,\n",
       ".xr-var-dtype,\n",
       ".xr-preview,\n",
       ".xr-attrs dt {\n",
       "  white-space: nowrap;\n",
       "  overflow: hidden;\n",
       "  text-overflow: ellipsis;\n",
       "  padding-right: 10px;\n",
       "}\n",
       "\n",
       ".xr-var-name:hover,\n",
       ".xr-var-dims:hover,\n",
       ".xr-var-dtype:hover,\n",
       ".xr-attrs dt:hover {\n",
       "  overflow: visible;\n",
       "  width: auto;\n",
       "  z-index: 1;\n",
       "}\n",
       "\n",
       ".xr-var-attrs,\n",
       ".xr-var-data {\n",
       "  display: none;\n",
       "  background-color: var(--xr-background-color) !important;\n",
       "  padding-bottom: 5px !important;\n",
       "}\n",
       "\n",
       ".xr-var-attrs-in:checked ~ .xr-var-attrs,\n",
       ".xr-var-data-in:checked ~ .xr-var-data {\n",
       "  display: block;\n",
       "}\n",
       "\n",
       ".xr-var-data > table {\n",
       "  float: right;\n",
       "}\n",
       "\n",
       ".xr-var-name span,\n",
       ".xr-var-data,\n",
       ".xr-attrs {\n",
       "  padding-left: 25px !important;\n",
       "}\n",
       "\n",
       ".xr-attrs,\n",
       ".xr-var-attrs,\n",
       ".xr-var-data {\n",
       "  grid-column: 1 / -1;\n",
       "}\n",
       "\n",
       "dl.xr-attrs {\n",
       "  padding: 0;\n",
       "  margin: 0;\n",
       "  display: grid;\n",
       "  grid-template-columns: 125px auto;\n",
       "}\n",
       "\n",
       ".xr-attrs dt,\n",
       ".xr-attrs dd {\n",
       "  padding: 0;\n",
       "  margin: 0;\n",
       "  float: left;\n",
       "  padding-right: 10px;\n",
       "  width: auto;\n",
       "}\n",
       "\n",
       ".xr-attrs dt {\n",
       "  font-weight: normal;\n",
       "  grid-column: 1;\n",
       "}\n",
       "\n",
       ".xr-attrs dt:hover span {\n",
       "  display: inline-block;\n",
       "  background: var(--xr-background-color);\n",
       "  padding-right: 10px;\n",
       "}\n",
       "\n",
       ".xr-attrs dd {\n",
       "  grid-column: 2;\n",
       "  white-space: pre-wrap;\n",
       "  word-break: break-all;\n",
       "}\n",
       "\n",
       ".xr-icon-database,\n",
       ".xr-icon-file-text2 {\n",
       "  display: inline-block;\n",
       "  vertical-align: middle;\n",
       "  width: 1em;\n",
       "  height: 1.5em !important;\n",
       "  stroke-width: 0;\n",
       "  stroke: currentColor;\n",
       "  fill: currentColor;\n",
       "}\n",
       "</style><pre class='xr-text-repr-fallback'>&lt;xarray.MCDS&gt;\n",
       "Dimensions:     (cell: 203185, gene: 32285)\n",
       "Coordinates:\n",
       "  * cell        (cell) &lt;U37 &#x27;L8TX_201015_01_F02-GGGTTATCATTGAAGA-1&#x27; ... &#x27;L8TX...\n",
       "  * gene        (gene) &lt;U18 &#x27;ENSMUSG00000051951&#x27; ... &#x27;ENSMUSG00000095041&#x27;\n",
       "    gene_count  (cell) float32 6.365e+03 7.62e+03 ... 6.681e+03 4.487e+03\n",
       "    gene_name   (gene) &lt;U16 &#x27;Xkr4&#x27; &#x27;Gm1992&#x27; ... &#x27;AC234645.1&#x27; &#x27;AC149090.1&#x27;\n",
       "    umi_count   (cell) float32 2.946e+04 3.7e+04 ... 2.428e+04 1.119e+04\n",
       "Data variables:\n",
       "    gene_da     (cell, gene) float32 dask.array&lt;chunksize=(5000, 32285), meta=np.ndarray&gt;\n",
       "Attributes:\n",
       "    obs_dim:  cell\n",
       "    var_dim:  gene</pre><div class='xr-wrap' style='display:none'><div class='xr-header'><div class='xr-obj-type'>xarray.MCDS</div></div><ul class='xr-sections'><li class='xr-section-item'><input id='section-227eb182-368e-4406-a020-93049bdc7dbc' class='xr-section-summary-in' type='checkbox' disabled ><label for='section-227eb182-368e-4406-a020-93049bdc7dbc' class='xr-section-summary'  title='Expand/collapse section'>Dimensions:</label><div class='xr-section-inline-details'><ul class='xr-dim-list'><li><span class='xr-has-index'>cell</span>: 203185</li><li><span class='xr-has-index'>gene</span>: 32285</li></ul></div><div class='xr-section-details'></div></li><li class='xr-section-item'><input id='section-a7172be2-53c9-4488-9e7d-2aac70685077' class='xr-section-summary-in' type='checkbox'  checked><label for='section-a7172be2-53c9-4488-9e7d-2aac70685077' class='xr-section-summary' >Coordinates: <span>(5)</span></label><div class='xr-section-inline-details'></div><div class='xr-section-details'><ul class='xr-var-list'><li class='xr-var-item'><div class='xr-var-name'><span class='xr-has-index'>cell</span></div><div class='xr-var-dims'>(cell)</div><div class='xr-var-dtype'>&lt;U37</div><div class='xr-var-preview xr-preview'>&#x27;L8TX_201015_01_F02-GGGTTATCATTG...</div><input id='attrs-05bb6b66-b6df-4bda-b3e6-2540f87ddc84' class='xr-var-attrs-in' type='checkbox' disabled><label for='attrs-05bb6b66-b6df-4bda-b3e6-2540f87ddc84' title='Show/Hide attributes'><svg class='icon xr-icon-file-text2'><use xlink:href='#icon-file-text2'></use></svg></label><input id='data-305278ec-dbd3-4047-8cc0-44543e4d4ff3' class='xr-var-data-in' type='checkbox'><label for='data-305278ec-dbd3-4047-8cc0-44543e4d4ff3' title='Show/Hide data repr'><svg class='icon xr-icon-database'><use xlink:href='#icon-database'></use></svg></label><div class='xr-var-attrs'><dl class='xr-attrs'></dl></div><div class='xr-var-data'><pre>array([&#x27;L8TX_201015_01_F02-GGGTTATCATTGAAGA-1&#x27;,\n",
       "       &#x27;L8TX_201105_01_H01-AACCACAGTTGCATCA-1&#x27;,\n",
       "       &#x27;L8TX_200827_01_F09-CGACAGCAGGATTTAG-1&#x27;, ...,\n",
       "       &#x27;L8TX_180406_01_B01-GCTGCAGCAGCTGCAC-1&#x27;,\n",
       "       &#x27;L8TX_190312_01_E02-AACCGCGAGGTGTGGT-1&#x27;,\n",
       "       &#x27;L8TX_180115_01_C11-GAAGCAGAGGCGATAC-1&#x27;], dtype=&#x27;&lt;U37&#x27;)</pre></div></li><li class='xr-var-item'><div class='xr-var-name'><span class='xr-has-index'>gene</span></div><div class='xr-var-dims'>(gene)</div><div class='xr-var-dtype'>&lt;U18</div><div class='xr-var-preview xr-preview'>&#x27;ENSMUSG00000051951&#x27; ... &#x27;ENSMUS...</div><input id='attrs-2c6ff389-e3f1-4230-82cb-26d1571915e6' class='xr-var-attrs-in' type='checkbox' disabled><label for='attrs-2c6ff389-e3f1-4230-82cb-26d1571915e6' title='Show/Hide attributes'><svg class='icon xr-icon-file-text2'><use xlink:href='#icon-file-text2'></use></svg></label><input id='data-1dfc17e6-f683-4b1c-9e91-fe1472c3db8d' class='xr-var-data-in' type='checkbox'><label for='data-1dfc17e6-f683-4b1c-9e91-fe1472c3db8d' title='Show/Hide data repr'><svg class='icon xr-icon-database'><use xlink:href='#icon-database'></use></svg></label><div class='xr-var-attrs'><dl class='xr-attrs'></dl></div><div class='xr-var-data'><pre>array([&#x27;ENSMUSG00000051951&#x27;, &#x27;ENSMUSG00000089699&#x27;, &#x27;ENSMUSG00000102331&#x27;, ...,\n",
       "       &#x27;ENSMUSG00000094855&#x27;, &#x27;ENSMUSG00000095019&#x27;, &#x27;ENSMUSG00000095041&#x27;],\n",
       "      dtype=&#x27;&lt;U18&#x27;)</pre></div></li><li class='xr-var-item'><div class='xr-var-name'><span>gene_count</span></div><div class='xr-var-dims'>(cell)</div><div class='xr-var-dtype'>float32</div><div class='xr-var-preview xr-preview'>6.365e+03 7.62e+03 ... 4.487e+03</div><input id='attrs-1506e86d-8d0c-4007-b624-6bd16dde019f' class='xr-var-attrs-in' type='checkbox' disabled><label for='attrs-1506e86d-8d0c-4007-b624-6bd16dde019f' title='Show/Hide attributes'><svg class='icon xr-icon-file-text2'><use xlink:href='#icon-file-text2'></use></svg></label><input id='data-06f7d2b7-c83e-4620-8d59-93f6517338c4' class='xr-var-data-in' type='checkbox'><label for='data-06f7d2b7-c83e-4620-8d59-93f6517338c4' title='Show/Hide data repr'><svg class='icon xr-icon-database'><use xlink:href='#icon-database'></use></svg></label><div class='xr-var-attrs'><dl class='xr-attrs'></dl></div><div class='xr-var-data'><pre>array([6365., 7620., 9034., ..., 2140., 6681., 4487.], dtype=float32)</pre></div></li><li class='xr-var-item'><div class='xr-var-name'><span>gene_name</span></div><div class='xr-var-dims'>(gene)</div><div class='xr-var-dtype'>&lt;U16</div><div class='xr-var-preview xr-preview'>&#x27;Xkr4&#x27; &#x27;Gm1992&#x27; ... &#x27;AC149090.1&#x27;</div><input id='attrs-c7c2846f-8f22-4451-a083-cdc9cb4ee4f3' class='xr-var-attrs-in' type='checkbox' disabled><label for='attrs-c7c2846f-8f22-4451-a083-cdc9cb4ee4f3' title='Show/Hide attributes'><svg class='icon xr-icon-file-text2'><use xlink:href='#icon-file-text2'></use></svg></label><input id='data-711589b1-5058-4dba-8b5f-16e958134d19' class='xr-var-data-in' type='checkbox'><label for='data-711589b1-5058-4dba-8b5f-16e958134d19' title='Show/Hide data repr'><svg class='icon xr-icon-database'><use xlink:href='#icon-database'></use></svg></label><div class='xr-var-attrs'><dl class='xr-attrs'></dl></div><div class='xr-var-data'><pre>array([&#x27;Xkr4&#x27;, &#x27;Gm1992&#x27;, &#x27;Gm19938&#x27;, ..., &#x27;AC133095.1&#x27;, &#x27;AC234645.1&#x27;,\n",
       "       &#x27;AC149090.1&#x27;], dtype=&#x27;&lt;U16&#x27;)</pre></div></li><li class='xr-var-item'><div class='xr-var-name'><span>umi_count</span></div><div class='xr-var-dims'>(cell)</div><div class='xr-var-dtype'>float32</div><div class='xr-var-preview xr-preview'>2.946e+04 3.7e+04 ... 1.119e+04</div><input id='attrs-99997744-24eb-44ee-b2d0-d2c9146ffcfb' class='xr-var-attrs-in' type='checkbox' disabled><label for='attrs-99997744-24eb-44ee-b2d0-d2c9146ffcfb' title='Show/Hide attributes'><svg class='icon xr-icon-file-text2'><use xlink:href='#icon-file-text2'></use></svg></label><input id='data-9fecb890-06c7-4029-9760-2e5905156a8a' class='xr-var-data-in' type='checkbox'><label for='data-9fecb890-06c7-4029-9760-2e5905156a8a' title='Show/Hide data repr'><svg class='icon xr-icon-database'><use xlink:href='#icon-database'></use></svg></label><div class='xr-var-attrs'><dl class='xr-attrs'></dl></div><div class='xr-var-data'><pre>array([29457., 37000., 65440., ...,  3312., 24285., 11187.], dtype=float32)</pre></div></li></ul></div></li><li class='xr-section-item'><input id='section-7a5f27c3-892c-4299-a76e-ef08ae3125b5' class='xr-section-summary-in' type='checkbox'  checked><label for='section-7a5f27c3-892c-4299-a76e-ef08ae3125b5' class='xr-section-summary' >Data variables: <span>(1)</span></label><div class='xr-section-inline-details'></div><div class='xr-section-details'><ul class='xr-var-list'><li class='xr-var-item'><div class='xr-var-name'><span>gene_da</span></div><div class='xr-var-dims'>(cell, gene)</div><div class='xr-var-dtype'>float32</div><div class='xr-var-preview xr-preview'>dask.array&lt;chunksize=(5000, 32285), meta=np.ndarray&gt;</div><input id='attrs-6c161710-774d-415b-a067-49895e10e51b' class='xr-var-attrs-in' type='checkbox' disabled><label for='attrs-6c161710-774d-415b-a067-49895e10e51b' title='Show/Hide attributes'><svg class='icon xr-icon-file-text2'><use xlink:href='#icon-file-text2'></use></svg></label><input id='data-5fcaeb09-2a83-47a2-b51f-4624012546d8' class='xr-var-data-in' type='checkbox'><label for='data-5fcaeb09-2a83-47a2-b51f-4624012546d8' title='Show/Hide data repr'><svg class='icon xr-icon-database'><use xlink:href='#icon-database'></use></svg></label><div class='xr-var-attrs'><dl class='xr-attrs'></dl></div><div class='xr-var-data'><table>\n",
       "    <tr>\n",
       "        <td>\n",
       "            <table>\n",
       "                <thead>\n",
       "                    <tr>\n",
       "                        <td> </td>\n",
       "                        <th> Array </th>\n",
       "                        <th> Chunk </th>\n",
       "                    </tr>\n",
       "                </thead>\n",
       "                <tbody>\n",
       "                    \n",
       "                    <tr>\n",
       "                        <th> Bytes </th>\n",
       "                        <td> 24.44 GiB </td>\n",
       "                        <td> 615.79 MiB </td>\n",
       "                    </tr>\n",
       "                    \n",
       "                    <tr>\n",
       "                        <th> Shape </th>\n",
       "                        <td> (203185, 32285) </td>\n",
       "                        <td> (5000, 32285) </td>\n",
       "                    </tr>\n",
       "                    <tr>\n",
       "                        <th> Count </th>\n",
       "                        <td> 42 Tasks </td>\n",
       "                        <td> 41 Chunks </td>\n",
       "                    </tr>\n",
       "                    <tr>\n",
       "                    <th> Type </th>\n",
       "                    <td> float32 </td>\n",
       "                    <td> numpy.ndarray </td>\n",
       "                    </tr>\n",
       "                </tbody>\n",
       "            </table>\n",
       "        </td>\n",
       "        <td>\n",
       "        <svg width=\"90\" height=\"170\" style=\"stroke:rgb(0,0,0);stroke-width:1\" >\n",
       "\n",
       "  <!-- Horizontal lines -->\n",
       "  <line x1=\"0\" y1=\"0\" x2=\"40\" y2=\"0\" style=\"stroke-width:2\" />\n",
       "  <line x1=\"0\" y1=\"5\" x2=\"40\" y2=\"5\" />\n",
       "  <line x1=\"0\" y1=\"11\" x2=\"40\" y2=\"11\" />\n",
       "  <line x1=\"0\" y1=\"17\" x2=\"40\" y2=\"17\" />\n",
       "  <line x1=\"0\" y1=\"23\" x2=\"40\" y2=\"23\" />\n",
       "  <line x1=\"0\" y1=\"29\" x2=\"40\" y2=\"29\" />\n",
       "  <line x1=\"0\" y1=\"35\" x2=\"40\" y2=\"35\" />\n",
       "  <line x1=\"0\" y1=\"44\" x2=\"40\" y2=\"44\" />\n",
       "  <line x1=\"0\" y1=\"50\" x2=\"40\" y2=\"50\" />\n",
       "  <line x1=\"0\" y1=\"56\" x2=\"40\" y2=\"56\" />\n",
       "  <line x1=\"0\" y1=\"62\" x2=\"40\" y2=\"62\" />\n",
       "  <line x1=\"0\" y1=\"67\" x2=\"40\" y2=\"67\" />\n",
       "  <line x1=\"0\" y1=\"73\" x2=\"40\" y2=\"73\" />\n",
       "  <line x1=\"0\" y1=\"82\" x2=\"40\" y2=\"82\" />\n",
       "  <line x1=\"0\" y1=\"88\" x2=\"40\" y2=\"88\" />\n",
       "  <line x1=\"0\" y1=\"94\" x2=\"40\" y2=\"94\" />\n",
       "  <line x1=\"0\" y1=\"100\" x2=\"40\" y2=\"100\" />\n",
       "  <line x1=\"0\" y1=\"106\" x2=\"40\" y2=\"106\" />\n",
       "  <line x1=\"0\" y1=\"112\" x2=\"40\" y2=\"112\" />\n",
       "  <line x1=\"0\" y1=\"120\" x2=\"40\" y2=\"120\" style=\"stroke-width:2\" />\n",
       "\n",
       "  <!-- Vertical lines -->\n",
       "  <line x1=\"0\" y1=\"0\" x2=\"0\" y2=\"120\" style=\"stroke-width:2\" />\n",
       "  <line x1=\"40\" y1=\"0\" x2=\"40\" y2=\"120\" style=\"stroke-width:2\" />\n",
       "\n",
       "  <!-- Colored Rectangle -->\n",
       "  <polygon points=\"0.0,0.0 40.981160046794706,0.0 40.981160046794706,120.0 0.0,120.0\" style=\"fill:#8B4903A0;stroke-width:0\"/>\n",
       "\n",
       "  <!-- Text -->\n",
       "  <text x=\"20.490580\" y=\"140.000000\" font-size=\"1.0rem\" font-weight=\"100\" text-anchor=\"middle\" >32285</text>\n",
       "  <text x=\"60.981160\" y=\"60.000000\" font-size=\"1.0rem\" font-weight=\"100\" text-anchor=\"middle\" transform=\"rotate(-90,60.981160,60.000000)\">203185</text>\n",
       "</svg>\n",
       "        </td>\n",
       "    </tr>\n",
       "</table></div></li></ul></div></li><li class='xr-section-item'><input id='section-fec897c6-ba19-4c97-9adf-5a2176ffd1a1' class='xr-section-summary-in' type='checkbox'  checked><label for='section-fec897c6-ba19-4c97-9adf-5a2176ffd1a1' class='xr-section-summary' >Attributes: <span>(2)</span></label><div class='xr-section-inline-details'></div><div class='xr-section-details'><dl class='xr-attrs'><dt><span>obs_dim :</span></dt><dd>cell</dd><dt><span>var_dim :</span></dt><dd>gene</dd></dl></div></li></ul></div></div>"
      ],
      "text/plain": [
       "<xarray.MCDS>\n",
       "Dimensions:     (cell: 203185, gene: 32285)\n",
       "Coordinates:\n",
       "  * cell        (cell) <U37 'L8TX_201015_01_F02-GGGTTATCATTGAAGA-1' ... 'L8TX...\n",
       "  * gene        (gene) <U18 'ENSMUSG00000051951' ... 'ENSMUSG00000095041'\n",
       "    gene_count  (cell) float32 6.365e+03 7.62e+03 ... 6.681e+03 4.487e+03\n",
       "    gene_name   (gene) <U16 'Xkr4' 'Gm1992' ... 'AC234645.1' 'AC149090.1'\n",
       "    umi_count   (cell) float32 2.946e+04 3.7e+04 ... 2.428e+04 1.119e+04\n",
       "Data variables:\n",
       "    gene_da     (cell, gene) float32 dask.array<chunksize=(5000, 32285), meta=np.ndarray>\n",
       "Attributes:\n",
       "    obs_dim:  cell\n",
       "    var_dim:  gene"
      ]
     },
     "execution_count": 6,
     "metadata": {},
     "output_type": "execute_result"
    }
   ],
   "source": [
    "rna_ds = MCDS.open(aibs.AIBS_TENX_V2_ZARR_PATH, var_dim=var_dim, use_obs=use_cells)\n",
    "\n",
    "rna_ds"
   ]
  },
  {
   "cell_type": "code",
   "execution_count": 7,
   "id": "f91444a1-6ce8-4e62-908a-62ad3f25d7d9",
   "metadata": {
    "execution": {
     "iopub.execute_input": "2022-10-22T23:03:05.285575Z",
     "iopub.status.busy": "2022-10-22T23:03:05.285357Z",
     "iopub.status.idle": "2022-10-22T23:03:05.425747Z",
     "shell.execute_reply": "2022-10-22T23:03:05.424979Z"
    },
    "papermill": {
     "duration": 0.152777,
     "end_time": "2022-10-22T23:03:05.427629",
     "exception": false,
     "start_time": "2022-10-22T23:03:05.274852",
     "status": "completed"
    },
    "tags": []
   },
   "outputs": [],
   "source": [
    "gene_meta = mm10.get_gene_metadata()\n",
    "gene_meta.index.name = var_dim\n",
    "rna_ds[f'{var_dim}_chrom'] = gene_meta['chrom']\n",
    "rna_ds[f'{var_dim}_start'] = gene_meta['start']\n",
    "rna_ds[f'{var_dim}_end'] = gene_meta['end']"
   ]
  },
  {
   "cell_type": "code",
   "execution_count": 8,
   "id": "e6510219-abd1-4c7b-b4e6-c65a8b957fac",
   "metadata": {
    "execution": {
     "iopub.execute_input": "2022-10-22T23:03:05.447919Z",
     "iopub.status.busy": "2022-10-22T23:03:05.447718Z",
     "iopub.status.idle": "2022-10-22T23:03:05.462281Z",
     "shell.execute_reply": "2022-10-22T23:03:05.461651Z"
    },
    "papermill": {
     "duration": 0.025773,
     "end_time": "2022-10-22T23:03:05.463473",
     "exception": false,
     "start_time": "2022-10-22T23:03:05.437700",
     "status": "completed"
    },
    "tags": []
   },
   "outputs": [
    {
     "name": "stdout",
     "output_type": "stream",
     "text": [
      "1844 gene features in ['chrX', 'chrY', 'chrM', 'chrL'] removed.\n"
     ]
    }
   ],
   "source": [
    "rna_ds = rna_ds.remove_chromosome(exclude_chromosome=chrom_to_remove)"
   ]
  },
  {
   "cell_type": "code",
   "execution_count": 9,
   "id": "32e7c994",
   "metadata": {
    "ExecuteTime": {
     "end_time": "2022-06-25T18:39:25.144975Z",
     "start_time": "2022-06-25T18:39:20.234891Z"
    },
    "execution": {
     "iopub.execute_input": "2022-10-22T23:03:05.483728Z",
     "iopub.status.busy": "2022-10-22T23:03:05.483543Z",
     "iopub.status.idle": "2022-10-22T23:03:06.406881Z",
     "shell.execute_reply": "2022-10-22T23:03:06.406032Z"
    },
    "papermill": {
     "duration": 0.934859,
     "end_time": "2022-10-22T23:03:06.408211",
     "exception": false,
     "start_time": "2022-10-22T23:03:05.473352",
     "status": "completed"
    },
    "tags": []
   },
   "outputs": [
    {
     "name": "stdout",
     "output_type": "stream",
     "text": [
      "1260 gene features removed due to overlapping (bedtools intersect -f 0.2) with black list regions.\n"
     ]
    },
    {
     "name": "stderr",
     "output_type": "stream",
     "text": [
      "***** WARNING: File /tmp/pybedtools._qa1ouip.tmp has inconsistent naming convention for record:\n",
      "GL456210.1\t9124\t58882\n",
      "\n",
      "***** WARNING: File /tmp/pybedtools._qa1ouip.tmp has inconsistent naming convention for record:\n",
      "GL456210.1\t9124\t58882\n",
      "\n"
     ]
    }
   ],
   "source": [
    "rna_ds = rna_ds.remove_black_list_region(black_list_path=mm10.ENCODE_BLACKLIST_PATH)"
   ]
  },
  {
   "cell_type": "code",
   "execution_count": 10,
   "id": "28d4d626",
   "metadata": {
    "ExecuteTime": {
     "end_time": "2022-06-25T18:39:30.446377Z",
     "start_time": "2022-06-25T18:39:25.146189Z"
    },
    "execution": {
     "iopub.execute_input": "2022-10-22T23:03:06.429136Z",
     "iopub.status.busy": "2022-10-22T23:03:06.428883Z",
     "iopub.status.idle": "2022-10-22T23:04:30.191328Z",
     "shell.execute_reply": "2022-10-22T23:04:30.190424Z"
    },
    "papermill": {
     "duration": 83.785808,
     "end_time": "2022-10-22T23:04:30.204203",
     "exception": false,
     "start_time": "2022-10-22T23:03:06.418395",
     "status": "completed"
    },
    "tags": []
   },
   "outputs": [
    {
     "name": "stderr",
     "output_type": "stream",
     "text": [
      "/opt/conda/lib/python3.7/site-packages/xarray/core/indexing.py:1227: PerformanceWarning: Slicing is producing a large chunk. To accept the large\n",
      "chunk and silence this warning, set the option\n",
      "    >>> with dask.config.set(**{'array.slicing.split_large_chunks': False}):\n",
      "    ...     array[indexer]\n",
      "\n",
      "To avoid creating the large chunks, set the option\n",
      "    >>> with dask.config.set(**{'array.slicing.split_large_chunks': True}):\n",
      "    ...     array[indexer]\n",
      "  return self.array[key]\n"
     ]
    }
   ],
   "source": [
    "feature_std = rna_ds[f'{var_dim}_da'].std(dim='cell').to_pandas()\n",
    "pass_std_filter = (feature_std > std_cutoff).values\n",
    "\n",
    "rna_ds = rna_ds.sel({var_dim: pass_std_filter})"
   ]
  },
  {
   "cell_type": "code",
   "execution_count": 11,
   "id": "d9f529fe-0317-4d07-aac7-021299ba10c0",
   "metadata": {
    "execution": {
     "iopub.execute_input": "2022-10-22T23:04:30.226568Z",
     "iopub.status.busy": "2022-10-22T23:04:30.226111Z",
     "iopub.status.idle": "2022-10-22T23:04:30.313494Z",
     "shell.execute_reply": "2022-10-22T23:04:30.312736Z"
    },
    "papermill": {
     "duration": 0.100699,
     "end_time": "2022-10-22T23:04:30.314987",
     "exception": false,
     "start_time": "2022-10-22T23:04:30.214288",
     "status": "completed"
    },
    "tags": []
   },
   "outputs": [
    {
     "data": {
      "text/html": [
       "<div><svg style=\"position: absolute; width: 0; height: 0; overflow: hidden\">\n",
       "<defs>\n",
       "<symbol id=\"icon-database\" viewBox=\"0 0 32 32\">\n",
       "<path d=\"M16 0c-8.837 0-16 2.239-16 5v4c0 2.761 7.163 5 16 5s16-2.239 16-5v-4c0-2.761-7.163-5-16-5z\"></path>\n",
       "<path d=\"M16 17c-8.837 0-16-2.239-16-5v6c0 2.761 7.163 5 16 5s16-2.239 16-5v-6c0 2.761-7.163 5-16 5z\"></path>\n",
       "<path d=\"M16 26c-8.837 0-16-2.239-16-5v6c0 2.761 7.163 5 16 5s16-2.239 16-5v-6c0 2.761-7.163 5-16 5z\"></path>\n",
       "</symbol>\n",
       "<symbol id=\"icon-file-text2\" viewBox=\"0 0 32 32\">\n",
       "<path d=\"M28.681 7.159c-0.694-0.947-1.662-2.053-2.724-3.116s-2.169-2.030-3.116-2.724c-1.612-1.182-2.393-1.319-2.841-1.319h-15.5c-1.378 0-2.5 1.121-2.5 2.5v27c0 1.378 1.122 2.5 2.5 2.5h23c1.378 0 2.5-1.122 2.5-2.5v-19.5c0-0.448-0.137-1.23-1.319-2.841zM24.543 5.457c0.959 0.959 1.712 1.825 2.268 2.543h-4.811v-4.811c0.718 0.556 1.584 1.309 2.543 2.268zM28 29.5c0 0.271-0.229 0.5-0.5 0.5h-23c-0.271 0-0.5-0.229-0.5-0.5v-27c0-0.271 0.229-0.5 0.5-0.5 0 0 15.499-0 15.5 0v7c0 0.552 0.448 1 1 1h7v19.5z\"></path>\n",
       "<path d=\"M23 26h-14c-0.552 0-1-0.448-1-1s0.448-1 1-1h14c0.552 0 1 0.448 1 1s-0.448 1-1 1z\"></path>\n",
       "<path d=\"M23 22h-14c-0.552 0-1-0.448-1-1s0.448-1 1-1h14c0.552 0 1 0.448 1 1s-0.448 1-1 1z\"></path>\n",
       "<path d=\"M23 18h-14c-0.552 0-1-0.448-1-1s0.448-1 1-1h14c0.552 0 1 0.448 1 1s-0.448 1-1 1z\"></path>\n",
       "</symbol>\n",
       "</defs>\n",
       "</svg>\n",
       "<style>/* CSS stylesheet for displaying xarray objects in jupyterlab.\n",
       " *\n",
       " */\n",
       "\n",
       ":root {\n",
       "  --xr-font-color0: var(--jp-content-font-color0, rgba(0, 0, 0, 1));\n",
       "  --xr-font-color2: var(--jp-content-font-color2, rgba(0, 0, 0, 0.54));\n",
       "  --xr-font-color3: var(--jp-content-font-color3, rgba(0, 0, 0, 0.38));\n",
       "  --xr-border-color: var(--jp-border-color2, #e0e0e0);\n",
       "  --xr-disabled-color: var(--jp-layout-color3, #bdbdbd);\n",
       "  --xr-background-color: var(--jp-layout-color0, white);\n",
       "  --xr-background-color-row-even: var(--jp-layout-color1, white);\n",
       "  --xr-background-color-row-odd: var(--jp-layout-color2, #eeeeee);\n",
       "}\n",
       "\n",
       "html[theme=dark],\n",
       "body.vscode-dark {\n",
       "  --xr-font-color0: rgba(255, 255, 255, 1);\n",
       "  --xr-font-color2: rgba(255, 255, 255, 0.54);\n",
       "  --xr-font-color3: rgba(255, 255, 255, 0.38);\n",
       "  --xr-border-color: #1F1F1F;\n",
       "  --xr-disabled-color: #515151;\n",
       "  --xr-background-color: #111111;\n",
       "  --xr-background-color-row-even: #111111;\n",
       "  --xr-background-color-row-odd: #313131;\n",
       "}\n",
       "\n",
       ".xr-wrap {\n",
       "  display: block !important;\n",
       "  min-width: 300px;\n",
       "  max-width: 700px;\n",
       "}\n",
       "\n",
       ".xr-text-repr-fallback {\n",
       "  /* fallback to plain text repr when CSS is not injected (untrusted notebook) */\n",
       "  display: none;\n",
       "}\n",
       "\n",
       ".xr-header {\n",
       "  padding-top: 6px;\n",
       "  padding-bottom: 6px;\n",
       "  margin-bottom: 4px;\n",
       "  border-bottom: solid 1px var(--xr-border-color);\n",
       "}\n",
       "\n",
       ".xr-header > div,\n",
       ".xr-header > ul {\n",
       "  display: inline;\n",
       "  margin-top: 0;\n",
       "  margin-bottom: 0;\n",
       "}\n",
       "\n",
       ".xr-obj-type,\n",
       ".xr-array-name {\n",
       "  margin-left: 2px;\n",
       "  margin-right: 10px;\n",
       "}\n",
       "\n",
       ".xr-obj-type {\n",
       "  color: var(--xr-font-color2);\n",
       "}\n",
       "\n",
       ".xr-sections {\n",
       "  padding-left: 0 !important;\n",
       "  display: grid;\n",
       "  grid-template-columns: 150px auto auto 1fr 20px 20px;\n",
       "}\n",
       "\n",
       ".xr-section-item {\n",
       "  display: contents;\n",
       "}\n",
       "\n",
       ".xr-section-item input {\n",
       "  display: none;\n",
       "}\n",
       "\n",
       ".xr-section-item input + label {\n",
       "  color: var(--xr-disabled-color);\n",
       "}\n",
       "\n",
       ".xr-section-item input:enabled + label {\n",
       "  cursor: pointer;\n",
       "  color: var(--xr-font-color2);\n",
       "}\n",
       "\n",
       ".xr-section-item input:enabled + label:hover {\n",
       "  color: var(--xr-font-color0);\n",
       "}\n",
       "\n",
       ".xr-section-summary {\n",
       "  grid-column: 1;\n",
       "  color: var(--xr-font-color2);\n",
       "  font-weight: 500;\n",
       "}\n",
       "\n",
       ".xr-section-summary > span {\n",
       "  display: inline-block;\n",
       "  padding-left: 0.5em;\n",
       "}\n",
       "\n",
       ".xr-section-summary-in:disabled + label {\n",
       "  color: var(--xr-font-color2);\n",
       "}\n",
       "\n",
       ".xr-section-summary-in + label:before {\n",
       "  display: inline-block;\n",
       "  content: '►';\n",
       "  font-size: 11px;\n",
       "  width: 15px;\n",
       "  text-align: center;\n",
       "}\n",
       "\n",
       ".xr-section-summary-in:disabled + label:before {\n",
       "  color: var(--xr-disabled-color);\n",
       "}\n",
       "\n",
       ".xr-section-summary-in:checked + label:before {\n",
       "  content: '▼';\n",
       "}\n",
       "\n",
       ".xr-section-summary-in:checked + label > span {\n",
       "  display: none;\n",
       "}\n",
       "\n",
       ".xr-section-summary,\n",
       ".xr-section-inline-details {\n",
       "  padding-top: 4px;\n",
       "  padding-bottom: 4px;\n",
       "}\n",
       "\n",
       ".xr-section-inline-details {\n",
       "  grid-column: 2 / -1;\n",
       "}\n",
       "\n",
       ".xr-section-details {\n",
       "  display: none;\n",
       "  grid-column: 1 / -1;\n",
       "  margin-bottom: 5px;\n",
       "}\n",
       "\n",
       ".xr-section-summary-in:checked ~ .xr-section-details {\n",
       "  display: contents;\n",
       "}\n",
       "\n",
       ".xr-array-wrap {\n",
       "  grid-column: 1 / -1;\n",
       "  display: grid;\n",
       "  grid-template-columns: 20px auto;\n",
       "}\n",
       "\n",
       ".xr-array-wrap > label {\n",
       "  grid-column: 1;\n",
       "  vertical-align: top;\n",
       "}\n",
       "\n",
       ".xr-preview {\n",
       "  color: var(--xr-font-color3);\n",
       "}\n",
       "\n",
       ".xr-array-preview,\n",
       ".xr-array-data {\n",
       "  padding: 0 5px !important;\n",
       "  grid-column: 2;\n",
       "}\n",
       "\n",
       ".xr-array-data,\n",
       ".xr-array-in:checked ~ .xr-array-preview {\n",
       "  display: none;\n",
       "}\n",
       "\n",
       ".xr-array-in:checked ~ .xr-array-data,\n",
       ".xr-array-preview {\n",
       "  display: inline-block;\n",
       "}\n",
       "\n",
       ".xr-dim-list {\n",
       "  display: inline-block !important;\n",
       "  list-style: none;\n",
       "  padding: 0 !important;\n",
       "  margin: 0;\n",
       "}\n",
       "\n",
       ".xr-dim-list li {\n",
       "  display: inline-block;\n",
       "  padding: 0;\n",
       "  margin: 0;\n",
       "}\n",
       "\n",
       ".xr-dim-list:before {\n",
       "  content: '(';\n",
       "}\n",
       "\n",
       ".xr-dim-list:after {\n",
       "  content: ')';\n",
       "}\n",
       "\n",
       ".xr-dim-list li:not(:last-child):after {\n",
       "  content: ',';\n",
       "  padding-right: 5px;\n",
       "}\n",
       "\n",
       ".xr-has-index {\n",
       "  font-weight: bold;\n",
       "}\n",
       "\n",
       ".xr-var-list,\n",
       ".xr-var-item {\n",
       "  display: contents;\n",
       "}\n",
       "\n",
       ".xr-var-item > div,\n",
       ".xr-var-item label,\n",
       ".xr-var-item > .xr-var-name span {\n",
       "  background-color: var(--xr-background-color-row-even);\n",
       "  margin-bottom: 0;\n",
       "}\n",
       "\n",
       ".xr-var-item > .xr-var-name:hover span {\n",
       "  padding-right: 5px;\n",
       "}\n",
       "\n",
       ".xr-var-list > li:nth-child(odd) > div,\n",
       ".xr-var-list > li:nth-child(odd) > label,\n",
       ".xr-var-list > li:nth-child(odd) > .xr-var-name span {\n",
       "  background-color: var(--xr-background-color-row-odd);\n",
       "}\n",
       "\n",
       ".xr-var-name {\n",
       "  grid-column: 1;\n",
       "}\n",
       "\n",
       ".xr-var-dims {\n",
       "  grid-column: 2;\n",
       "}\n",
       "\n",
       ".xr-var-dtype {\n",
       "  grid-column: 3;\n",
       "  text-align: right;\n",
       "  color: var(--xr-font-color2);\n",
       "}\n",
       "\n",
       ".xr-var-preview {\n",
       "  grid-column: 4;\n",
       "}\n",
       "\n",
       ".xr-var-name,\n",
       ".xr-var-dims,\n",
       ".xr-var-dtype,\n",
       ".xr-preview,\n",
       ".xr-attrs dt {\n",
       "  white-space: nowrap;\n",
       "  overflow: hidden;\n",
       "  text-overflow: ellipsis;\n",
       "  padding-right: 10px;\n",
       "}\n",
       "\n",
       ".xr-var-name:hover,\n",
       ".xr-var-dims:hover,\n",
       ".xr-var-dtype:hover,\n",
       ".xr-attrs dt:hover {\n",
       "  overflow: visible;\n",
       "  width: auto;\n",
       "  z-index: 1;\n",
       "}\n",
       "\n",
       ".xr-var-attrs,\n",
       ".xr-var-data {\n",
       "  display: none;\n",
       "  background-color: var(--xr-background-color) !important;\n",
       "  padding-bottom: 5px !important;\n",
       "}\n",
       "\n",
       ".xr-var-attrs-in:checked ~ .xr-var-attrs,\n",
       ".xr-var-data-in:checked ~ .xr-var-data {\n",
       "  display: block;\n",
       "}\n",
       "\n",
       ".xr-var-data > table {\n",
       "  float: right;\n",
       "}\n",
       "\n",
       ".xr-var-name span,\n",
       ".xr-var-data,\n",
       ".xr-attrs {\n",
       "  padding-left: 25px !important;\n",
       "}\n",
       "\n",
       ".xr-attrs,\n",
       ".xr-var-attrs,\n",
       ".xr-var-data {\n",
       "  grid-column: 1 / -1;\n",
       "}\n",
       "\n",
       "dl.xr-attrs {\n",
       "  padding: 0;\n",
       "  margin: 0;\n",
       "  display: grid;\n",
       "  grid-template-columns: 125px auto;\n",
       "}\n",
       "\n",
       ".xr-attrs dt,\n",
       ".xr-attrs dd {\n",
       "  padding: 0;\n",
       "  margin: 0;\n",
       "  float: left;\n",
       "  padding-right: 10px;\n",
       "  width: auto;\n",
       "}\n",
       "\n",
       ".xr-attrs dt {\n",
       "  font-weight: normal;\n",
       "  grid-column: 1;\n",
       "}\n",
       "\n",
       ".xr-attrs dt:hover span {\n",
       "  display: inline-block;\n",
       "  background: var(--xr-background-color);\n",
       "  padding-right: 10px;\n",
       "}\n",
       "\n",
       ".xr-attrs dd {\n",
       "  grid-column: 2;\n",
       "  white-space: pre-wrap;\n",
       "  word-break: break-all;\n",
       "}\n",
       "\n",
       ".xr-icon-database,\n",
       ".xr-icon-file-text2 {\n",
       "  display: inline-block;\n",
       "  vertical-align: middle;\n",
       "  width: 1em;\n",
       "  height: 1.5em !important;\n",
       "  stroke-width: 0;\n",
       "  stroke: currentColor;\n",
       "  fill: currentColor;\n",
       "}\n",
       "</style><pre class='xr-text-repr-fallback'>&lt;xarray.MCDS&gt;\n",
       "Dimensions:     (cell: 203185, gene: 19025)\n",
       "Coordinates:\n",
       "  * cell        (cell) &lt;U37 &#x27;L8TX_201015_01_F02-GGGTTATCATTGAAGA-1&#x27; ... &#x27;L8TX...\n",
       "  * gene        (gene) object &#x27;ENSMUSG00000051951&#x27; ... &#x27;ENSMUSG00000095041&#x27;\n",
       "    gene_count  (cell) float32 6.365e+03 7.62e+03 ... 6.681e+03 4.487e+03\n",
       "    gene_name   (gene) &lt;U16 &#x27;Xkr4&#x27; &#x27;Gm1992&#x27; ... &#x27;CAAA01147332.1&#x27; &#x27;AC149090.1&#x27;\n",
       "    umi_count   (cell) float32 2.946e+04 3.7e+04 ... 2.428e+04 1.119e+04\n",
       "Data variables:\n",
       "    gene_da     (cell, gene) float32 dask.array&lt;chunksize=(5000, 19025), meta=np.ndarray&gt;\n",
       "    gene_chrom  (gene) object &#x27;chr1&#x27; &#x27;chr1&#x27; &#x27;chr1&#x27; ... &#x27;JH584295.1&#x27; &#x27;JH584304.1&#x27;\n",
       "    gene_start  (gene) int64 3205901 3466587 3647309 3999557 ... 137009 66 52190\n",
       "    gene_end    (gene) int64 3671498 3513553 3658904 ... 137560 1479 59690\n",
       "Attributes:\n",
       "    obs_dim:  cell\n",
       "    var_dim:  gene</pre><div class='xr-wrap' style='display:none'><div class='xr-header'><div class='xr-obj-type'>xarray.MCDS</div></div><ul class='xr-sections'><li class='xr-section-item'><input id='section-40772d10-da0c-4c2c-b4ef-cf48cbdba0d1' class='xr-section-summary-in' type='checkbox' disabled ><label for='section-40772d10-da0c-4c2c-b4ef-cf48cbdba0d1' class='xr-section-summary'  title='Expand/collapse section'>Dimensions:</label><div class='xr-section-inline-details'><ul class='xr-dim-list'><li><span class='xr-has-index'>cell</span>: 203185</li><li><span class='xr-has-index'>gene</span>: 19025</li></ul></div><div class='xr-section-details'></div></li><li class='xr-section-item'><input id='section-cb3fde02-3f69-46c0-a9a9-f5742291f295' class='xr-section-summary-in' type='checkbox'  checked><label for='section-cb3fde02-3f69-46c0-a9a9-f5742291f295' class='xr-section-summary' >Coordinates: <span>(5)</span></label><div class='xr-section-inline-details'></div><div class='xr-section-details'><ul class='xr-var-list'><li class='xr-var-item'><div class='xr-var-name'><span class='xr-has-index'>cell</span></div><div class='xr-var-dims'>(cell)</div><div class='xr-var-dtype'>&lt;U37</div><div class='xr-var-preview xr-preview'>&#x27;L8TX_201015_01_F02-GGGTTATCATTG...</div><input id='attrs-e3c6302d-b7a6-4300-8fc6-20dfa4dcd775' class='xr-var-attrs-in' type='checkbox' disabled><label for='attrs-e3c6302d-b7a6-4300-8fc6-20dfa4dcd775' title='Show/Hide attributes'><svg class='icon xr-icon-file-text2'><use xlink:href='#icon-file-text2'></use></svg></label><input id='data-c3029b23-71a1-4407-ab14-2e6aedbb3dca' class='xr-var-data-in' type='checkbox'><label for='data-c3029b23-71a1-4407-ab14-2e6aedbb3dca' title='Show/Hide data repr'><svg class='icon xr-icon-database'><use xlink:href='#icon-database'></use></svg></label><div class='xr-var-attrs'><dl class='xr-attrs'></dl></div><div class='xr-var-data'><pre>array([&#x27;L8TX_201015_01_F02-GGGTTATCATTGAAGA-1&#x27;,\n",
       "       &#x27;L8TX_201105_01_H01-AACCACAGTTGCATCA-1&#x27;,\n",
       "       &#x27;L8TX_200827_01_F09-CGACAGCAGGATTTAG-1&#x27;, ...,\n",
       "       &#x27;L8TX_180406_01_B01-GCTGCAGCAGCTGCAC-1&#x27;,\n",
       "       &#x27;L8TX_190312_01_E02-AACCGCGAGGTGTGGT-1&#x27;,\n",
       "       &#x27;L8TX_180115_01_C11-GAAGCAGAGGCGATAC-1&#x27;], dtype=&#x27;&lt;U37&#x27;)</pre></div></li><li class='xr-var-item'><div class='xr-var-name'><span class='xr-has-index'>gene</span></div><div class='xr-var-dims'>(gene)</div><div class='xr-var-dtype'>object</div><div class='xr-var-preview xr-preview'>&#x27;ENSMUSG00000051951&#x27; ... &#x27;ENSMUS...</div><input id='attrs-f4530e44-0d8b-4b25-a4b7-0c1784b84c1d' class='xr-var-attrs-in' type='checkbox' disabled><label for='attrs-f4530e44-0d8b-4b25-a4b7-0c1784b84c1d' title='Show/Hide attributes'><svg class='icon xr-icon-file-text2'><use xlink:href='#icon-file-text2'></use></svg></label><input id='data-92499354-2813-4ef8-98eb-4e4d9a51a148' class='xr-var-data-in' type='checkbox'><label for='data-92499354-2813-4ef8-98eb-4e4d9a51a148' title='Show/Hide data repr'><svg class='icon xr-icon-database'><use xlink:href='#icon-database'></use></svg></label><div class='xr-var-attrs'><dl class='xr-attrs'></dl></div><div class='xr-var-data'><pre>array([&#x27;ENSMUSG00000051951&#x27;, &#x27;ENSMUSG00000089699&#x27;, &#x27;ENSMUSG00000102331&#x27;, ...,\n",
       "       &#x27;ENSMUSG00000094350&#x27;, &#x27;ENSMUSG00000095742&#x27;, &#x27;ENSMUSG00000095041&#x27;],\n",
       "      dtype=object)</pre></div></li><li class='xr-var-item'><div class='xr-var-name'><span>gene_count</span></div><div class='xr-var-dims'>(cell)</div><div class='xr-var-dtype'>float32</div><div class='xr-var-preview xr-preview'>6.365e+03 7.62e+03 ... 4.487e+03</div><input id='attrs-9c4b3bba-f805-4165-b4dc-65a8eb28a443' class='xr-var-attrs-in' type='checkbox' disabled><label for='attrs-9c4b3bba-f805-4165-b4dc-65a8eb28a443' title='Show/Hide attributes'><svg class='icon xr-icon-file-text2'><use xlink:href='#icon-file-text2'></use></svg></label><input id='data-60125350-11db-445c-9e79-18ac1891480c' class='xr-var-data-in' type='checkbox'><label for='data-60125350-11db-445c-9e79-18ac1891480c' title='Show/Hide data repr'><svg class='icon xr-icon-database'><use xlink:href='#icon-database'></use></svg></label><div class='xr-var-attrs'><dl class='xr-attrs'></dl></div><div class='xr-var-data'><pre>array([6365., 7620., 9034., ..., 2140., 6681., 4487.], dtype=float32)</pre></div></li><li class='xr-var-item'><div class='xr-var-name'><span>gene_name</span></div><div class='xr-var-dims'>(gene)</div><div class='xr-var-dtype'>&lt;U16</div><div class='xr-var-preview xr-preview'>&#x27;Xkr4&#x27; &#x27;Gm1992&#x27; ... &#x27;AC149090.1&#x27;</div><input id='attrs-513dbdca-68a1-407c-8aeb-0d1b5cab1190' class='xr-var-attrs-in' type='checkbox' disabled><label for='attrs-513dbdca-68a1-407c-8aeb-0d1b5cab1190' title='Show/Hide attributes'><svg class='icon xr-icon-file-text2'><use xlink:href='#icon-file-text2'></use></svg></label><input id='data-1f5d3efd-b559-487c-b1fb-7130c1ba280c' class='xr-var-data-in' type='checkbox'><label for='data-1f5d3efd-b559-487c-b1fb-7130c1ba280c' title='Show/Hide data repr'><svg class='icon xr-icon-database'><use xlink:href='#icon-database'></use></svg></label><div class='xr-var-attrs'><dl class='xr-attrs'></dl></div><div class='xr-var-data'><pre>array([&#x27;Xkr4&#x27;, &#x27;Gm1992&#x27;, &#x27;Gm19938&#x27;, ..., &#x27;Gm10931&#x27;, &#x27;CAAA01147332.1&#x27;,\n",
       "       &#x27;AC149090.1&#x27;], dtype=&#x27;&lt;U16&#x27;)</pre></div></li><li class='xr-var-item'><div class='xr-var-name'><span>umi_count</span></div><div class='xr-var-dims'>(cell)</div><div class='xr-var-dtype'>float32</div><div class='xr-var-preview xr-preview'>2.946e+04 3.7e+04 ... 1.119e+04</div><input id='attrs-c52a1f74-d3a3-4c1c-97fe-7f6761b9acc0' class='xr-var-attrs-in' type='checkbox' disabled><label for='attrs-c52a1f74-d3a3-4c1c-97fe-7f6761b9acc0' title='Show/Hide attributes'><svg class='icon xr-icon-file-text2'><use xlink:href='#icon-file-text2'></use></svg></label><input id='data-077a30fa-fd82-4244-bbf4-56666a5d8b77' class='xr-var-data-in' type='checkbox'><label for='data-077a30fa-fd82-4244-bbf4-56666a5d8b77' title='Show/Hide data repr'><svg class='icon xr-icon-database'><use xlink:href='#icon-database'></use></svg></label><div class='xr-var-attrs'><dl class='xr-attrs'></dl></div><div class='xr-var-data'><pre>array([29457., 37000., 65440., ...,  3312., 24285., 11187.], dtype=float32)</pre></div></li></ul></div></li><li class='xr-section-item'><input id='section-ba295876-e24d-4519-aebb-39b11e64e4e4' class='xr-section-summary-in' type='checkbox'  checked><label for='section-ba295876-e24d-4519-aebb-39b11e64e4e4' class='xr-section-summary' >Data variables: <span>(4)</span></label><div class='xr-section-inline-details'></div><div class='xr-section-details'><ul class='xr-var-list'><li class='xr-var-item'><div class='xr-var-name'><span>gene_da</span></div><div class='xr-var-dims'>(cell, gene)</div><div class='xr-var-dtype'>float32</div><div class='xr-var-preview xr-preview'>dask.array&lt;chunksize=(5000, 19025), meta=np.ndarray&gt;</div><input id='attrs-56b94da6-5e3a-4e50-9630-74607af1016f' class='xr-var-attrs-in' type='checkbox' disabled><label for='attrs-56b94da6-5e3a-4e50-9630-74607af1016f' title='Show/Hide attributes'><svg class='icon xr-icon-file-text2'><use xlink:href='#icon-file-text2'></use></svg></label><input id='data-74889645-47b7-43cb-b193-e871205112c3' class='xr-var-data-in' type='checkbox'><label for='data-74889645-47b7-43cb-b193-e871205112c3' title='Show/Hide data repr'><svg class='icon xr-icon-database'><use xlink:href='#icon-database'></use></svg></label><div class='xr-var-attrs'><dl class='xr-attrs'></dl></div><div class='xr-var-data'><table>\n",
       "    <tr>\n",
       "        <td>\n",
       "            <table>\n",
       "                <thead>\n",
       "                    <tr>\n",
       "                        <td> </td>\n",
       "                        <th> Array </th>\n",
       "                        <th> Chunk </th>\n",
       "                    </tr>\n",
       "                </thead>\n",
       "                <tbody>\n",
       "                    \n",
       "                    <tr>\n",
       "                        <th> Bytes </th>\n",
       "                        <td> 14.40 GiB </td>\n",
       "                        <td> 362.87 MiB </td>\n",
       "                    </tr>\n",
       "                    \n",
       "                    <tr>\n",
       "                        <th> Shape </th>\n",
       "                        <td> (203185, 19025) </td>\n",
       "                        <td> (5000, 19025) </td>\n",
       "                    </tr>\n",
       "                    <tr>\n",
       "                        <th> Count </th>\n",
       "                        <td> 165 Tasks </td>\n",
       "                        <td> 41 Chunks </td>\n",
       "                    </tr>\n",
       "                    <tr>\n",
       "                    <th> Type </th>\n",
       "                    <td> float32 </td>\n",
       "                    <td> numpy.ndarray </td>\n",
       "                    </tr>\n",
       "                </tbody>\n",
       "            </table>\n",
       "        </td>\n",
       "        <td>\n",
       "        <svg width=\"88\" height=\"170\" style=\"stroke:rgb(0,0,0);stroke-width:1\" >\n",
       "\n",
       "  <!-- Horizontal lines -->\n",
       "  <line x1=\"0\" y1=\"0\" x2=\"38\" y2=\"0\" style=\"stroke-width:2\" />\n",
       "  <line x1=\"0\" y1=\"5\" x2=\"38\" y2=\"5\" />\n",
       "  <line x1=\"0\" y1=\"11\" x2=\"38\" y2=\"11\" />\n",
       "  <line x1=\"0\" y1=\"17\" x2=\"38\" y2=\"17\" />\n",
       "  <line x1=\"0\" y1=\"23\" x2=\"38\" y2=\"23\" />\n",
       "  <line x1=\"0\" y1=\"29\" x2=\"38\" y2=\"29\" />\n",
       "  <line x1=\"0\" y1=\"35\" x2=\"38\" y2=\"35\" />\n",
       "  <line x1=\"0\" y1=\"44\" x2=\"38\" y2=\"44\" />\n",
       "  <line x1=\"0\" y1=\"50\" x2=\"38\" y2=\"50\" />\n",
       "  <line x1=\"0\" y1=\"56\" x2=\"38\" y2=\"56\" />\n",
       "  <line x1=\"0\" y1=\"62\" x2=\"38\" y2=\"62\" />\n",
       "  <line x1=\"0\" y1=\"67\" x2=\"38\" y2=\"67\" />\n",
       "  <line x1=\"0\" y1=\"73\" x2=\"38\" y2=\"73\" />\n",
       "  <line x1=\"0\" y1=\"82\" x2=\"38\" y2=\"82\" />\n",
       "  <line x1=\"0\" y1=\"88\" x2=\"38\" y2=\"88\" />\n",
       "  <line x1=\"0\" y1=\"94\" x2=\"38\" y2=\"94\" />\n",
       "  <line x1=\"0\" y1=\"100\" x2=\"38\" y2=\"100\" />\n",
       "  <line x1=\"0\" y1=\"106\" x2=\"38\" y2=\"106\" />\n",
       "  <line x1=\"0\" y1=\"112\" x2=\"38\" y2=\"112\" />\n",
       "  <line x1=\"0\" y1=\"120\" x2=\"38\" y2=\"120\" style=\"stroke-width:2\" />\n",
       "\n",
       "  <!-- Vertical lines -->\n",
       "  <line x1=\"0\" y1=\"0\" x2=\"0\" y2=\"120\" style=\"stroke-width:2\" />\n",
       "  <line x1=\"38\" y1=\"0\" x2=\"38\" y2=\"120\" style=\"stroke-width:2\" />\n",
       "\n",
       "  <!-- Colored Rectangle -->\n",
       "  <polygon points=\"0.0,0.0 38.22919943806339,0.0 38.22919943806339,120.0 0.0,120.0\" style=\"fill:#8B4903A0;stroke-width:0\"/>\n",
       "\n",
       "  <!-- Text -->\n",
       "  <text x=\"19.114600\" y=\"140.000000\" font-size=\"1.0rem\" font-weight=\"100\" text-anchor=\"middle\" >19025</text>\n",
       "  <text x=\"58.229199\" y=\"60.000000\" font-size=\"1.0rem\" font-weight=\"100\" text-anchor=\"middle\" transform=\"rotate(-90,58.229199,60.000000)\">203185</text>\n",
       "</svg>\n",
       "        </td>\n",
       "    </tr>\n",
       "</table></div></li><li class='xr-var-item'><div class='xr-var-name'><span>gene_chrom</span></div><div class='xr-var-dims'>(gene)</div><div class='xr-var-dtype'>object</div><div class='xr-var-preview xr-preview'>&#x27;chr1&#x27; &#x27;chr1&#x27; ... &#x27;JH584304.1&#x27;</div><input id='attrs-f351ff96-d54c-4aca-a600-d09cf1365965' class='xr-var-attrs-in' type='checkbox' disabled><label for='attrs-f351ff96-d54c-4aca-a600-d09cf1365965' title='Show/Hide attributes'><svg class='icon xr-icon-file-text2'><use xlink:href='#icon-file-text2'></use></svg></label><input id='data-43d595e3-9411-4953-8438-e19f44a03991' class='xr-var-data-in' type='checkbox'><label for='data-43d595e3-9411-4953-8438-e19f44a03991' title='Show/Hide data repr'><svg class='icon xr-icon-database'><use xlink:href='#icon-database'></use></svg></label><div class='xr-var-attrs'><dl class='xr-attrs'></dl></div><div class='xr-var-data'><pre>array([&#x27;chr1&#x27;, &#x27;chr1&#x27;, &#x27;chr1&#x27;, ..., &#x27;JH584294.1&#x27;, &#x27;JH584295.1&#x27;,\n",
       "       &#x27;JH584304.1&#x27;], dtype=object)</pre></div></li><li class='xr-var-item'><div class='xr-var-name'><span>gene_start</span></div><div class='xr-var-dims'>(gene)</div><div class='xr-var-dtype'>int64</div><div class='xr-var-preview xr-preview'>3205901 3466587 ... 66 52190</div><input id='attrs-5d4df858-28da-4700-b538-675806f8be6d' class='xr-var-attrs-in' type='checkbox' disabled><label for='attrs-5d4df858-28da-4700-b538-675806f8be6d' title='Show/Hide attributes'><svg class='icon xr-icon-file-text2'><use xlink:href='#icon-file-text2'></use></svg></label><input id='data-99a14421-4157-49dd-8624-c0a99da18929' class='xr-var-data-in' type='checkbox'><label for='data-99a14421-4157-49dd-8624-c0a99da18929' title='Show/Hide data repr'><svg class='icon xr-icon-database'><use xlink:href='#icon-database'></use></svg></label><div class='xr-var-attrs'><dl class='xr-attrs'></dl></div><div class='xr-var-data'><pre>array([3205901, 3466587, 3647309, ...,  137009,      66,   52190])</pre></div></li><li class='xr-var-item'><div class='xr-var-name'><span>gene_end</span></div><div class='xr-var-dims'>(gene)</div><div class='xr-var-dtype'>int64</div><div class='xr-var-preview xr-preview'>3671498 3513553 ... 1479 59690</div><input id='attrs-3dcff9cc-91ff-45cb-a48b-388d1a0609c1' class='xr-var-attrs-in' type='checkbox' disabled><label for='attrs-3dcff9cc-91ff-45cb-a48b-388d1a0609c1' title='Show/Hide attributes'><svg class='icon xr-icon-file-text2'><use xlink:href='#icon-file-text2'></use></svg></label><input id='data-e54b62b1-9a23-4a6f-9dfb-62c6e94bc98b' class='xr-var-data-in' type='checkbox'><label for='data-e54b62b1-9a23-4a6f-9dfb-62c6e94bc98b' title='Show/Hide data repr'><svg class='icon xr-icon-database'><use xlink:href='#icon-database'></use></svg></label><div class='xr-var-attrs'><dl class='xr-attrs'></dl></div><div class='xr-var-data'><pre>array([3671498, 3513553, 3658904, ...,  137560,    1479,   59690])</pre></div></li></ul></div></li><li class='xr-section-item'><input id='section-84825873-cde1-4caf-b259-12e8f475894c' class='xr-section-summary-in' type='checkbox'  checked><label for='section-84825873-cde1-4caf-b259-12e8f475894c' class='xr-section-summary' >Attributes: <span>(2)</span></label><div class='xr-section-inline-details'></div><div class='xr-section-details'><dl class='xr-attrs'><dt><span>obs_dim :</span></dt><dd>cell</dd><dt><span>var_dim :</span></dt><dd>gene</dd></dl></div></li></ul></div></div>"
      ],
      "text/plain": [
       "<xarray.MCDS>\n",
       "Dimensions:     (cell: 203185, gene: 19025)\n",
       "Coordinates:\n",
       "  * cell        (cell) <U37 'L8TX_201015_01_F02-GGGTTATCATTGAAGA-1' ... 'L8TX...\n",
       "  * gene        (gene) object 'ENSMUSG00000051951' ... 'ENSMUSG00000095041'\n",
       "    gene_count  (cell) float32 6.365e+03 7.62e+03 ... 6.681e+03 4.487e+03\n",
       "    gene_name   (gene) <U16 'Xkr4' 'Gm1992' ... 'CAAA01147332.1' 'AC149090.1'\n",
       "    umi_count   (cell) float32 2.946e+04 3.7e+04 ... 2.428e+04 1.119e+04\n",
       "Data variables:\n",
       "    gene_da     (cell, gene) float32 dask.array<chunksize=(5000, 19025), meta=np.ndarray>\n",
       "    gene_chrom  (gene) object 'chr1' 'chr1' 'chr1' ... 'JH584295.1' 'JH584304.1'\n",
       "    gene_start  (gene) int64 3205901 3466587 3647309 3999557 ... 137009 66 52190\n",
       "    gene_end    (gene) int64 3671498 3513553 3658904 ... 137560 1479 59690\n",
       "Attributes:\n",
       "    obs_dim:  cell\n",
       "    var_dim:  gene"
      ]
     },
     "execution_count": 11,
     "metadata": {},
     "output_type": "execute_result"
    }
   ],
   "source": [
    "rna_ds"
   ]
  },
  {
   "cell_type": "markdown",
   "id": "abc2eddd",
   "metadata": {
    "papermill": {
     "duration": 0.0106,
     "end_time": "2022-10-22T23:04:30.336280",
     "exception": false,
     "start_time": "2022-10-22T23:04:30.325680",
     "status": "completed"
    },
    "tags": []
   },
   "source": [
    "## Get adata"
   ]
  },
  {
   "cell_type": "code",
   "execution_count": 12,
   "id": "be4f80f5",
   "metadata": {
    "ExecuteTime": {
     "end_time": "2022-06-25T18:39:20.211422Z",
     "start_time": "2022-06-25T18:29:28.677571Z"
    },
    "execution": {
     "iopub.execute_input": "2022-10-22T23:04:30.359477Z",
     "iopub.status.busy": "2022-10-22T23:04:30.359263Z",
     "iopub.status.idle": "2022-10-22T23:06:38.335390Z",
     "shell.execute_reply": "2022-10-22T23:06:38.334372Z"
    },
    "papermill": {
     "duration": 127.990653,
     "end_time": "2022-10-22T23:06:38.337473",
     "exception": false,
     "start_time": "2022-10-22T23:04:30.346820",
     "status": "completed"
    },
    "tags": []
   },
   "outputs": [
    {
     "name": "stdout",
     "output_type": "stream",
     "text": [
      "Loading chunk 0-70000/203185\n"
     ]
    },
    {
     "name": "stdout",
     "output_type": "stream",
     "text": [
      "Loading chunk 70000-140000/203185\n"
     ]
    },
    {
     "name": "stdout",
     "output_type": "stream",
     "text": [
      "Loading chunk 140000-203185/203185\n"
     ]
    }
   ],
   "source": [
    "loading_chunk = int(cells.size // 5000 / 20) * 5000\n",
    "loading_chunk = max(20000, loading_chunk)\n",
    "\n",
    "# ~20 min to load 4M\n",
    "adata = rna_ds.get_count_adata(da_name='gene_da',\n",
    "                               loading_chunk=loading_chunk)"
   ]
  },
  {
   "cell_type": "code",
   "execution_count": 13,
   "id": "b1702756",
   "metadata": {
    "ExecuteTime": {
     "end_time": "2022-06-25T18:39:20.233409Z",
     "start_time": "2022-06-25T18:39:20.213570Z"
    },
    "execution": {
     "iopub.execute_input": "2022-10-22T23:06:38.359815Z",
     "iopub.status.busy": "2022-10-22T23:06:38.359462Z",
     "iopub.status.idle": "2022-10-22T23:06:38.576105Z",
     "shell.execute_reply": "2022-10-22T23:06:38.575358Z"
    },
    "papermill": {
     "duration": 0.229307,
     "end_time": "2022-10-22T23:06:38.578071",
     "exception": false,
     "start_time": "2022-10-22T23:06:38.348764",
     "status": "completed"
    },
    "tags": []
   },
   "outputs": [],
   "source": [
    "adata.obs[cef_cluster_level] = annot[cef_cluster_level].to_pandas()"
   ]
  },
  {
   "cell_type": "markdown",
   "id": "9a262ff4-5d89-4fe1-9a95-97be04b69714",
   "metadata": {
    "jupyter": {
     "outputs_hidden": false
    },
    "papermill": {
     "duration": 0.010174,
     "end_time": "2022-10-22T23:06:38.598965",
     "exception": false,
     "start_time": "2022-10-22T23:06:38.588791",
     "status": "completed"
    },
    "tags": []
   },
   "source": [
    "## CEF Feature Filtering\n",
    "\n",
    "Cluster enriched feature selection. Use per-cell normalized mC fraction as input, no log transform."
   ]
  },
  {
   "cell_type": "code",
   "execution_count": 14,
   "id": "545ba3d9",
   "metadata": {
    "ExecuteTime": {
     "end_time": "2022-06-25T18:39:52.010498Z",
     "start_time": "2022-06-25T18:39:36.005698Z"
    },
    "execution": {
     "iopub.execute_input": "2022-10-22T23:06:38.622376Z",
     "iopub.status.busy": "2022-10-22T23:06:38.622151Z",
     "iopub.status.idle": "2022-10-22T23:07:40.772052Z",
     "shell.execute_reply": "2022-10-22T23:07:40.770950Z"
    },
    "papermill": {
     "duration": 62.163242,
     "end_time": "2022-10-22T23:07:40.773658",
     "exception": false,
     "start_time": "2022-10-22T23:06:38.610416",
     "status": "completed"
    },
    "tags": []
   },
   "outputs": [
    {
     "name": "stdout",
     "output_type": "stream",
     "text": [
      "Found 492 clusters to compute feature enrichment score\n",
      "Computing enrichment score\n"
     ]
    },
    {
     "name": "stdout",
     "output_type": "stream",
     "text": [
      "Computing enrichment score FDR-corrected P values\n"
     ]
    },
    {
     "name": "stdout",
     "output_type": "stream",
     "text": [
      "Selected 6569 unique features\n"
     ]
    },
    {
     "data": {
      "image/png": "[encoded data removed]",
      "text/plain": [
       "<Figure size 1080x360 with 3 Axes>"
      ]
     },
     "metadata": {
      "needs_background": "light"
     },
     "output_type": "display_data"
    }
   ],
   "source": [
    "# CEF function take the original mC fraction as input\n",
    "cluster_enriched_features(adata,\n",
    "                          cluster_col=cef_cluster_level,\n",
    "                          top_n=200,\n",
    "                          alpha=0.05,\n",
    "                          stat_plot=True,\n",
    "                          method='rna')"
   ]
  },
  {
   "cell_type": "code",
   "execution_count": 15,
   "id": "a556c1fc",
   "metadata": {
    "ExecuteTime": {
     "end_time": "2022-06-25T18:39:52.047713Z",
     "start_time": "2022-06-25T18:39:52.012472Z"
    },
    "execution": {
     "iopub.execute_input": "2022-10-22T23:07:40.798588Z",
     "iopub.status.busy": "2022-10-22T23:07:40.798240Z",
     "iopub.status.idle": "2022-10-22T23:07:40.822983Z",
     "shell.execute_reply": "2022-10-22T23:07:40.822136Z"
    },
    "papermill": {
     "duration": 0.03854,
     "end_time": "2022-10-22T23:07:40.824385",
     "exception": false,
     "start_time": "2022-10-22T23:07:40.785845",
     "status": "completed"
    },
    "tags": []
   },
   "outputs": [],
   "source": [
    "# select CEF only\n",
    "cef = adata.var[f'{cef_cluster_level}_enriched_features'].copy()\n",
    "\n",
    "if global_cef is not None:\n",
    "    # add some global CEF to list\n",
    "    global_cef = pd.read_csv('global_cef.txt', header=None, index_col=0).index\n",
    "    cef.loc[cef.index.isin(global_cef)] = True\n",
    "\n",
    "cef.to_csv('RNA.CEF.csv', header=None)"
   ]
  },
  {
   "cell_type": "code",
   "execution_count": null,
   "id": "64056988",
   "metadata": {
    "papermill": {
     "duration": 0.010531,
     "end_time": "2022-10-22T23:07:40.846039",
     "exception": false,
     "start_time": "2022-10-22T23:07:40.835508",
     "status": "completed"
    },
    "tags": []
   },
   "outputs": [],
   "source": []
  },
  {
   "cell_type": "code",
   "execution_count": null,
   "id": "25fe1295",
   "metadata": {
    "papermill": {
     "duration": 0.010335,
     "end_time": "2022-10-22T23:07:40.866942",
     "exception": false,
     "start_time": "2022-10-22T23:07:40.856607",
     "status": "completed"
    },
    "tags": []
   },
   "outputs": [],
   "source": []
  },
  {
   "cell_type": "code",
   "execution_count": null,
   "id": "cee0000b",
   "metadata": {
    "papermill": {
     "duration": 0.011212,
     "end_time": "2022-10-22T23:07:40.888881",
     "exception": false,
     "start_time": "2022-10-22T23:07:40.877669",
     "status": "completed"
    },
    "tags": []
   },
   "outputs": [],
   "source": []
  }
 ],
 "metadata": {
  "celltoolbar": "Tags",
  "hide_input": false,
  "kernelspec": {
   "display_name": "Python 3 (ipykernel)",
   "language": "python",
   "name": "python3"
  },
  "language_info": {
   "codemirror_mode": {
    "name": "ipython",
    "version": 3
   },
   "file_extension": ".py",
   "mimetype": "text/x-python",
   "name": "python",
   "nbconvert_exporter": "python",
   "pygments_lexer": "ipython3",
   "version": "3.7.12"
  },
  "papermill": {
   "default_parameters": {},
   "duration": 323.309548,
   "end_time": "2022-10-22T23:07:42.323014",
   "environment_variables": {},
   "exception": null,
   "input_path": "/mnt/filestore/221015-cemba-mc-aibs-tenx-integration/template/01b.select_rna_cef.ipynb",
   "output_path": "/mnt/filestore/221015-cemba-mc-aibs-tenx-integration/Round1/CorticalExc/01b.select_rna_cef.ipynb",
   "parameters": {
    "cef_cluster_level": "L3",
    "chrom_to_remove": [
     "chrX",
     "chrY",
     "chrM",
     "chrL"
    ],
    "cpu": 1,
    "downsample": 500,
    "global_cef": null,
    "group_name": "CorticalExc",
    "mc_type": "CHN",
    "mem_gb": 1,
    "std_cutoff": 0.05,
    "var_dim": "gene"
   },
   "start_time": "2022-10-22T23:02:19.013466",
   "version": "2.3.3"
  },
  "toc": {
   "base_numbering": 1,
   "nav_menu": {},
   "number_sections": true,
   "sideBar": true,
   "skip_h1_title": true,
   "title_cell": "Table of Contents",
   "title_sidebar": "Contents",
   "toc_cell": false,
   "toc_position": {},
   "toc_section_display": true,
   "toc_window_display": true
  }
 },
 "nbformat": 4,
 "nbformat_minor": 5
}