{
 "cells": [
  {
   "cell_type": "code",
   "execution_count": 1,
   "id": "1b082f0a",
   "metadata": {
    "ExecuteTime": {
     "end_time": "2022-06-28T03:45:54.589891Z",
     "start_time": "2022-06-28T03:45:47.264494Z"
    },
    "execution": {
     "iopub.execute_input": "2022-10-22T23:54:57.349705Z",
     "iopub.status.busy": "2022-10-22T23:54:57.349453Z",
     "iopub.status.idle": "2022-10-22T23:55:02.329645Z",
     "shell.execute_reply": "2022-10-22T23:55:02.328453Z"
    },
    "papermill": {
     "duration": 4.994727,
     "end_time": "2022-10-22T23:55:02.332417",
     "exception": false,
     "start_time": "2022-10-22T23:54:57.337690",
     "status": "completed"
    },
    "tags": []
   },
   "outputs": [],
   "source": [
    "import anndata\n",
    "import matplotlib.pyplot as plt\n",
    "import numpy as np\n",
    "import pandas as pd\n",
    "from ALLCools.clustering import *\n",
    "from ALLCools.integration.seurat_class import SeuratIntegration\n",
    "from ALLCools.plot import *\n",
    "from wmb import aibs, brain, cemba"
   ]
  },
  {
   "cell_type": "code",
   "execution_count": 2,
   "id": "c85e97da",
   "metadata": {
    "ExecuteTime": {
     "end_time": "2022-06-28T03:45:54.607018Z",
     "start_time": "2022-06-28T03:45:54.605043Z"
    },
    "execution": {
     "iopub.execute_input": "2022-10-22T23:55:02.360871Z",
     "iopub.status.busy": "2022-10-22T23:55:02.359778Z",
     "iopub.status.idle": "2022-10-22T23:55:02.364121Z",
     "shell.execute_reply": "2022-10-22T23:55:02.363359Z"
    },
    "papermill": {
     "duration": 0.018968,
     "end_time": "2022-10-22T23:55:02.365535",
     "exception": false,
     "start_time": "2022-10-22T23:55:02.346567",
     "status": "completed"
    },
    "tags": [
     "parameters"
    ]
   },
   "outputs": [],
   "source": [
    "dataset = \"AIBS_TENX\"\n",
    "categorical_key = [\"L2\", \"DissectionRegion\"]\n",
    "cpu = 3"
   ]
  },
  {
   "cell_type": "code",
   "execution_count": 3,
   "id": "10cc0d50",
   "metadata": {
    "execution": {
     "iopub.execute_input": "2022-10-22T23:55:02.387425Z",
     "iopub.status.busy": "2022-10-22T23:55:02.386521Z",
     "iopub.status.idle": "2022-10-22T23:55:02.390584Z",
     "shell.execute_reply": "2022-10-22T23:55:02.389928Z"
    },
    "papermill": {
     "duration": 0.01694,
     "end_time": "2022-10-22T23:55:02.392620",
     "exception": false,
     "start_time": "2022-10-22T23:55:02.375680",
     "status": "completed"
    },
    "tags": [
     "injected-parameters"
    ]
   },
   "outputs": [],
   "source": [
    "# Parameters\n",
    "categorical_key = [\"L2\", \"DissectionRegion\"]\n",
    "cpu = 3\n",
    "dataset = \"AIBS_TENX\"\n",
    "group_name = \"CorticalExc\"\n",
    "mem_gb = 1\n"
   ]
  },
  {
   "cell_type": "markdown",
   "id": "cb21fd77",
   "metadata": {
    "papermill": {
     "duration": 0.012665,
     "end_time": "2022-10-22T23:55:02.418322",
     "exception": false,
     "start_time": "2022-10-22T23:55:02.405657",
     "status": "completed"
    },
    "tags": []
   },
   "source": [
    "## Input LSI before integration"
   ]
  },
  {
   "cell_type": "code",
   "execution_count": 4,
   "id": "1a23191e",
   "metadata": {
    "ExecuteTime": {
     "end_time": "2022-06-28T03:45:55.726143Z",
     "start_time": "2022-06-28T03:45:55.444985Z"
    },
    "execution": {
     "iopub.execute_input": "2022-10-22T23:55:02.443169Z",
     "iopub.status.busy": "2022-10-22T23:55:02.442124Z",
     "iopub.status.idle": "2022-10-23T00:05:17.927223Z",
     "shell.execute_reply": "2022-10-23T00:05:17.926258Z"
    },
    "papermill": {
     "duration": 615.498434,
     "end_time": "2022-10-23T00:05:17.929506",
     "exception": false,
     "start_time": "2022-10-22T23:55:02.431072",
     "status": "completed"
    },
    "tags": []
   },
   "outputs": [],
   "source": [
    "ref_adata = anndata.read_h5ad(\"mc_pca.h5ad\")\n",
    "query_adata = anndata.read_h5ad(\"rna_pca.h5ad\")"
   ]
  },
  {
   "cell_type": "code",
   "execution_count": 5,
   "id": "e4824c10",
   "metadata": {
    "ExecuteTime": {
     "end_time": "2022-06-28T03:45:55.944589Z",
     "start_time": "2022-06-28T03:45:55.941371Z"
    },
    "execution": {
     "iopub.execute_input": "2022-10-23T00:05:17.951647Z",
     "iopub.status.busy": "2022-10-23T00:05:17.951349Z",
     "iopub.status.idle": "2022-10-23T00:05:17.955123Z",
     "shell.execute_reply": "2022-10-23T00:05:17.954564Z"
    },
    "papermill": {
     "duration": 0.015634,
     "end_time": "2022-10-23T00:05:17.956315",
     "exception": false,
     "start_time": "2022-10-23T00:05:17.940681",
     "status": "completed"
    },
    "tags": []
   },
   "outputs": [],
   "source": [
    "adata_list = [ref_adata, query_adata]"
   ]
  },
  {
   "cell_type": "markdown",
   "id": "f5323f5a",
   "metadata": {
    "papermill": {
     "duration": 0.009255,
     "end_time": "2022-10-23T00:05:17.974750",
     "exception": false,
     "start_time": "2022-10-23T00:05:17.965495",
     "status": "completed"
    },
    "tags": []
   },
   "source": [
    "### Init empty adata_merge"
   ]
  },
  {
   "cell_type": "code",
   "execution_count": 6,
   "id": "2932b576",
   "metadata": {
    "ExecuteTime": {
     "end_time": "2022-06-28T03:45:56.464228Z",
     "start_time": "2022-06-28T03:45:56.456509Z"
    },
    "execution": {
     "iopub.execute_input": "2022-10-23T00:05:17.993513Z",
     "iopub.status.busy": "2022-10-23T00:05:17.993302Z",
     "iopub.status.idle": "2022-10-23T00:05:18.235961Z",
     "shell.execute_reply": "2022-10-23T00:05:18.235101Z"
    },
    "papermill": {
     "duration": 0.253839,
     "end_time": "2022-10-23T00:05:18.237512",
     "exception": false,
     "start_time": "2022-10-23T00:05:17.983673",
     "status": "completed"
    },
    "tags": []
   },
   "outputs": [],
   "source": [
    "from scipy.sparse import csr_matrix\n",
    "\n",
    "cells = sum([a.shape[0] for a in adata_list])\n",
    "features = adata_list[0].shape[1]\n",
    "\n",
    "adata_merge = anndata.AnnData(\n",
    "    X=csr_matrix((cells, features), dtype=np.float32),\n",
    "    obs=pd.concat([a.obs for a in adata_list]),\n",
    "    var=adata_list[0].var,\n",
    ")"
   ]
  },
  {
   "cell_type": "code",
   "execution_count": 7,
   "id": "6da6193a",
   "metadata": {
    "ExecuteTime": {
     "end_time": "2022-06-28T03:46:38.088971Z",
     "start_time": "2022-06-28T03:46:32.677992Z"
    },
    "execution": {
     "iopub.execute_input": "2022-10-23T00:05:18.258318Z",
     "iopub.status.busy": "2022-10-23T00:05:18.258072Z",
     "iopub.status.idle": "2022-10-23T00:05:36.301906Z",
     "shell.execute_reply": "2022-10-23T00:05:36.300861Z"
    },
    "papermill": {
     "duration": 18.056765,
     "end_time": "2022-10-23T00:05:36.303960",
     "exception": false,
     "start_time": "2022-10-23T00:05:18.247195",
     "status": "completed"
    },
    "tags": []
   },
   "outputs": [
    {
     "name": "stdout",
     "output_type": "stream",
     "text": [
      "L4_annot does not exist in data_vars or coords, palette not added.\n"
     ]
    }
   ],
   "source": [
    "if dataset == \"AIBS_SMART\":\n",
    "    rna_annot = aibs.get_smart_annot()\n",
    "elif dataset == \"AIBS_TENX\":\n",
    "    rna_annot = aibs.get_tenx_annot()\n",
    "else:\n",
    "    rna_annot = broad.get_tenx_annot()\n",
    "\n",
    "mc_annot = cemba.get_mc_annot()\n",
    "\n",
    "for key in categorical_key:\n",
    "    adata_merge.obs[key] = pd.concat(\n",
    "        [mc_annot[key].to_pandas(), rna_annot[key].to_pandas()]\n",
    "    ).astype(str)"
   ]
  },
  {
   "cell_type": "code",
   "execution_count": 8,
   "id": "de7fa0fd",
   "metadata": {
    "ExecuteTime": {
     "end_time": "2022-06-28T03:46:40.487914Z",
     "start_time": "2022-06-28T03:46:40.482217Z"
    },
    "execution": {
     "iopub.execute_input": "2022-10-23T00:05:36.349717Z",
     "iopub.status.busy": "2022-10-23T00:05:36.349498Z",
     "iopub.status.idle": "2022-10-23T00:05:36.358264Z",
     "shell.execute_reply": "2022-10-23T00:05:36.357707Z"
    },
    "papermill": {
     "duration": 0.0202,
     "end_time": "2022-10-23T00:05:36.359312",
     "exception": false,
     "start_time": "2022-10-23T00:05:36.339112",
     "status": "completed"
    },
    "tags": []
   },
   "outputs": [
    {
     "data": {
      "text/plain": [
       "[AnnData object with n_obs × n_vars = 123904 × 6231\n",
       "     obs: 'count', 'umi_count', 'n_counts', 'Modality'\n",
       "     var: 'chrom', 'name-RNA', 'start-RNA', 'end-RNA', 'mean-RNA', 'std-RNA', 'start-mC', 'end-mC', 'cov_mean-mC', 'cef-mC'\n",
       "     obsm: 'X_pca',\n",
       " AnnData object with n_obs × n_vars = 1412319 × 6231\n",
       "     obs: 'count', 'umi_count', 'n_counts', 'Modality'\n",
       "     var: 'chrom', 'name-RNA', 'start-RNA', 'end-RNA', 'mean-RNA', 'std-RNA', 'start-mC', 'end-mC', 'cov_mean-mC', 'cef-mC'\n",
       "     obsm: 'X_pca']"
      ]
     },
     "execution_count": 8,
     "metadata": {},
     "output_type": "execute_result"
    }
   ],
   "source": [
    "adata_list"
   ]
  },
  {
   "cell_type": "code",
   "execution_count": 9,
   "id": "552b67a0",
   "metadata": {
    "ExecuteTime": {
     "end_time": "2022-06-28T03:46:57.824362Z",
     "start_time": "2022-06-28T03:46:57.820936Z"
    },
    "execution": {
     "iopub.execute_input": "2022-10-23T00:05:36.380489Z",
     "iopub.status.busy": "2022-10-23T00:05:36.380284Z",
     "iopub.status.idle": "2022-10-23T00:05:36.383990Z",
     "shell.execute_reply": "2022-10-23T00:05:36.383418Z"
    },
    "papermill": {
     "duration": 0.015689,
     "end_time": "2022-10-23T00:05:36.385140",
     "exception": false,
     "start_time": "2022-10-23T00:05:36.369451",
     "status": "completed"
    },
    "tags": []
   },
   "outputs": [
    {
     "data": {
      "text/plain": [
       "AnnData object with n_obs × n_vars = 1536223 × 6231\n",
       "    obs: 'count', 'umi_count', 'n_counts', 'Modality', 'L2', 'DissectionRegion'\n",
       "    var: 'chrom', 'name-RNA', 'start-RNA', 'end-RNA', 'mean-RNA', 'std-RNA', 'start-mC', 'end-mC', 'cov_mean-mC', 'cef-mC'"
      ]
     },
     "execution_count": 9,
     "metadata": {},
     "output_type": "execute_result"
    }
   ],
   "source": [
    "adata_merge"
   ]
  },
  {
   "cell_type": "code",
   "execution_count": 10,
   "id": "bb980f27-995d-42ab-9be2-44e470185ac7",
   "metadata": {
    "execution": {
     "iopub.execute_input": "2022-10-23T00:05:36.404438Z",
     "iopub.status.busy": "2022-10-23T00:05:36.404240Z",
     "iopub.status.idle": "2022-10-23T00:05:36.408647Z",
     "shell.execute_reply": "2022-10-23T00:05:36.408135Z"
    },
    "papermill": {
     "duration": 0.015329,
     "end_time": "2022-10-23T00:05:36.409755",
     "exception": false,
     "start_time": "2022-10-23T00:05:36.394426",
     "status": "completed"
    },
    "tags": []
   },
   "outputs": [
    {
     "data": {
      "text/plain": [
       "56"
      ]
     },
     "execution_count": 10,
     "metadata": {},
     "output_type": "execute_result"
    }
   ],
   "source": [
    "n_pc = adata_list[0].obsm[\"X_pca\"].shape[1]\n",
    "if n_pc < 10:\n",
    "    n_cca_components = n_pc\n",
    "else:\n",
    "    n_cca_components = max(n_pc - 10, 10)\n",
    "\n",
    "n_cca_components"
   ]
  },
  {
   "cell_type": "code",
   "execution_count": 11,
   "id": "090b8f87-f19a-4cb6-952e-bd1f5d928beb",
   "metadata": {
    "execution": {
     "iopub.execute_input": "2022-10-23T00:05:36.430239Z",
     "iopub.status.busy": "2022-10-23T00:05:36.430019Z",
     "iopub.status.idle": "2022-10-23T00:05:36.484811Z",
     "shell.execute_reply": "2022-10-23T00:05:36.484020Z"
    },
    "papermill": {
     "duration": 0.066916,
     "end_time": "2022-10-23T00:05:36.486025",
     "exception": false,
     "start_time": "2022-10-23T00:05:36.419109",
     "status": "completed"
    },
    "tags": []
   },
   "outputs": [],
   "source": [
    "min_sample = adata_merge.obs[\"Modality\"].value_counts().min()"
   ]
  },
  {
   "cell_type": "markdown",
   "id": "fe3a3a9d",
   "metadata": {
    "papermill": {
     "duration": 0.009379,
     "end_time": "2022-10-23T00:05:36.504960",
     "exception": false,
     "start_time": "2022-10-23T00:05:36.495581",
     "status": "completed"
    },
    "tags": []
   },
   "source": [
    "## Integration and transform"
   ]
  },
  {
   "cell_type": "code",
   "execution_count": 12,
   "id": "ebdcaeac",
   "metadata": {
    "ExecuteTime": {
     "end_time": "2022-06-26T06:08:13.548054Z",
     "start_time": "2022-06-26T06:08:13.546257Z"
    },
    "execution": {
     "iopub.execute_input": "2022-10-23T00:05:36.524955Z",
     "iopub.status.busy": "2022-10-23T00:05:36.524751Z",
     "iopub.status.idle": "2022-10-23T00:05:36.527724Z",
     "shell.execute_reply": "2022-10-23T00:05:36.527248Z"
    },
    "papermill": {
     "duration": 0.014286,
     "end_time": "2022-10-23T00:05:36.528841",
     "exception": false,
     "start_time": "2022-10-23T00:05:36.514555",
     "status": "completed"
    },
    "tags": []
   },
   "outputs": [],
   "source": [
    "integrator = SeuratIntegration()"
   ]
  },
  {
   "cell_type": "code",
   "execution_count": 13,
   "id": "8a45a35b",
   "metadata": {
    "ExecuteTime": {
     "end_time": "2022-06-26T06:08:45.314671Z",
     "start_time": "2022-06-26T06:08:13.549744Z"
    },
    "execution": {
     "iopub.execute_input": "2022-10-23T00:05:36.548125Z",
     "iopub.status.busy": "2022-10-23T00:05:36.547908Z",
     "iopub.status.idle": "2022-10-23T01:04:07.970422Z",
     "shell.execute_reply": "2022-10-23T01:04:07.969600Z"
    },
    "papermill": {
     "duration": 3511.433588,
     "end_time": "2022-10-23T01:04:07.971889",
     "exception": false,
     "start_time": "2022-10-23T00:05:36.538301",
     "status": "completed"
    },
    "tags": []
   },
   "outputs": [
    {
     "name": "stdout",
     "output_type": "stream",
     "text": [
      "Find anchors across datasets.\n"
     ]
    },
    {
     "name": "stdout",
     "output_type": "stream",
     "text": [
      "Run CCA\n"
     ]
    },
    {
     "name": "stdout",
     "output_type": "stream",
     "text": [
      "non zero dims 56\n"
     ]
    },
    {
     "name": "stdout",
     "output_type": "stream",
     "text": [
      "Find Anchors\n"
     ]
    },
    {
     "name": "stdout",
     "output_type": "stream",
     "text": [
      "Anchor selected with high CC feature graph: 73051 / 265490\n",
      "Score Anchors\n"
     ]
    },
    {
     "name": "stdout",
     "output_type": "stream",
     "text": [
      "Identified 73051 anchors between datasets 0 and 1.\n"
     ]
    }
   ],
   "source": [
    "# take ~2.5-3h for 300K mC + 4M 10X RNA\n",
    "anchor = integrator.find_anchor(\n",
    "    adata_list,\n",
    "    k_local=None,\n",
    "    key_local=\"X_pca\",\n",
    "    k_anchor=5,\n",
    "    key_anchor=\"X\",\n",
    "    dim_red=\"cca\",\n",
    "    max_cc_cells=100000,\n",
    "    k_score=30,\n",
    "    k_filter=min(200, min_sample),\n",
    "    scale1=True,\n",
    "    scale2=True,\n",
    "    n_components=n_cca_components,\n",
    "    n_features=200,\n",
    "    alignments=[[[0], [1]]],\n",
    ")"
   ]
  },
  {
   "cell_type": "code",
   "execution_count": 14,
   "id": "9f56e4e0",
   "metadata": {
    "ExecuteTime": {
     "end_time": "2022-06-26T06:08:53.260292Z",
     "start_time": "2022-06-26T06:08:45.316850Z"
    },
    "execution": {
     "iopub.execute_input": "2022-10-23T01:04:07.992489Z",
     "iopub.status.busy": "2022-10-23T01:04:07.992293Z",
     "iopub.status.idle": "2022-10-23T01:06:23.664682Z",
     "shell.execute_reply": "2022-10-23T01:06:23.663691Z"
    },
    "papermill": {
     "duration": 135.684588,
     "end_time": "2022-10-23T01:06:23.666427",
     "exception": false,
     "start_time": "2022-10-23T01:04:07.981839",
     "status": "completed"
    },
    "tags": []
   },
   "outputs": [
    {
     "name": "stdout",
     "output_type": "stream",
     "text": [
      "Merge datasets\n",
      "[[0], [1]]\n"
     ]
    },
    {
     "name": "stdout",
     "output_type": "stream",
     "text": [
      "Initialize\n",
      "Find nearest anchors. "
     ]
    },
    {
     "name": "stderr",
     "output_type": "stream",
     "text": [
      "/opt/conda/lib/python3.7/site-packages/ALLCools/integration/seurat_class.py:767: VisibleDeprecationWarning: Creating an ndarray from ragged nested sequences (which is a list-or-tuple of lists-or-tuples-or ndarrays with different lengths or shapes) is deprecated. If you meant to do this, you must specify 'dtype=object' when creating the ndarray\n",
      "  data=np.array(corrected),\n"
     ]
    },
    {
     "name": "stdout",
     "output_type": "stream",
     "text": [
      "k_weight:  100\n"
     ]
    },
    {
     "name": "stdout",
     "output_type": "stream",
     "text": [
      "Normalize graph\n"
     ]
    },
    {
     "name": "stdout",
     "output_type": "stream",
     "text": [
      "Transform data\n"
     ]
    }
   ],
   "source": [
    "corrected = integrator.integrate(\n",
    "    key_correct=\"X_pca\",\n",
    "    row_normalize=True,\n",
    "    k_weight=100,\n",
    "    sd=1,\n",
    "    alignments=[[[0], [1]]],\n",
    ")\n",
    "\n",
    "adata_merge.obsm[\"X_pca_integrate\"] = np.concatenate(corrected)"
   ]
  },
  {
   "cell_type": "markdown",
   "id": "1b0ab55c",
   "metadata": {
    "papermill": {
     "duration": 0.009804,
     "end_time": "2022-10-23T01:06:23.756442",
     "exception": false,
     "start_time": "2022-10-23T01:06:23.746638",
     "status": "completed"
    },
    "tags": []
   },
   "source": [
    "## Label transfer"
   ]
  },
  {
   "cell_type": "code",
   "execution_count": 15,
   "id": "7eb06547",
   "metadata": {
    "ExecuteTime": {
     "end_time": "2022-06-26T06:09:06.134216Z",
     "start_time": "2022-06-26T06:08:53.268361Z"
    },
    "execution": {
     "iopub.execute_input": "2022-10-23T01:06:23.776514Z",
     "iopub.status.busy": "2022-10-23T01:06:23.776252Z",
     "iopub.status.idle": "2022-10-23T01:06:23.780051Z",
     "shell.execute_reply": "2022-10-23T01:06:23.779408Z"
    },
    "papermill": {
     "duration": 0.015603,
     "end_time": "2022-10-23T01:06:23.781398",
     "exception": false,
     "start_time": "2022-10-23T01:06:23.765795",
     "status": "completed"
    },
    "tags": []
   },
   "outputs": [],
   "source": [
    "# transfer_results = integrator.label_transfer(\n",
    "#     ref=[0],\n",
    "#     qry=[1],\n",
    "#     categorical_key=categorical_key,\n",
    "#     key_dist='X_pca'\n",
    "# )\n",
    "# for k, v in transfer_results.items():\n",
    "#     v.to_hdf(f'{k}_transfer.hdf', key='data')\n",
    "# integrator.save_transfer_results_to_adata(adata_merge, transfer_results)"
   ]
  },
  {
   "cell_type": "markdown",
   "id": "504cb48a",
   "metadata": {
    "papermill": {
     "duration": 0.008819,
     "end_time": "2022-10-23T01:06:23.799353",
     "exception": false,
     "start_time": "2022-10-23T01:06:23.790534",
     "status": "completed"
    },
    "tags": []
   },
   "source": [
    "## Save"
   ]
  },
  {
   "cell_type": "code",
   "execution_count": 16,
   "id": "74e9b2d6-054e-4f1e-ae32-01eff31737df",
   "metadata": {
    "execution": {
     "iopub.execute_input": "2022-10-23T01:06:23.818298Z",
     "iopub.status.busy": "2022-10-23T01:06:23.818078Z",
     "iopub.status.idle": "2022-10-23T01:06:33.758923Z",
     "shell.execute_reply": "2022-10-23T01:06:33.758159Z"
    },
    "papermill": {
     "duration": 9.952407,
     "end_time": "2022-10-23T01:06:33.760617",
     "exception": false,
     "start_time": "2022-10-23T01:06:23.808210",
     "status": "completed"
    },
    "tags": []
   },
   "outputs": [],
   "source": [
    "adata_merge.write_h5ad(\"final.h5ad\")"
   ]
  },
  {
   "cell_type": "code",
   "execution_count": 17,
   "id": "8dee4091-aeaa-4a53-97db-d3dbda46a087",
   "metadata": {
    "execution": {
     "iopub.execute_input": "2022-10-23T01:06:33.782132Z",
     "iopub.status.busy": "2022-10-23T01:06:33.781943Z",
     "iopub.status.idle": "2022-10-23T01:06:33.786221Z",
     "shell.execute_reply": "2022-10-23T01:06:33.785718Z"
    },
    "papermill": {
     "duration": 0.016255,
     "end_time": "2022-10-23T01:06:33.787330",
     "exception": false,
     "start_time": "2022-10-23T01:06:33.771075",
     "status": "completed"
    },
    "tags": []
   },
   "outputs": [
    {
     "data": {
      "text/plain": [
       "AnnData object with n_obs × n_vars = 1536223 × 6231\n",
       "    obs: 'count', 'umi_count', 'n_counts', 'Modality', 'L2', 'DissectionRegion'\n",
       "    var: 'chrom', 'name-RNA', 'start-RNA', 'end-RNA', 'mean-RNA', 'std-RNA', 'start-mC', 'end-mC', 'cov_mean-mC', 'cef-mC'\n",
       "    obsm: 'X_pca_integrate'"
      ]
     },
     "execution_count": 17,
     "metadata": {},
     "output_type": "execute_result"
    }
   ],
   "source": [
    "adata_merge"
   ]
  },
  {
   "cell_type": "code",
   "execution_count": 18,
   "id": "900cde6e",
   "metadata": {
    "ExecuteTime": {
     "end_time": "2022-06-26T06:09:06.747764Z",
     "start_time": "2022-06-26T06:09:06.332437Z"
    },
    "execution": {
     "iopub.execute_input": "2022-10-23T01:06:33.811657Z",
     "iopub.status.busy": "2022-10-23T01:06:33.811465Z",
     "iopub.status.idle": "2022-10-23T01:06:33.833764Z",
     "shell.execute_reply": "2022-10-23T01:06:33.833248Z"
    },
    "papermill": {
     "duration": 0.036575,
     "end_time": "2022-10-23T01:06:33.835161",
     "exception": false,
     "start_time": "2022-10-23T01:06:33.798586",
     "status": "completed"
    },
    "tags": []
   },
   "outputs": [],
   "source": [
    "integrator.save(\"integration\")"
   ]
  },
  {
   "cell_type": "code",
   "execution_count": 19,
   "id": "a6b82e5c",
   "metadata": {
    "execution": {
     "iopub.execute_input": "2022-10-23T01:06:33.855262Z",
     "iopub.status.busy": "2022-10-23T01:06:33.855052Z",
     "iopub.status.idle": "2022-10-23T01:06:39.948807Z",
     "shell.execute_reply": "2022-10-23T01:06:39.947890Z"
    },
    "papermill": {
     "duration": 6.105699,
     "end_time": "2022-10-23T01:06:39.950285",
     "exception": false,
     "start_time": "2022-10-23T01:06:33.844586",
     "status": "completed"
    },
    "tags": []
   },
   "outputs": [
    {
     "data": {
      "text/plain": [
       "CompletedProcess(args=['rm', '-f', 'mc_pca.h5ad', 'rna_pca.h5ad'], returncode=0)"
      ]
     },
     "execution_count": 19,
     "metadata": {},
     "output_type": "execute_result"
    }
   ],
   "source": [
    "import subprocess\n",
    "subprocess.run(['rm', '-f', 'mc_pca.h5ad', 'rna_pca.h5ad'])"
   ]
  },
  {
   "cell_type": "code",
   "execution_count": null,
   "id": "1db0538f",
   "metadata": {
    "papermill": {
     "duration": 0.010044,
     "end_time": "2022-10-23T01:06:39.971723",
     "exception": false,
     "start_time": "2022-10-23T01:06:39.961679",
     "status": "completed"
    },
    "tags": []
   },
   "outputs": [],
   "source": []
  },
  {
   "cell_type": "code",
   "execution_count": null,
   "id": "edcfb8b6",
   "metadata": {
    "papermill": {
     "duration": 0.010107,
     "end_time": "2022-10-23T01:06:39.991623",
     "exception": false,
     "start_time": "2022-10-23T01:06:39.981516",
     "status": "completed"
    },
    "tags": []
   },
   "outputs": [],
   "source": []
  }
 ],
 "metadata": {
  "celltoolbar": "无",
  "hide_input": false,
  "kernelspec": {
   "display_name": "Python 3 (ipykernel)",
   "language": "python",
   "name": "python3"
  },
  "language_info": {
   "codemirror_mode": {
    "name": "ipython",
    "version": 3
   },
   "file_extension": ".py",
   "mimetype": "text/x-python",
   "name": "python",
   "nbconvert_exporter": "python",
   "pygments_lexer": "ipython3",
   "version": "3.7.12"
  },
  "papermill": {
   "default_parameters": {},
   "duration": 4305.650808,
   "end_time": "2022-10-23T01:06:41.929717",
   "environment_variables": {},
   "exception": null,
   "input_path": "/mnt/filestore/221015-cemba-mc-aibs-tenx-integration/template/04.integration.ipynb",
   "output_path": "/mnt/filestore/221015-cemba-mc-aibs-tenx-integration/Round1/CorticalExc/04.integration.ipynb",
   "parameters": {
    "categorical_key": [
     "L2",
     "DissectionRegion"
    ],
    "cpu": 3,
    "dataset": "AIBS_TENX",
    "group_name": "CorticalExc",
    "mem_gb": 1
   },
   "start_time": "2022-10-22T23:54:56.278909",
   "version": "2.3.3"
  },
  "toc": {
   "base_numbering": 1,
   "nav_menu": {},
   "number_sections": true,
   "sideBar": true,
   "skip_h1_title": true,
   "title_cell": "Table of Contents",
   "title_sidebar": "Contents",
   "toc_cell": false,
   "toc_position": {},
   "toc_section_display": true,
   "toc_window_display": true
  }
 },
 "nbformat": 4,
 "nbformat_minor": 5
}