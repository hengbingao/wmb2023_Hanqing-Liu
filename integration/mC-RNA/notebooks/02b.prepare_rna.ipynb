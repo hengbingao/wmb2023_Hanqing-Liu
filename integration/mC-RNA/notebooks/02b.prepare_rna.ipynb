{
 "cells": [
  {
   "cell_type": "markdown",
   "id": "34deaf20",
   "metadata": {
    "papermill": {
     "duration": 0.011714,
     "end_time": "2022-10-22T23:08:45.574068",
     "exception": false,
     "start_time": "2022-10-22T23:08:45.562354",
     "status": "completed"
    },
    "tags": []
   },
   "source": [
    "## Import"
   ]
  },
  {
   "cell_type": "code",
   "execution_count": 1,
   "id": "eecf846f",
   "metadata": {
    "ExecuteTime": {
     "end_time": "2022-06-21T05:12:06.338279Z",
     "start_time": "2022-06-21T05:12:04.001263Z"
    },
    "execution": {
     "iopub.execute_input": "2022-10-22T23:08:45.593255Z",
     "iopub.status.busy": "2022-10-22T23:08:45.592877Z",
     "iopub.status.idle": "2022-10-22T23:08:47.986136Z",
     "shell.execute_reply": "2022-10-22T23:08:47.985365Z"
    },
    "papermill": {
     "duration": 2.405744,
     "end_time": "2022-10-22T23:08:47.988914",
     "exception": false,
     "start_time": "2022-10-22T23:08:45.583170",
     "status": "completed"
    },
    "tags": []
   },
   "outputs": [],
   "source": [
    "from ALLCools.clustering import *\n",
    "from ALLCools.mcds import MCDS\n",
    "from wmb import brain, aibs, broad, mm10\n",
    "\n",
    "import pandas as pd\n",
    "import anndata\n",
    "\n",
    "import matplotlib.pyplot as plt\n",
    "from ALLCools.plot import *\n",
    "\n",
    "import scanpy as sc"
   ]
  },
  {
   "cell_type": "code",
   "execution_count": 2,
   "id": "72094c70",
   "metadata": {
    "ExecuteTime": {
     "end_time": "2022-06-21T05:12:06.342480Z",
     "start_time": "2022-06-21T05:12:06.340083Z"
    },
    "execution": {
     "iopub.execute_input": "2022-10-22T23:08:48.012336Z",
     "iopub.status.busy": "2022-10-22T23:08:48.012094Z",
     "iopub.status.idle": "2022-10-22T23:08:48.015497Z",
     "shell.execute_reply": "2022-10-22T23:08:48.014946Z"
    },
    "papermill": {
     "duration": 0.016084,
     "end_time": "2022-10-22T23:08:48.016730",
     "exception": false,
     "start_time": "2022-10-22T23:08:48.000646",
     "status": "completed"
    },
    "tags": [
     "parameters"
    ]
   },
   "outputs": [],
   "source": [
    "n_cell = 5  # filter low exp gene: min cell expressed in this gene\n",
    "dataset = 'AIBS_TENX'\n",
    "std_cutoff = 0.05"
   ]
  },
  {
   "cell_type": "code",
   "execution_count": 3,
   "id": "db6d2f9a",
   "metadata": {
    "execution": {
     "iopub.execute_input": "2022-10-22T23:08:48.037573Z",
     "iopub.status.busy": "2022-10-22T23:08:48.037385Z",
     "iopub.status.idle": "2022-10-22T23:08:48.040811Z",
     "shell.execute_reply": "2022-10-22T23:08:48.040270Z"
    },
    "papermill": {
     "duration": 0.016264,
     "end_time": "2022-10-22T23:08:48.042004",
     "exception": false,
     "start_time": "2022-10-22T23:08:48.025740",
     "status": "completed"
    },
    "tags": [
     "injected-parameters"
    ]
   },
   "outputs": [],
   "source": [
    "# Parameters\n",
    "cpu = 1\n",
    "dataset = \"AIBS_TENX\"\n",
    "group_name = \"CorticalExc\"\n",
    "mem_gb = 1\n",
    "n_cell = 5\n",
    "std_cutoff = 0.05\n"
   ]
  },
  {
   "cell_type": "markdown",
   "id": "8a3aa1bf",
   "metadata": {
    "papermill": {
     "duration": 0.010402,
     "end_time": "2022-10-22T23:08:48.061727",
     "exception": false,
     "start_time": "2022-10-22T23:08:48.051325",
     "status": "completed"
    },
    "tags": []
   },
   "source": [
    "## Select cells"
   ]
  },
  {
   "cell_type": "code",
   "execution_count": 4,
   "id": "f16d1e09",
   "metadata": {
    "execution": {
     "iopub.execute_input": "2022-10-22T23:08:48.083726Z",
     "iopub.status.busy": "2022-10-22T23:08:48.083440Z",
     "iopub.status.idle": "2022-10-22T23:08:48.963914Z",
     "shell.execute_reply": "2022-10-22T23:08:48.963173Z"
    },
    "papermill": {
     "duration": 0.894099,
     "end_time": "2022-10-22T23:08:48.965560",
     "exception": false,
     "start_time": "2022-10-22T23:08:48.071461",
     "status": "completed"
    },
    "tags": []
   },
   "outputs": [
    {
     "data": {
      "text/plain": [
       "1412319"
      ]
     },
     "execution_count": 4,
     "metadata": {},
     "output_type": "execute_result"
    }
   ],
   "source": [
    "cells = pd.read_csv('rna_cells.txt', index_col=0, header=None).index\n",
    "cells.name = 'cell'\n",
    "cells.size"
   ]
  },
  {
   "cell_type": "markdown",
   "id": "2f339de2",
   "metadata": {
    "papermill": {
     "duration": 0.085993,
     "end_time": "2022-10-22T23:08:49.062231",
     "exception": false,
     "start_time": "2022-10-22T23:08:48.976238",
     "status": "completed"
    },
    "tags": []
   },
   "source": [
    "## Get adata with basic feature selection"
   ]
  },
  {
   "cell_type": "code",
   "execution_count": 5,
   "id": "a3f2c7e4",
   "metadata": {
    "ExecuteTime": {
     "end_time": "2022-06-21T05:12:06.904649Z",
     "start_time": "2022-06-21T05:12:06.864056Z"
    },
    "execution": {
     "iopub.execute_input": "2022-10-22T23:08:49.082631Z",
     "iopub.status.busy": "2022-10-22T23:08:49.082282Z",
     "iopub.status.idle": "2022-10-22T23:08:49.087421Z",
     "shell.execute_reply": "2022-10-22T23:08:49.086026Z"
    },
    "papermill": {
     "duration": 0.016881,
     "end_time": "2022-10-22T23:08:49.088748",
     "exception": false,
     "start_time": "2022-10-22T23:08:49.071867",
     "status": "completed"
    },
    "tags": []
   },
   "outputs": [],
   "source": [
    "if dataset == 'AIBS_SMART':\n",
    "    mcds_path = aibs.AIBS_SMART_ZARR_PATH\n",
    "    gene_map = aibs.get_smart_gene_map()\n",
    "elif dataset == 'AIBS_TENX':\n",
    "    mcds_path = aibs.AIBS_TENX_V2_ZARR_PATH\n",
    "    # AIBS TENX v2 has the same annotation as CEMBA mC geneslop2k-vm23\n",
    "    # all using GENCDOE vm23 BICCN version\n",
    "    gene_map = None\n",
    "else:\n",
    "    mcds_path = broad.BROAD_TENX_V2_ZARR_PATH\n",
    "    gene_map = broad.get_tenx_gene_map()"
   ]
  },
  {
   "cell_type": "code",
   "execution_count": 6,
   "id": "76e2c9e7",
   "metadata": {
    "ExecuteTime": {
     "end_time": "2022-06-20T20:23:42.988167Z",
     "start_time": "2022-06-20T20:23:34.201667Z"
    },
    "execution": {
     "iopub.execute_input": "2022-10-22T23:08:49.107998Z",
     "iopub.status.busy": "2022-10-22T23:08:49.107812Z",
     "iopub.status.idle": "2022-10-22T23:08:59.327579Z",
     "shell.execute_reply": "2022-10-22T23:08:59.326398Z"
    },
    "papermill": {
     "duration": 10.231107,
     "end_time": "2022-10-22T23:08:59.329331",
     "exception": false,
     "start_time": "2022-10-22T23:08:49.098224",
     "status": "completed"
    },
    "tags": []
   },
   "outputs": [
    {
     "data": {
      "text/html": [
       "<div><svg style=\"position: absolute; width: 0; height: 0; overflow: hidden\">\n",
       "<defs>\n",
       "<symbol id=\"icon-database\" viewBox=\"0 0 32 32\">\n",
       "<path d=\"M16 0c-8.837 0-16 2.239-16 5v4c0 2.761 7.163 5 16 5s16-2.239 16-5v-4c0-2.761-7.163-5-16-5z\"></path>\n",
       "<path d=\"M16 17c-8.837 0-16-2.239-16-5v6c0 2.761 7.163 5 16 5s16-2.239 16-5v-6c0 2.761-7.163 5-16 5z\"></path>\n",
       "<path d=\"M16 26c-8.837 0-16-2.239-16-5v6c0 2.761 7.163 5 16 5s16-2.239 16-5v-6c0 2.761-7.163 5-16 5z\"></path>\n",
       "</symbol>\n",
       "<symbol id=\"icon-file-text2\" viewBox=\"0 0 32 32\">\n",
       "<path d=\"M28.681 7.159c-0.694-0.947-1.662-2.053-2.724-3.116s-2.169-2.030-3.116-2.724c-1.612-1.182-2.393-1.319-2.841-1.319h-15.5c-1.378 0-2.5 1.121-2.5 2.5v27c0 1.378 1.122 2.5 2.5 2.5h23c1.378 0 2.5-1.122 2.5-2.5v-19.5c0-0.448-0.137-1.23-1.319-2.841zM24.543 5.457c0.959 0.959 1.712 1.825 2.268 2.543h-4.811v-4.811c0.718 0.556 1.584 1.309 2.543 2.268zM28 29.5c0 0.271-0.229 0.5-0.5 0.5h-23c-0.271 0-0.5-0.229-0.5-0.5v-27c0-0.271 0.229-0.5 0.5-0.5 0 0 15.499-0 15.5 0v7c0 0.552 0.448 1 1 1h7v19.5z\"></path>\n",
       "<path d=\"M23 26h-14c-0.552 0-1-0.448-1-1s0.448-1 1-1h14c0.552 0 1 0.448 1 1s-0.448 1-1 1z\"></path>\n",
       "<path d=\"M23 22h-14c-0.552 0-1-0.448-1-1s0.448-1 1-1h14c0.552 0 1 0.448 1 1s-0.448 1-1 1z\"></path>\n",
       "<path d=\"M23 18h-14c-0.552 0-1-0.448-1-1s0.448-1 1-1h14c0.552 0 1 0.448 1 1s-0.448 1-1 1z\"></path>\n",
       "</symbol>\n",
       "</defs>\n",
       "</svg>\n",
       "<style>/* CSS stylesheet for displaying xarray objects in jupyterlab.\n",
       " *\n",
       " */\n",
       "\n",
       ":root {\n",
       "  --xr-font-color0: var(--jp-content-font-color0, rgba(0, 0, 0, 1));\n",
       "  --xr-font-color2: var(--jp-content-font-color2, rgba(0, 0, 0, 0.54));\n",
       "  --xr-font-color3: var(--jp-content-font-color3, rgba(0, 0, 0, 0.38));\n",
       "  --xr-border-color: var(--jp-border-color2, #e0e0e0);\n",
       "  --xr-disabled-color: var(--jp-layout-color3, #bdbdbd);\n",
       "  --xr-background-color: var(--jp-layout-color0, white);\n",
       "  --xr-background-color-row-even: var(--jp-layout-color1, white);\n",
       "  --xr-background-color-row-odd: var(--jp-layout-color2, #eeeeee);\n",
       "}\n",
       "\n",
       "html[theme=dark],\n",
       "body.vscode-dark {\n",
       "  --xr-font-color0: rgba(255, 255, 255, 1);\n",
       "  --xr-font-color2: rgba(255, 255, 255, 0.54);\n",
       "  --xr-font-color3: rgba(255, 255, 255, 0.38);\n",
       "  --xr-border-color: #1F1F1F;\n",
       "  --xr-disabled-color: #515151;\n",
       "  --xr-background-color: #111111;\n",
       "  --xr-background-color-row-even: #111111;\n",
       "  --xr-background-color-row-odd: #313131;\n",
       "}\n",
       "\n",
       ".xr-wrap {\n",
       "  display: block !important;\n",
       "  min-width: 300px;\n",
       "  max-width: 700px;\n",
       "}\n",
       "\n",
       ".xr-text-repr-fallback {\n",
       "  /* fallback to plain text repr when CSS is not injected (untrusted notebook) */\n",
       "  display: none;\n",
       "}\n",
       "\n",
       ".xr-header {\n",
       "  padding-top: 6px;\n",
       "  padding-bottom: 6px;\n",
       "  margin-bottom: 4px;\n",
       "  border-bottom: solid 1px var(--xr-border-color);\n",
       "}\n",
       "\n",
       ".xr-header > div,\n",
       ".xr-header > ul {\n",
       "  display: inline;\n",
       "  margin-top: 0;\n",
       "  margin-bottom: 0;\n",
       "}\n",
       "\n",
       ".xr-obj-type,\n",
       ".xr-array-name {\n",
       "  margin-left: 2px;\n",
       "  margin-right: 10px;\n",
       "}\n",
       "\n",
       ".xr-obj-type {\n",
       "  color: var(--xr-font-color2);\n",
       "}\n",
       "\n",
       ".xr-sections {\n",
       "  padding-left: 0 !important;\n",
       "  display: grid;\n",
       "  grid-template-columns: 150px auto auto 1fr 20px 20px;\n",
       "}\n",
       "\n",
       ".xr-section-item {\n",
       "  display: contents;\n",
       "}\n",
       "\n",
       ".xr-section-item input {\n",
       "  display: none;\n",
       "}\n",
       "\n",
       ".xr-section-item input + label {\n",
       "  color: var(--xr-disabled-color);\n",
       "}\n",
       "\n",
       ".xr-section-item input:enabled + label {\n",
       "  cursor: pointer;\n",
       "  color: var(--xr-font-color2);\n",
       "}\n",
       "\n",
       ".xr-section-item input:enabled + label:hover {\n",
       "  color: var(--xr-font-color0);\n",
       "}\n",
       "\n",
       ".xr-section-summary {\n",
       "  grid-column: 1;\n",
       "  color: var(--xr-font-color2);\n",
       "  font-weight: 500;\n",
       "}\n",
       "\n",
       ".xr-section-summary > span {\n",
       "  display: inline-block;\n",
       "  padding-left: 0.5em;\n",
       "}\n",
       "\n",
       ".xr-section-summary-in:disabled + label {\n",
       "  color: var(--xr-font-color2);\n",
       "}\n",
       "\n",
       ".xr-section-summary-in + label:before {\n",
       "  display: inline-block;\n",
       "  content: '►';\n",
       "  font-size: 11px;\n",
       "  width: 15px;\n",
       "  text-align: center;\n",
       "}\n",
       "\n",
       ".xr-section-summary-in:disabled + label:before {\n",
       "  color: var(--xr-disabled-color);\n",
       "}\n",
       "\n",
       ".xr-section-summary-in:checked + label:before {\n",
       "  content: '▼';\n",
       "}\n",
       "\n",
       ".xr-section-summary-in:checked + label > span {\n",
       "  display: none;\n",
       "}\n",
       "\n",
       ".xr-section-summary,\n",
       ".xr-section-inline-details {\n",
       "  padding-top: 4px;\n",
       "  padding-bottom: 4px;\n",
       "}\n",
       "\n",
       ".xr-section-inline-details {\n",
       "  grid-column: 2 / -1;\n",
       "}\n",
       "\n",
       ".xr-section-details {\n",
       "  display: none;\n",
       "  grid-column: 1 / -1;\n",
       "  margin-bottom: 5px;\n",
       "}\n",
       "\n",
       ".xr-section-summary-in:checked ~ .xr-section-details {\n",
       "  display: contents;\n",
       "}\n",
       "\n",
       ".xr-array-wrap {\n",
       "  grid-column: 1 / -1;\n",
       "  display: grid;\n",
       "  grid-template-columns: 20px auto;\n",
       "}\n",
       "\n",
       ".xr-array-wrap > label {\n",
       "  grid-column: 1;\n",
       "  vertical-align: top;\n",
       "}\n",
       "\n",
       ".xr-preview {\n",
       "  color: var(--xr-font-color3);\n",
       "}\n",
       "\n",
       ".xr-array-preview,\n",
       ".xr-array-data {\n",
       "  padding: 0 5px !important;\n",
       "  grid-column: 2;\n",
       "}\n",
       "\n",
       ".xr-array-data,\n",
       ".xr-array-in:checked ~ .xr-array-preview {\n",
       "  display: none;\n",
       "}\n",
       "\n",
       ".xr-array-in:checked ~ .xr-array-data,\n",
       ".xr-array-preview {\n",
       "  display: inline-block;\n",
       "}\n",
       "\n",
       ".xr-dim-list {\n",
       "  display: inline-block !important;\n",
       "  list-style: none;\n",
       "  padding: 0 !important;\n",
       "  margin: 0;\n",
       "}\n",
       "\n",
       ".xr-dim-list li {\n",
       "  display: inline-block;\n",
       "  padding: 0;\n",
       "  margin: 0;\n",
       "}\n",
       "\n",
       ".xr-dim-list:before {\n",
       "  content: '(';\n",
       "}\n",
       "\n",
       ".xr-dim-list:after {\n",
       "  content: ')';\n",
       "}\n",
       "\n",
       ".xr-dim-list li:not(:last-child):after {\n",
       "  content: ',';\n",
       "  padding-right: 5px;\n",
       "}\n",
       "\n",
       ".xr-has-index {\n",
       "  font-weight: bold;\n",
       "}\n",
       "\n",
       ".xr-var-list,\n",
       ".xr-var-item {\n",
       "  display: contents;\n",
       "}\n",
       "\n",
       ".xr-var-item > div,\n",
       ".xr-var-item label,\n",
       ".xr-var-item > .xr-var-name span {\n",
       "  background-color: var(--xr-background-color-row-even);\n",
       "  margin-bottom: 0;\n",
       "}\n",
       "\n",
       ".xr-var-item > .xr-var-name:hover span {\n",
       "  padding-right: 5px;\n",
       "}\n",
       "\n",
       ".xr-var-list > li:nth-child(odd) > div,\n",
       ".xr-var-list > li:nth-child(odd) > label,\n",
       ".xr-var-list > li:nth-child(odd) > .xr-var-name span {\n",
       "  background-color: var(--xr-background-color-row-odd);\n",
       "}\n",
       "\n",
       ".xr-var-name {\n",
       "  grid-column: 1;\n",
       "}\n",
       "\n",
       ".xr-var-dims {\n",
       "  grid-column: 2;\n",
       "}\n",
       "\n",
       ".xr-var-dtype {\n",
       "  grid-column: 3;\n",
       "  text-align: right;\n",
       "  color: var(--xr-font-color2);\n",
       "}\n",
       "\n",
       ".xr-var-preview {\n",
       "  grid-column: 4;\n",
       "}\n",
       "\n",
       ".xr-var-name,\n",
       ".xr-var-dims,\n",
       ".xr-var-dtype,\n",
       ".xr-preview,\n",
       ".xr-attrs dt {\n",
       "  white-space: nowrap;\n",
       "  overflow: hidden;\n",
       "  text-overflow: ellipsis;\n",
       "  padding-right: 10px;\n",
       "}\n",
       "\n",
       ".xr-var-name:hover,\n",
       ".xr-var-dims:hover,\n",
       ".xr-var-dtype:hover,\n",
       ".xr-attrs dt:hover {\n",
       "  overflow: visible;\n",
       "  width: auto;\n",
       "  z-index: 1;\n",
       "}\n",
       "\n",
       ".xr-var-attrs,\n",
       ".xr-var-data {\n",
       "  display: none;\n",
       "  background-color: var(--xr-background-color) !important;\n",
       "  padding-bottom: 5px !important;\n",
       "}\n",
       "\n",
       ".xr-var-attrs-in:checked ~ .xr-var-attrs,\n",
       ".xr-var-data-in:checked ~ .xr-var-data {\n",
       "  display: block;\n",
       "}\n",
       "\n",
       ".xr-var-data > table {\n",
       "  float: right;\n",
       "}\n",
       "\n",
       ".xr-var-name span,\n",
       ".xr-var-data,\n",
       ".xr-attrs {\n",
       "  padding-left: 25px !important;\n",
       "}\n",
       "\n",
       ".xr-attrs,\n",
       ".xr-var-attrs,\n",
       ".xr-var-data {\n",
       "  grid-column: 1 / -1;\n",
       "}\n",
       "\n",
       "dl.xr-attrs {\n",
       "  padding: 0;\n",
       "  margin: 0;\n",
       "  display: grid;\n",
       "  grid-template-columns: 125px auto;\n",
       "}\n",
       "\n",
       ".xr-attrs dt,\n",
       ".xr-attrs dd {\n",
       "  padding: 0;\n",
       "  margin: 0;\n",
       "  float: left;\n",
       "  padding-right: 10px;\n",
       "  width: auto;\n",
       "}\n",
       "\n",
       ".xr-attrs dt {\n",
       "  font-weight: normal;\n",
       "  grid-column: 1;\n",
       "}\n",
       "\n",
       ".xr-attrs dt:hover span {\n",
       "  display: inline-block;\n",
       "  background: var(--xr-background-color);\n",
       "  padding-right: 10px;\n",
       "}\n",
       "\n",
       ".xr-attrs dd {\n",
       "  grid-column: 2;\n",
       "  white-space: pre-wrap;\n",
       "  word-break: break-all;\n",
       "}\n",
       "\n",
       ".xr-icon-database,\n",
       ".xr-icon-file-text2 {\n",
       "  display: inline-block;\n",
       "  vertical-align: middle;\n",
       "  width: 1em;\n",
       "  height: 1.5em !important;\n",
       "  stroke-width: 0;\n",
       "  stroke: currentColor;\n",
       "  fill: currentColor;\n",
       "}\n",
       "</style><pre class='xr-text-repr-fallback'>&lt;xarray.MCDS&gt;\n",
       "Dimensions:     (cell: 1412319, gene: 32285)\n",
       "Coordinates:\n",
       "  * cell        (cell) &lt;U37 &#x27;L8TX_190430_01_A08-GTCGTAAGTGTTAACC-1&#x27; ... &#x27;L8TX...\n",
       "  * gene        (gene) &lt;U18 &#x27;ENSMUSG00000051951&#x27; ... &#x27;ENSMUSG00000095041&#x27;\n",
       "    gene_count  (cell) float32 4.161e+03 5.638e+03 ... 5.299e+03 4.487e+03\n",
       "    gene_name   (gene) &lt;U16 &#x27;Xkr4&#x27; &#x27;Gm1992&#x27; ... &#x27;AC234645.1&#x27; &#x27;AC149090.1&#x27;\n",
       "    umi_count   (cell) float32 1.121e+04 1.962e+04 ... 1.456e+04 1.119e+04\n",
       "Data variables:\n",
       "    gene_da     (cell, gene) float32 dask.array&lt;chunksize=(5000, 32285), meta=np.ndarray&gt;\n",
       "Attributes:\n",
       "    obs_dim:  cell\n",
       "    var_dim:  gene</pre><div class='xr-wrap' style='display:none'><div class='xr-header'><div class='xr-obj-type'>xarray.MCDS</div></div><ul class='xr-sections'><li class='xr-section-item'><input id='section-2c9670f8-8369-45d0-ba1f-1fabf6114343' class='xr-section-summary-in' type='checkbox' disabled ><label for='section-2c9670f8-8369-45d0-ba1f-1fabf6114343' class='xr-section-summary'  title='Expand/collapse section'>Dimensions:</label><div class='xr-section-inline-details'><ul class='xr-dim-list'><li><span class='xr-has-index'>cell</span>: 1412319</li><li><span class='xr-has-index'>gene</span>: 32285</li></ul></div><div class='xr-section-details'></div></li><li class='xr-section-item'><input id='section-b099f85c-f072-47de-bb77-cce7a8fb8de1' class='xr-section-summary-in' type='checkbox'  checked><label for='section-b099f85c-f072-47de-bb77-cce7a8fb8de1' class='xr-section-summary' >Coordinates: <span>(5)</span></label><div class='xr-section-inline-details'></div><div class='xr-section-details'><ul class='xr-var-list'><li class='xr-var-item'><div class='xr-var-name'><span class='xr-has-index'>cell</span></div><div class='xr-var-dims'>(cell)</div><div class='xr-var-dtype'>&lt;U37</div><div class='xr-var-preview xr-preview'>&#x27;L8TX_190430_01_A08-GTCGTAAGTGTT...</div><input id='attrs-4d5e3f6a-b153-4519-b29d-927df8c4e696' class='xr-var-attrs-in' type='checkbox' disabled><label for='attrs-4d5e3f6a-b153-4519-b29d-927df8c4e696' title='Show/Hide attributes'><svg class='icon xr-icon-file-text2'><use xlink:href='#icon-file-text2'></use></svg></label><input id='data-3098a493-65f3-4931-86d1-19f01d6a31dc' class='xr-var-data-in' type='checkbox'><label for='data-3098a493-65f3-4931-86d1-19f01d6a31dc' title='Show/Hide data repr'><svg class='icon xr-icon-database'><use xlink:href='#icon-database'></use></svg></label><div class='xr-var-attrs'><dl class='xr-attrs'></dl></div><div class='xr-var-data'><pre>array([&#x27;L8TX_190430_01_A08-GTCGTAAGTGTTAACC-1&#x27;,\n",
       "       &#x27;L8TX_190430_01_F08-CGTGAATAGCCTCTCT-1&#x27;,\n",
       "       &#x27;L8TX_210204_01_D05-ACTTCCGCAACTGCCG-1&#x27;, ...,\n",
       "       &#x27;L8TX_171120_01_H07-GCGCGATAGCACGCCT-1&#x27;,\n",
       "       &#x27;L8TX_180115_01_C11-ACGCAGCCATACGCTA-1&#x27;,\n",
       "       &#x27;L8TX_180115_01_C11-GAAGCAGAGGCGATAC-1&#x27;], dtype=&#x27;&lt;U37&#x27;)</pre></div></li><li class='xr-var-item'><div class='xr-var-name'><span class='xr-has-index'>gene</span></div><div class='xr-var-dims'>(gene)</div><div class='xr-var-dtype'>&lt;U18</div><div class='xr-var-preview xr-preview'>&#x27;ENSMUSG00000051951&#x27; ... &#x27;ENSMUS...</div><input id='attrs-03965d7e-6bdd-4d9a-9f74-f9064ad11034' class='xr-var-attrs-in' type='checkbox' disabled><label for='attrs-03965d7e-6bdd-4d9a-9f74-f9064ad11034' title='Show/Hide attributes'><svg class='icon xr-icon-file-text2'><use xlink:href='#icon-file-text2'></use></svg></label><input id='data-047e5899-75f9-4864-8c97-346557577616' class='xr-var-data-in' type='checkbox'><label for='data-047e5899-75f9-4864-8c97-346557577616' title='Show/Hide data repr'><svg class='icon xr-icon-database'><use xlink:href='#icon-database'></use></svg></label><div class='xr-var-attrs'><dl class='xr-attrs'></dl></div><div class='xr-var-data'><pre>array([&#x27;ENSMUSG00000051951&#x27;, &#x27;ENSMUSG00000089699&#x27;, &#x27;ENSMUSG00000102331&#x27;, ...,\n",
       "       &#x27;ENSMUSG00000094855&#x27;, &#x27;ENSMUSG00000095019&#x27;, &#x27;ENSMUSG00000095041&#x27;],\n",
       "      dtype=&#x27;&lt;U18&#x27;)</pre></div></li><li class='xr-var-item'><div class='xr-var-name'><span>gene_count</span></div><div class='xr-var-dims'>(cell)</div><div class='xr-var-dtype'>float32</div><div class='xr-var-preview xr-preview'>4.161e+03 5.638e+03 ... 4.487e+03</div><input id='attrs-afd5300b-7c71-4c7c-96f0-7b2ab300fc29' class='xr-var-attrs-in' type='checkbox' disabled><label for='attrs-afd5300b-7c71-4c7c-96f0-7b2ab300fc29' title='Show/Hide attributes'><svg class='icon xr-icon-file-text2'><use xlink:href='#icon-file-text2'></use></svg></label><input id='data-5d0e16ed-f34a-40ad-b954-522c54a10b36' class='xr-var-data-in' type='checkbox'><label for='data-5d0e16ed-f34a-40ad-b954-522c54a10b36' title='Show/Hide data repr'><svg class='icon xr-icon-database'><use xlink:href='#icon-database'></use></svg></label><div class='xr-var-attrs'><dl class='xr-attrs'></dl></div><div class='xr-var-data'><pre>array([4161., 5638., 7277., ..., 4372., 5299., 4487.], dtype=float32)</pre></div></li><li class='xr-var-item'><div class='xr-var-name'><span>gene_name</span></div><div class='xr-var-dims'>(gene)</div><div class='xr-var-dtype'>&lt;U16</div><div class='xr-var-preview xr-preview'>&#x27;Xkr4&#x27; &#x27;Gm1992&#x27; ... &#x27;AC149090.1&#x27;</div><input id='attrs-f5d69ea3-fad1-4a61-a7b6-1696222de7c3' class='xr-var-attrs-in' type='checkbox' disabled><label for='attrs-f5d69ea3-fad1-4a61-a7b6-1696222de7c3' title='Show/Hide attributes'><svg class='icon xr-icon-file-text2'><use xlink:href='#icon-file-text2'></use></svg></label><input id='data-bc916340-6782-4935-996a-20b72a587439' class='xr-var-data-in' type='checkbox'><label for='data-bc916340-6782-4935-996a-20b72a587439' title='Show/Hide data repr'><svg class='icon xr-icon-database'><use xlink:href='#icon-database'></use></svg></label><div class='xr-var-attrs'><dl class='xr-attrs'></dl></div><div class='xr-var-data'><pre>array([&#x27;Xkr4&#x27;, &#x27;Gm1992&#x27;, &#x27;Gm19938&#x27;, ..., &#x27;AC133095.1&#x27;, &#x27;AC234645.1&#x27;,\n",
       "       &#x27;AC149090.1&#x27;], dtype=&#x27;&lt;U16&#x27;)</pre></div></li><li class='xr-var-item'><div class='xr-var-name'><span>umi_count</span></div><div class='xr-var-dims'>(cell)</div><div class='xr-var-dtype'>float32</div><div class='xr-var-preview xr-preview'>1.121e+04 1.962e+04 ... 1.119e+04</div><input id='attrs-4b08c46c-c398-4122-b7f7-4599613118f3' class='xr-var-attrs-in' type='checkbox' disabled><label for='attrs-4b08c46c-c398-4122-b7f7-4599613118f3' title='Show/Hide attributes'><svg class='icon xr-icon-file-text2'><use xlink:href='#icon-file-text2'></use></svg></label><input id='data-7454c7ca-11df-4b18-8418-f52fdc986d7d' class='xr-var-data-in' type='checkbox'><label for='data-7454c7ca-11df-4b18-8418-f52fdc986d7d' title='Show/Hide data repr'><svg class='icon xr-icon-database'><use xlink:href='#icon-database'></use></svg></label><div class='xr-var-attrs'><dl class='xr-attrs'></dl></div><div class='xr-var-data'><pre>array([11209., 19620., 40109., ...,  9187., 14559., 11187.], dtype=float32)</pre></div></li></ul></div></li><li class='xr-section-item'><input id='section-5d8437ab-e5ce-4aa9-b0a3-bf8bb84fe3e5' class='xr-section-summary-in' type='checkbox'  checked><label for='section-5d8437ab-e5ce-4aa9-b0a3-bf8bb84fe3e5' class='xr-section-summary' >Data variables: <span>(1)</span></label><div class='xr-section-inline-details'></div><div class='xr-section-details'><ul class='xr-var-list'><li class='xr-var-item'><div class='xr-var-name'><span>gene_da</span></div><div class='xr-var-dims'>(cell, gene)</div><div class='xr-var-dtype'>float32</div><div class='xr-var-preview xr-preview'>dask.array&lt;chunksize=(5000, 32285), meta=np.ndarray&gt;</div><input id='attrs-9093fc43-dc5c-42cf-a41c-fb307227373a' class='xr-var-attrs-in' type='checkbox' disabled><label for='attrs-9093fc43-dc5c-42cf-a41c-fb307227373a' title='Show/Hide attributes'><svg class='icon xr-icon-file-text2'><use xlink:href='#icon-file-text2'></use></svg></label><input id='data-8c378ae0-1117-48cb-8c75-63786d87c4f2' class='xr-var-data-in' type='checkbox'><label for='data-8c378ae0-1117-48cb-8c75-63786d87c4f2' title='Show/Hide data repr'><svg class='icon xr-icon-database'><use xlink:href='#icon-database'></use></svg></label><div class='xr-var-attrs'><dl class='xr-attrs'></dl></div><div class='xr-var-data'><table>\n",
       "    <tr>\n",
       "        <td>\n",
       "            <table>\n",
       "                <thead>\n",
       "                    <tr>\n",
       "                        <td> </td>\n",
       "                        <th> Array </th>\n",
       "                        <th> Chunk </th>\n",
       "                    </tr>\n",
       "                </thead>\n",
       "                <tbody>\n",
       "                    \n",
       "                    <tr>\n",
       "                        <th> Bytes </th>\n",
       "                        <td> 169.86 GiB </td>\n",
       "                        <td> 615.79 MiB </td>\n",
       "                    </tr>\n",
       "                    \n",
       "                    <tr>\n",
       "                        <th> Shape </th>\n",
       "                        <td> (1412319, 32285) </td>\n",
       "                        <td> (5000, 32285) </td>\n",
       "                    </tr>\n",
       "                    <tr>\n",
       "                        <th> Count </th>\n",
       "                        <td> 284 Tasks </td>\n",
       "                        <td> 283 Chunks </td>\n",
       "                    </tr>\n",
       "                    <tr>\n",
       "                    <th> Type </th>\n",
       "                    <td> float32 </td>\n",
       "                    <td> numpy.ndarray </td>\n",
       "                    </tr>\n",
       "                </tbody>\n",
       "            </table>\n",
       "        </td>\n",
       "        <td>\n",
       "        <svg width=\"79\" height=\"170\" style=\"stroke:rgb(0,0,0);stroke-width:1\" >\n",
       "\n",
       "  <!-- Horizontal lines -->\n",
       "  <line x1=\"0\" y1=\"0\" x2=\"29\" y2=\"0\" style=\"stroke-width:2\" />\n",
       "  <line x1=\"0\" y1=\"5\" x2=\"29\" y2=\"5\" />\n",
       "  <line x1=\"0\" y1=\"12\" x2=\"29\" y2=\"12\" />\n",
       "  <line x1=\"0\" y1=\"18\" x2=\"29\" y2=\"18\" />\n",
       "  <line x1=\"0\" y1=\"25\" x2=\"29\" y2=\"25\" />\n",
       "  <line x1=\"0\" y1=\"31\" x2=\"29\" y2=\"31\" />\n",
       "  <line x1=\"0\" y1=\"37\" x2=\"29\" y2=\"37\" />\n",
       "  <line x1=\"0\" y1=\"44\" x2=\"29\" y2=\"44\" />\n",
       "  <line x1=\"0\" y1=\"50\" x2=\"29\" y2=\"50\" />\n",
       "  <line x1=\"0\" y1=\"56\" x2=\"29\" y2=\"56\" />\n",
       "  <line x1=\"0\" y1=\"62\" x2=\"29\" y2=\"62\" />\n",
       "  <line x1=\"0\" y1=\"69\" x2=\"29\" y2=\"69\" />\n",
       "  <line x1=\"0\" y1=\"75\" x2=\"29\" y2=\"75\" />\n",
       "  <line x1=\"0\" y1=\"81\" x2=\"29\" y2=\"81\" />\n",
       "  <line x1=\"0\" y1=\"88\" x2=\"29\" y2=\"88\" />\n",
       "  <line x1=\"0\" y1=\"94\" x2=\"29\" y2=\"94\" />\n",
       "  <line x1=\"0\" y1=\"101\" x2=\"29\" y2=\"101\" />\n",
       "  <line x1=\"0\" y1=\"107\" x2=\"29\" y2=\"107\" />\n",
       "  <line x1=\"0\" y1=\"113\" x2=\"29\" y2=\"113\" />\n",
       "  <line x1=\"0\" y1=\"120\" x2=\"29\" y2=\"120\" style=\"stroke-width:2\" />\n",
       "\n",
       "  <!-- Vertical lines -->\n",
       "  <line x1=\"0\" y1=\"0\" x2=\"0\" y2=\"120\" style=\"stroke-width:2\" />\n",
       "  <line x1=\"29\" y1=\"0\" x2=\"29\" y2=\"120\" style=\"stroke-width:2\" />\n",
       "\n",
       "  <!-- Colored Rectangle -->\n",
       "  <polygon points=\"0.0,0.0 29.79187344420042,0.0 29.79187344420042,120.0 0.0,120.0\" style=\"fill:#8B4903A0;stroke-width:0\"/>\n",
       "\n",
       "  <!-- Text -->\n",
       "  <text x=\"14.895937\" y=\"140.000000\" font-size=\"1.0rem\" font-weight=\"100\" text-anchor=\"middle\" >32285</text>\n",
       "  <text x=\"49.791873\" y=\"60.000000\" font-size=\"1.0rem\" font-weight=\"100\" text-anchor=\"middle\" transform=\"rotate(-90,49.791873,60.000000)\">1412319</text>\n",
       "</svg>\n",
       "        </td>\n",
       "    </tr>\n",
       "</table></div></li></ul></div></li><li class='xr-section-item'><input id='section-a79cf165-6d1a-43d1-9b59-57e4f11c50c4' class='xr-section-summary-in' type='checkbox'  checked><label for='section-a79cf165-6d1a-43d1-9b59-57e4f11c50c4' class='xr-section-summary' >Attributes: <span>(2)</span></label><div class='xr-section-inline-details'></div><div class='xr-section-details'><dl class='xr-attrs'><dt><span>obs_dim :</span></dt><dd>cell</dd><dt><span>var_dim :</span></dt><dd>gene</dd></dl></div></li></ul></div></div>"
      ],
      "text/plain": [
       "<xarray.MCDS>\n",
       "Dimensions:     (cell: 1412319, gene: 32285)\n",
       "Coordinates:\n",
       "  * cell        (cell) <U37 'L8TX_190430_01_A08-GTCGTAAGTGTTAACC-1' ... 'L8TX...\n",
       "  * gene        (gene) <U18 'ENSMUSG00000051951' ... 'ENSMUSG00000095041'\n",
       "    gene_count  (cell) float32 4.161e+03 5.638e+03 ... 5.299e+03 4.487e+03\n",
       "    gene_name   (gene) <U16 'Xkr4' 'Gm1992' ... 'AC234645.1' 'AC149090.1'\n",
       "    umi_count   (cell) float32 1.121e+04 1.962e+04 ... 1.456e+04 1.119e+04\n",
       "Data variables:\n",
       "    gene_da     (cell, gene) float32 dask.array<chunksize=(5000, 32285), meta=np.ndarray>\n",
       "Attributes:\n",
       "    obs_dim:  cell\n",
       "    var_dim:  gene"
      ]
     },
     "execution_count": 6,
     "metadata": {},
     "output_type": "execute_result"
    }
   ],
   "source": [
    "rna_ds = MCDS.open(mcds_path, use_obs=cells, var_dim='gene')\n",
    "rna_ds"
   ]
  },
  {
   "cell_type": "code",
   "execution_count": 7,
   "id": "41e50e65",
   "metadata": {
    "execution": {
     "iopub.execute_input": "2022-10-22T23:08:59.352274Z",
     "iopub.status.busy": "2022-10-22T23:08:59.351895Z",
     "iopub.status.idle": "2022-10-22T23:08:59.415671Z",
     "shell.execute_reply": "2022-10-22T23:08:59.414740Z"
    },
    "papermill": {
     "duration": 0.077539,
     "end_time": "2022-10-22T23:08:59.417997",
     "exception": false,
     "start_time": "2022-10-22T23:08:59.340458",
     "status": "completed"
    },
    "tags": []
   },
   "outputs": [],
   "source": [
    "mc_cef = pd.read_csv('mC.CEF.csv', header=None, index_col=0).squeeze()\n",
    "rna_cef = pd.read_csv('RNA.CEF.csv', header=None, index_col=0).squeeze()\n",
    "cef = mc_cef | rna_cef\n",
    "cef = cef[cef].index\n",
    "cef.name = 'gene'"
   ]
  },
  {
   "cell_type": "code",
   "execution_count": 8,
   "id": "d0441ba2",
   "metadata": {
    "ExecuteTime": {
     "end_time": "2022-06-20T20:23:43.009644Z",
     "start_time": "2022-06-20T20:23:42.989438Z"
    },
    "execution": {
     "iopub.execute_input": "2022-10-22T23:08:59.438735Z",
     "iopub.status.busy": "2022-10-22T23:08:59.438433Z",
     "iopub.status.idle": "2022-10-22T23:08:59.452665Z",
     "shell.execute_reply": "2022-10-22T23:08:59.451943Z"
    },
    "papermill": {
     "duration": 0.026214,
     "end_time": "2022-10-22T23:08:59.453911",
     "exception": false,
     "start_time": "2022-10-22T23:08:59.427697",
     "status": "completed"
    },
    "tags": []
   },
   "outputs": [
    {
     "data": {
      "text/plain": [
       "10842"
      ]
     },
     "execution_count": 8,
     "metadata": {},
     "output_type": "execute_result"
    }
   ],
   "source": [
    "if gene_map is None:\n",
    "    assert (~cef.isin(rna_ds.get_index('gene'))).sum() == 0\n",
    "    use_genes = rna_ds.get_index('gene').isin(cef)\n",
    "else:\n",
    "    gene_id_not_nan = ~rna_ds.get_index('gene').map(gene_map).isna()\n",
    "    is_cef = rna_ds.get_index('gene').map(gene_map).isin(cef)\n",
    "    use_genes = gene_id_not_nan & is_cef\n",
    "use_genes.sum()"
   ]
  },
  {
   "cell_type": "code",
   "execution_count": 9,
   "id": "e60a3e5f",
   "metadata": {
    "ExecuteTime": {
     "end_time": "2022-06-20T20:24:19.065542Z",
     "start_time": "2022-06-20T20:23:43.010837Z"
    },
    "execution": {
     "iopub.execute_input": "2022-10-22T23:08:59.474612Z",
     "iopub.status.busy": "2022-10-22T23:08:59.474304Z",
     "iopub.status.idle": "2022-10-22T23:14:50.432542Z",
     "shell.execute_reply": "2022-10-22T23:14:50.431764Z"
    },
    "papermill": {
     "duration": 350.970995,
     "end_time": "2022-10-22T23:14:50.434755",
     "exception": false,
     "start_time": "2022-10-22T23:08:59.463760",
     "status": "completed"
    },
    "tags": []
   },
   "outputs": [
    {
     "name": "stdout",
     "output_type": "stream",
     "text": [
      "Loading chunk 0-70000/1412319\n"
     ]
    },
    {
     "name": "stdout",
     "output_type": "stream",
     "text": [
      "Loading chunk 70000-140000/1412319\n"
     ]
    },
    {
     "name": "stdout",
     "output_type": "stream",
     "text": [
      "Loading chunk 140000-210000/1412319\n"
     ]
    },
    {
     "name": "stdout",
     "output_type": "stream",
     "text": [
      "Loading chunk 210000-280000/1412319\n"
     ]
    },
    {
     "name": "stdout",
     "output_type": "stream",
     "text": [
      "Loading chunk 280000-350000/1412319\n"
     ]
    },
    {
     "name": "stdout",
     "output_type": "stream",
     "text": [
      "Loading chunk 350000-420000/1412319\n"
     ]
    },
    {
     "name": "stdout",
     "output_type": "stream",
     "text": [
      "Loading chunk 420000-490000/1412319\n"
     ]
    },
    {
     "name": "stdout",
     "output_type": "stream",
     "text": [
      "Loading chunk 490000-560000/1412319\n"
     ]
    },
    {
     "name": "stdout",
     "output_type": "stream",
     "text": [
      "Loading chunk 560000-630000/1412319\n"
     ]
    },
    {
     "name": "stdout",
     "output_type": "stream",
     "text": [
      "Loading chunk 630000-700000/1412319\n"
     ]
    },
    {
     "name": "stdout",
     "output_type": "stream",
     "text": [
      "Loading chunk 700000-770000/1412319\n"
     ]
    },
    {
     "name": "stdout",
     "output_type": "stream",
     "text": [
      "Loading chunk 770000-840000/1412319\n"
     ]
    },
    {
     "name": "stdout",
     "output_type": "stream",
     "text": [
      "Loading chunk 840000-910000/1412319\n"
     ]
    },
    {
     "name": "stdout",
     "output_type": "stream",
     "text": [
      "Loading chunk 910000-980000/1412319\n"
     ]
    },
    {
     "name": "stdout",
     "output_type": "stream",
     "text": [
      "Loading chunk 980000-1050000/1412319\n"
     ]
    },
    {
     "name": "stdout",
     "output_type": "stream",
     "text": [
      "Loading chunk 1050000-1120000/1412319\n"
     ]
    },
    {
     "name": "stdout",
     "output_type": "stream",
     "text": [
      "Loading chunk 1120000-1190000/1412319\n"
     ]
    },
    {
     "name": "stdout",
     "output_type": "stream",
     "text": [
      "Loading chunk 1190000-1260000/1412319\n"
     ]
    },
    {
     "name": "stdout",
     "output_type": "stream",
     "text": [
      "Loading chunk 1260000-1330000/1412319\n"
     ]
    },
    {
     "name": "stdout",
     "output_type": "stream",
     "text": [
      "Loading chunk 1330000-1400000/1412319\n"
     ]
    },
    {
     "name": "stdout",
     "output_type": "stream",
     "text": [
      "Loading chunk 1400000-1412319/1412319\n"
     ]
    }
   ],
   "source": [
    "loading_chunk = int(cells.size // 5000 / 20) * 5000\n",
    "loading_chunk = max(20000, loading_chunk)\n",
    "\n",
    "# ~20 min to load 4M\n",
    "adata = rna_ds.get_count_adata(da_name='gene_da', use_vars=use_genes, \n",
    "                               loading_chunk=loading_chunk)"
   ]
  },
  {
   "cell_type": "code",
   "execution_count": 10,
   "id": "3cbfd8a2",
   "metadata": {
    "ExecuteTime": {
     "end_time": "2022-06-20T20:24:19.299646Z",
     "start_time": "2022-06-20T20:24:19.068285Z"
    },
    "execution": {
     "iopub.execute_input": "2022-10-22T23:15:20.971387Z",
     "iopub.status.busy": "2022-10-22T23:15:20.970772Z",
     "iopub.status.idle": "2022-10-22T23:15:21.067237Z",
     "shell.execute_reply": "2022-10-22T23:15:21.066151Z"
    },
    "papermill": {
     "duration": 11.588257,
     "end_time": "2022-10-22T23:15:21.069007",
     "exception": false,
     "start_time": "2022-10-22T23:15:09.480750",
     "status": "completed"
    },
    "tags": []
   },
   "outputs": [],
   "source": [
    "if gene_map is not None:\n",
    "    # cleanup gene metadata of RNA\n",
    "    adata.var_names = adata.var_names.map(gene_map)\n",
    "    assert adata.var_names.duplicated().sum() == 0\n",
    "\n",
    "    gene_meta = mm10.get_gene_metadata(annot_version = 'GENCODE_vm22')\n",
    "    for col in ['chrom', 'start', 'end']:\n",
    "        adata.var[col] = gene_meta[col]\n",
    "else:\n",
    "    gene_meta = mm10.get_gene_metadata(annot_version = 'GENCODE_vm23')\n",
    "    for col in ['chrom', 'start', 'end']:\n",
    "        adata.var[col] = gene_meta[col]"
   ]
  },
  {
   "cell_type": "code",
   "execution_count": 11,
   "id": "f9b5b265-9d78-4d56-b4f4-6d8a7b07af63",
   "metadata": {
    "execution": {
     "iopub.execute_input": "2022-10-22T23:15:22.718482Z",
     "iopub.status.busy": "2022-10-22T23:15:22.718117Z",
     "iopub.status.idle": "2022-10-22T23:15:22.724405Z",
     "shell.execute_reply": "2022-10-22T23:15:22.723652Z"
    },
    "papermill": {
     "duration": 1.585373,
     "end_time": "2022-10-22T23:15:22.725668",
     "exception": false,
     "start_time": "2022-10-22T23:15:21.140295",
     "status": "completed"
    },
    "tags": []
   },
   "outputs": [
    {
     "data": {
      "text/plain": [
       "AnnData object with n_obs × n_vars = 1412319 × 10842\n",
       "    obs: 'count', 'umi_count'\n",
       "    var: 'name', 'chrom', 'start', 'end'"
      ]
     },
     "execution_count": 11,
     "metadata": {},
     "output_type": "execute_result"
    }
   ],
   "source": [
    "adata"
   ]
  },
  {
   "cell_type": "markdown",
   "id": "fedf318d",
   "metadata": {
    "papermill": {
     "duration": 3.652034,
     "end_time": "2022-10-22T23:15:28.966933",
     "exception": false,
     "start_time": "2022-10-22T23:15:25.314899",
     "status": "completed"
    },
    "tags": []
   },
   "source": [
    "## Basic Feature Filtering"
   ]
  },
  {
   "cell_type": "code",
   "execution_count": 12,
   "id": "820d0a28",
   "metadata": {
    "ExecuteTime": {
     "end_time": "2022-06-20T20:24:19.303456Z",
     "start_time": "2022-06-20T20:24:19.301269Z"
    },
    "execution": {
     "iopub.execute_input": "2022-10-22T23:15:36.239131Z",
     "iopub.status.busy": "2022-10-22T23:15:36.238789Z",
     "iopub.status.idle": "2022-10-22T23:15:36.243068Z",
     "shell.execute_reply": "2022-10-22T23:15:36.242369Z"
    },
    "papermill": {
     "duration": 4.518494,
     "end_time": "2022-10-22T23:15:36.244491",
     "exception": false,
     "start_time": "2022-10-22T23:15:31.725997",
     "status": "completed"
    },
    "tags": []
   },
   "outputs": [],
   "source": [
    "# no need to do this, already did in mC\n",
    "\n",
    "# chroms = [\n",
    "#     'chr1', 'chr2', 'chr3', 'chr4', 'chr5', 'chr6', 'chr7', 'chr8', 'chr9',\n",
    "#     'chr10', 'chr11', 'chr12', 'chr13', 'chr14', 'chr15', 'chr16', 'chr17',\n",
    "#     'chr18', 'chr19'\n",
    "# ]\n",
    "#\n",
    "# remove_chromosomes(adata, include_chromosomes=chroms)\n",
    "# remove_black_list_region(adata, black_list_path=mm10.ENCODE_BLACKLIST_PATH)"
   ]
  },
  {
   "cell_type": "code",
   "execution_count": 13,
   "id": "c927181e",
   "metadata": {
    "ExecuteTime": {
     "end_time": "2022-06-20T20:24:21.401905Z",
     "start_time": "2022-06-20T20:24:19.304799Z"
    },
    "execution": {
     "iopub.execute_input": "2022-10-22T23:15:44.780363Z",
     "iopub.status.busy": "2022-10-22T23:15:44.779419Z",
     "iopub.status.idle": "2022-10-22T23:15:58.049699Z",
     "shell.execute_reply": "2022-10-22T23:15:58.048684Z"
    },
    "papermill": {
     "duration": 18.220616,
     "end_time": "2022-10-22T23:15:58.051199",
     "exception": false,
     "start_time": "2022-10-22T23:15:39.830583",
     "status": "completed"
    },
    "tags": []
   },
   "outputs": [
    {
     "name": "stdout",
     "output_type": "stream",
     "text": [
      "10643 regions remained.\n"
     ]
    }
   ],
   "source": [
    "if adata.n_obs > n_cell:\n",
    "    filter_regions(adata, n_cell=n_cell, zscore_abs_cutoff=None)"
   ]
  },
  {
   "cell_type": "code",
   "execution_count": 14,
   "id": "e0a704fb-26d0-4565-9bc0-5aec5f639cbf",
   "metadata": {
    "execution": {
     "iopub.execute_input": "2022-10-22T23:16:11.503675Z",
     "iopub.status.busy": "2022-10-22T23:16:11.503375Z",
     "iopub.status.idle": "2022-10-22T23:16:11.508454Z",
     "shell.execute_reply": "2022-10-22T23:16:11.507742Z"
    },
    "papermill": {
     "duration": 6.641333,
     "end_time": "2022-10-22T23:16:11.509748",
     "exception": false,
     "start_time": "2022-10-22T23:16:04.868415",
     "status": "completed"
    },
    "tags": []
   },
   "outputs": [],
   "source": [
    "if adata.X.dtype != 'float32':\n",
    "    adata.X = adata.X.astype('float32')"
   ]
  },
  {
   "cell_type": "code",
   "execution_count": 15,
   "id": "3a415e01-dab1-410b-bfca-4b83c3eb2878",
   "metadata": {
    "execution": {
     "iopub.execute_input": "2022-10-22T23:16:26.167632Z",
     "iopub.status.busy": "2022-10-22T23:16:26.167335Z",
     "iopub.status.idle": "2022-10-22T23:16:34.792504Z",
     "shell.execute_reply": "2022-10-22T23:16:34.791368Z"
    },
    "papermill": {
     "duration": 16.070377,
     "end_time": "2022-10-22T23:16:34.794891",
     "exception": false,
     "start_time": "2022-10-22T23:16:18.724514",
     "status": "completed"
    },
    "tags": []
   },
   "outputs": [],
   "source": [
    "sc.pp.normalize_per_cell(adata)"
   ]
  },
  {
   "cell_type": "code",
   "execution_count": 16,
   "id": "316d335a-32e5-4654-9f45-e15b218413e4",
   "metadata": {
    "execution": {
     "iopub.execute_input": "2022-10-22T23:16:58.587119Z",
     "iopub.status.busy": "2022-10-22T23:16:58.585103Z",
     "iopub.status.idle": "2022-10-22T23:17:25.183801Z",
     "shell.execute_reply": "2022-10-22T23:17:25.182643Z"
    },
    "papermill": {
     "duration": 37.55275,
     "end_time": "2022-10-22T23:17:25.186078",
     "exception": false,
     "start_time": "2022-10-22T23:16:47.633328",
     "status": "completed"
    },
    "tags": []
   },
   "outputs": [],
   "source": [
    "sc.pp.log1p(adata)"
   ]
  },
  {
   "cell_type": "code",
   "execution_count": 17,
   "id": "7465ba1a-a108-4692-830e-bc77ed2dc52d",
   "metadata": {
    "execution": {
     "iopub.execute_input": "2022-10-22T23:17:47.187863Z",
     "iopub.status.busy": "2022-10-22T23:17:47.187071Z",
     "iopub.status.idle": "2022-10-22T23:20:03.016314Z",
     "shell.execute_reply": "2022-10-22T23:20:03.014568Z"
    },
    "papermill": {
     "duration": 149.567748,
     "end_time": "2022-10-22T23:20:03.019417",
     "exception": false,
     "start_time": "2022-10-22T23:17:33.451669",
     "status": "completed"
    },
    "tags": []
   },
   "outputs": [],
   "source": [
    "adata.X = adata.X.toarray()\n",
    "std_filter = adata.X.std(axis=0) > std_cutoff\n",
    "adata._inplace_subset_var(std_filter)"
   ]
  },
  {
   "cell_type": "code",
   "execution_count": 18,
   "id": "6dc985e3",
   "metadata": {
    "ExecuteTime": {
     "end_time": "2022-06-20T20:24:26.555918Z",
     "start_time": "2022-06-20T20:24:21.403426Z"
    },
    "execution": {
     "iopub.execute_input": "2022-10-22T23:20:03.416138Z",
     "iopub.status.busy": "2022-10-22T23:20:03.414146Z",
     "iopub.status.idle": "2022-10-22T23:20:37.086653Z",
     "shell.execute_reply": "2022-10-22T23:20:37.085357Z"
    },
    "papermill": {
     "duration": 33.884864,
     "end_time": "2022-10-22T23:20:37.088881",
     "exception": false,
     "start_time": "2022-10-22T23:20:03.204017",
     "status": "completed"
    },
    "tags": []
   },
   "outputs": [],
   "source": [
    "# zero_center=False to prevent making dense matrix\n",
    "sc.pp.scale(adata, zero_center=True)"
   ]
  },
  {
   "cell_type": "code",
   "execution_count": 19,
   "id": "39d36e18",
   "metadata": {
    "ExecuteTime": {
     "end_time": "2022-06-20T20:24:27.558232Z",
     "start_time": "2022-06-20T20:24:26.558715Z"
    },
    "execution": {
     "iopub.execute_input": "2022-10-22T23:20:37.426210Z",
     "iopub.status.busy": "2022-10-22T23:20:37.425955Z",
     "iopub.status.idle": "2022-10-22T23:26:09.139998Z",
     "shell.execute_reply": "2022-10-22T23:26:09.139226Z"
    },
    "papermill": {
     "duration": 331.882801,
     "end_time": "2022-10-22T23:26:09.142118",
     "exception": false,
     "start_time": "2022-10-22T23:20:37.259317",
     "status": "completed"
    },
    "tags": []
   },
   "outputs": [],
   "source": [
    "adata.write_h5ad('rna_input.h5ad')"
   ]
  },
  {
   "cell_type": "code",
   "execution_count": 20,
   "id": "34934d6a",
   "metadata": {
    "ExecuteTime": {
     "end_time": "2022-06-20T20:24:27.563118Z",
     "start_time": "2022-06-20T20:24:27.559561Z"
    },
    "execution": {
     "iopub.execute_input": "2022-10-22T23:26:09.632493Z",
     "iopub.status.busy": "2022-10-22T23:26:09.632269Z",
     "iopub.status.idle": "2022-10-22T23:26:09.637260Z",
     "shell.execute_reply": "2022-10-22T23:26:09.636653Z"
    },
    "papermill": {
     "duration": 0.302648,
     "end_time": "2022-10-22T23:26:09.638497",
     "exception": false,
     "start_time": "2022-10-22T23:26:09.335849",
     "status": "completed"
    },
    "tags": []
   },
   "outputs": [
    {
     "data": {
      "text/plain": [
       "AnnData object with n_obs × n_vars = 1412319 × 6231\n",
       "    obs: 'count', 'umi_count', 'n_counts'\n",
       "    var: 'name', 'chrom', 'start', 'end', 'mean', 'std'\n",
       "    uns: 'log1p'"
      ]
     },
     "execution_count": 20,
     "metadata": {},
     "output_type": "execute_result"
    }
   ],
   "source": [
    "adata"
   ]
  },
  {
   "cell_type": "code",
   "execution_count": null,
   "id": "8b0093c4",
   "metadata": {
    "papermill": {
     "duration": 0.253019,
     "end_time": "2022-10-22T23:26:10.133663",
     "exception": false,
     "start_time": "2022-10-22T23:26:09.880644",
     "status": "completed"
    },
    "tags": []
   },
   "outputs": [],
   "source": []
  },
  {
   "cell_type": "code",
   "execution_count": null,
   "id": "576a7480",
   "metadata": {
    "papermill": {
     "duration": 1.044089,
     "end_time": "2022-10-22T23:26:11.419426",
     "exception": false,
     "start_time": "2022-10-22T23:26:10.375337",
     "status": "completed"
    },
    "tags": []
   },
   "outputs": [],
   "source": []
  },
  {
   "cell_type": "code",
   "execution_count": null,
   "id": "6891988a",
   "metadata": {
    "papermill": {
     "duration": 0.151822,
     "end_time": "2022-10-22T23:26:12.381471",
     "exception": false,
     "start_time": "2022-10-22T23:26:12.229649",
     "status": "completed"
    },
    "tags": []
   },
   "outputs": [],
   "source": []
  },
  {
   "cell_type": "code",
   "execution_count": null,
   "id": "b3a82800",
   "metadata": {
    "papermill": {
     "duration": 0.24694,
     "end_time": "2022-10-22T23:26:12.913330",
     "exception": false,
     "start_time": "2022-10-22T23:26:12.666390",
     "status": "completed"
    },
    "tags": []
   },
   "outputs": [],
   "source": []
  }
 ],
 "metadata": {
  "celltoolbar": "Tags",
  "hide_input": false,
  "kernelspec": {
   "display_name": "Python 3 (ipykernel)",
   "language": "python",
   "name": "python3"
  },
  "language_info": {
   "codemirror_mode": {
    "name": "ipython",
    "version": 3
   },
   "file_extension": ".py",
   "mimetype": "text/x-python",
   "name": "python",
   "nbconvert_exporter": "python",
   "pygments_lexer": "ipython3",
   "version": "3.7.12"
  },
  "papermill": {
   "default_parameters": {},
   "duration": 1049.926649,
   "end_time": "2022-10-22T23:26:14.158797",
   "environment_variables": {},
   "exception": null,
   "input_path": "/mnt/filestore/221015-cemba-mc-aibs-tenx-integration/template/02b.prepare_rna.ipynb",
   "output_path": "/mnt/filestore/221015-cemba-mc-aibs-tenx-integration/Round1/CorticalExc/02b.prepare_rna.ipynb",
   "parameters": {
    "cpu": 1,
    "dataset": "AIBS_TENX",
    "group_name": "CorticalExc",
    "mem_gb": 1,
    "n_cell": 5,
    "std_cutoff": 0.05
   },
   "start_time": "2022-10-22T23:08:44.232148",
   "version": "2.3.3"
  },
  "toc": {
   "base_numbering": 1,
   "nav_menu": {},
   "number_sections": true,
   "sideBar": true,
   "skip_h1_title": true,
   "title_cell": "Table of Contents",
   "title_sidebar": "Contents",
   "toc_cell": false,
   "toc_position": {},
   "toc_section_display": true,
   "toc_window_display": true
  }
 },
 "nbformat": 4,
 "nbformat_minor": 5
}