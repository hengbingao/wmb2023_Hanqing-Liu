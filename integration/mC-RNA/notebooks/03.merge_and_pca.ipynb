{
 "cells": [
  {
   "cell_type": "code",
   "execution_count": 1,
   "id": "fc8a8b6d",
   "metadata": {
    "ExecuteTime": {
     "end_time": "2022-06-26T05:59:00.522304Z",
     "start_time": "2022-06-26T05:58:57.945965Z"
    },
    "execution": {
     "iopub.execute_input": "2022-10-22T23:26:18.843342Z",
     "iopub.status.busy": "2022-10-22T23:26:18.842692Z",
     "iopub.status.idle": "2022-10-22T23:26:21.031583Z",
     "shell.execute_reply": "2022-10-22T23:26:21.030733Z"
    },
    "papermill": {
     "duration": 2.379742,
     "end_time": "2022-10-22T23:26:21.033520",
     "exception": false,
     "start_time": "2022-10-22T23:26:18.653778",
     "status": "completed"
    },
    "tags": []
   },
   "outputs": [],
   "source": [
    "import anndata\n",
    "import numpy as np\n",
    "from ALLCools.clustering import *\n",
    "from sklearn.decomposition import PCA, TruncatedSVD\n",
    "\n",
    "import matplotlib.pyplot as plt"
   ]
  },
  {
   "cell_type": "code",
   "execution_count": 2,
   "id": "14e4a573",
   "metadata": {
    "ExecuteTime": {
     "end_time": "2022-06-26T05:59:00.527816Z",
     "start_time": "2022-06-26T05:59:00.525235Z"
    },
    "execution": {
     "iopub.execute_input": "2022-10-22T23:26:21.427429Z",
     "iopub.status.busy": "2022-10-22T23:26:21.426823Z",
     "iopub.status.idle": "2022-10-22T23:26:21.430282Z",
     "shell.execute_reply": "2022-10-22T23:26:21.429733Z"
    },
    "papermill": {
     "duration": 0.161713,
     "end_time": "2022-10-22T23:26:21.431371",
     "exception": false,
     "start_time": "2022-10-22T23:26:21.269658",
     "status": "completed"
    },
    "tags": [
     "parameters"
    ]
   },
   "outputs": [],
   "source": [
    "n_train_cell = 100000\n",
    "ref_dataset = 'rna'"
   ]
  },
  {
   "cell_type": "code",
   "execution_count": 3,
   "id": "3f9c362e",
   "metadata": {
    "execution": {
     "iopub.execute_input": "2022-10-22T23:26:21.765336Z",
     "iopub.status.busy": "2022-10-22T23:26:21.764722Z",
     "iopub.status.idle": "2022-10-22T23:26:21.768361Z",
     "shell.execute_reply": "2022-10-22T23:26:21.767754Z"
    },
    "papermill": {
     "duration": 0.209037,
     "end_time": "2022-10-22T23:26:21.769637",
     "exception": false,
     "start_time": "2022-10-22T23:26:21.560600",
     "status": "completed"
    },
    "tags": [
     "injected-parameters"
    ]
   },
   "outputs": [],
   "source": [
    "# Parameters\n",
    "cpu = 1\n",
    "group_name = \"CorticalExc\"\n",
    "mem_gb = 1\n",
    "n_train_cell = 100000\n",
    "ref_dataset = \"rna\"\n"
   ]
  },
  {
   "cell_type": "markdown",
   "id": "bd6dd2a1",
   "metadata": {
    "papermill": {
     "duration": 0.187409,
     "end_time": "2022-10-22T23:26:22.096404",
     "exception": false,
     "start_time": "2022-10-22T23:26:21.908995",
     "status": "completed"
    },
    "tags": []
   },
   "source": [
    "## Merge Adata"
   ]
  },
  {
   "cell_type": "code",
   "execution_count": 4,
   "id": "faf92a2f",
   "metadata": {
    "ExecuteTime": {
     "end_time": "2022-06-26T05:59:00.713265Z",
     "start_time": "2022-06-26T05:59:00.530609Z"
    },
    "execution": {
     "iopub.execute_input": "2022-10-22T23:26:22.548106Z",
     "iopub.status.busy": "2022-10-22T23:26:22.547602Z",
     "iopub.status.idle": "2022-10-22T23:38:36.603321Z",
     "shell.execute_reply": "2022-10-22T23:38:36.602289Z"
    },
    "papermill": {
     "duration": 734.251739,
     "end_time": "2022-10-22T23:38:36.605419",
     "exception": false,
     "start_time": "2022-10-22T23:26:22.353680",
     "status": "completed"
    },
    "tags": []
   },
   "outputs": [],
   "source": [
    "if ref_dataset.lower() == 'mc':\n",
    "    ref_adata = anndata.read_h5ad(\"mc_input.h5ad\")\n",
    "    query_adata = anndata.read_h5ad(\"rna_input.h5ad\")\n",
    "    batch_categories=[\"mC\", \"RNA\"]\n",
    "else:\n",
    "    ref_adata = anndata.read_h5ad(\"rna_input.h5ad\")\n",
    "    query_adata = anndata.read_h5ad(\"mc_input.h5ad\")\n",
    "    batch_categories=[\"RNA\", \"mC\"]"
   ]
  },
  {
   "cell_type": "code",
   "execution_count": 5,
   "id": "4f97dad6",
   "metadata": {
    "ExecuteTime": {
     "end_time": "2022-06-26T05:59:01.488767Z",
     "start_time": "2022-06-26T05:59:00.715514Z"
    },
    "execution": {
     "iopub.execute_input": "2022-10-22T23:38:36.889918Z",
     "iopub.status.busy": "2022-10-22T23:38:36.889600Z",
     "iopub.status.idle": "2022-10-22T23:41:05.402544Z",
     "shell.execute_reply": "2022-10-22T23:41:05.401470Z"
    },
    "papermill": {
     "duration": 148.602249,
     "end_time": "2022-10-22T23:41:05.405370",
     "exception": false,
     "start_time": "2022-10-22T23:38:36.803121",
     "status": "completed"
    },
    "tags": []
   },
   "outputs": [],
   "source": [
    "# the _inplace_subset_var consumes peak memory, 220G for 3.6M cell * 3318 features\n",
    "use_var = ref_adata.var_names.intersection(query_adata.var_names)\n",
    "ref_adata._inplace_subset_var(use_var)\n",
    "query_adata._inplace_subset_var(use_var)"
   ]
  },
  {
   "cell_type": "code",
   "execution_count": 6,
   "id": "16181217",
   "metadata": {
    "ExecuteTime": {
     "end_time": "2022-06-26T05:59:01.645324Z",
     "start_time": "2022-06-26T05:59:01.492107Z"
    },
    "execution": {
     "iopub.execute_input": "2022-10-22T23:41:05.705233Z",
     "iopub.status.busy": "2022-10-22T23:41:05.704346Z",
     "iopub.status.idle": "2022-10-22T23:41:12.097601Z",
     "shell.execute_reply": "2022-10-22T23:41:12.096896Z"
    },
    "papermill": {
     "duration": 6.49253,
     "end_time": "2022-10-22T23:41:12.098771",
     "exception": false,
     "start_time": "2022-10-22T23:41:05.606241",
     "status": "completed"
    },
    "tags": []
   },
   "outputs": [
    {
     "name": "stderr",
     "output_type": "stream",
     "text": [
      "/opt/conda/lib/python3.7/site-packages/anndata/_core/anndata.py:1785: FutureWarning: X.dtype being converted to np.float32 from float64. In the next version of anndata (0.9) conversion will not be automatic. Pass dtype explicitly to avoid this warning. Pass `AnnData(X, dtype=X.dtype, ...)` to get the future behavour.\n",
      "  [AnnData(sparse.csr_matrix(a.shape), obs=a.obs) for a in all_adatas],\n"
     ]
    },
    {
     "data": {
      "text/plain": [
       "AnnData object with n_obs × n_vars = 1536223 × 6231\n",
       "    obs: 'count', 'umi_count', 'n_counts', 'Modality'\n",
       "    var: 'chrom', 'name-RNA', 'start-RNA', 'end-RNA', 'mean-RNA', 'std-RNA', 'start-mC', 'end-mC', 'cov_mean-mC', 'cef-mC'"
      ]
     },
     "execution_count": 6,
     "metadata": {},
     "output_type": "execute_result"
    }
   ],
   "source": [
    "adata_merge = ref_adata.concatenate(\n",
    "    query_adata, batch_categories=batch_categories, batch_key=\"Modality\", index_unique=None\n",
    ")\n",
    "adata_merge"
   ]
  },
  {
   "cell_type": "code",
   "execution_count": 7,
   "id": "864649e1",
   "metadata": {
    "ExecuteTime": {
     "end_time": "2022-06-26T05:59:01.650859Z",
     "start_time": "2022-06-26T05:59:01.647252Z"
    },
    "execution": {
     "iopub.execute_input": "2022-10-22T23:41:12.438432Z",
     "iopub.status.busy": "2022-10-22T23:41:12.438168Z",
     "iopub.status.idle": "2022-10-22T23:41:12.464712Z",
     "shell.execute_reply": "2022-10-22T23:41:12.463977Z"
    },
    "papermill": {
     "duration": 0.17094,
     "end_time": "2022-10-22T23:41:12.466216",
     "exception": false,
     "start_time": "2022-10-22T23:41:12.295276",
     "status": "completed"
    },
    "tags": []
   },
   "outputs": [],
   "source": [
    "np.random.seed(0)\n",
    "\n",
    "# select mC cells to fit the model\n",
    "train_cell = np.zeros(ref_adata.shape[0], dtype=bool)\n",
    "if ref_adata.shape[0] > n_train_cell:\n",
    "    train_cell[\n",
    "        np.random.choice(np.arange(ref_adata.shape[0]), n_train_cell, False)\n",
    "    ] = True\n",
    "else:\n",
    "    train_cell[:] = True\n",
    "\n",
    "ref_adata.obs[\"Train\"] = train_cell.copy()"
   ]
  },
  {
   "cell_type": "markdown",
   "id": "9de25aba",
   "metadata": {
    "papermill": {
     "duration": 0.224651,
     "end_time": "2022-10-22T23:41:12.828554",
     "exception": false,
     "start_time": "2022-10-22T23:41:12.603903",
     "status": "completed"
    },
    "tags": []
   },
   "source": [
    "## Run PCA on Merged Adata"
   ]
  },
  {
   "cell_type": "code",
   "execution_count": 8,
   "id": "2a642423",
   "metadata": {
    "ExecuteTime": {
     "end_time": "2022-06-26T05:59:03.349887Z",
     "start_time": "2022-06-26T05:59:01.652688Z"
    },
    "execution": {
     "iopub.execute_input": "2022-10-22T23:41:13.100021Z",
     "iopub.status.busy": "2022-10-22T23:41:13.099584Z",
     "iopub.status.idle": "2022-10-22T23:41:37.399841Z",
     "shell.execute_reply": "2022-10-22T23:41:37.398940Z"
    },
    "papermill": {
     "duration": 24.494871,
     "end_time": "2022-10-22T23:41:37.401181",
     "exception": false,
     "start_time": "2022-10-22T23:41:12.906310",
     "status": "completed"
    },
    "tags": []
   },
   "outputs": [
    {
     "name": "stdout",
     "output_type": "stream",
     "text": [
      "100 non-zero singular values\n"
     ]
    }
   ],
   "source": [
    "n_feature = ref_adata.shape[1]\n",
    "if n_feature >= 100:\n",
    "    model = TruncatedSVD(n_components=100, random_state=0, algorithm='randomized')\n",
    "else:\n",
    "    model = TruncatedSVD(n_components=n_feature - 1, random_state=0, algorithm='randomized')\n",
    "\n",
    "# use selected mC cells to fit\n",
    "model.fit(ref_adata.X[ref_adata.obs[\"Train\"].values])\n",
    "sel_dim = model.singular_values_ != 0\n",
    "print(sel_dim.sum(), 'non-zero singular values')"
   ]
  },
  {
   "cell_type": "code",
   "execution_count": 9,
   "id": "70ea23ad-6556-4f26-9c60-8afe14edf6a1",
   "metadata": {
    "execution": {
     "iopub.execute_input": "2022-10-22T23:41:37.710029Z",
     "iopub.status.busy": "2022-10-22T23:41:37.709728Z",
     "iopub.status.idle": "2022-10-22T23:41:37.806662Z",
     "shell.execute_reply": "2022-10-22T23:41:37.805949Z"
    },
    "papermill": {
     "duration": 0.310184,
     "end_time": "2022-10-22T23:41:37.808020",
     "exception": false,
     "start_time": "2022-10-22T23:41:37.497836",
     "status": "completed"
    },
    "tags": []
   },
   "outputs": [
    {
     "data": {
      "text/plain": [
       "[<matplotlib.lines.Line2D at 0x7f9b5bc75810>]"
      ]
     },
     "execution_count": 9,
     "metadata": {},
     "output_type": "execute_result"
    },
    {
     "data": {
      "image/png": "[encoded data removed]",
      "text/plain": [
       "<Figure size 432x288 with 1 Axes>"
      ]
     },
     "metadata": {
      "needs_background": "light"
     },
     "output_type": "display_data"
    }
   ],
   "source": [
    "fig, ax = plt.subplots()\n",
    "ax.plot(model.explained_variance_ratio_)"
   ]
  },
  {
   "cell_type": "code",
   "execution_count": 10,
   "id": "af589004",
   "metadata": {
    "ExecuteTime": {
     "end_time": "2022-06-26T05:59:03.641424Z",
     "start_time": "2022-06-26T05:59:03.353577Z"
    },
    "execution": {
     "iopub.execute_input": "2022-10-22T23:41:38.117420Z",
     "iopub.status.busy": "2022-10-22T23:41:38.116831Z",
     "iopub.status.idle": "2022-10-22T23:42:15.972996Z",
     "shell.execute_reply": "2022-10-22T23:42:15.972179Z"
    },
    "papermill": {
     "duration": 37.981268,
     "end_time": "2022-10-22T23:42:15.974290",
     "exception": false,
     "start_time": "2022-10-22T23:41:37.993022",
     "status": "completed"
    },
    "tags": []
   },
   "outputs": [
    {
     "name": "stdout",
     "output_type": "stream",
     "text": [
      "Downsample PC matrix to 50000 cells to calculate significant PC components\n"
     ]
    },
    {
     "name": "stdout",
     "output_type": "stream",
     "text": [
      "66 components passed P cutoff of 0.05.\n",
      "Changing adata.obsm['X_pca'] from shape (1536223, 100) to (1536223, 66)\n"
     ]
    }
   ],
   "source": [
    "# transform all other data\n",
    "chunk_size = 50000\n",
    "chunks = []\n",
    "for chunk_start in range(0, adata_merge.shape[0], chunk_size):\n",
    "    chunks.append(\n",
    "        model.transform(adata_merge.X[chunk_start : (chunk_start + chunk_size)])\n",
    "    )\n",
    "\n",
    "# add NNZ PCs to adata\n",
    "adata_merge.obsm[\"X_pca\"] = np.concatenate(chunks, axis=0)[:, sel_dim]\n",
    "\n",
    "# remove low variance PCs\n",
    "n_pcs = significant_pc_test(adata_merge, p_cutoff=0.05, obsm=\"X_pca\")\n",
    "\n",
    "# scale PC by singular values\n",
    "adata_merge.obsm[\"X_pca\"] /= model.singular_values_[sel_dim][:n_pcs]"
   ]
  },
  {
   "cell_type": "code",
   "execution_count": 11,
   "id": "e9cc32a9",
   "metadata": {
    "ExecuteTime": {
     "end_time": "2022-06-26T05:59:04.203528Z",
     "start_time": "2022-06-26T05:59:03.813404Z"
    },
    "execution": {
     "iopub.execute_input": "2022-10-22T23:42:15.994323Z",
     "iopub.status.busy": "2022-10-22T23:42:15.993786Z",
     "iopub.status.idle": "2022-10-22T23:51:13.683570Z",
     "shell.execute_reply": "2022-10-22T23:51:13.682785Z"
    },
    "papermill": {
     "duration": 537.701824,
     "end_time": "2022-10-22T23:51:13.686143",
     "exception": false,
     "start_time": "2022-10-22T23:42:15.984319",
     "status": "completed"
    },
    "tags": []
   },
   "outputs": [],
   "source": [
    "for m in [\"mC\", \"RNA\"]:\n",
    "    adata = adata_merge[adata_merge.obs[\"Modality\"] == m]\n",
    "    adata.write_h5ad(f\"{m.lower()}_pca.h5ad\")"
   ]
  },
  {
   "cell_type": "code",
   "execution_count": 12,
   "id": "51ca7335",
   "metadata": {
    "ExecuteTime": {
     "end_time": "2022-06-26T05:59:04.208803Z",
     "start_time": "2022-06-26T05:59:04.205685Z"
    },
    "execution": {
     "iopub.execute_input": "2022-10-22T23:51:13.706625Z",
     "iopub.status.busy": "2022-10-22T23:51:13.706395Z",
     "iopub.status.idle": "2022-10-22T23:51:13.710876Z",
     "shell.execute_reply": "2022-10-22T23:51:13.710445Z"
    },
    "papermill": {
     "duration": 0.015231,
     "end_time": "2022-10-22T23:51:13.711991",
     "exception": false,
     "start_time": "2022-10-22T23:51:13.696760",
     "status": "completed"
    },
    "tags": []
   },
   "outputs": [
    {
     "data": {
      "text/plain": [
       "AnnData object with n_obs × n_vars = 1536223 × 6231\n",
       "    obs: 'count', 'umi_count', 'n_counts', 'Modality'\n",
       "    var: 'chrom', 'name-RNA', 'start-RNA', 'end-RNA', 'mean-RNA', 'std-RNA', 'start-mC', 'end-mC', 'cov_mean-mC', 'cef-mC'\n",
       "    obsm: 'X_pca'"
      ]
     },
     "execution_count": 12,
     "metadata": {},
     "output_type": "execute_result"
    }
   ],
   "source": [
    "adata_merge"
   ]
  },
  {
   "cell_type": "code",
   "execution_count": 13,
   "id": "263724af",
   "metadata": {
    "execution": {
     "iopub.execute_input": "2022-10-22T23:51:13.729396Z",
     "iopub.status.busy": "2022-10-22T23:51:13.729189Z",
     "iopub.status.idle": "2022-10-22T23:51:15.029923Z",
     "shell.execute_reply": "2022-10-22T23:51:15.029138Z"
    },
    "papermill": {
     "duration": 1.310888,
     "end_time": "2022-10-22T23:51:15.031225",
     "exception": false,
     "start_time": "2022-10-22T23:51:13.720337",
     "status": "completed"
    },
    "tags": []
   },
   "outputs": [
    {
     "data": {
      "text/plain": [
       "CompletedProcess(args=['rm', '-f', 'mc_input.h5ad', 'rna_input.h5ad'], returncode=0)"
      ]
     },
     "execution_count": 13,
     "metadata": {},
     "output_type": "execute_result"
    }
   ],
   "source": [
    "import subprocess\n",
    "subprocess.run(['rm', '-f', 'mc_input.h5ad', 'rna_input.h5ad'])"
   ]
  },
  {
   "cell_type": "code",
   "execution_count": null,
   "id": "18fb140e-82d6-4c43-9418-a4fee40c3791",
   "metadata": {
    "papermill": {
     "duration": 0.007952,
     "end_time": "2022-10-22T23:51:15.047819",
     "exception": false,
     "start_time": "2022-10-22T23:51:15.039867",
     "status": "completed"
    },
    "tags": []
   },
   "outputs": [],
   "source": []
  },
  {
   "cell_type": "code",
   "execution_count": null,
   "id": "682cc912-4a49-478b-96b9-2ffd404a662d",
   "metadata": {
    "papermill": {
     "duration": 0.008031,
     "end_time": "2022-10-22T23:51:15.063696",
     "exception": false,
     "start_time": "2022-10-22T23:51:15.055665",
     "status": "completed"
    },
    "tags": []
   },
   "outputs": [],
   "source": []
  },
  {
   "cell_type": "code",
   "execution_count": null,
   "id": "9763a00d-178e-47f0-9048-7754da67eba8",
   "metadata": {
    "papermill": {
     "duration": 0.007871,
     "end_time": "2022-10-22T23:51:15.080074",
     "exception": false,
     "start_time": "2022-10-22T23:51:15.072203",
     "status": "completed"
    },
    "tags": []
   },
   "outputs": [],
   "source": []
  },
  {
   "cell_type": "code",
   "execution_count": null,
   "id": "fc3d7f27-881d-4f38-96f9-df7890227b20",
   "metadata": {
    "papermill": {
     "duration": 0.008412,
     "end_time": "2022-10-22T23:51:15.096351",
     "exception": false,
     "start_time": "2022-10-22T23:51:15.087939",
     "status": "completed"
    },
    "tags": []
   },
   "outputs": [],
   "source": []
  },
  {
   "cell_type": "code",
   "execution_count": null,
   "id": "e7d77f37-7919-4752-a2cc-f8895dd607fe",
   "metadata": {
    "papermill": {
     "duration": 0.007997,
     "end_time": "2022-10-22T23:51:15.112851",
     "exception": false,
     "start_time": "2022-10-22T23:51:15.104854",
     "status": "completed"
    },
    "tags": []
   },
   "outputs": [],
   "source": []
  }
 ],
 "metadata": {
  "celltoolbar": "Tags",
  "hide_input": false,
  "kernelspec": {
   "display_name": "Python 3 (ipykernel)",
   "language": "python",
   "name": "python3"
  },
  "language_info": {
   "codemirror_mode": {
    "name": "ipython",
    "version": 3
   },
   "file_extension": ".py",
   "mimetype": "text/x-python",
   "name": "python",
   "nbconvert_exporter": "python",
   "pygments_lexer": "ipython3",
   "version": "3.7.12"
  },
  "papermill": {
   "default_parameters": {},
   "duration": 1500.237572,
   "end_time": "2022-10-22T23:51:17.485822",
   "environment_variables": {},
   "exception": null,
   "input_path": "/mnt/filestore/221015-cemba-mc-aibs-tenx-integration/template/03.merge_and_pca.ipynb",
   "output_path": "/mnt/filestore/221015-cemba-mc-aibs-tenx-integration/Round1/CorticalExc/03.merge_and_pca.ipynb",
   "parameters": {
    "cpu": 1,
    "group_name": "CorticalExc",
    "mem_gb": 1,
    "n_train_cell": 100000,
    "ref_dataset": "rna"
   },
   "start_time": "2022-10-22T23:26:17.248250",
   "version": "2.3.3"
  },
  "toc": {
   "base_numbering": 1,
   "nav_menu": {},
   "number_sections": true,
   "sideBar": true,
   "skip_h1_title": true,
   "title_cell": "Table of Contents",
   "title_sidebar": "Contents",
   "toc_cell": false,
   "toc_position": {},
   "toc_section_display": true,
   "toc_window_display": true
  }
 },
 "nbformat": 4,
 "nbformat_minor": 5
}