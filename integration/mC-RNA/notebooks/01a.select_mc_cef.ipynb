{
 "cells": [
  {
   "cell_type": "markdown",
   "id": "68434496",
   "metadata": {
    "papermill": {
     "duration": 0.009055,
     "end_time": "2022-10-22T23:02:20.290204",
     "exception": false,
     "start_time": "2022-10-22T23:02:20.281149",
     "status": "completed"
    },
    "tags": []
   },
   "source": [
    "## Import"
   ]
  },
  {
   "cell_type": "code",
   "execution_count": 1,
   "id": "4b3c1327",
   "metadata": {
    "ExecuteTime": {
     "end_time": "2022-06-25T18:29:09.603883Z",
     "start_time": "2022-06-25T18:28:49.913862Z"
    },
    "execution": {
     "iopub.execute_input": "2022-10-22T23:02:20.308310Z",
     "iopub.status.busy": "2022-10-22T23:02:20.308077Z",
     "iopub.status.idle": "2022-10-22T23:02:22.772800Z",
     "shell.execute_reply": "2022-10-22T23:02:22.772007Z"
    },
    "papermill": {
     "duration": 2.476937,
     "end_time": "2022-10-22T23:02:22.774675",
     "exception": false,
     "start_time": "2022-10-22T23:02:20.297738",
     "status": "completed"
    },
    "tags": []
   },
   "outputs": [],
   "source": [
    "from wmb import cemba, mm10\n",
    "\n",
    "from ALLCools.clustering import *\n",
    "from ALLCools.mcds import MCDS\n",
    "\n",
    "import pandas as pd"
   ]
  },
  {
   "cell_type": "code",
   "execution_count": 2,
   "id": "ca8aa116",
   "metadata": {
    "ExecuteTime": {
     "end_time": "2022-06-25T18:29:10.928342Z",
     "start_time": "2022-06-25T18:29:10.925766Z"
    },
    "execution": {
     "iopub.execute_input": "2022-10-22T23:02:22.791919Z",
     "iopub.status.busy": "2022-10-22T23:02:22.791702Z",
     "iopub.status.idle": "2022-10-22T23:02:22.795420Z",
     "shell.execute_reply": "2022-10-22T23:02:22.794770Z"
    },
    "papermill": {
     "duration": 0.013207,
     "end_time": "2022-10-22T23:02:22.796639",
     "exception": false,
     "start_time": "2022-10-22T23:02:22.783432",
     "status": "completed"
    },
    "tags": [
     "parameters"
    ]
   },
   "outputs": [],
   "source": [
    "group_name='NOT_DEFINED'\n",
    "var_dim = 'geneslop2k-vm23'\n",
    "cef_cluster_level = 'L4Region'\n",
    "chrom_to_remove = ['chrX', 'chrY', 'chrM', 'chrL']\n",
    "downsample = 500\n",
    "mc_type = 'CHN'\n",
    "global_cef = None"
   ]
  },
  {
   "cell_type": "code",
   "execution_count": 3,
   "id": "3efdf563",
   "metadata": {
    "execution": {
     "iopub.execute_input": "2022-10-22T23:02:22.814345Z",
     "iopub.status.busy": "2022-10-22T23:02:22.813834Z",
     "iopub.status.idle": "2022-10-22T23:02:22.817605Z",
     "shell.execute_reply": "2022-10-22T23:02:22.817043Z"
    },
    "papermill": {
     "duration": 0.014122,
     "end_time": "2022-10-22T23:02:22.818736",
     "exception": false,
     "start_time": "2022-10-22T23:02:22.804614",
     "status": "completed"
    },
    "tags": [
     "injected-parameters"
    ]
   },
   "outputs": [],
   "source": [
    "# Parameters\n",
    "cef_cluster_level = \"L4Region\"\n",
    "chrom_to_remove = [\"chrX\", \"chrY\", \"chrM\", \"chrL\"]\n",
    "cpu = 1\n",
    "downsample = 500\n",
    "global_cef = None\n",
    "group_name = \"CorticalExc\"\n",
    "mc_type = \"CHN\"\n",
    "mem_gb = 1\n",
    "var_dim = \"geneslop2k-vm23\"\n"
   ]
  },
  {
   "cell_type": "markdown",
   "id": "e60ee638",
   "metadata": {
    "papermill": {
     "duration": 0.008271,
     "end_time": "2022-10-22T23:02:22.834089",
     "exception": false,
     "start_time": "2022-10-22T23:02:22.825818",
     "status": "completed"
    },
    "tags": []
   },
   "source": [
    "## Select cells"
   ]
  },
  {
   "cell_type": "code",
   "execution_count": 4,
   "id": "e5e3ec7f",
   "metadata": {
    "ExecuteTime": {
     "end_time": "2022-06-25T18:29:12.333727Z",
     "start_time": "2022-06-25T18:29:12.305321Z"
    },
    "execution": {
     "iopub.execute_input": "2022-10-22T23:02:22.852319Z",
     "iopub.status.busy": "2022-10-22T23:02:22.851727Z",
     "iopub.status.idle": "2022-10-22T23:02:22.914727Z",
     "shell.execute_reply": "2022-10-22T23:02:22.914097Z"
    },
    "papermill": {
     "duration": 0.074032,
     "end_time": "2022-10-22T23:02:22.916036",
     "exception": false,
     "start_time": "2022-10-22T23:02:22.842004",
     "status": "completed"
    },
    "tags": []
   },
   "outputs": [
    {
     "data": {
      "text/plain": [
       "123904"
      ]
     },
     "execution_count": 4,
     "metadata": {},
     "output_type": "execute_result"
    }
   ],
   "source": [
    "cells = pd.read_csv('mc_cells.txt', index_col=0, header=None).index\n",
    "cells.name = 'cell'\n",
    "cells.size"
   ]
  },
  {
   "cell_type": "markdown",
   "id": "09f4cf3b",
   "metadata": {
    "ExecuteTime": {
     "end_time": "2022-06-21T04:51:56.476879Z",
     "start_time": "2022-06-21T04:51:56.474668Z"
    },
    "papermill": {
     "duration": 0.008416,
     "end_time": "2022-10-22T23:02:22.933397",
     "exception": false,
     "start_time": "2022-10-22T23:02:22.924981",
     "status": "completed"
    },
    "tags": []
   },
   "source": [
    "## Downsample cells\n",
    "\n",
    "Downsample large cluster to balance the data and reduce computation time and memory when calculating CEF"
   ]
  },
  {
   "cell_type": "code",
   "execution_count": 5,
   "id": "75689412",
   "metadata": {
    "ExecuteTime": {
     "end_time": "2022-06-25T18:29:19.073206Z",
     "start_time": "2022-06-25T18:29:15.055053Z"
    },
    "execution": {
     "iopub.execute_input": "2022-10-22T23:02:22.952603Z",
     "iopub.status.busy": "2022-10-22T23:02:22.951910Z",
     "iopub.status.idle": "2022-10-22T23:02:27.192505Z",
     "shell.execute_reply": "2022-10-22T23:02:27.191665Z"
    },
    "papermill": {
     "duration": 4.252961,
     "end_time": "2022-10-22T23:02:27.193825",
     "exception": false,
     "start_time": "2022-10-22T23:02:22.940864",
     "status": "completed"
    },
    "tags": []
   },
   "outputs": [
    {
     "name": "stdout",
     "output_type": "stream",
     "text": [
      "L4_annot does not exist in data_vars or coords, palette not added.\n"
     ]
    },
    {
     "data": {
      "text/plain": [
       "123078"
      ]
     },
     "execution_count": 5,
     "metadata": {},
     "output_type": "execute_result"
    }
   ],
   "source": [
    "annot = cemba.get_mc_annot()\n",
    "clusters = annot[cef_cluster_level].to_pandas()\n",
    "clusters = clusters.loc[cells].copy()\n",
    "\n",
    "if downsample is not None:\n",
    "    use_cells = []\n",
    "    for cluster, sub_series in clusters.groupby(clusters):\n",
    "        if sub_series.size > downsample:\n",
    "            _cells = sub_series.sample(downsample, random_state=0).index\n",
    "        else:\n",
    "            _cells = sub_series.index\n",
    "        use_cells += _cells.tolist()\n",
    "    use_cells = pd.Index(use_cells)\n",
    "else:\n",
    "    use_cells = cells\n",
    "    \n",
    "use_cells.size"
   ]
  },
  {
   "cell_type": "markdown",
   "id": "abc2eddd",
   "metadata": {
    "papermill": {
     "duration": 0.010794,
     "end_time": "2022-10-22T23:02:27.217183",
     "exception": false,
     "start_time": "2022-10-22T23:02:27.206389",
     "status": "completed"
    },
    "tags": []
   },
   "source": [
    "## Get adata"
   ]
  },
  {
   "cell_type": "code",
   "execution_count": 6,
   "id": "a6636dd5",
   "metadata": {
    "ExecuteTime": {
     "end_time": "2022-06-25T18:29:28.675481Z",
     "start_time": "2022-06-25T18:29:20.888505Z"
    },
    "execution": {
     "iopub.execute_input": "2022-10-22T23:02:27.287413Z",
     "iopub.status.busy": "2022-10-22T23:02:27.286929Z",
     "iopub.status.idle": "2022-10-22T23:02:28.563874Z",
     "shell.execute_reply": "2022-10-22T23:02:28.563160Z"
    },
    "papermill": {
     "duration": 1.337502,
     "end_time": "2022-10-22T23:02:28.565363",
     "exception": false,
     "start_time": "2022-10-22T23:02:27.227861",
     "status": "completed"
    },
    "tags": []
   },
   "outputs": [
    {
     "data": {
      "text/html": [
       "<div><svg style=\"position: absolute; width: 0; height: 0; overflow: hidden\">\n",
       "<defs>\n",
       "<symbol id=\"icon-database\" viewBox=\"0 0 32 32\">\n",
       "<path d=\"M16 0c-8.837 0-16 2.239-16 5v4c0 2.761 7.163 5 16 5s16-2.239 16-5v-4c0-2.761-7.163-5-16-5z\"></path>\n",
       "<path d=\"M16 17c-8.837 0-16-2.239-16-5v6c0 2.761 7.163 5 16 5s16-2.239 16-5v-6c0 2.761-7.163 5-16 5z\"></path>\n",
       "<path d=\"M16 26c-8.837 0-16-2.239-16-5v6c0 2.761 7.163 5 16 5s16-2.239 16-5v-6c0 2.761-7.163 5-16 5z\"></path>\n",
       "</symbol>\n",
       "<symbol id=\"icon-file-text2\" viewBox=\"0 0 32 32\">\n",
       "<path d=\"M28.681 7.159c-0.694-0.947-1.662-2.053-2.724-3.116s-2.169-2.030-3.116-2.724c-1.612-1.182-2.393-1.319-2.841-1.319h-15.5c-1.378 0-2.5 1.121-2.5 2.5v27c0 1.378 1.122 2.5 2.5 2.5h23c1.378 0 2.5-1.122 2.5-2.5v-19.5c0-0.448-0.137-1.23-1.319-2.841zM24.543 5.457c0.959 0.959 1.712 1.825 2.268 2.543h-4.811v-4.811c0.718 0.556 1.584 1.309 2.543 2.268zM28 29.5c0 0.271-0.229 0.5-0.5 0.5h-23c-0.271 0-0.5-0.229-0.5-0.5v-27c0-0.271 0.229-0.5 0.5-0.5 0 0 15.499-0 15.5 0v7c0 0.552 0.448 1 1 1h7v19.5z\"></path>\n",
       "<path d=\"M23 26h-14c-0.552 0-1-0.448-1-1s0.448-1 1-1h14c0.552 0 1 0.448 1 1s-0.448 1-1 1z\"></path>\n",
       "<path d=\"M23 22h-14c-0.552 0-1-0.448-1-1s0.448-1 1-1h14c0.552 0 1 0.448 1 1s-0.448 1-1 1z\"></path>\n",
       "<path d=\"M23 18h-14c-0.552 0-1-0.448-1-1s0.448-1 1-1h14c0.552 0 1 0.448 1 1s-0.448 1-1 1z\"></path>\n",
       "</symbol>\n",
       "</defs>\n",
       "</svg>\n",
       "<style>/* CSS stylesheet for displaying xarray objects in jupyterlab.\n",
       " *\n",
       " */\n",
       "\n",
       ":root {\n",
       "  --xr-font-color0: var(--jp-content-font-color0, rgba(0, 0, 0, 1));\n",
       "  --xr-font-color2: var(--jp-content-font-color2, rgba(0, 0, 0, 0.54));\n",
       "  --xr-font-color3: var(--jp-content-font-color3, rgba(0, 0, 0, 0.38));\n",
       "  --xr-border-color: var(--jp-border-color2, #e0e0e0);\n",
       "  --xr-disabled-color: var(--jp-layout-color3, #bdbdbd);\n",
       "  --xr-background-color: var(--jp-layout-color0, white);\n",
       "  --xr-background-color-row-even: var(--jp-layout-color1, white);\n",
       "  --xr-background-color-row-odd: var(--jp-layout-color2, #eeeeee);\n",
       "}\n",
       "\n",
       "html[theme=dark],\n",
       "body.vscode-dark {\n",
       "  --xr-font-color0: rgba(255, 255, 255, 1);\n",
       "  --xr-font-color2: rgba(255, 255, 255, 0.54);\n",
       "  --xr-font-color3: rgba(255, 255, 255, 0.38);\n",
       "  --xr-border-color: #1F1F1F;\n",
       "  --xr-disabled-color: #515151;\n",
       "  --xr-background-color: #111111;\n",
       "  --xr-background-color-row-even: #111111;\n",
       "  --xr-background-color-row-odd: #313131;\n",
       "}\n",
       "\n",
       ".xr-wrap {\n",
       "  display: block !important;\n",
       "  min-width: 300px;\n",
       "  max-width: 700px;\n",
       "}\n",
       "\n",
       ".xr-text-repr-fallback {\n",
       "  /* fallback to plain text repr when CSS is not injected (untrusted notebook) */\n",
       "  display: none;\n",
       "}\n",
       "\n",
       ".xr-header {\n",
       "  padding-top: 6px;\n",
       "  padding-bottom: 6px;\n",
       "  margin-bottom: 4px;\n",
       "  border-bottom: solid 1px var(--xr-border-color);\n",
       "}\n",
       "\n",
       ".xr-header > div,\n",
       ".xr-header > ul {\n",
       "  display: inline;\n",
       "  margin-top: 0;\n",
       "  margin-bottom: 0;\n",
       "}\n",
       "\n",
       ".xr-obj-type,\n",
       ".xr-array-name {\n",
       "  margin-left: 2px;\n",
       "  margin-right: 10px;\n",
       "}\n",
       "\n",
       ".xr-obj-type {\n",
       "  color: var(--xr-font-color2);\n",
       "}\n",
       "\n",
       ".xr-sections {\n",
       "  padding-left: 0 !important;\n",
       "  display: grid;\n",
       "  grid-template-columns: 150px auto auto 1fr 20px 20px;\n",
       "}\n",
       "\n",
       ".xr-section-item {\n",
       "  display: contents;\n",
       "}\n",
       "\n",
       ".xr-section-item input {\n",
       "  display: none;\n",
       "}\n",
       "\n",
       ".xr-section-item input + label {\n",
       "  color: var(--xr-disabled-color);\n",
       "}\n",
       "\n",
       ".xr-section-item input:enabled + label {\n",
       "  cursor: pointer;\n",
       "  color: var(--xr-font-color2);\n",
       "}\n",
       "\n",
       ".xr-section-item input:enabled + label:hover {\n",
       "  color: var(--xr-font-color0);\n",
       "}\n",
       "\n",
       ".xr-section-summary {\n",
       "  grid-column: 1;\n",
       "  color: var(--xr-font-color2);\n",
       "  font-weight: 500;\n",
       "}\n",
       "\n",
       ".xr-section-summary > span {\n",
       "  display: inline-block;\n",
       "  padding-left: 0.5em;\n",
       "}\n",
       "\n",
       ".xr-section-summary-in:disabled + label {\n",
       "  color: var(--xr-font-color2);\n",
       "}\n",
       "\n",
       ".xr-section-summary-in + label:before {\n",
       "  display: inline-block;\n",
       "  content: '►';\n",
       "  font-size: 11px;\n",
       "  width: 15px;\n",
       "  text-align: center;\n",
       "}\n",
       "\n",
       ".xr-section-summary-in:disabled + label:before {\n",
       "  color: var(--xr-disabled-color);\n",
       "}\n",
       "\n",
       ".xr-section-summary-in:checked + label:before {\n",
       "  content: '▼';\n",
       "}\n",
       "\n",
       ".xr-section-summary-in:checked + label > span {\n",
       "  display: none;\n",
       "}\n",
       "\n",
       ".xr-section-summary,\n",
       ".xr-section-inline-details {\n",
       "  padding-top: 4px;\n",
       "  padding-bottom: 4px;\n",
       "}\n",
       "\n",
       ".xr-section-inline-details {\n",
       "  grid-column: 2 / -1;\n",
       "}\n",
       "\n",
       ".xr-section-details {\n",
       "  display: none;\n",
       "  grid-column: 1 / -1;\n",
       "  margin-bottom: 5px;\n",
       "}\n",
       "\n",
       ".xr-section-summary-in:checked ~ .xr-section-details {\n",
       "  display: contents;\n",
       "}\n",
       "\n",
       ".xr-array-wrap {\n",
       "  grid-column: 1 / -1;\n",
       "  display: grid;\n",
       "  grid-template-columns: 20px auto;\n",
       "}\n",
       "\n",
       ".xr-array-wrap > label {\n",
       "  grid-column: 1;\n",
       "  vertical-align: top;\n",
       "}\n",
       "\n",
       ".xr-preview {\n",
       "  color: var(--xr-font-color3);\n",
       "}\n",
       "\n",
       ".xr-array-preview,\n",
       ".xr-array-data {\n",
       "  padding: 0 5px !important;\n",
       "  grid-column: 2;\n",
       "}\n",
       "\n",
       ".xr-array-data,\n",
       ".xr-array-in:checked ~ .xr-array-preview {\n",
       "  display: none;\n",
       "}\n",
       "\n",
       ".xr-array-in:checked ~ .xr-array-data,\n",
       ".xr-array-preview {\n",
       "  display: inline-block;\n",
       "}\n",
       "\n",
       ".xr-dim-list {\n",
       "  display: inline-block !important;\n",
       "  list-style: none;\n",
       "  padding: 0 !important;\n",
       "  margin: 0;\n",
       "}\n",
       "\n",
       ".xr-dim-list li {\n",
       "  display: inline-block;\n",
       "  padding: 0;\n",
       "  margin: 0;\n",
       "}\n",
       "\n",
       ".xr-dim-list:before {\n",
       "  content: '(';\n",
       "}\n",
       "\n",
       ".xr-dim-list:after {\n",
       "  content: ')';\n",
       "}\n",
       "\n",
       ".xr-dim-list li:not(:last-child):after {\n",
       "  content: ',';\n",
       "  padding-right: 5px;\n",
       "}\n",
       "\n",
       ".xr-has-index {\n",
       "  font-weight: bold;\n",
       "}\n",
       "\n",
       ".xr-var-list,\n",
       ".xr-var-item {\n",
       "  display: contents;\n",
       "}\n",
       "\n",
       ".xr-var-item > div,\n",
       ".xr-var-item label,\n",
       ".xr-var-item > .xr-var-name span {\n",
       "  background-color: var(--xr-background-color-row-even);\n",
       "  margin-bottom: 0;\n",
       "}\n",
       "\n",
       ".xr-var-item > .xr-var-name:hover span {\n",
       "  padding-right: 5px;\n",
       "}\n",
       "\n",
       ".xr-var-list > li:nth-child(odd) > div,\n",
       ".xr-var-list > li:nth-child(odd) > label,\n",
       ".xr-var-list > li:nth-child(odd) > .xr-var-name span {\n",
       "  background-color: var(--xr-background-color-row-odd);\n",
       "}\n",
       "\n",
       ".xr-var-name {\n",
       "  grid-column: 1;\n",
       "}\n",
       "\n",
       ".xr-var-dims {\n",
       "  grid-column: 2;\n",
       "}\n",
       "\n",
       ".xr-var-dtype {\n",
       "  grid-column: 3;\n",
       "  text-align: right;\n",
       "  color: var(--xr-font-color2);\n",
       "}\n",
       "\n",
       ".xr-var-preview {\n",
       "  grid-column: 4;\n",
       "}\n",
       "\n",
       ".xr-var-name,\n",
       ".xr-var-dims,\n",
       ".xr-var-dtype,\n",
       ".xr-preview,\n",
       ".xr-attrs dt {\n",
       "  white-space: nowrap;\n",
       "  overflow: hidden;\n",
       "  text-overflow: ellipsis;\n",
       "  padding-right: 10px;\n",
       "}\n",
       "\n",
       ".xr-var-name:hover,\n",
       ".xr-var-dims:hover,\n",
       ".xr-var-dtype:hover,\n",
       ".xr-attrs dt:hover {\n",
       "  overflow: visible;\n",
       "  width: auto;\n",
       "  z-index: 1;\n",
       "}\n",
       "\n",
       ".xr-var-attrs,\n",
       ".xr-var-data {\n",
       "  display: none;\n",
       "  background-color: var(--xr-background-color) !important;\n",
       "  padding-bottom: 5px !important;\n",
       "}\n",
       "\n",
       ".xr-var-attrs-in:checked ~ .xr-var-attrs,\n",
       ".xr-var-data-in:checked ~ .xr-var-data {\n",
       "  display: block;\n",
       "}\n",
       "\n",
       ".xr-var-data > table {\n",
       "  float: right;\n",
       "}\n",
       "\n",
       ".xr-var-name span,\n",
       ".xr-var-data,\n",
       ".xr-attrs {\n",
       "  padding-left: 25px !important;\n",
       "}\n",
       "\n",
       ".xr-attrs,\n",
       ".xr-var-attrs,\n",
       ".xr-var-data {\n",
       "  grid-column: 1 / -1;\n",
       "}\n",
       "\n",
       "dl.xr-attrs {\n",
       "  padding: 0;\n",
       "  margin: 0;\n",
       "  display: grid;\n",
       "  grid-template-columns: 125px auto;\n",
       "}\n",
       "\n",
       ".xr-attrs dt,\n",
       ".xr-attrs dd {\n",
       "  padding: 0;\n",
       "  margin: 0;\n",
       "  float: left;\n",
       "  padding-right: 10px;\n",
       "  width: auto;\n",
       "}\n",
       "\n",
       ".xr-attrs dt {\n",
       "  font-weight: normal;\n",
       "  grid-column: 1;\n",
       "}\n",
       "\n",
       ".xr-attrs dt:hover span {\n",
       "  display: inline-block;\n",
       "  background: var(--xr-background-color);\n",
       "  padding-right: 10px;\n",
       "}\n",
       "\n",
       ".xr-attrs dd {\n",
       "  grid-column: 2;\n",
       "  white-space: pre-wrap;\n",
       "  word-break: break-all;\n",
       "}\n",
       "\n",
       ".xr-icon-database,\n",
       ".xr-icon-file-text2 {\n",
       "  display: inline-block;\n",
       "  vertical-align: middle;\n",
       "  width: 1em;\n",
       "  height: 1.5em !important;\n",
       "  stroke-width: 0;\n",
       "  stroke: currentColor;\n",
       "  fill: currentColor;\n",
       "}\n",
       "</style><pre class='xr-text-repr-fallback'>&lt;xarray.MCDS&gt;\n",
       "Dimensions:                   (cell: 123078, count_type: 2, geneslop2k-vm23: 32208, mc_type: 2)\n",
       "Coordinates:\n",
       "  * cell                      (cell) &lt;U15 &#x27;10A_M_1181&#x27; ... &#x27;9F_M_2348&#x27;\n",
       "  * count_type                (count_type) &lt;U3 &#x27;mc&#x27; &#x27;cov&#x27;\n",
       "  * geneslop2k-vm23           (geneslop2k-vm23) &lt;U18 &#x27;ENSMUSG00000051951&#x27; ......\n",
       "    geneslop2k-vm23_chrom     (geneslop2k-vm23) &lt;U5 &#x27;chr1&#x27; &#x27;chr1&#x27; ... &#x27;chrM&#x27;\n",
       "    geneslop2k-vm23_cov_mean  (geneslop2k-vm23) float64 6.313e+03 ... 312.2\n",
       "    geneslop2k-vm23_end       (geneslop2k-vm23) int64 3673498 3515553 ... 16299\n",
       "    geneslop2k-vm23_start     (geneslop2k-vm23) int64 3203901 3464587 ... 12145\n",
       "  * mc_type                   (mc_type) &lt;U3 &#x27;CGN&#x27; &#x27;CHN&#x27;\n",
       "Data variables:\n",
       "    geneslop2k-vm23_da        (cell, geneslop2k-vm23, mc_type, count_type) uint16 dask.array&lt;chunksize=(1000, 32208, 1, 1), meta=np.ndarray&gt;\n",
       "    geneslop2k-vm23_da_frac   (cell, geneslop2k-vm23, mc_type) float32 dask.array&lt;chunksize=(1000, 32208, 1), meta=np.ndarray&gt;\n",
       "Attributes:\n",
       "    obs_dim:  cell\n",
       "    var_dim:  geneslop2k-vm23</pre><div class='xr-wrap' style='display:none'><div class='xr-header'><div class='xr-obj-type'>xarray.MCDS</div></div><ul class='xr-sections'><li class='xr-section-item'><input id='section-1c84034f-d61e-40c5-a129-18beddc1b0fe' class='xr-section-summary-in' type='checkbox' disabled ><label for='section-1c84034f-d61e-40c5-a129-18beddc1b0fe' class='xr-section-summary'  title='Expand/collapse section'>Dimensions:</label><div class='xr-section-inline-details'><ul class='xr-dim-list'><li><span class='xr-has-index'>cell</span>: 123078</li><li><span class='xr-has-index'>count_type</span>: 2</li><li><span class='xr-has-index'>geneslop2k-vm23</span>: 32208</li><li><span class='xr-has-index'>mc_type</span>: 2</li></ul></div><div class='xr-section-details'></div></li><li class='xr-section-item'><input id='section-64fa80d8-e9d8-42ac-bb89-0152f286b614' class='xr-section-summary-in' type='checkbox'  checked><label for='section-64fa80d8-e9d8-42ac-bb89-0152f286b614' class='xr-section-summary' >Coordinates: <span>(8)</span></label><div class='xr-section-inline-details'></div><div class='xr-section-details'><ul class='xr-var-list'><li class='xr-var-item'><div class='xr-var-name'><span class='xr-has-index'>cell</span></div><div class='xr-var-dims'>(cell)</div><div class='xr-var-dtype'>&lt;U15</div><div class='xr-var-preview xr-preview'>&#x27;10A_M_1181&#x27; ... &#x27;9F_M_2348&#x27;</div><input id='attrs-e80e310c-7197-43e8-9769-c8009becde44' class='xr-var-attrs-in' type='checkbox' disabled><label for='attrs-e80e310c-7197-43e8-9769-c8009becde44' title='Show/Hide attributes'><svg class='icon xr-icon-file-text2'><use xlink:href='#icon-file-text2'></use></svg></label><input id='data-eb6c4e2e-f942-4136-b3f7-6343404da8a3' class='xr-var-data-in' type='checkbox'><label for='data-eb6c4e2e-f942-4136-b3f7-6343404da8a3' title='Show/Hide data repr'><svg class='icon xr-icon-database'><use xlink:href='#icon-database'></use></svg></label><div class='xr-var-attrs'><dl class='xr-attrs'></dl></div><div class='xr-var-data'><pre>array([&#x27;10A_M_1181&#x27;, &#x27;10A_M_1194&#x27;, &#x27;10A_M_1420&#x27;, ..., &#x27;5C_M_2581&#x27;, &#x27;5C_M_2857&#x27;,\n",
       "       &#x27;9F_M_2348&#x27;], dtype=&#x27;&lt;U15&#x27;)</pre></div></li><li class='xr-var-item'><div class='xr-var-name'><span class='xr-has-index'>count_type</span></div><div class='xr-var-dims'>(count_type)</div><div class='xr-var-dtype'>&lt;U3</div><div class='xr-var-preview xr-preview'>&#x27;mc&#x27; &#x27;cov&#x27;</div><input id='attrs-00cd3f5a-0cee-40d0-8228-5a508beee067' class='xr-var-attrs-in' type='checkbox' disabled><label for='attrs-00cd3f5a-0cee-40d0-8228-5a508beee067' title='Show/Hide attributes'><svg class='icon xr-icon-file-text2'><use xlink:href='#icon-file-text2'></use></svg></label><input id='data-719d9185-ee9c-42f9-9004-e977c94224ee' class='xr-var-data-in' type='checkbox'><label for='data-719d9185-ee9c-42f9-9004-e977c94224ee' title='Show/Hide data repr'><svg class='icon xr-icon-database'><use xlink:href='#icon-database'></use></svg></label><div class='xr-var-attrs'><dl class='xr-attrs'></dl></div><div class='xr-var-data'><pre>array([&#x27;mc&#x27;, &#x27;cov&#x27;], dtype=&#x27;&lt;U3&#x27;)</pre></div></li><li class='xr-var-item'><div class='xr-var-name'><span class='xr-has-index'>geneslop2k-vm23</span></div><div class='xr-var-dims'>(geneslop2k-vm23)</div><div class='xr-var-dtype'>&lt;U18</div><div class='xr-var-preview xr-preview'>&#x27;ENSMUSG00000051951&#x27; ... &#x27;ENSMUS...</div><input id='attrs-c4cb03fc-5de4-4360-bdb5-b975f14e41fa' class='xr-var-attrs-in' type='checkbox' disabled><label for='attrs-c4cb03fc-5de4-4360-bdb5-b975f14e41fa' title='Show/Hide attributes'><svg class='icon xr-icon-file-text2'><use xlink:href='#icon-file-text2'></use></svg></label><input id='data-675ed16e-8a69-49e9-a56c-7bec8a41727a' class='xr-var-data-in' type='checkbox'><label for='data-675ed16e-8a69-49e9-a56c-7bec8a41727a' title='Show/Hide data repr'><svg class='icon xr-icon-database'><use xlink:href='#icon-database'></use></svg></label><div class='xr-var-attrs'><dl class='xr-attrs'></dl></div><div class='xr-var-data'><pre>array([&#x27;ENSMUSG00000051951&#x27;, &#x27;ENSMUSG00000089699&#x27;, &#x27;ENSMUSG00000102331&#x27;, ...,\n",
       "       &#x27;ENSMUSG00000064367&#x27;, &#x27;ENSMUSG00000064368&#x27;, &#x27;ENSMUSG00000064370&#x27;],\n",
       "      dtype=&#x27;&lt;U18&#x27;)</pre></div></li><li class='xr-var-item'><div class='xr-var-name'><span>geneslop2k-vm23_chrom</span></div><div class='xr-var-dims'>(geneslop2k-vm23)</div><div class='xr-var-dtype'>&lt;U5</div><div class='xr-var-preview xr-preview'>&#x27;chr1&#x27; &#x27;chr1&#x27; ... &#x27;chrM&#x27; &#x27;chrM&#x27;</div><input id='attrs-3031fb5f-b286-45fb-b77c-dc5f19cbf46a' class='xr-var-attrs-in' type='checkbox' disabled><label for='attrs-3031fb5f-b286-45fb-b77c-dc5f19cbf46a' title='Show/Hide attributes'><svg class='icon xr-icon-file-text2'><use xlink:href='#icon-file-text2'></use></svg></label><input id='data-2af603d6-855c-4de0-afe7-8fb669d5d3e8' class='xr-var-data-in' type='checkbox'><label for='data-2af603d6-855c-4de0-afe7-8fb669d5d3e8' title='Show/Hide data repr'><svg class='icon xr-icon-database'><use xlink:href='#icon-database'></use></svg></label><div class='xr-var-attrs'><dl class='xr-attrs'></dl></div><div class='xr-var-data'><pre>array([&#x27;chr1&#x27;, &#x27;chr1&#x27;, &#x27;chr1&#x27;, ..., &#x27;chrM&#x27;, &#x27;chrM&#x27;, &#x27;chrM&#x27;], dtype=&#x27;&lt;U5&#x27;)</pre></div></li><li class='xr-var-item'><div class='xr-var-name'><span>geneslop2k-vm23_cov_mean</span></div><div class='xr-var-dims'>(geneslop2k-vm23)</div><div class='xr-var-dtype'>float64</div><div class='xr-var-preview xr-preview'>6.313e+03 681.2 ... 340.4 312.2</div><input id='attrs-c1b866bb-9c34-434a-8930-0b8e48977964' class='xr-var-attrs-in' type='checkbox' disabled><label for='attrs-c1b866bb-9c34-434a-8930-0b8e48977964' title='Show/Hide attributes'><svg class='icon xr-icon-file-text2'><use xlink:href='#icon-file-text2'></use></svg></label><input id='data-d2ee8d55-5cc8-4fef-ba10-ddeea3d81050' class='xr-var-data-in' type='checkbox'><label for='data-d2ee8d55-5cc8-4fef-ba10-ddeea3d81050' title='Show/Hide data repr'><svg class='icon xr-icon-database'><use xlink:href='#icon-database'></use></svg></label><div class='xr-var-attrs'><dl class='xr-attrs'></dl></div><div class='xr-var-data'><pre>array([6312.78402893,  681.16439217,  224.59380573, ...,  351.10950238,\n",
       "        340.39636943,  312.23319997])</pre></div></li><li class='xr-var-item'><div class='xr-var-name'><span>geneslop2k-vm23_end</span></div><div class='xr-var-dims'>(geneslop2k-vm23)</div><div class='xr-var-dtype'>int64</div><div class='xr-var-preview xr-preview'>3673498 3515553 ... 16070 16299</div><input id='attrs-ecfaad61-345f-4df8-b0c0-a3f7094229cd' class='xr-var-attrs-in' type='checkbox' disabled><label for='attrs-ecfaad61-345f-4df8-b0c0-a3f7094229cd' title='Show/Hide attributes'><svg class='icon xr-icon-file-text2'><use xlink:href='#icon-file-text2'></use></svg></label><input id='data-cc1b659a-fb14-4104-8022-00607b9bfcc7' class='xr-var-data-in' type='checkbox'><label for='data-cc1b659a-fb14-4104-8022-00607b9bfcc7' title='Show/Hide data repr'><svg class='icon xr-icon-database'><use xlink:href='#icon-database'></use></svg></label><div class='xr-var-attrs'><dl class='xr-attrs'></dl></div><div class='xr-var-data'><pre>array([3673498, 3515553, 3660904, ...,   15565,   16070,   16299])</pre></div></li><li class='xr-var-item'><div class='xr-var-name'><span>geneslop2k-vm23_start</span></div><div class='xr-var-dims'>(geneslop2k-vm23)</div><div class='xr-var-dtype'>int64</div><div class='xr-var-preview xr-preview'>3203901 3464587 ... 11552 12145</div><input id='attrs-db6d4fef-d21a-42fa-9fe5-6e24bd521375' class='xr-var-attrs-in' type='checkbox' disabled><label for='attrs-db6d4fef-d21a-42fa-9fe5-6e24bd521375' title='Show/Hide attributes'><svg class='icon xr-icon-file-text2'><use xlink:href='#icon-file-text2'></use></svg></label><input id='data-a84398d1-0186-410f-92c3-02237a132ed1' class='xr-var-data-in' type='checkbox'><label for='data-a84398d1-0186-410f-92c3-02237a132ed1' title='Show/Hide data repr'><svg class='icon xr-icon-database'><use xlink:href='#icon-database'></use></svg></label><div class='xr-var-attrs'><dl class='xr-attrs'></dl></div><div class='xr-var-data'><pre>array([3203901, 3464587, 3645309, ...,    9742,   11552,   12145])</pre></div></li><li class='xr-var-item'><div class='xr-var-name'><span class='xr-has-index'>mc_type</span></div><div class='xr-var-dims'>(mc_type)</div><div class='xr-var-dtype'>&lt;U3</div><div class='xr-var-preview xr-preview'>&#x27;CGN&#x27; &#x27;CHN&#x27;</div><input id='attrs-821b35b3-9ee5-4efc-8a7d-d2efba36250c' class='xr-var-attrs-in' type='checkbox' disabled><label for='attrs-821b35b3-9ee5-4efc-8a7d-d2efba36250c' title='Show/Hide attributes'><svg class='icon xr-icon-file-text2'><use xlink:href='#icon-file-text2'></use></svg></label><input id='data-033951de-4d58-484c-b0e3-301912373168' class='xr-var-data-in' type='checkbox'><label for='data-033951de-4d58-484c-b0e3-301912373168' title='Show/Hide data repr'><svg class='icon xr-icon-database'><use xlink:href='#icon-database'></use></svg></label><div class='xr-var-attrs'><dl class='xr-attrs'></dl></div><div class='xr-var-data'><pre>array([&#x27;CGN&#x27;, &#x27;CHN&#x27;], dtype=&#x27;&lt;U3&#x27;)</pre></div></li></ul></div></li><li class='xr-section-item'><input id='section-37c3e0f2-00c3-4da0-a7a3-0c371a592a48' class='xr-section-summary-in' type='checkbox'  checked><label for='section-37c3e0f2-00c3-4da0-a7a3-0c371a592a48' class='xr-section-summary' >Data variables: <span>(2)</span></label><div class='xr-section-inline-details'></div><div class='xr-section-details'><ul class='xr-var-list'><li class='xr-var-item'><div class='xr-var-name'><span>geneslop2k-vm23_da</span></div><div class='xr-var-dims'>(cell, geneslop2k-vm23, mc_type, count_type)</div><div class='xr-var-dtype'>uint16</div><div class='xr-var-preview xr-preview'>dask.array&lt;chunksize=(1000, 32208, 1, 1), meta=np.ndarray&gt;</div><input id='attrs-3eff9945-18fb-4b86-a214-2aecac24649a' class='xr-var-attrs-in' type='checkbox' disabled><label for='attrs-3eff9945-18fb-4b86-a214-2aecac24649a' title='Show/Hide attributes'><svg class='icon xr-icon-file-text2'><use xlink:href='#icon-file-text2'></use></svg></label><input id='data-ff889f65-bb9a-45d8-986b-33cd8f5fbc27' class='xr-var-data-in' type='checkbox'><label for='data-ff889f65-bb9a-45d8-986b-33cd8f5fbc27' title='Show/Hide data repr'><svg class='icon xr-icon-database'><use xlink:href='#icon-database'></use></svg></label><div class='xr-var-attrs'><dl class='xr-attrs'></dl></div><div class='xr-var-data'><table>\n",
       "    <tr>\n",
       "        <td>\n",
       "            <table>\n",
       "                <thead>\n",
       "                    <tr>\n",
       "                        <td> </td>\n",
       "                        <th> Array </th>\n",
       "                        <th> Chunk </th>\n",
       "                    </tr>\n",
       "                </thead>\n",
       "                <tbody>\n",
       "                    \n",
       "                    <tr>\n",
       "                        <th> Bytes </th>\n",
       "                        <td> 29.53 GiB </td>\n",
       "                        <td> 61.43 MiB </td>\n",
       "                    </tr>\n",
       "                    \n",
       "                    <tr>\n",
       "                        <th> Shape </th>\n",
       "                        <td> (123078, 32208, 2, 2) </td>\n",
       "                        <td> (1000, 32208, 1, 1) </td>\n",
       "                    </tr>\n",
       "                    <tr>\n",
       "                        <th> Count </th>\n",
       "                        <td> 497 Tasks </td>\n",
       "                        <td> 496 Chunks </td>\n",
       "                    </tr>\n",
       "                    <tr>\n",
       "                    <th> Type </th>\n",
       "                    <td> uint16 </td>\n",
       "                    <td> numpy.ndarray </td>\n",
       "                    </tr>\n",
       "                </tbody>\n",
       "            </table>\n",
       "        </td>\n",
       "        <td>\n",
       "        <svg width=\"480\" height=\"100\" style=\"stroke:rgb(0,0,0);stroke-width:1\" >\n",
       "\n",
       "  <!-- Horizontal lines -->\n",
       "  <line x1=\"0\" y1=\"0\" x2=\"120\" y2=\"0\" style=\"stroke-width:2\" />\n",
       "  <line x1=\"0\" y1=\"25\" x2=\"120\" y2=\"25\" style=\"stroke-width:2\" />\n",
       "\n",
       "  <!-- Vertical lines -->\n",
       "  <line x1=\"0\" y1=\"0\" x2=\"0\" y2=\"25\" style=\"stroke-width:2\" />\n",
       "  <line x1=\"2\" y1=\"0\" x2=\"2\" y2=\"25\" />\n",
       "  <line x1=\"6\" y1=\"0\" x2=\"6\" y2=\"25\" />\n",
       "  <line x1=\"10\" y1=\"0\" x2=\"10\" y2=\"25\" />\n",
       "  <line x1=\"14\" y1=\"0\" x2=\"14\" y2=\"25\" />\n",
       "  <line x1=\"18\" y1=\"0\" x2=\"18\" y2=\"25\" />\n",
       "  <line x1=\"22\" y1=\"0\" x2=\"22\" y2=\"25\" />\n",
       "  <line x1=\"26\" y1=\"0\" x2=\"26\" y2=\"25\" />\n",
       "  <line x1=\"30\" y1=\"0\" x2=\"30\" y2=\"25\" />\n",
       "  <line x1=\"33\" y1=\"0\" x2=\"33\" y2=\"25\" />\n",
       "  <line x1=\"37\" y1=\"0\" x2=\"37\" y2=\"25\" />\n",
       "  <line x1=\"40\" y1=\"0\" x2=\"40\" y2=\"25\" />\n",
       "  <line x1=\"44\" y1=\"0\" x2=\"44\" y2=\"25\" />\n",
       "  <line x1=\"48\" y1=\"0\" x2=\"48\" y2=\"25\" />\n",
       "  <line x1=\"52\" y1=\"0\" x2=\"52\" y2=\"25\" />\n",
       "  <line x1=\"56\" y1=\"0\" x2=\"56\" y2=\"25\" />\n",
       "  <line x1=\"60\" y1=\"0\" x2=\"60\" y2=\"25\" />\n",
       "  <line x1=\"63\" y1=\"0\" x2=\"63\" y2=\"25\" />\n",
       "  <line x1=\"67\" y1=\"0\" x2=\"67\" y2=\"25\" />\n",
       "  <line x1=\"71\" y1=\"0\" x2=\"71\" y2=\"25\" />\n",
       "  <line x1=\"75\" y1=\"0\" x2=\"75\" y2=\"25\" />\n",
       "  <line x1=\"78\" y1=\"0\" x2=\"78\" y2=\"25\" />\n",
       "  <line x1=\"82\" y1=\"0\" x2=\"82\" y2=\"25\" />\n",
       "  <line x1=\"86\" y1=\"0\" x2=\"86\" y2=\"25\" />\n",
       "  <line x1=\"90\" y1=\"0\" x2=\"90\" y2=\"25\" />\n",
       "  <line x1=\"93\" y1=\"0\" x2=\"93\" y2=\"25\" />\n",
       "  <line x1=\"97\" y1=\"0\" x2=\"97\" y2=\"25\" />\n",
       "  <line x1=\"101\" y1=\"0\" x2=\"101\" y2=\"25\" />\n",
       "  <line x1=\"105\" y1=\"0\" x2=\"105\" y2=\"25\" />\n",
       "  <line x1=\"109\" y1=\"0\" x2=\"109\" y2=\"25\" />\n",
       "  <line x1=\"113\" y1=\"0\" x2=\"113\" y2=\"25\" />\n",
       "  <line x1=\"116\" y1=\"0\" x2=\"116\" y2=\"25\" />\n",
       "  <line x1=\"120\" y1=\"0\" x2=\"120\" y2=\"25\" style=\"stroke-width:2\" />\n",
       "\n",
       "  <!-- Colored Rectangle -->\n",
       "  <polygon points=\"0.0,0.0 120.0,0.0 120.0,25.412616514582485 0.0,25.412616514582485\" style=\"fill:#8B4903A0;stroke-width:0\"/>\n",
       "\n",
       "  <!-- Text -->\n",
       "  <text x=\"60.000000\" y=\"45.412617\" font-size=\"1.0rem\" font-weight=\"100\" text-anchor=\"middle\" >123078</text>\n",
       "  <text x=\"140.000000\" y=\"12.706308\" font-size=\"1.0rem\" font-weight=\"100\" text-anchor=\"middle\" transform=\"rotate(0,140.000000,12.706308)\">1</text>\n",
       "\n",
       "\n",
       "  <!-- Horizontal lines -->\n",
       "  <line x1=\"190\" y1=\"0\" x2=\"215\" y2=\"25\" style=\"stroke-width:2\" />\n",
       "  <line x1=\"190\" y1=\"12\" x2=\"215\" y2=\"38\" />\n",
       "  <line x1=\"190\" y1=\"25\" x2=\"215\" y2=\"50\" style=\"stroke-width:2\" />\n",
       "\n",
       "  <!-- Vertical lines -->\n",
       "  <line x1=\"190\" y1=\"0\" x2=\"190\" y2=\"25\" style=\"stroke-width:2\" />\n",
       "  <line x1=\"215\" y1=\"25\" x2=\"215\" y2=\"50\" style=\"stroke-width:2\" />\n",
       "\n",
       "  <!-- Colored Rectangle -->\n",
       "  <polygon points=\"190.0,0.0 215.33378349044148,25.333783490441487 215.33378349044148,50.74640000502397 190.0,25.412616514582485\" style=\"fill:#ECB172A0;stroke-width:0\"/>\n",
       "\n",
       "  <!-- Horizontal lines -->\n",
       "  <line x1=\"190\" y1=\"0\" x2=\"215\" y2=\"0\" style=\"stroke-width:2\" />\n",
       "  <line x1=\"215\" y1=\"25\" x2=\"240\" y2=\"25\" style=\"stroke-width:2\" />\n",
       "\n",
       "  <!-- Vertical lines -->\n",
       "  <line x1=\"190\" y1=\"0\" x2=\"215\" y2=\"25\" style=\"stroke-width:2\" />\n",
       "  <line x1=\"202\" y1=\"0\" x2=\"228\" y2=\"25\" />\n",
       "  <line x1=\"215\" y1=\"0\" x2=\"240\" y2=\"25\" style=\"stroke-width:2\" />\n",
       "\n",
       "  <!-- Colored Rectangle -->\n",
       "  <polygon points=\"190.0,0.0 215.41261651458248,0.0 240.74640000502396,25.333783490441487 215.33378349044148,25.333783490441487\" style=\"fill:#ECB172A0;stroke-width:0\"/>\n",
       "\n",
       "  <!-- Horizontal lines -->\n",
       "  <line x1=\"215\" y1=\"25\" x2=\"240\" y2=\"25\" style=\"stroke-width:2\" />\n",
       "  <line x1=\"215\" y1=\"38\" x2=\"240\" y2=\"38\" />\n",
       "  <line x1=\"215\" y1=\"50\" x2=\"240\" y2=\"50\" style=\"stroke-width:2\" />\n",
       "\n",
       "  <!-- Vertical lines -->\n",
       "  <line x1=\"215\" y1=\"25\" x2=\"215\" y2=\"50\" style=\"stroke-width:2\" />\n",
       "  <line x1=\"228\" y1=\"25\" x2=\"228\" y2=\"50\" />\n",
       "  <line x1=\"240\" y1=\"25\" x2=\"240\" y2=\"50\" style=\"stroke-width:2\" />\n",
       "\n",
       "  <!-- Colored Rectangle -->\n",
       "  <polygon points=\"215.33378349044148,25.333783490441487 240.74640000502396,25.333783490441487 240.74640000502396,50.74640000502397 215.33378349044148,50.74640000502397\" style=\"fill:#ECB172A0;stroke-width:0\"/>\n",
       "\n",
       "  <!-- Text -->\n",
       "  <text x=\"228.040092\" y=\"70.746400\" font-size=\"1.0rem\" font-weight=\"100\" text-anchor=\"middle\" >2</text>\n",
       "  <text x=\"260.746400\" y=\"38.040092\" font-size=\"1.0rem\" font-weight=\"100\" text-anchor=\"middle\" transform=\"rotate(0,260.746400,38.040092)\">2</text>\n",
       "  <text x=\"192.666892\" y=\"58.079508\" font-size=\"1.0rem\" font-weight=\"100\" text-anchor=\"middle\" transform=\"rotate(45,192.666892,58.079508)\">32208</text>\n",
       "</svg>\n",
       "        </td>\n",
       "    </tr>\n",
       "</table></div></li><li class='xr-var-item'><div class='xr-var-name'><span>geneslop2k-vm23_da_frac</span></div><div class='xr-var-dims'>(cell, geneslop2k-vm23, mc_type)</div><div class='xr-var-dtype'>float32</div><div class='xr-var-preview xr-preview'>dask.array&lt;chunksize=(1000, 32208, 1), meta=np.ndarray&gt;</div><input id='attrs-9a7e3fab-cb6b-4da1-b280-be1a2a142f32' class='xr-var-attrs-in' type='checkbox' disabled><label for='attrs-9a7e3fab-cb6b-4da1-b280-be1a2a142f32' title='Show/Hide attributes'><svg class='icon xr-icon-file-text2'><use xlink:href='#icon-file-text2'></use></svg></label><input id='data-347e7cd7-f317-4dc6-9693-30d23ebef5fa' class='xr-var-data-in' type='checkbox'><label for='data-347e7cd7-f317-4dc6-9693-30d23ebef5fa' title='Show/Hide data repr'><svg class='icon xr-icon-database'><use xlink:href='#icon-database'></use></svg></label><div class='xr-var-attrs'><dl class='xr-attrs'></dl></div><div class='xr-var-data'><table>\n",
       "    <tr>\n",
       "        <td>\n",
       "            <table>\n",
       "                <thead>\n",
       "                    <tr>\n",
       "                        <td> </td>\n",
       "                        <th> Array </th>\n",
       "                        <th> Chunk </th>\n",
       "                    </tr>\n",
       "                </thead>\n",
       "                <tbody>\n",
       "                    \n",
       "                    <tr>\n",
       "                        <th> Bytes </th>\n",
       "                        <td> 29.53 GiB </td>\n",
       "                        <td> 122.86 MiB </td>\n",
       "                    </tr>\n",
       "                    \n",
       "                    <tr>\n",
       "                        <th> Shape </th>\n",
       "                        <td> (123078, 32208, 2) </td>\n",
       "                        <td> (1000, 32208, 1) </td>\n",
       "                    </tr>\n",
       "                    <tr>\n",
       "                        <th> Count </th>\n",
       "                        <td> 249 Tasks </td>\n",
       "                        <td> 248 Chunks </td>\n",
       "                    </tr>\n",
       "                    <tr>\n",
       "                    <th> Type </th>\n",
       "                    <td> float32 </td>\n",
       "                    <td> numpy.ndarray </td>\n",
       "                    </tr>\n",
       "                </tbody>\n",
       "            </table>\n",
       "        </td>\n",
       "        <td>\n",
       "        <svg width=\"156\" height=\"163\" style=\"stroke:rgb(0,0,0);stroke-width:1\" >\n",
       "\n",
       "  <!-- Horizontal lines -->\n",
       "  <line x1=\"10\" y1=\"0\" x2=\"80\" y2=\"70\" style=\"stroke-width:2\" />\n",
       "  <line x1=\"10\" y1=\"43\" x2=\"80\" y2=\"113\" style=\"stroke-width:2\" />\n",
       "\n",
       "  <!-- Vertical lines -->\n",
       "  <line x1=\"10\" y1=\"0\" x2=\"10\" y2=\"43\" style=\"stroke-width:2\" />\n",
       "  <line x1=\"13\" y1=\"3\" x2=\"13\" y2=\"46\" />\n",
       "  <line x1=\"17\" y1=\"7\" x2=\"17\" y2=\"50\" />\n",
       "  <line x1=\"20\" y1=\"10\" x2=\"20\" y2=\"53\" />\n",
       "  <line x1=\"24\" y1=\"14\" x2=\"24\" y2=\"57\" />\n",
       "  <line x1=\"28\" y1=\"18\" x2=\"28\" y2=\"61\" />\n",
       "  <line x1=\"32\" y1=\"22\" x2=\"32\" y2=\"65\" />\n",
       "  <line x1=\"35\" y1=\"25\" x2=\"35\" y2=\"68\" />\n",
       "  <line x1=\"39\" y1=\"29\" x2=\"39\" y2=\"72\" />\n",
       "  <line x1=\"43\" y1=\"33\" x2=\"43\" y2=\"76\" />\n",
       "  <line x1=\"47\" y1=\"37\" x2=\"47\" y2=\"80\" />\n",
       "  <line x1=\"50\" y1=\"40\" x2=\"50\" y2=\"83\" />\n",
       "  <line x1=\"54\" y1=\"44\" x2=\"54\" y2=\"87\" />\n",
       "  <line x1=\"58\" y1=\"48\" x2=\"58\" y2=\"91\" />\n",
       "  <line x1=\"62\" y1=\"52\" x2=\"62\" y2=\"95\" />\n",
       "  <line x1=\"65\" y1=\"55\" x2=\"65\" y2=\"98\" />\n",
       "  <line x1=\"69\" y1=\"59\" x2=\"69\" y2=\"102\" />\n",
       "  <line x1=\"73\" y1=\"63\" x2=\"73\" y2=\"106\" />\n",
       "  <line x1=\"77\" y1=\"67\" x2=\"77\" y2=\"110\" />\n",
       "  <line x1=\"80\" y1=\"70\" x2=\"80\" y2=\"113\" style=\"stroke-width:2\" />\n",
       "\n",
       "  <!-- Colored Rectangle -->\n",
       "  <polygon points=\"10.0,0.0 80.58823529411765,70.58823529411765 80.58823529411765,113.65566722786818 10.0,43.06743193375053\" style=\"fill:#8B4903A0;stroke-width:0\"/>\n",
       "\n",
       "  <!-- Horizontal lines -->\n",
       "  <line x1=\"10\" y1=\"0\" x2=\"35\" y2=\"0\" style=\"stroke-width:2\" />\n",
       "  <line x1=\"13\" y1=\"3\" x2=\"38\" y2=\"3\" />\n",
       "  <line x1=\"17\" y1=\"7\" x2=\"42\" y2=\"7\" />\n",
       "  <line x1=\"20\" y1=\"10\" x2=\"46\" y2=\"10\" />\n",
       "  <line x1=\"24\" y1=\"14\" x2=\"50\" y2=\"14\" />\n",
       "  <line x1=\"28\" y1=\"18\" x2=\"53\" y2=\"18\" />\n",
       "  <line x1=\"32\" y1=\"22\" x2=\"57\" y2=\"22\" />\n",
       "  <line x1=\"35\" y1=\"25\" x2=\"61\" y2=\"25\" />\n",
       "  <line x1=\"39\" y1=\"29\" x2=\"65\" y2=\"29\" />\n",
       "  <line x1=\"43\" y1=\"33\" x2=\"68\" y2=\"33\" />\n",
       "  <line x1=\"47\" y1=\"37\" x2=\"72\" y2=\"37\" />\n",
       "  <line x1=\"50\" y1=\"40\" x2=\"76\" y2=\"40\" />\n",
       "  <line x1=\"54\" y1=\"44\" x2=\"80\" y2=\"44\" />\n",
       "  <line x1=\"58\" y1=\"48\" x2=\"83\" y2=\"48\" />\n",
       "  <line x1=\"62\" y1=\"52\" x2=\"87\" y2=\"52\" />\n",
       "  <line x1=\"65\" y1=\"55\" x2=\"91\" y2=\"55\" />\n",
       "  <line x1=\"69\" y1=\"59\" x2=\"95\" y2=\"59\" />\n",
       "  <line x1=\"73\" y1=\"63\" x2=\"98\" y2=\"63\" />\n",
       "  <line x1=\"77\" y1=\"67\" x2=\"102\" y2=\"67\" />\n",
       "  <line x1=\"80\" y1=\"70\" x2=\"106\" y2=\"70\" style=\"stroke-width:2\" />\n",
       "\n",
       "  <!-- Vertical lines -->\n",
       "  <line x1=\"10\" y1=\"0\" x2=\"80\" y2=\"70\" style=\"stroke-width:2\" />\n",
       "  <line x1=\"22\" y1=\"0\" x2=\"93\" y2=\"70\" />\n",
       "  <line x1=\"35\" y1=\"0\" x2=\"106\" y2=\"70\" style=\"stroke-width:2\" />\n",
       "\n",
       "  <!-- Colored Rectangle -->\n",
       "  <polygon points=\"10.0,0.0 35.41261651458248,0.0 106.00085180870013,70.58823529411765 80.58823529411765,70.58823529411765\" style=\"fill:#8B4903A0;stroke-width:0\"/>\n",
       "\n",
       "  <!-- Horizontal lines -->\n",
       "  <line x1=\"80\" y1=\"70\" x2=\"106\" y2=\"70\" style=\"stroke-width:2\" />\n",
       "  <line x1=\"80\" y1=\"113\" x2=\"106\" y2=\"113\" style=\"stroke-width:2\" />\n",
       "\n",
       "  <!-- Vertical lines -->\n",
       "  <line x1=\"80\" y1=\"70\" x2=\"80\" y2=\"113\" style=\"stroke-width:2\" />\n",
       "  <line x1=\"93\" y1=\"70\" x2=\"93\" y2=\"113\" />\n",
       "  <line x1=\"106\" y1=\"70\" x2=\"106\" y2=\"113\" style=\"stroke-width:2\" />\n",
       "\n",
       "  <!-- Colored Rectangle -->\n",
       "  <polygon points=\"80.58823529411765,70.58823529411765 106.00085180870013,70.58823529411765 106.00085180870013,113.65566722786818 80.58823529411765,113.65566722786818\" style=\"fill:#ECB172A0;stroke-width:0\"/>\n",
       "\n",
       "  <!-- Text -->\n",
       "  <text x=\"93.294544\" y=\"133.655667\" font-size=\"1.0rem\" font-weight=\"100\" text-anchor=\"middle\" >2</text>\n",
       "  <text x=\"126.000852\" y=\"92.121951\" font-size=\"1.0rem\" font-weight=\"100\" text-anchor=\"middle\" transform=\"rotate(-90,126.000852,92.121951)\">32208</text>\n",
       "  <text x=\"35.294118\" y=\"98.361550\" font-size=\"1.0rem\" font-weight=\"100\" text-anchor=\"middle\" transform=\"rotate(45,35.294118,98.361550)\">123078</text>\n",
       "</svg>\n",
       "        </td>\n",
       "    </tr>\n",
       "</table></div></li></ul></div></li><li class='xr-section-item'><input id='section-c17c2a1e-762f-4d2e-a7ce-176193ff22be' class='xr-section-summary-in' type='checkbox'  checked><label for='section-c17c2a1e-762f-4d2e-a7ce-176193ff22be' class='xr-section-summary' >Attributes: <span>(2)</span></label><div class='xr-section-inline-details'></div><div class='xr-section-details'><dl class='xr-attrs'><dt><span>obs_dim :</span></dt><dd>cell</dd><dt><span>var_dim :</span></dt><dd>geneslop2k-vm23</dd></dl></div></li></ul></div></div>"
      ],
      "text/plain": [
       "<xarray.MCDS>\n",
       "Dimensions:                   (cell: 123078, count_type: 2, geneslop2k-vm23: 32208, mc_type: 2)\n",
       "Coordinates:\n",
       "  * cell                      (cell) <U15 '10A_M_1181' ... '9F_M_2348'\n",
       "  * count_type                (count_type) <U3 'mc' 'cov'\n",
       "  * geneslop2k-vm23           (geneslop2k-vm23) <U18 'ENSMUSG00000051951' ......\n",
       "    geneslop2k-vm23_chrom     (geneslop2k-vm23) <U5 'chr1' 'chr1' ... 'chrM'\n",
       "    geneslop2k-vm23_cov_mean  (geneslop2k-vm23) float64 6.313e+03 ... 312.2\n",
       "    geneslop2k-vm23_end       (geneslop2k-vm23) int64 3673498 3515553 ... 16299\n",
       "    geneslop2k-vm23_start     (geneslop2k-vm23) int64 3203901 3464587 ... 12145\n",
       "  * mc_type                   (mc_type) <U3 'CGN' 'CHN'\n",
       "Data variables:\n",
       "    geneslop2k-vm23_da        (cell, geneslop2k-vm23, mc_type, count_type) uint16 dask.array<chunksize=(1000, 32208, 1, 1), meta=np.ndarray>\n",
       "    geneslop2k-vm23_da_frac   (cell, geneslop2k-vm23, mc_type) float32 dask.array<chunksize=(1000, 32208, 1), meta=np.ndarray>\n",
       "Attributes:\n",
       "    obs_dim:  cell\n",
       "    var_dim:  geneslop2k-vm23"
      ]
     },
     "execution_count": 6,
     "metadata": {},
     "output_type": "execute_result"
    }
   ],
   "source": [
    "mcds = MCDS.open(cemba.CEMBA_SNMC_MCDS_PATH, var_dim=var_dim, use_obs=use_cells)\n",
    "\n",
    "mcds"
   ]
  },
  {
   "cell_type": "code",
   "execution_count": 7,
   "id": "be4f80f5",
   "metadata": {
    "ExecuteTime": {
     "end_time": "2022-06-25T18:39:20.211422Z",
     "start_time": "2022-06-25T18:29:28.677571Z"
    },
    "execution": {
     "iopub.execute_input": "2022-10-22T23:02:28.588785Z",
     "iopub.status.busy": "2022-10-22T23:02:28.588504Z",
     "iopub.status.idle": "2022-10-22T23:04:15.914991Z",
     "shell.execute_reply": "2022-10-22T23:04:15.914072Z"
    },
    "papermill": {
     "duration": 107.341018,
     "end_time": "2022-10-22T23:04:15.917390",
     "exception": false,
     "start_time": "2022-10-22T23:02:28.576372",
     "status": "completed"
    },
    "tags": []
   },
   "outputs": [],
   "source": [
    "adata = mcds.get_adata(mc_type=mc_type,\n",
    "                       select_hvf=False,\n",
    "                       split_large_chunks=False)"
   ]
  },
  {
   "cell_type": "code",
   "execution_count": 8,
   "id": "b1702756",
   "metadata": {
    "ExecuteTime": {
     "end_time": "2022-06-25T18:39:20.233409Z",
     "start_time": "2022-06-25T18:39:20.213570Z"
    },
    "execution": {
     "iopub.execute_input": "2022-10-22T23:04:15.942889Z",
     "iopub.status.busy": "2022-10-22T23:04:15.942519Z",
     "iopub.status.idle": "2022-10-22T23:04:15.986883Z",
     "shell.execute_reply": "2022-10-22T23:04:15.986201Z"
    },
    "papermill": {
     "duration": 0.059431,
     "end_time": "2022-10-22T23:04:15.988698",
     "exception": false,
     "start_time": "2022-10-22T23:04:15.929267",
     "status": "completed"
    },
    "tags": []
   },
   "outputs": [],
   "source": [
    "adata.obs[cef_cluster_level] = annot[cef_cluster_level].to_pandas()"
   ]
  },
  {
   "cell_type": "markdown",
   "id": "dc9549b3",
   "metadata": {
    "ExecuteTime": {
     "end_time": "2022-06-04T04:56:12.906887Z",
     "start_time": "2022-06-04T04:56:12.373611Z"
    },
    "papermill": {
     "duration": 0.01239,
     "end_time": "2022-10-22T23:04:16.012833",
     "exception": false,
     "start_time": "2022-10-22T23:04:16.000443",
     "status": "completed"
    },
    "tags": []
   },
   "source": [
    "## Basic Feature Filtering"
   ]
  },
  {
   "cell_type": "code",
   "execution_count": 9,
   "id": "32e7c994",
   "metadata": {
    "ExecuteTime": {
     "end_time": "2022-06-25T18:39:25.144975Z",
     "start_time": "2022-06-25T18:39:20.234891Z"
    },
    "execution": {
     "iopub.execute_input": "2022-10-22T23:04:16.037688Z",
     "iopub.status.busy": "2022-10-22T23:04:16.037342Z",
     "iopub.status.idle": "2022-10-22T23:04:41.218449Z",
     "shell.execute_reply": "2022-10-22T23:04:41.216618Z"
    },
    "papermill": {
     "duration": 25.196486,
     "end_time": "2022-10-22T23:04:41.220588",
     "exception": false,
     "start_time": "2022-10-22T23:04:16.024102",
     "status": "completed"
    },
    "tags": []
   },
   "outputs": [
    {
     "name": "stdout",
     "output_type": "stream",
     "text": [
      "30364 regions remained.\n"
     ]
    }
   ],
   "source": [
    "remove_chromosomes(adata, exclude_chromosomes=chrom_to_remove)"
   ]
  },
  {
   "cell_type": "code",
   "execution_count": 10,
   "id": "28d4d626",
   "metadata": {
    "ExecuteTime": {
     "end_time": "2022-06-25T18:39:30.446377Z",
     "start_time": "2022-06-25T18:39:25.146189Z"
    },
    "execution": {
     "iopub.execute_input": "2022-10-22T23:04:41.244290Z",
     "iopub.status.busy": "2022-10-22T23:04:41.243847Z",
     "iopub.status.idle": "2022-10-22T23:05:04.190612Z",
     "shell.execute_reply": "2022-10-22T23:05:04.189230Z"
    },
    "papermill": {
     "duration": 22.960929,
     "end_time": "2022-10-22T23:05:04.192856",
     "exception": false,
     "start_time": "2022-10-22T23:04:41.231927",
     "status": "completed"
    },
    "tags": []
   },
   "outputs": [
    {
     "name": "stdout",
     "output_type": "stream",
     "text": [
      "1300 features removed due to overlapping (bedtools intersect -f 0.2) with black list regions.\n"
     ]
    }
   ],
   "source": [
    "remove_black_list_region(adata, black_list_path=mm10.ENCODE_BLACKLIST_PATH)"
   ]
  },
  {
   "cell_type": "code",
   "execution_count": 11,
   "id": "d183d14b",
   "metadata": {
    "ExecuteTime": {
     "end_time": "2022-06-25T18:39:36.004354Z",
     "start_time": "2022-06-25T18:39:30.447816Z"
    },
    "execution": {
     "iopub.execute_input": "2022-10-22T23:05:04.220960Z",
     "iopub.status.busy": "2022-10-22T23:05:04.219629Z",
     "iopub.status.idle": "2022-10-22T23:05:30.291069Z",
     "shell.execute_reply": "2022-10-22T23:05:30.289661Z"
    },
    "papermill": {
     "duration": 26.08738,
     "end_time": "2022-10-22T23:05:30.293335",
     "exception": false,
     "start_time": "2022-10-22T23:05:04.205955",
     "status": "completed"
    },
    "tags": []
   },
   "outputs": [],
   "source": [
    "# remove low std features\n",
    "pass_std_filter = adata.X.std(axis=0) > 0.05\n",
    "adata._inplace_subset_var(pass_std_filter)"
   ]
  },
  {
   "cell_type": "markdown",
   "id": "9a262ff4-5d89-4fe1-9a95-97be04b69714",
   "metadata": {
    "jupyter": {
     "outputs_hidden": false
    },
    "papermill": {
     "duration": 0.009173,
     "end_time": "2022-10-22T23:05:30.313117",
     "exception": false,
     "start_time": "2022-10-22T23:05:30.303944",
     "status": "completed"
    },
    "tags": []
   },
   "source": [
    "## CEF Feature Filtering\n",
    "\n",
    "Cluster enriched feature selection. Use per-cell normalized mC fraction as input, no log transform."
   ]
  },
  {
   "cell_type": "code",
   "execution_count": 12,
   "id": "545ba3d9",
   "metadata": {
    "ExecuteTime": {
     "end_time": "2022-06-25T18:39:52.010498Z",
     "start_time": "2022-06-25T18:39:36.005698Z"
    },
    "execution": {
     "iopub.execute_input": "2022-10-22T23:05:30.333008Z",
     "iopub.status.busy": "2022-10-22T23:05:30.332686Z",
     "iopub.status.idle": "2022-10-22T23:08:41.878909Z",
     "shell.execute_reply": "2022-10-22T23:08:41.878080Z"
    },
    "papermill": {
     "duration": 191.558522,
     "end_time": "2022-10-22T23:08:41.880438",
     "exception": false,
     "start_time": "2022-10-22T23:05:30.321916",
     "status": "completed"
    },
    "tags": []
   },
   "outputs": [
    {
     "name": "stdout",
     "output_type": "stream",
     "text": [
      "Found 1943 clusters to compute feature enrichment score\n",
      "Computing enrichment score\n",
      "Computing enrichment score FDR-corrected P values\n",
      "Selected 8059 unique features\n"
     ]
    },
    {
     "data": {
      "image/png": "[encoded data removed]",
      "text/plain": [
       "<Figure size 1080x360 with 3 Axes>"
      ]
     },
     "metadata": {
      "needs_background": "light"
     },
     "output_type": "display_data"
    }
   ],
   "source": [
    "# CEF function take the original mC fraction as input\n",
    "cluster_enriched_features(adata,\n",
    "                          cluster_col=cef_cluster_level,\n",
    "                          top_n=200,\n",
    "                          alpha=0.05,\n",
    "                          stat_plot=True,\n",
    "                          method='mc')"
   ]
  },
  {
   "cell_type": "code",
   "execution_count": 13,
   "id": "a556c1fc",
   "metadata": {
    "ExecuteTime": {
     "end_time": "2022-06-25T18:39:52.047713Z",
     "start_time": "2022-06-25T18:39:52.012472Z"
    },
    "execution": {
     "iopub.execute_input": "2022-10-22T23:08:41.907968Z",
     "iopub.status.busy": "2022-10-22T23:08:41.907704Z",
     "iopub.status.idle": "2022-10-22T23:08:41.941442Z",
     "shell.execute_reply": "2022-10-22T23:08:41.940712Z"
    },
    "papermill": {
     "duration": 0.050391,
     "end_time": "2022-10-22T23:08:41.943153",
     "exception": false,
     "start_time": "2022-10-22T23:08:41.892762",
     "status": "completed"
    },
    "tags": []
   },
   "outputs": [],
   "source": [
    "# select CEF only\n",
    "cef = adata.var[f'{cef_cluster_level}_enriched_features'].copy()\n",
    "\n",
    "# add some global CEF to list\n",
    "if global_cef is not None:\n",
    "    global_cef = pd.read_csv(global_cef, header=None, index_col=0).index\n",
    "    cef.loc[cef.index.isin(global_cef)] = True\n",
    "\n",
    "cef.to_csv('mC.CEF.csv', header=None)"
   ]
  },
  {
   "cell_type": "code",
   "execution_count": null,
   "id": "d43003cc",
   "metadata": {
    "papermill": {
     "duration": 0.010905,
     "end_time": "2022-10-22T23:08:41.964337",
     "exception": false,
     "start_time": "2022-10-22T23:08:41.953432",
     "status": "completed"
    },
    "tags": []
   },
   "outputs": [],
   "source": []
  },
  {
   "cell_type": "code",
   "execution_count": null,
   "id": "64056988",
   "metadata": {
    "papermill": {
     "duration": 0.01029,
     "end_time": "2022-10-22T23:08:41.984865",
     "exception": false,
     "start_time": "2022-10-22T23:08:41.974575",
     "status": "completed"
    },
    "tags": []
   },
   "outputs": [],
   "source": []
  },
  {
   "cell_type": "code",
   "execution_count": null,
   "id": "25fe1295",
   "metadata": {
    "papermill": {
     "duration": 0.010458,
     "end_time": "2022-10-22T23:08:42.006172",
     "exception": false,
     "start_time": "2022-10-22T23:08:41.995714",
     "status": "completed"
    },
    "tags": []
   },
   "outputs": [],
   "source": []
  },
  {
   "cell_type": "code",
   "execution_count": null,
   "id": "cee0000b",
   "metadata": {
    "papermill": {
     "duration": 0.01027,
     "end_time": "2022-10-22T23:08:42.026139",
     "exception": false,
     "start_time": "2022-10-22T23:08:42.015869",
     "status": "completed"
    },
    "tags": []
   },
   "outputs": [],
   "source": []
  }
 ],
 "metadata": {
  "celltoolbar": "Tags",
  "hide_input": false,
  "kernelspec": {
   "display_name": "Python 3",
   "language": "python",
   "name": "python3"
  },
  "language_info": {
   "codemirror_mode": {
    "name": "ipython",
    "version": 3
   },
   "file_extension": ".py",
   "mimetype": "text/x-python",
   "name": "python",
   "nbconvert_exporter": "python",
   "pygments_lexer": "ipython3",
   "version": "3.7.12"
  },
  "papermill": {
   "default_parameters": {},
   "duration": 383.753696,
   "end_time": "2022-10-22T23:08:42.755738",
   "environment_variables": {},
   "exception": null,
   "input_path": "/mnt/filestore/221015-cemba-mc-aibs-tenx-integration/template/01a.select_mc_cef.ipynb",
   "output_path": "/mnt/filestore/221015-cemba-mc-aibs-tenx-integration/Round1/CorticalExc/01a.select_mc_cef.ipynb",
   "parameters": {
    "cef_cluster_level": "L4Region",
    "chrom_to_remove": [
     "chrX",
     "chrY",
     "chrM",
     "chrL"
    ],
    "cpu": 1,
    "downsample": 500,
    "global_cef": null,
    "group_name": "CorticalExc",
    "mc_type": "CHN",
    "mem_gb": 1,
    "var_dim": "geneslop2k-vm23"
   },
   "start_time": "2022-10-22T23:02:19.002042",
   "version": "2.3.3"
  },
  "toc": {
   "base_numbering": 1,
   "nav_menu": {},
   "number_sections": true,
   "sideBar": true,
   "skip_h1_title": true,
   "title_cell": "Table of Contents",
   "title_sidebar": "Contents",
   "toc_cell": false,
   "toc_position": {},
   "toc_section_display": true,
   "toc_window_display": true
  }
 },
 "nbformat": 4,
 "nbformat_minor": 5
}
