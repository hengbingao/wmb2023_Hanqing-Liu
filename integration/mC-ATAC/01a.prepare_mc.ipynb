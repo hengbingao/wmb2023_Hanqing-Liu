{
 "cells": [
  {
   "cell_type": "markdown",
   "id": "68434496",
   "metadata": {
    "papermill": {
     "duration": 0.011294,
     "end_time": "2022-10-30T20:23:23.435907",
     "exception": false,
     "start_time": "2022-10-30T20:23:23.424613",
     "status": "completed"
    },
    "pycharm": {
     "name": "#%% md\n"
    },
    "tags": []
   },
   "source": [
    "## Import"
   ]
  },
  {
   "cell_type": "code",
   "execution_count": 1,
   "id": "4b3c1327",
   "metadata": {
    "ExecuteTime": {
     "end_time": "2022-06-23T03:10:22.101169Z",
     "start_time": "2022-06-23T03:10:19.633032Z"
    },
    "execution": {
     "iopub.execute_input": "2022-10-30T20:23:23.455422Z",
     "iopub.status.busy": "2022-10-30T20:23:23.454457Z",
     "iopub.status.idle": "2022-10-30T20:23:25.940373Z",
     "shell.execute_reply": "2022-10-30T20:23:25.939705Z"
    },
    "papermill": {
     "duration": 2.49838,
     "end_time": "2022-10-30T20:23:25.942768",
     "exception": false,
     "start_time": "2022-10-30T20:23:23.444388",
     "status": "completed"
    },
    "pycharm": {
     "name": "#%%\n"
    },
    "tags": []
   },
   "outputs": [],
   "source": [
    "from wmb import brain, cemba, mm10\n",
    "\n",
    "from ALLCools.clustering import *\n",
    "from ALLCools.mcds import MCDS\n",
    "from ALLCools.plot import *\n",
    "import numpy as np\n",
    "import pandas as pd\n",
    "import matplotlib.pyplot as plt"
   ]
  },
  {
   "cell_type": "code",
   "execution_count": 2,
   "id": "ca8aa116",
   "metadata": {
    "ExecuteTime": {
     "end_time": "2022-06-15T05:34:56.726300Z",
     "start_time": "2022-06-15T05:34:56.723882Z"
    },
    "execution": {
     "iopub.execute_input": "2022-10-30T20:23:25.963745Z",
     "iopub.status.busy": "2022-10-30T20:23:25.963498Z",
     "iopub.status.idle": "2022-10-30T20:23:25.967704Z",
     "shell.execute_reply": "2022-10-30T20:23:25.967073Z"
    },
    "papermill": {
     "duration": 0.015429,
     "end_time": "2022-10-30T20:23:25.968861",
     "exception": false,
     "start_time": "2022-10-30T20:23:25.953432",
     "status": "completed"
    },
    "pycharm": {
     "name": "#%%\n"
    },
    "tags": [
     "parameters"
    ]
   },
   "outputs": [],
   "source": [
    "n_cell = 5\n",
    "remove_lower_features = 0.2\n",
    "zscore_abs_cutoff = 3\n",
    "var_dim = 'chrom5k'\n",
    "chrom_to_remove = ['chrX', 'chrY', 'chrM', 'chrL']"
   ]
  },
  {
   "cell_type": "code",
   "execution_count": 3,
   "id": "476d4fa5",
   "metadata": {
    "execution": {
     "iopub.execute_input": "2022-10-30T20:23:25.987326Z",
     "iopub.status.busy": "2022-10-30T20:23:25.987128Z",
     "iopub.status.idle": "2022-10-30T20:23:25.990820Z",
     "shell.execute_reply": "2022-10-30T20:23:25.990012Z"
    },
    "papermill": {
     "duration": 0.014464,
     "end_time": "2022-10-30T20:23:25.992052",
     "exception": false,
     "start_time": "2022-10-30T20:23:25.977588",
     "status": "completed"
    },
    "tags": [
     "injected-parameters"
    ]
   },
   "outputs": [],
   "source": [
    "# Parameters\n",
    "chrom_to_remove = [\"chrX\", \"chrY\", \"chrM\", \"chrL\"]\n",
    "cpu = 1\n",
    "group_name = \"Isocortex\"\n",
    "mem_gb = 1\n",
    "n_cell = 5\n",
    "remove_lower_features = 0.2\n",
    "var_dim = \"chrom5k\"\n",
    "zscore_abs_cutoff = 3\n"
   ]
  },
  {
   "cell_type": "markdown",
   "id": "e60ee638",
   "metadata": {
    "papermill": {
     "duration": 0.008961,
     "end_time": "2022-10-30T20:23:26.010197",
     "exception": false,
     "start_time": "2022-10-30T20:23:26.001236",
     "status": "completed"
    },
    "pycharm": {
     "name": "#%% md\n"
    },
    "tags": []
   },
   "source": [
    "## Select cells"
   ]
  },
  {
   "cell_type": "code",
   "execution_count": 4,
   "id": "e5e3ec7f",
   "metadata": {
    "ExecuteTime": {
     "end_time": "2022-06-15T05:35:00.751504Z",
     "start_time": "2022-06-15T05:35:00.740093Z"
    },
    "execution": {
     "iopub.execute_input": "2022-10-30T20:23:26.028089Z",
     "iopub.status.busy": "2022-10-30T20:23:26.027862Z",
     "iopub.status.idle": "2022-10-30T20:23:26.068291Z",
     "shell.execute_reply": "2022-10-30T20:23:26.067579Z"
    },
    "papermill": {
     "duration": 0.050918,
     "end_time": "2022-10-30T20:23:26.069694",
     "exception": false,
     "start_time": "2022-10-30T20:23:26.018776",
     "status": "completed"
    },
    "pycharm": {
     "name": "#%%\n"
    },
    "tags": []
   },
   "outputs": [],
   "source": [
    "cells = pd.read_csv('mc_cells.txt', index_col=0, header=None).index\n",
    "cells.name = 'cell'"
   ]
  },
  {
   "cell_type": "markdown",
   "id": "abc2eddd",
   "metadata": {
    "papermill": {
     "duration": 0.014744,
     "end_time": "2022-10-30T20:23:26.093678",
     "exception": false,
     "start_time": "2022-10-30T20:23:26.078934",
     "status": "completed"
    },
    "pycharm": {
     "name": "#%% md\n"
    },
    "tags": []
   },
   "source": [
    "## Get adata with basic feature selection"
   ]
  },
  {
   "cell_type": "code",
   "execution_count": 5,
   "id": "a6636dd5",
   "metadata": {
    "ExecuteTime": {
     "end_time": "2022-06-15T05:35:02.190210Z",
     "start_time": "2022-06-15T05:35:00.899407Z"
    },
    "execution": {
     "iopub.execute_input": "2022-10-30T20:23:26.112910Z",
     "iopub.status.busy": "2022-10-30T20:23:26.112710Z",
     "iopub.status.idle": "2022-10-30T20:23:27.029312Z",
     "shell.execute_reply": "2022-10-30T20:23:27.028562Z"
    },
    "papermill": {
     "duration": 0.928657,
     "end_time": "2022-10-30T20:23:27.031050",
     "exception": false,
     "start_time": "2022-10-30T20:23:26.102393",
     "status": "completed"
    },
    "pycharm": {
     "name": "#%%\n"
    },
    "scrolled": true,
    "tags": []
   },
   "outputs": [
    {
     "data": {
      "text/html": [
       "<div><svg style=\"position: absolute; width: 0; height: 0; overflow: hidden\">\n",
       "<defs>\n",
       "<symbol id=\"icon-database\" viewBox=\"0 0 32 32\">\n",
       "<path d=\"M16 0c-8.837 0-16 2.239-16 5v4c0 2.761 7.163 5 16 5s16-2.239 16-5v-4c0-2.761-7.163-5-16-5z\"></path>\n",
       "<path d=\"M16 17c-8.837 0-16-2.239-16-5v6c0 2.761 7.163 5 16 5s16-2.239 16-5v-6c0 2.761-7.163 5-16 5z\"></path>\n",
       "<path d=\"M16 26c-8.837 0-16-2.239-16-5v6c0 2.761 7.163 5 16 5s16-2.239 16-5v-6c0 2.761-7.163 5-16 5z\"></path>\n",
       "</symbol>\n",
       "<symbol id=\"icon-file-text2\" viewBox=\"0 0 32 32\">\n",
       "<path d=\"M28.681 7.159c-0.694-0.947-1.662-2.053-2.724-3.116s-2.169-2.030-3.116-2.724c-1.612-1.182-2.393-1.319-2.841-1.319h-15.5c-1.378 0-2.5 1.121-2.5 2.5v27c0 1.378 1.122 2.5 2.5 2.5h23c1.378 0 2.5-1.122 2.5-2.5v-19.5c0-0.448-0.137-1.23-1.319-2.841zM24.543 5.457c0.959 0.959 1.712 1.825 2.268 2.543h-4.811v-4.811c0.718 0.556 1.584 1.309 2.543 2.268zM28 29.5c0 0.271-0.229 0.5-0.5 0.5h-23c-0.271 0-0.5-0.229-0.5-0.5v-27c0-0.271 0.229-0.5 0.5-0.5 0 0 15.499-0 15.5 0v7c0 0.552 0.448 1 1 1h7v19.5z\"></path>\n",
       "<path d=\"M23 26h-14c-0.552 0-1-0.448-1-1s0.448-1 1-1h14c0.552 0 1 0.448 1 1s-0.448 1-1 1z\"></path>\n",
       "<path d=\"M23 22h-14c-0.552 0-1-0.448-1-1s0.448-1 1-1h14c0.552 0 1 0.448 1 1s-0.448 1-1 1z\"></path>\n",
       "<path d=\"M23 18h-14c-0.552 0-1-0.448-1-1s0.448-1 1-1h14c0.552 0 1 0.448 1 1s-0.448 1-1 1z\"></path>\n",
       "</symbol>\n",
       "</defs>\n",
       "</svg>\n",
       "<style>/* CSS stylesheet for displaying xarray objects in jupyterlab.\n",
       " *\n",
       " */\n",
       "\n",
       ":root {\n",
       "  --xr-font-color0: var(--jp-content-font-color0, rgba(0, 0, 0, 1));\n",
       "  --xr-font-color2: var(--jp-content-font-color2, rgba(0, 0, 0, 0.54));\n",
       "  --xr-font-color3: var(--jp-content-font-color3, rgba(0, 0, 0, 0.38));\n",
       "  --xr-border-color: var(--jp-border-color2, #e0e0e0);\n",
       "  --xr-disabled-color: var(--jp-layout-color3, #bdbdbd);\n",
       "  --xr-background-color: var(--jp-layout-color0, white);\n",
       "  --xr-background-color-row-even: var(--jp-layout-color1, white);\n",
       "  --xr-background-color-row-odd: var(--jp-layout-color2, #eeeeee);\n",
       "}\n",
       "\n",
       "html[theme=dark],\n",
       "body.vscode-dark {\n",
       "  --xr-font-color0: rgba(255, 255, 255, 1);\n",
       "  --xr-font-color2: rgba(255, 255, 255, 0.54);\n",
       "  --xr-font-color3: rgba(255, 255, 255, 0.38);\n",
       "  --xr-border-color: #1F1F1F;\n",
       "  --xr-disabled-color: #515151;\n",
       "  --xr-background-color: #111111;\n",
       "  --xr-background-color-row-even: #111111;\n",
       "  --xr-background-color-row-odd: #313131;\n",
       "}\n",
       "\n",
       ".xr-wrap {\n",
       "  display: block !important;\n",
       "  min-width: 300px;\n",
       "  max-width: 700px;\n",
       "}\n",
       "\n",
       ".xr-text-repr-fallback {\n",
       "  /* fallback to plain text repr when CSS is not injected (untrusted notebook) */\n",
       "  display: none;\n",
       "}\n",
       "\n",
       ".xr-header {\n",
       "  padding-top: 6px;\n",
       "  padding-bottom: 6px;\n",
       "  margin-bottom: 4px;\n",
       "  border-bottom: solid 1px var(--xr-border-color);\n",
       "}\n",
       "\n",
       ".xr-header > div,\n",
       ".xr-header > ul {\n",
       "  display: inline;\n",
       "  margin-top: 0;\n",
       "  margin-bottom: 0;\n",
       "}\n",
       "\n",
       ".xr-obj-type,\n",
       ".xr-array-name {\n",
       "  margin-left: 2px;\n",
       "  margin-right: 10px;\n",
       "}\n",
       "\n",
       ".xr-obj-type {\n",
       "  color: var(--xr-font-color2);\n",
       "}\n",
       "\n",
       ".xr-sections {\n",
       "  padding-left: 0 !important;\n",
       "  display: grid;\n",
       "  grid-template-columns: 150px auto auto 1fr 20px 20px;\n",
       "}\n",
       "\n",
       ".xr-section-item {\n",
       "  display: contents;\n",
       "}\n",
       "\n",
       ".xr-section-item input {\n",
       "  display: none;\n",
       "}\n",
       "\n",
       ".xr-section-item input + label {\n",
       "  color: var(--xr-disabled-color);\n",
       "}\n",
       "\n",
       ".xr-section-item input:enabled + label {\n",
       "  cursor: pointer;\n",
       "  color: var(--xr-font-color2);\n",
       "}\n",
       "\n",
       ".xr-section-item input:enabled + label:hover {\n",
       "  color: var(--xr-font-color0);\n",
       "}\n",
       "\n",
       ".xr-section-summary {\n",
       "  grid-column: 1;\n",
       "  color: var(--xr-font-color2);\n",
       "  font-weight: 500;\n",
       "}\n",
       "\n",
       ".xr-section-summary > span {\n",
       "  display: inline-block;\n",
       "  padding-left: 0.5em;\n",
       "}\n",
       "\n",
       ".xr-section-summary-in:disabled + label {\n",
       "  color: var(--xr-font-color2);\n",
       "}\n",
       "\n",
       ".xr-section-summary-in + label:before {\n",
       "  display: inline-block;\n",
       "  content: '►';\n",
       "  font-size: 11px;\n",
       "  width: 15px;\n",
       "  text-align: center;\n",
       "}\n",
       "\n",
       ".xr-section-summary-in:disabled + label:before {\n",
       "  color: var(--xr-disabled-color);\n",
       "}\n",
       "\n",
       ".xr-section-summary-in:checked + label:before {\n",
       "  content: '▼';\n",
       "}\n",
       "\n",
       ".xr-section-summary-in:checked + label > span {\n",
       "  display: none;\n",
       "}\n",
       "\n",
       ".xr-section-summary,\n",
       ".xr-section-inline-details {\n",
       "  padding-top: 4px;\n",
       "  padding-bottom: 4px;\n",
       "}\n",
       "\n",
       ".xr-section-inline-details {\n",
       "  grid-column: 2 / -1;\n",
       "}\n",
       "\n",
       ".xr-section-details {\n",
       "  display: none;\n",
       "  grid-column: 1 / -1;\n",
       "  margin-bottom: 5px;\n",
       "}\n",
       "\n",
       ".xr-section-summary-in:checked ~ .xr-section-details {\n",
       "  display: contents;\n",
       "}\n",
       "\n",
       ".xr-array-wrap {\n",
       "  grid-column: 1 / -1;\n",
       "  display: grid;\n",
       "  grid-template-columns: 20px auto;\n",
       "}\n",
       "\n",
       ".xr-array-wrap > label {\n",
       "  grid-column: 1;\n",
       "  vertical-align: top;\n",
       "}\n",
       "\n",
       ".xr-preview {\n",
       "  color: var(--xr-font-color3);\n",
       "}\n",
       "\n",
       ".xr-array-preview,\n",
       ".xr-array-data {\n",
       "  padding: 0 5px !important;\n",
       "  grid-column: 2;\n",
       "}\n",
       "\n",
       ".xr-array-data,\n",
       ".xr-array-in:checked ~ .xr-array-preview {\n",
       "  display: none;\n",
       "}\n",
       "\n",
       ".xr-array-in:checked ~ .xr-array-data,\n",
       ".xr-array-preview {\n",
       "  display: inline-block;\n",
       "}\n",
       "\n",
       ".xr-dim-list {\n",
       "  display: inline-block !important;\n",
       "  list-style: none;\n",
       "  padding: 0 !important;\n",
       "  margin: 0;\n",
       "}\n",
       "\n",
       ".xr-dim-list li {\n",
       "  display: inline-block;\n",
       "  padding: 0;\n",
       "  margin: 0;\n",
       "}\n",
       "\n",
       ".xr-dim-list:before {\n",
       "  content: '(';\n",
       "}\n",
       "\n",
       ".xr-dim-list:after {\n",
       "  content: ')';\n",
       "}\n",
       "\n",
       ".xr-dim-list li:not(:last-child):after {\n",
       "  content: ',';\n",
       "  padding-right: 5px;\n",
       "}\n",
       "\n",
       ".xr-has-index {\n",
       "  font-weight: bold;\n",
       "}\n",
       "\n",
       ".xr-var-list,\n",
       ".xr-var-item {\n",
       "  display: contents;\n",
       "}\n",
       "\n",
       ".xr-var-item > div,\n",
       ".xr-var-item label,\n",
       ".xr-var-item > .xr-var-name span {\n",
       "  background-color: var(--xr-background-color-row-even);\n",
       "  margin-bottom: 0;\n",
       "}\n",
       "\n",
       ".xr-var-item > .xr-var-name:hover span {\n",
       "  padding-right: 5px;\n",
       "}\n",
       "\n",
       ".xr-var-list > li:nth-child(odd) > div,\n",
       ".xr-var-list > li:nth-child(odd) > label,\n",
       ".xr-var-list > li:nth-child(odd) > .xr-var-name span {\n",
       "  background-color: var(--xr-background-color-row-odd);\n",
       "}\n",
       "\n",
       ".xr-var-name {\n",
       "  grid-column: 1;\n",
       "}\n",
       "\n",
       ".xr-var-dims {\n",
       "  grid-column: 2;\n",
       "}\n",
       "\n",
       ".xr-var-dtype {\n",
       "  grid-column: 3;\n",
       "  text-align: right;\n",
       "  color: var(--xr-font-color2);\n",
       "}\n",
       "\n",
       ".xr-var-preview {\n",
       "  grid-column: 4;\n",
       "}\n",
       "\n",
       ".xr-var-name,\n",
       ".xr-var-dims,\n",
       ".xr-var-dtype,\n",
       ".xr-preview,\n",
       ".xr-attrs dt {\n",
       "  white-space: nowrap;\n",
       "  overflow: hidden;\n",
       "  text-overflow: ellipsis;\n",
       "  padding-right: 10px;\n",
       "}\n",
       "\n",
       ".xr-var-name:hover,\n",
       ".xr-var-dims:hover,\n",
       ".xr-var-dtype:hover,\n",
       ".xr-attrs dt:hover {\n",
       "  overflow: visible;\n",
       "  width: auto;\n",
       "  z-index: 1;\n",
       "}\n",
       "\n",
       ".xr-var-attrs,\n",
       ".xr-var-data {\n",
       "  display: none;\n",
       "  background-color: var(--xr-background-color) !important;\n",
       "  padding-bottom: 5px !important;\n",
       "}\n",
       "\n",
       ".xr-var-attrs-in:checked ~ .xr-var-attrs,\n",
       ".xr-var-data-in:checked ~ .xr-var-data {\n",
       "  display: block;\n",
       "}\n",
       "\n",
       ".xr-var-data > table {\n",
       "  float: right;\n",
       "}\n",
       "\n",
       ".xr-var-name span,\n",
       ".xr-var-data,\n",
       ".xr-attrs {\n",
       "  padding-left: 25px !important;\n",
       "}\n",
       "\n",
       ".xr-attrs,\n",
       ".xr-var-attrs,\n",
       ".xr-var-data {\n",
       "  grid-column: 1 / -1;\n",
       "}\n",
       "\n",
       "dl.xr-attrs {\n",
       "  padding: 0;\n",
       "  margin: 0;\n",
       "  display: grid;\n",
       "  grid-template-columns: 125px auto;\n",
       "}\n",
       "\n",
       ".xr-attrs dt,\n",
       ".xr-attrs dd {\n",
       "  padding: 0;\n",
       "  margin: 0;\n",
       "  float: left;\n",
       "  padding-right: 10px;\n",
       "  width: auto;\n",
       "}\n",
       "\n",
       ".xr-attrs dt {\n",
       "  font-weight: normal;\n",
       "  grid-column: 1;\n",
       "}\n",
       "\n",
       ".xr-attrs dt:hover span {\n",
       "  display: inline-block;\n",
       "  background: var(--xr-background-color);\n",
       "  padding-right: 10px;\n",
       "}\n",
       "\n",
       ".xr-attrs dd {\n",
       "  grid-column: 2;\n",
       "  white-space: pre-wrap;\n",
       "  word-break: break-all;\n",
       "}\n",
       "\n",
       ".xr-icon-database,\n",
       ".xr-icon-file-text2 {\n",
       "  display: inline-block;\n",
       "  vertical-align: middle;\n",
       "  width: 1em;\n",
       "  height: 1.5em !important;\n",
       "  stroke-width: 0;\n",
       "  stroke: currentColor;\n",
       "  fill: currentColor;\n",
       "}\n",
       "</style><pre class='xr-text-repr-fallback'>&lt;xarray.MCDS&gt;\n",
       "Dimensions:                    (cell: 94767, chrom5k: 545118)\n",
       "Coordinates:\n",
       "  * cell                       (cell) &lt;U15 &#x27;10A_M_1181&#x27; ... &#x27;9F_M_2348&#x27;\n",
       "  * chrom5k                    (chrom5k) &lt;U11 &#x27;chr1_0&#x27; &#x27;chr1_1&#x27; ... &#x27;chrY_18348&#x27;\n",
       "    chrom5k_chrom              (chrom5k) &lt;U5 &#x27;chr1&#x27; &#x27;chr1&#x27; ... &#x27;chrY&#x27; &#x27;chrY&#x27;\n",
       "    chrom5k_end                (chrom5k) int64 5000 10000 ... 91740000 91744698\n",
       "    chrom5k_start              (chrom5k) int64 0 5000 ... 91735000 91740000\n",
       "Data variables:\n",
       "    chrom5k_da_CGN-hypo-score  (cell, chrom5k) float16 dask.array&lt;chunksize=(1000, 545118), meta=np.ndarray&gt;\n",
       "Attributes:\n",
       "    obs_dim:  cell\n",
       "    var_dim:  chrom5k</pre><div class='xr-wrap' style='display:none'><div class='xr-header'><div class='xr-obj-type'>xarray.MCDS</div></div><ul class='xr-sections'><li class='xr-section-item'><input id='section-d91e55a1-920b-4b38-9ab2-8738e8995255' class='xr-section-summary-in' type='checkbox' disabled ><label for='section-d91e55a1-920b-4b38-9ab2-8738e8995255' class='xr-section-summary'  title='Expand/collapse section'>Dimensions:</label><div class='xr-section-inline-details'><ul class='xr-dim-list'><li><span class='xr-has-index'>cell</span>: 94767</li><li><span class='xr-has-index'>chrom5k</span>: 545118</li></ul></div><div class='xr-section-details'></div></li><li class='xr-section-item'><input id='section-fd93266f-7e28-4b25-b894-accd8394b1de' class='xr-section-summary-in' type='checkbox'  checked><label for='section-fd93266f-7e28-4b25-b894-accd8394b1de' class='xr-section-summary' >Coordinates: <span>(5)</span></label><div class='xr-section-inline-details'></div><div class='xr-section-details'><ul class='xr-var-list'><li class='xr-var-item'><div class='xr-var-name'><span class='xr-has-index'>cell</span></div><div class='xr-var-dims'>(cell)</div><div class='xr-var-dtype'>&lt;U15</div><div class='xr-var-preview xr-preview'>&#x27;10A_M_1181&#x27; ... &#x27;9F_M_2348&#x27;</div><input id='attrs-960cf594-4d97-4565-9d48-49f3693f81a1' class='xr-var-attrs-in' type='checkbox' disabled><label for='attrs-960cf594-4d97-4565-9d48-49f3693f81a1' title='Show/Hide attributes'><svg class='icon xr-icon-file-text2'><use xlink:href='#icon-file-text2'></use></svg></label><input id='data-ad01d7fb-da49-4f25-b97b-0958982cfe8b' class='xr-var-data-in' type='checkbox'><label for='data-ad01d7fb-da49-4f25-b97b-0958982cfe8b' title='Show/Hide data repr'><svg class='icon xr-icon-database'><use xlink:href='#icon-database'></use></svg></label><div class='xr-var-attrs'><dl class='xr-attrs'></dl></div><div class='xr-var-data'><pre>array([&#x27;10A_M_1181&#x27;, &#x27;10A_M_1194&#x27;, &#x27;10A_M_1420&#x27;, ..., &#x27;5C_M_2581&#x27;, &#x27;5C_M_2857&#x27;,\n",
       "       &#x27;9F_M_2348&#x27;], dtype=&#x27;&lt;U15&#x27;)</pre></div></li><li class='xr-var-item'><div class='xr-var-name'><span class='xr-has-index'>chrom5k</span></div><div class='xr-var-dims'>(chrom5k)</div><div class='xr-var-dtype'>&lt;U11</div><div class='xr-var-preview xr-preview'>&#x27;chr1_0&#x27; &#x27;chr1_1&#x27; ... &#x27;chrY_18348&#x27;</div><input id='attrs-e7a72618-60dd-4645-ad79-2ebddf252f47' class='xr-var-attrs-in' type='checkbox' disabled><label for='attrs-e7a72618-60dd-4645-ad79-2ebddf252f47' title='Show/Hide attributes'><svg class='icon xr-icon-file-text2'><use xlink:href='#icon-file-text2'></use></svg></label><input id='data-8fa42ba5-7c7f-4eac-8946-874850613c4d' class='xr-var-data-in' type='checkbox'><label for='data-8fa42ba5-7c7f-4eac-8946-874850613c4d' title='Show/Hide data repr'><svg class='icon xr-icon-database'><use xlink:href='#icon-database'></use></svg></label><div class='xr-var-attrs'><dl class='xr-attrs'></dl></div><div class='xr-var-data'><pre>array([&#x27;chr1_0&#x27;, &#x27;chr1_1&#x27;, &#x27;chr1_2&#x27;, ..., &#x27;chrY_18346&#x27;, &#x27;chrY_18347&#x27;,\n",
       "       &#x27;chrY_18348&#x27;], dtype=&#x27;&lt;U11&#x27;)</pre></div></li><li class='xr-var-item'><div class='xr-var-name'><span>chrom5k_chrom</span></div><div class='xr-var-dims'>(chrom5k)</div><div class='xr-var-dtype'>&lt;U5</div><div class='xr-var-preview xr-preview'>&#x27;chr1&#x27; &#x27;chr1&#x27; ... &#x27;chrY&#x27; &#x27;chrY&#x27;</div><input id='attrs-fc0daa2a-97dc-49c4-9be8-c0cdea2f1a6e' class='xr-var-attrs-in' type='checkbox' disabled><label for='attrs-fc0daa2a-97dc-49c4-9be8-c0cdea2f1a6e' title='Show/Hide attributes'><svg class='icon xr-icon-file-text2'><use xlink:href='#icon-file-text2'></use></svg></label><input id='data-74bb96db-92f1-43b0-ac68-f31b22be169b' class='xr-var-data-in' type='checkbox'><label for='data-74bb96db-92f1-43b0-ac68-f31b22be169b' title='Show/Hide data repr'><svg class='icon xr-icon-database'><use xlink:href='#icon-database'></use></svg></label><div class='xr-var-attrs'><dl class='xr-attrs'></dl></div><div class='xr-var-data'><pre>array([&#x27;chr1&#x27;, &#x27;chr1&#x27;, &#x27;chr1&#x27;, ..., &#x27;chrY&#x27;, &#x27;chrY&#x27;, &#x27;chrY&#x27;], dtype=&#x27;&lt;U5&#x27;)</pre></div></li><li class='xr-var-item'><div class='xr-var-name'><span>chrom5k_end</span></div><div class='xr-var-dims'>(chrom5k)</div><div class='xr-var-dtype'>int64</div><div class='xr-var-preview xr-preview'>5000 10000 ... 91740000 91744698</div><input id='attrs-e457a433-dc80-418f-abb0-c7329f5dfe97' class='xr-var-attrs-in' type='checkbox' disabled><label for='attrs-e457a433-dc80-418f-abb0-c7329f5dfe97' title='Show/Hide attributes'><svg class='icon xr-icon-file-text2'><use xlink:href='#icon-file-text2'></use></svg></label><input id='data-151d8129-0837-4b52-9a48-6d4fd012c97f' class='xr-var-data-in' type='checkbox'><label for='data-151d8129-0837-4b52-9a48-6d4fd012c97f' title='Show/Hide data repr'><svg class='icon xr-icon-database'><use xlink:href='#icon-database'></use></svg></label><div class='xr-var-attrs'><dl class='xr-attrs'></dl></div><div class='xr-var-data'><pre>array([    5000,    10000,    15000, ..., 91735000, 91740000, 91744698])</pre></div></li><li class='xr-var-item'><div class='xr-var-name'><span>chrom5k_start</span></div><div class='xr-var-dims'>(chrom5k)</div><div class='xr-var-dtype'>int64</div><div class='xr-var-preview xr-preview'>0 5000 10000 ... 91735000 91740000</div><input id='attrs-50273f5c-1674-4911-8ba0-69c73683d190' class='xr-var-attrs-in' type='checkbox' disabled><label for='attrs-50273f5c-1674-4911-8ba0-69c73683d190' title='Show/Hide attributes'><svg class='icon xr-icon-file-text2'><use xlink:href='#icon-file-text2'></use></svg></label><input id='data-0dc31484-9b5a-41c1-8ee7-7340866b8ca5' class='xr-var-data-in' type='checkbox'><label for='data-0dc31484-9b5a-41c1-8ee7-7340866b8ca5' title='Show/Hide data repr'><svg class='icon xr-icon-database'><use xlink:href='#icon-database'></use></svg></label><div class='xr-var-attrs'><dl class='xr-attrs'></dl></div><div class='xr-var-data'><pre>array([       0,     5000,    10000, ..., 91730000, 91735000, 91740000])</pre></div></li></ul></div></li><li class='xr-section-item'><input id='section-e6ee0513-f722-48cc-8816-b1a79e90109c' class='xr-section-summary-in' type='checkbox'  checked><label for='section-e6ee0513-f722-48cc-8816-b1a79e90109c' class='xr-section-summary' >Data variables: <span>(1)</span></label><div class='xr-section-inline-details'></div><div class='xr-section-details'><ul class='xr-var-list'><li class='xr-var-item'><div class='xr-var-name'><span>chrom5k_da_CGN-hypo-score</span></div><div class='xr-var-dims'>(cell, chrom5k)</div><div class='xr-var-dtype'>float16</div><div class='xr-var-preview xr-preview'>dask.array&lt;chunksize=(1000, 545118), meta=np.ndarray&gt;</div><input id='attrs-4eed50bb-6b64-46d0-a655-2020725eabe1' class='xr-var-attrs-in' type='checkbox' disabled><label for='attrs-4eed50bb-6b64-46d0-a655-2020725eabe1' title='Show/Hide attributes'><svg class='icon xr-icon-file-text2'><use xlink:href='#icon-file-text2'></use></svg></label><input id='data-99e91823-e193-44d0-8080-9ce591f87924' class='xr-var-data-in' type='checkbox'><label for='data-99e91823-e193-44d0-8080-9ce591f87924' title='Show/Hide data repr'><svg class='icon xr-icon-database'><use xlink:href='#icon-database'></use></svg></label><div class='xr-var-attrs'><dl class='xr-attrs'></dl></div><div class='xr-var-data'><table>\n",
       "    <tr>\n",
       "        <td>\n",
       "            <table>\n",
       "                <thead>\n",
       "                    <tr>\n",
       "                        <td> </td>\n",
       "                        <th> Array </th>\n",
       "                        <th> Chunk </th>\n",
       "                    </tr>\n",
       "                </thead>\n",
       "                <tbody>\n",
       "                    \n",
       "                    <tr>\n",
       "                        <th> Bytes </th>\n",
       "                        <td> 96.22 GiB </td>\n",
       "                        <td> 1.02 GiB </td>\n",
       "                    </tr>\n",
       "                    \n",
       "                    <tr>\n",
       "                        <th> Shape </th>\n",
       "                        <td> (94767, 545118) </td>\n",
       "                        <td> (1000, 545118) </td>\n",
       "                    </tr>\n",
       "                    <tr>\n",
       "                        <th> Count </th>\n",
       "                        <td> 96 Tasks </td>\n",
       "                        <td> 95 Chunks </td>\n",
       "                    </tr>\n",
       "                    <tr>\n",
       "                    <th> Type </th>\n",
       "                    <td> float16 </td>\n",
       "                    <td> numpy.ndarray </td>\n",
       "                    </tr>\n",
       "                </tbody>\n",
       "            </table>\n",
       "        </td>\n",
       "        <td>\n",
       "        <svg width=\"170\" height=\"91\" style=\"stroke:rgb(0,0,0);stroke-width:1\" >\n",
       "\n",
       "  <!-- Horizontal lines -->\n",
       "  <line x1=\"0\" y1=\"0\" x2=\"120\" y2=\"0\" style=\"stroke-width:2\" />\n",
       "  <line x1=\"0\" y1=\"2\" x2=\"120\" y2=\"2\" />\n",
       "  <line x1=\"0\" y1=\"4\" x2=\"120\" y2=\"4\" />\n",
       "  <line x1=\"0\" y1=\"6\" x2=\"120\" y2=\"6\" />\n",
       "  <line x1=\"0\" y1=\"8\" x2=\"120\" y2=\"8\" />\n",
       "  <line x1=\"0\" y1=\"10\" x2=\"120\" y2=\"10\" />\n",
       "  <line x1=\"0\" y1=\"13\" x2=\"120\" y2=\"13\" />\n",
       "  <line x1=\"0\" y1=\"15\" x2=\"120\" y2=\"15\" />\n",
       "  <line x1=\"0\" y1=\"17\" x2=\"120\" y2=\"17\" />\n",
       "  <line x1=\"0\" y1=\"19\" x2=\"120\" y2=\"19\" />\n",
       "  <line x1=\"0\" y1=\"21\" x2=\"120\" y2=\"21\" />\n",
       "  <line x1=\"0\" y1=\"24\" x2=\"120\" y2=\"24\" />\n",
       "  <line x1=\"0\" y1=\"26\" x2=\"120\" y2=\"26\" />\n",
       "  <line x1=\"0\" y1=\"28\" x2=\"120\" y2=\"28\" />\n",
       "  <line x1=\"0\" y1=\"30\" x2=\"120\" y2=\"30\" />\n",
       "  <line x1=\"0\" y1=\"32\" x2=\"120\" y2=\"32\" />\n",
       "  <line x1=\"0\" y1=\"34\" x2=\"120\" y2=\"34\" />\n",
       "  <line x1=\"0\" y1=\"37\" x2=\"120\" y2=\"37\" />\n",
       "  <line x1=\"0\" y1=\"39\" x2=\"120\" y2=\"39\" />\n",
       "  <line x1=\"0\" y1=\"41\" x2=\"120\" y2=\"41\" style=\"stroke-width:2\" />\n",
       "\n",
       "  <!-- Vertical lines -->\n",
       "  <line x1=\"0\" y1=\"0\" x2=\"0\" y2=\"41\" style=\"stroke-width:2\" />\n",
       "  <line x1=\"120\" y1=\"0\" x2=\"120\" y2=\"41\" style=\"stroke-width:2\" />\n",
       "\n",
       "  <!-- Colored Rectangle -->\n",
       "  <polygon points=\"0.0,0.0 120.0,0.0 120.0,41.396563621419865 0.0,41.396563621419865\" style=\"fill:#8B4903A0;stroke-width:0\"/>\n",
       "\n",
       "  <!-- Text -->\n",
       "  <text x=\"60.000000\" y=\"61.396564\" font-size=\"1.0rem\" font-weight=\"100\" text-anchor=\"middle\" >545118</text>\n",
       "  <text x=\"140.000000\" y=\"20.698282\" font-size=\"1.0rem\" font-weight=\"100\" text-anchor=\"middle\" transform=\"rotate(-90,140.000000,20.698282)\">94767</text>\n",
       "</svg>\n",
       "        </td>\n",
       "    </tr>\n",
       "</table></div></li></ul></div></li><li class='xr-section-item'><input id='section-ac058acf-b967-4c8c-a07a-09457bd405fd' class='xr-section-summary-in' type='checkbox'  checked><label for='section-ac058acf-b967-4c8c-a07a-09457bd405fd' class='xr-section-summary' >Attributes: <span>(2)</span></label><div class='xr-section-inline-details'></div><div class='xr-section-details'><dl class='xr-attrs'><dt><span>obs_dim :</span></dt><dd>cell</dd><dt><span>var_dim :</span></dt><dd>chrom5k</dd></dl></div></li></ul></div></div>"
      ],
      "text/plain": [
       "<xarray.MCDS>\n",
       "Dimensions:                    (cell: 94767, chrom5k: 545118)\n",
       "Coordinates:\n",
       "  * cell                       (cell) <U15 '10A_M_1181' ... '9F_M_2348'\n",
       "  * chrom5k                    (chrom5k) <U11 'chr1_0' 'chr1_1' ... 'chrY_18348'\n",
       "    chrom5k_chrom              (chrom5k) <U5 'chr1' 'chr1' ... 'chrY' 'chrY'\n",
       "    chrom5k_end                (chrom5k) int64 5000 10000 ... 91740000 91744698\n",
       "    chrom5k_start              (chrom5k) int64 0 5000 ... 91735000 91740000\n",
       "Data variables:\n",
       "    chrom5k_da_CGN-hypo-score  (cell, chrom5k) float16 dask.array<chunksize=(1000, 545118), meta=np.ndarray>\n",
       "Attributes:\n",
       "    obs_dim:  cell\n",
       "    var_dim:  chrom5k"
      ]
     },
     "execution_count": 5,
     "metadata": {},
     "output_type": "execute_result"
    }
   ],
   "source": [
    "mcds = MCDS.open(cemba.CEMBA_SNMC_MCDS_PATH,\n",
    "                 var_dim=var_dim,\n",
    "                 use_obs=cells)\n",
    "\n",
    "mcds"
   ]
  },
  {
   "cell_type": "code",
   "execution_count": 6,
   "id": "be4f80f5",
   "metadata": {
    "ExecuteTime": {
     "end_time": "2022-06-15T05:37:33.403088Z",
     "start_time": "2022-06-15T05:35:02.191548Z"
    },
    "execution": {
     "iopub.execute_input": "2022-10-30T20:23:27.090018Z",
     "iopub.status.busy": "2022-10-30T20:23:27.089762Z",
     "iopub.status.idle": "2022-10-30T20:33:54.167036Z",
     "shell.execute_reply": "2022-10-30T20:33:54.165829Z"
    },
    "papermill": {
     "duration": 627.090903,
     "end_time": "2022-10-30T20:33:54.169562",
     "exception": false,
     "start_time": "2022-10-30T20:23:27.078659",
     "status": "completed"
    },
    "pycharm": {
     "name": "#%%\n"
    },
    "scrolled": true,
    "tags": []
   },
   "outputs": [
    {
     "name": "stdout",
     "output_type": "stream",
     "text": [
      "Loading chunk 0-30000/94767\n"
     ]
    },
    {
     "name": "stdout",
     "output_type": "stream",
     "text": [
      "Loading chunk 30000-60000/94767\n"
     ]
    },
    {
     "name": "stdout",
     "output_type": "stream",
     "text": [
      "Loading chunk 60000-90000/94767\n"
     ]
    },
    {
     "name": "stdout",
     "output_type": "stream",
     "text": [
      "Loading chunk 90000-94767/94767\n"
     ]
    }
   ],
   "source": [
    "adata = mcds.get_score_adata(mc_type='CGN',\n",
    "                             quant_type='hypo',\n",
    "                             sparse=True,\n",
    "                             binarize_cutoff=0.95,\n",
    "                             loading_chunk=30000)"
   ]
  },
  {
   "cell_type": "markdown",
   "id": "dc9549b3",
   "metadata": {
    "ExecuteTime": {
     "end_time": "2022-06-04T04:56:12.906887Z",
     "start_time": "2022-06-04T04:56:12.373611Z"
    },
    "papermill": {
     "duration": 2.851815,
     "end_time": "2022-10-30T20:33:59.225498",
     "exception": false,
     "start_time": "2022-10-30T20:33:56.373683",
     "status": "completed"
    },
    "pycharm": {
     "name": "#%% md\n"
    },
    "tags": []
   },
   "source": [
    "## Basic Feature Filtering"
   ]
  },
  {
   "cell_type": "code",
   "execution_count": 7,
   "id": "32e7c994",
   "metadata": {
    "execution": {
     "iopub.execute_input": "2022-10-30T20:34:03.811071Z",
     "iopub.status.busy": "2022-10-30T20:34:03.810088Z",
     "iopub.status.idle": "2022-10-30T20:34:14.698940Z",
     "shell.execute_reply": "2022-10-30T20:34:14.697905Z"
    },
    "papermill": {
     "duration": 13.436865,
     "end_time": "2022-10-30T20:34:14.700471",
     "exception": false,
     "start_time": "2022-10-30T20:34:01.263606",
     "status": "completed"
    },
    "pycharm": {
     "name": "#%%\n"
    },
    "tags": []
   },
   "outputs": [
    {
     "name": "stdout",
     "output_type": "stream",
     "text": [
      "492558 regions remained.\n"
     ]
    }
   ],
   "source": [
    "remove_chromosomes(adata, exclude_chromosomes=chrom_to_remove)"
   ]
  },
  {
   "cell_type": "code",
   "execution_count": 8,
   "id": "0c795dd1",
   "metadata": {
    "ExecuteTime": {
     "end_time": "2022-06-15T05:37:35.139233Z",
     "start_time": "2022-06-15T05:37:33.405012Z"
    },
    "execution": {
     "iopub.execute_input": "2022-10-30T20:34:18.796465Z",
     "iopub.status.busy": "2022-10-30T20:34:18.796142Z",
     "iopub.status.idle": "2022-10-30T20:35:12.114630Z",
     "shell.execute_reply": "2022-10-30T20:35:12.113399Z"
    },
    "papermill": {
     "duration": 55.578341,
     "end_time": "2022-10-30T20:35:12.428957",
     "exception": false,
     "start_time": "2022-10-30T20:34:16.850616",
     "status": "completed"
    },
    "pycharm": {
     "name": "#%%\n"
    },
    "tags": []
   },
   "outputs": [
    {
     "name": "stdout",
     "output_type": "stream",
     "text": [
      "457058 regions remained.\n"
     ]
    }
   ],
   "source": [
    "filter_regions(adata, n_cell=n_cell, zscore_abs_cutoff=2)"
   ]
  },
  {
   "cell_type": "code",
   "execution_count": 9,
   "id": "28d4d626",
   "metadata": {
    "ExecuteTime": {
     "end_time": "2022-06-15T05:37:36.472676Z",
     "start_time": "2022-06-15T05:37:35.140816Z"
    },
    "execution": {
     "iopub.execute_input": "2022-10-30T20:35:12.463985Z",
     "iopub.status.busy": "2022-10-30T20:35:12.462563Z",
     "iopub.status.idle": "2022-10-30T20:35:25.312170Z",
     "shell.execute_reply": "2022-10-30T20:35:25.311063Z"
    },
    "papermill": {
     "duration": 12.870664,
     "end_time": "2022-10-30T20:35:25.315029",
     "exception": false,
     "start_time": "2022-10-30T20:35:12.444365",
     "status": "completed"
    },
    "pycharm": {
     "name": "#%%\n"
    },
    "tags": []
   },
   "outputs": [
    {
     "name": "stdout",
     "output_type": "stream",
     "text": [
      "16245 features removed due to overlapping (bedtools intersect -f 0.2) with black list regions.\n"
     ]
    }
   ],
   "source": [
    "remove_black_list_region(adata, black_list_path=mm10.ENCODE_BLACKLIST_PATH)"
   ]
  },
  {
   "cell_type": "code",
   "execution_count": 10,
   "id": "fbc6abbd-2ccd-4da3-aaca-eb460feb89b6",
   "metadata": {
    "execution": {
     "iopub.execute_input": "2022-10-30T20:35:26.224799Z",
     "iopub.status.busy": "2022-10-30T20:35:26.223840Z",
     "iopub.status.idle": "2022-10-30T20:35:28.340096Z",
     "shell.execute_reply": "2022-10-30T20:35:28.338935Z"
    },
    "papermill": {
     "duration": 2.279315,
     "end_time": "2022-10-30T20:35:28.342907",
     "exception": false,
     "start_time": "2022-10-30T20:35:26.063592",
     "status": "completed"
    },
    "tags": []
   },
   "outputs": [],
   "source": [
    "if adata.shape[1] > 50000:\n",
    "    feature_sum = adata.X.sum(axis=0).A1\n",
    "    use_features = feature_sum > np.quantile(feature_sum, remove_lower_features)\n",
    "    adata = adata[:, use_features]"
   ]
  },
  {
   "cell_type": "code",
   "execution_count": 11,
   "id": "06359356",
   "metadata": {
    "ExecuteTime": {
     "end_time": "2022-06-15T05:37:36.772930Z",
     "start_time": "2022-06-15T05:37:36.474543Z"
    },
    "execution": {
     "iopub.execute_input": "2022-10-30T20:35:29.578249Z",
     "iopub.status.busy": "2022-10-30T20:35:29.577494Z",
     "iopub.status.idle": "2022-10-30T20:38:15.310371Z",
     "shell.execute_reply": "2022-10-30T20:38:15.309561Z"
    },
    "papermill": {
     "duration": 166.310286,
     "end_time": "2022-10-30T20:38:15.312661",
     "exception": false,
     "start_time": "2022-10-30T20:35:29.002375",
     "status": "completed"
    },
    "pycharm": {
     "name": "#%%\n"
    },
    "tags": []
   },
   "outputs": [],
   "source": [
    "adata.write_h5ad('mc_input.h5ad')"
   ]
  },
  {
   "cell_type": "code",
   "execution_count": 12,
   "id": "d2b23661",
   "metadata": {
    "ExecuteTime": {
     "end_time": "2022-06-15T05:37:37.077715Z",
     "start_time": "2022-06-15T05:37:37.074536Z"
    },
    "execution": {
     "iopub.execute_input": "2022-10-30T20:38:21.375723Z",
     "iopub.status.busy": "2022-10-30T20:38:21.374871Z",
     "iopub.status.idle": "2022-10-30T20:38:21.380834Z",
     "shell.execute_reply": "2022-10-30T20:38:21.380143Z"
    },
    "papermill": {
     "duration": 2.993089,
     "end_time": "2022-10-30T20:38:21.382388",
     "exception": false,
     "start_time": "2022-10-30T20:38:18.389299",
     "status": "completed"
    },
    "pycharm": {
     "name": "#%%\n"
    },
    "tags": []
   },
   "outputs": [
    {
     "data": {
      "text/plain": [
       "View of AnnData object with n_obs × n_vars = 94767 × 352451\n",
       "    var: 'chrom', 'end', 'start'"
      ]
     },
     "execution_count": 12,
     "metadata": {},
     "output_type": "execute_result"
    }
   ],
   "source": [
    "adata"
   ]
  },
  {
   "cell_type": "code",
   "execution_count": null,
   "id": "a201e570",
   "metadata": {
    "papermill": {
     "duration": 2.700012,
     "end_time": "2022-10-30T20:38:27.911150",
     "exception": false,
     "start_time": "2022-10-30T20:38:25.211138",
     "status": "completed"
    },
    "pycharm": {
     "name": "#%%\n"
    },
    "tags": []
   },
   "outputs": [],
   "source": []
  },
  {
   "cell_type": "code",
   "execution_count": null,
   "id": "545ba3d9",
   "metadata": {
    "papermill": {
     "duration": 0.894743,
     "end_time": "2022-10-30T20:38:29.780338",
     "exception": false,
     "start_time": "2022-10-30T20:38:28.885595",
     "status": "completed"
    },
    "pycharm": {
     "name": "#%%\n"
    },
    "tags": []
   },
   "outputs": [],
   "source": []
  },
  {
   "cell_type": "code",
   "execution_count": null,
   "id": "9acbf6eb",
   "metadata": {
    "papermill": {
     "duration": 0.944088,
     "end_time": "2022-10-30T20:38:31.564525",
     "exception": false,
     "start_time": "2022-10-30T20:38:30.620437",
     "status": "completed"
    },
    "pycharm": {
     "name": "#%%\n"
    },
    "tags": []
   },
   "outputs": [],
   "source": []
  }
 ],
 "metadata": {
  "celltoolbar": "Tags",
  "hide_input": false,
  "kernelspec": {
   "display_name": "Python 3 (ipykernel)",
   "language": "python",
   "name": "python3"
  },
  "language_info": {
   "codemirror_mode": {
    "name": "ipython",
    "version": 3
   },
   "file_extension": ".py",
   "mimetype": "text/x-python",
   "name": "python",
   "nbconvert_exporter": "python",
   "pygments_lexer": "ipython3",
   "version": "3.7.12"
  },
  "papermill": {
   "default_parameters": {},
   "duration": 910.925614,
   "end_time": "2022-10-30T20:38:33.072863",
   "environment_variables": {},
   "exception": null,
   "input_path": "/mnt/filestore/221030-cemba-mc-cemba-atac-integration/template/01a.prepare_mc.ipynb",
   "output_path": "/mnt/filestore/221030-cemba-mc-cemba-atac-integration/Round1/Isocortex/01a.prepare_mc.ipynb",
   "parameters": {
    "chrom_to_remove": [
     "chrX",
     "chrY",
     "chrM",
     "chrL"
    ],
    "cpu": 1,
    "group_name": "Isocortex",
    "mem_gb": 1,
    "n_cell": 5,
    "remove_lower_features": 0.2,
    "var_dim": "chrom5k",
    "zscore_abs_cutoff": 3
   },
   "start_time": "2022-10-30T20:23:22.147249",
   "version": "2.4.0"
  },
  "toc": {
   "base_numbering": 1,
   "nav_menu": {},
   "number_sections": true,
   "sideBar": true,
   "skip_h1_title": true,
   "title_cell": "Table of Contents",
   "title_sidebar": "Contents",
   "toc_cell": false,
   "toc_position": {},
   "toc_section_display": true,
   "toc_window_display": true
  }
 },
 "nbformat": 4,
 "nbformat_minor": 5
}