{
 "cells": [
  {
   "cell_type": "code",
   "execution_count": 1,
   "id": "1b082f0a",
   "metadata": {
    "ExecuteTime": {
     "end_time": "2022-06-20T21:09:33.933603Z",
     "start_time": "2022-06-20T21:09:33.930926Z"
    },
    "execution": {
     "iopub.execute_input": "2022-10-30T22:03:57.870788Z",
     "iopub.status.busy": "2022-10-30T22:03:57.870461Z",
     "iopub.status.idle": "2022-10-30T22:04:03.671114Z",
     "shell.execute_reply": "2022-10-30T22:04:03.670143Z"
    },
    "papermill": {
     "duration": 6.021277,
     "end_time": "2022-10-30T22:04:03.673298",
     "exception": false,
     "start_time": "2022-10-30T22:03:57.652021",
     "status": "completed"
    },
    "pycharm": {
     "name": "#%%\n"
    },
    "tags": []
   },
   "outputs": [],
   "source": [
    "from ALLCools.clustering import *\n",
    "from wmb import brain, cemba, cemba_atac\n",
    "import numpy as np\n",
    "import pandas as pd\n",
    "import anndata\n",
    "\n",
    "import matplotlib.pyplot as plt\n",
    "from ALLCools.plot import *\n",
    "\n",
    "from ALLCools.integration.seurat_class import SeuratIntegration"
   ]
  },
  {
   "cell_type": "code",
   "execution_count": 2,
   "id": "36c4bd1a-e2b9-4044-851c-37ad05ca0b36",
   "metadata": {
    "execution": {
     "iopub.execute_input": "2022-10-30T22:04:03.757540Z",
     "iopub.status.busy": "2022-10-30T22:04:03.757207Z",
     "iopub.status.idle": "2022-10-30T22:04:14.953463Z",
     "shell.execute_reply": "2022-10-30T22:04:14.952448Z"
    },
    "papermill": {
     "duration": 11.235026,
     "end_time": "2022-10-30T22:04:14.955566",
     "exception": false,
     "start_time": "2022-10-30T22:04:03.720540",
     "status": "completed"
    },
    "tags": []
   },
   "outputs": [],
   "source": [
    "atac = cemba_atac.get_atac_annot()"
   ]
  },
  {
   "cell_type": "code",
   "execution_count": 3,
   "id": "20a00f6f",
   "metadata": {
    "execution": {
     "iopub.execute_input": "2022-10-30T22:04:14.979129Z",
     "iopub.status.busy": "2022-10-30T22:04:14.978846Z",
     "iopub.status.idle": "2022-10-30T22:04:14.982945Z",
     "shell.execute_reply": "2022-10-30T22:04:14.982355Z"
    },
    "papermill": {
     "duration": 0.0176,
     "end_time": "2022-10-30T22:04:14.984464",
     "exception": false,
     "start_time": "2022-10-30T22:04:14.966864",
     "status": "completed"
    },
    "tags": [
     "parameters"
    ]
   },
   "outputs": [],
   "source": [
    "categorical_key = ['L4Region', 'DissectionRegion']"
   ]
  },
  {
   "cell_type": "code",
   "execution_count": 4,
   "id": "583d4c39",
   "metadata": {
    "execution": {
     "iopub.execute_input": "2022-10-30T22:04:15.009039Z",
     "iopub.status.busy": "2022-10-30T22:04:15.008805Z",
     "iopub.status.idle": "2022-10-30T22:04:15.012477Z",
     "shell.execute_reply": "2022-10-30T22:04:15.011867Z"
    },
    "papermill": {
     "duration": 0.016776,
     "end_time": "2022-10-30T22:04:15.013941",
     "exception": false,
     "start_time": "2022-10-30T22:04:14.997165",
     "status": "completed"
    },
    "tags": [
     "injected-parameters"
    ]
   },
   "outputs": [],
   "source": [
    "# Parameters\n",
    "categorical_key = [\"L4Region\", \"DissectionRegion\"]\n",
    "cpu = 1\n",
    "group_name = \"Isocortex\"\n",
    "mem_gb = 1\n"
   ]
  },
  {
   "cell_type": "markdown",
   "id": "cb21fd77",
   "metadata": {
    "papermill": {
     "duration": 0.010266,
     "end_time": "2022-10-30T22:04:15.104723",
     "exception": false,
     "start_time": "2022-10-30T22:04:15.094457",
     "status": "completed"
    },
    "pycharm": {
     "name": "#%% md\n"
    },
    "tags": []
   },
   "source": [
    "## Input LSI before integration"
   ]
  },
  {
   "cell_type": "code",
   "execution_count": 5,
   "id": "1a23191e",
   "metadata": {
    "ExecuteTime": {
     "end_time": "2022-06-20T21:07:34.675855Z",
     "start_time": "2022-06-20T21:07:34.454194Z"
    },
    "execution": {
     "iopub.execute_input": "2022-10-30T22:04:15.126759Z",
     "iopub.status.busy": "2022-10-30T22:04:15.125881Z",
     "iopub.status.idle": "2022-10-30T22:07:14.874527Z",
     "shell.execute_reply": "2022-10-30T22:07:14.873380Z"
    },
    "papermill": {
     "duration": 179.762285,
     "end_time": "2022-10-30T22:07:14.876953",
     "exception": false,
     "start_time": "2022-10-30T22:04:15.114668",
     "status": "completed"
    },
    "pycharm": {
     "name": "#%%\n"
    },
    "tags": []
   },
   "outputs": [],
   "source": [
    "# each adata contains the input cell-by-5kb-bin matrix in adata.X \n",
    "# and LSI components in adata.obsm['X_lsi']\n",
    "mc_adata = anndata.read_h5ad('mc_lsi.h5ad')\n",
    "atac_adata = anndata.read_h5ad('atac_lsi.h5ad')"
   ]
  },
  {
   "cell_type": "code",
   "execution_count": 6,
   "id": "e4824c10",
   "metadata": {
    "ExecuteTime": {
     "end_time": "2022-06-20T21:07:34.677009Z",
     "start_time": "2022-06-20T21:07:34.676998Z"
    },
    "execution": {
     "iopub.execute_input": "2022-10-30T22:07:15.925713Z",
     "iopub.status.busy": "2022-10-30T22:07:15.924469Z",
     "iopub.status.idle": "2022-10-30T22:07:15.928921Z",
     "shell.execute_reply": "2022-10-30T22:07:15.928342Z"
    },
    "papermill": {
     "duration": 0.60002,
     "end_time": "2022-10-30T22:07:15.930270",
     "exception": false,
     "start_time": "2022-10-30T22:07:15.330250",
     "status": "completed"
    },
    "pycharm": {
     "name": "#%%\n"
    },
    "tags": []
   },
   "outputs": [],
   "source": [
    "adata_list = [mc_adata, atac_adata]"
   ]
  },
  {
   "cell_type": "markdown",
   "id": "f5323f5a",
   "metadata": {
    "papermill": {
     "duration": 0.23688,
     "end_time": "2022-10-30T22:07:16.644006",
     "exception": false,
     "start_time": "2022-10-30T22:07:16.407126",
     "status": "completed"
    },
    "pycharm": {
     "name": "#%% md\n"
    },
    "tags": []
   },
   "source": [
    "### Init empty adata_merge"
   ]
  },
  {
   "cell_type": "code",
   "execution_count": 7,
   "id": "2932b576",
   "metadata": {
    "execution": {
     "iopub.execute_input": "2022-10-30T22:07:17.770572Z",
     "iopub.status.busy": "2022-10-30T22:07:17.769651Z",
     "iopub.status.idle": "2022-10-30T22:07:17.855893Z",
     "shell.execute_reply": "2022-10-30T22:07:17.855065Z"
    },
    "papermill": {
     "duration": 0.631772,
     "end_time": "2022-10-30T22:07:17.858010",
     "exception": false,
     "start_time": "2022-10-30T22:07:17.226238",
     "status": "completed"
    },
    "pycharm": {
     "name": "#%%\n"
    },
    "tags": []
   },
   "outputs": [],
   "source": [
    "# create an empty adata_merge for collecting results and make plots\n",
    "\n",
    "from scipy.sparse import csr_matrix\n",
    "\n",
    "cells = sum([a.shape[0] for a in adata_list])\n",
    "features = adata_list[0].shape[1]\n",
    "\n",
    "adata_merge = anndata.AnnData(\n",
    "    X=csr_matrix((cells, features), dtype=np.float32),\n",
    "    obs=pd.concat([a.obs for a in adata_list]),\n",
    "    var=adata_list[0].var,\n",
    ")"
   ]
  },
  {
   "cell_type": "code",
   "execution_count": 8,
   "id": "3f3d713e",
   "metadata": {
    "ExecuteTime": {
     "end_time": "2022-06-15T07:46:37.442171Z",
     "start_time": "2022-06-15T07:46:28.906881Z"
    },
    "execution": {
     "iopub.execute_input": "2022-10-30T22:07:19.021442Z",
     "iopub.status.busy": "2022-10-30T22:07:19.020922Z",
     "iopub.status.idle": "2022-10-30T22:07:32.904150Z",
     "shell.execute_reply": "2022-10-30T22:07:32.903003Z"
    },
    "papermill": {
     "duration": 14.448612,
     "end_time": "2022-10-30T22:07:32.906963",
     "exception": false,
     "start_time": "2022-10-30T22:07:18.458351",
     "status": "completed"
    },
    "pycharm": {
     "name": "#%%\n"
    },
    "tags": []
   },
   "outputs": [
    {
     "name": "stdout",
     "output_type": "stream",
     "text": [
      "L4_annot does not exist in data_vars or coords, palette not added.\n"
     ]
    }
   ],
   "source": [
    "mc_annot = cemba.get_mc_annot()\n",
    "atac_annot = cemba_atac.get_atac_annot()"
   ]
  },
  {
   "cell_type": "code",
   "execution_count": 9,
   "id": "befc8a0e",
   "metadata": {
    "ExecuteTime": {
     "end_time": "2022-06-15T07:46:37.451965Z",
     "start_time": "2022-06-15T07:46:37.444788Z"
    },
    "execution": {
     "iopub.execute_input": "2022-10-30T22:07:33.942085Z",
     "iopub.status.busy": "2022-10-30T22:07:33.941729Z",
     "iopub.status.idle": "2022-10-30T22:07:37.183796Z",
     "shell.execute_reply": "2022-10-30T22:07:37.182707Z"
    },
    "papermill": {
     "duration": 3.734177,
     "end_time": "2022-10-30T22:07:37.186118",
     "exception": false,
     "start_time": "2022-10-30T22:07:33.451941",
     "status": "completed"
    },
    "pycharm": {
     "name": "#%%\n"
    },
    "tags": []
   },
   "outputs": [],
   "source": [
    "for key in categorical_key:\n",
    "    adata_merge.obs[key] = pd.concat(\n",
    "        [mc_annot[key].to_pandas(), \n",
    "         atac_annot[key].to_pandas()]\n",
    "    ).astype(str)"
   ]
  },
  {
   "cell_type": "code",
   "execution_count": 10,
   "id": "4eee1c34",
   "metadata": {
    "ExecuteTime": {
     "end_time": "2022-06-15T07:46:37.476284Z",
     "start_time": "2022-06-15T07:46:37.453079Z"
    },
    "execution": {
     "iopub.execute_input": "2022-10-30T22:07:37.214207Z",
     "iopub.status.busy": "2022-10-30T22:07:37.213929Z",
     "iopub.status.idle": "2022-10-30T22:07:37.688932Z",
     "shell.execute_reply": "2022-10-30T22:07:37.678119Z"
    },
    "papermill": {
     "duration": 0.491768,
     "end_time": "2022-10-30T22:07:37.691967",
     "exception": false,
     "start_time": "2022-10-30T22:07:37.200199",
     "status": "completed"
    },
    "pycharm": {
     "name": "#%%\n"
    },
    "tags": []
   },
   "outputs": [],
   "source": [
    "for adata in adata_list:\n",
    "    for key in categorical_key:\n",
    "        adata.obs[key] = adata_merge.obs[key].astype(str)"
   ]
  },
  {
   "cell_type": "code",
   "execution_count": 11,
   "id": "1f43b239",
   "metadata": {
    "execution": {
     "iopub.execute_input": "2022-10-30T22:07:37.716999Z",
     "iopub.status.busy": "2022-10-30T22:07:37.716097Z",
     "iopub.status.idle": "2022-10-30T22:07:37.728841Z",
     "shell.execute_reply": "2022-10-30T22:07:37.728021Z"
    },
    "papermill": {
     "duration": 0.026547,
     "end_time": "2022-10-30T22:07:37.730331",
     "exception": false,
     "start_time": "2022-10-30T22:07:37.703784",
     "status": "completed"
    },
    "tags": []
   },
   "outputs": [
    {
     "data": {
      "text/plain": [
       "[AnnData object with n_obs × n_vars = 94767 × 299329\n",
       "     obs: 'read_count', 'Modality', 'L4Region', 'DissectionRegion'\n",
       "     var: 'chrom', 'end', 'start'\n",
       "     obsm: 'X_lsi',\n",
       " AnnData object with n_obs × n_vars = 500000 × 299329\n",
       "     obs: 'read_count', 'Modality', 'L4Region', 'DissectionRegion'\n",
       "     var: 'chrom', 'end', 'start'\n",
       "     obsm: 'X_lsi']"
      ]
     },
     "execution_count": 11,
     "metadata": {},
     "output_type": "execute_result"
    }
   ],
   "source": [
    "adata_list"
   ]
  },
  {
   "cell_type": "code",
   "execution_count": 12,
   "id": "94f43554-0b98-4130-b399-4089a67e4f58",
   "metadata": {
    "execution": {
     "iopub.execute_input": "2022-10-30T22:07:37.767765Z",
     "iopub.status.busy": "2022-10-30T22:07:37.767327Z",
     "iopub.status.idle": "2022-10-30T22:07:37.778225Z",
     "shell.execute_reply": "2022-10-30T22:07:37.777270Z"
    },
    "papermill": {
     "duration": 0.028061,
     "end_time": "2022-10-30T22:07:37.779695",
     "exception": false,
     "start_time": "2022-10-30T22:07:37.751634",
     "status": "completed"
    },
    "tags": []
   },
   "outputs": [
    {
     "data": {
      "text/plain": [
       "AnnData object with n_obs × n_vars = 594767 × 299329\n",
       "    obs: 'read_count', 'Modality', 'L4Region', 'DissectionRegion'\n",
       "    var: 'chrom', 'end', 'start'"
      ]
     },
     "execution_count": 12,
     "metadata": {},
     "output_type": "execute_result"
    }
   ],
   "source": [
    "adata_merge"
   ]
  },
  {
   "cell_type": "code",
   "execution_count": 13,
   "id": "cdedf125-d3f3-48cb-8cda-9e7b7f16772f",
   "metadata": {
    "execution": {
     "iopub.execute_input": "2022-10-30T22:07:37.807621Z",
     "iopub.status.busy": "2022-10-30T22:07:37.806836Z",
     "iopub.status.idle": "2022-10-30T22:07:37.812758Z",
     "shell.execute_reply": "2022-10-30T22:07:37.812104Z"
    },
    "papermill": {
     "duration": 0.019072,
     "end_time": "2022-10-30T22:07:37.814003",
     "exception": false,
     "start_time": "2022-10-30T22:07:37.794931",
     "status": "completed"
    },
    "tags": []
   },
   "outputs": [
    {
     "data": {
      "text/plain": [
       "39"
      ]
     },
     "execution_count": 13,
     "metadata": {},
     "output_type": "execute_result"
    }
   ],
   "source": [
    "n_pc = adata_list[0].obsm[\"X_lsi\"].shape[1]\n",
    "if n_pc < 10:\n",
    "    n_cca_components = n_pc\n",
    "else:\n",
    "    n_cca_components = max(n_pc - 10, 10)\n",
    "n_cca_components = min(n_cca_components, 50)\n",
    "\n",
    "n_cca_components"
   ]
  },
  {
   "cell_type": "code",
   "execution_count": 14,
   "id": "40a11636-54bf-48ba-b5d4-2c19bfc12710",
   "metadata": {
    "execution": {
     "iopub.execute_input": "2022-10-30T22:07:37.848099Z",
     "iopub.status.busy": "2022-10-30T22:07:37.847618Z",
     "iopub.status.idle": "2022-10-30T22:07:37.885047Z",
     "shell.execute_reply": "2022-10-30T22:07:37.884261Z"
    },
    "papermill": {
     "duration": 0.062486,
     "end_time": "2022-10-30T22:07:37.886487",
     "exception": false,
     "start_time": "2022-10-30T22:07:37.824001",
     "status": "completed"
    },
    "tags": []
   },
   "outputs": [],
   "source": [
    "min_sample = adata_merge.obs[\"Modality\"].value_counts().min()"
   ]
  },
  {
   "cell_type": "markdown",
   "id": "fe3a3a9d",
   "metadata": {
    "papermill": {
     "duration": 0.022478,
     "end_time": "2022-10-30T22:07:37.919021",
     "exception": false,
     "start_time": "2022-10-30T22:07:37.896543",
     "status": "completed"
    },
    "pycharm": {
     "name": "#%% md\n"
    },
    "tags": []
   },
   "source": [
    "## Integration and transform LSI"
   ]
  },
  {
   "cell_type": "code",
   "execution_count": 15,
   "id": "ebdcaeac",
   "metadata": {
    "ExecuteTime": {
     "end_time": "2022-06-15T07:46:37.479698Z",
     "start_time": "2022-06-15T07:46:37.477607Z"
    },
    "execution": {
     "iopub.execute_input": "2022-10-30T22:07:37.951442Z",
     "iopub.status.busy": "2022-10-30T22:07:37.950407Z",
     "iopub.status.idle": "2022-10-30T22:07:37.954562Z",
     "shell.execute_reply": "2022-10-30T22:07:37.953985Z"
    },
    "papermill": {
     "duration": 0.019657,
     "end_time": "2022-10-30T22:07:37.957501",
     "exception": false,
     "start_time": "2022-10-30T22:07:37.937844",
     "status": "completed"
    },
    "pycharm": {
     "name": "#%%\n"
    },
    "tags": []
   },
   "outputs": [],
   "source": [
    "integrator = SeuratIntegration()"
   ]
  },
  {
   "cell_type": "code",
   "execution_count": 16,
   "id": "8a45a35b",
   "metadata": {
    "ExecuteTime": {
     "end_time": "2022-06-15T07:50:20.891707Z",
     "start_time": "2022-06-15T07:46:38.803254Z"
    },
    "execution": {
     "iopub.execute_input": "2022-10-30T22:07:37.982317Z",
     "iopub.status.busy": "2022-10-30T22:07:37.981870Z",
     "iopub.status.idle": "2022-10-30T22:31:17.245073Z",
     "shell.execute_reply": "2022-10-30T22:31:17.244187Z"
    },
    "papermill": {
     "duration": 1419.278527,
     "end_time": "2022-10-30T22:31:17.246556",
     "exception": false,
     "start_time": "2022-10-30T22:07:37.968029",
     "status": "completed"
    },
    "pycharm": {
     "name": "#%%\n"
    },
    "scrolled": true,
    "tags": []
   },
   "outputs": [
    {
     "name": "stdout",
     "output_type": "stream",
     "text": [
      "Find anchors across datasets.\n"
     ]
    },
    {
     "name": "stdout",
     "output_type": "stream",
     "text": [
      "Run LSI-CCA\n"
     ]
    },
    {
     "name": "stdout",
     "output_type": "stream",
     "text": [
      "Find Anchors using k=30\n"
     ]
    },
    {
     "name": "stdout",
     "output_type": "stream",
     "text": [
      "Score Anchors\n"
     ]
    },
    {
     "name": "stdout",
     "output_type": "stream",
     "text": [
      "Identified 248668 anchors between datasets 0 and 1.\n"
     ]
    }
   ],
   "source": [
    "anchor = integrator.find_anchor(\n",
    "    adata_list,\n",
    "    k_local=None,\n",
    "    key_local='X_lsi',\n",
    "    k_anchor=5,\n",
    "    key_anchor='X',\n",
    "    dim_red='lsi',\n",
    "    max_cc_cells=20000,\n",
    "    k_score=30,\n",
    "    k_filter=None,\n",
    "    n_components=n_cca_components,\n",
    "    n_features=200,\n",
    "    alignments=[[[0], [1]]])"
   ]
  },
  {
   "cell_type": "code",
   "execution_count": 17,
   "id": "427baa7e-e697-4ac6-8f14-ec6e92c3aa78",
   "metadata": {
    "execution": {
     "iopub.execute_input": "2022-10-30T22:31:17.272732Z",
     "iopub.status.busy": "2022-10-30T22:31:17.272428Z",
     "iopub.status.idle": "2022-10-30T22:31:17.297181Z",
     "shell.execute_reply": "2022-10-30T22:31:17.296514Z"
    },
    "papermill": {
     "duration": 0.036868,
     "end_time": "2022-10-30T22:31:17.298287",
     "exception": false,
     "start_time": "2022-10-30T22:31:17.261419",
     "status": "completed"
    },
    "tags": []
   },
   "outputs": [],
   "source": [
    "min_sample = adata_merge.obs[\"Modality\"].value_counts().min()\n",
    "if min_sample < 500:\n",
    "    k_weight = 50\n",
    "elif min_sample < 300:\n",
    "    k_weight = 30\n",
    "else:\n",
    "    k_weight = 100"
   ]
  },
  {
   "cell_type": "code",
   "execution_count": 18,
   "id": "9f56e4e0",
   "metadata": {
    "ExecuteTime": {
     "end_time": "2022-06-15T07:50:24.772668Z",
     "start_time": "2022-06-15T07:50:20.893788Z"
    },
    "execution": {
     "iopub.execute_input": "2022-10-30T22:31:17.945773Z",
     "iopub.status.busy": "2022-10-30T22:31:17.945383Z",
     "iopub.status.idle": "2022-10-30T22:34:45.310399Z",
     "shell.execute_reply": "2022-10-30T22:34:45.309355Z"
    },
    "papermill": {
     "duration": 207.790808,
     "end_time": "2022-10-30T22:34:45.312539",
     "exception": false,
     "start_time": "2022-10-30T22:31:17.521731",
     "status": "completed"
    },
    "pycharm": {
     "name": "#%%\n"
    },
    "tags": []
   },
   "outputs": [
    {
     "name": "stdout",
     "output_type": "stream",
     "text": [
      "Merge datasets\n",
      "[[0], [1]]\n",
      "Initialize\n",
      "Find nearest anchors. "
     ]
    },
    {
     "name": "stderr",
     "output_type": "stream",
     "text": [
      "/opt/conda/lib/python3.7/site-packages/ALLCools/integration/seurat_class.py:735: VisibleDeprecationWarning: Creating an ndarray from ragged nested sequences (which is a list-or-tuple of lists-or-tuples-or ndarrays with different lengths or shapes) is deprecated. If you meant to do this, you must specify 'dtype=object' when creating the ndarray\n",
      "  data=np.array(corrected),\n"
     ]
    },
    {
     "name": "stdout",
     "output_type": "stream",
     "text": [
      "k_weight:  100\n"
     ]
    },
    {
     "name": "stdout",
     "output_type": "stream",
     "text": [
      "Normalize graph\n"
     ]
    },
    {
     "name": "stdout",
     "output_type": "stream",
     "text": [
      "Transform data\n"
     ]
    }
   ],
   "source": [
    "try:\n",
    "    corrected = integrator.integrate(\n",
    "        key_correct=\"X_lsi\",\n",
    "        row_normalize=True,\n",
    "        k_weight=k_weight,\n",
    "        sd=1,\n",
    "        alignments=[[[0], [1]]],\n",
    "    )\n",
    "except BaseException:\n",
    "    for k_weight in range(50, 0, -5):\n",
    "        if k_weight < 2:\n",
    "            raise\n",
    "        print(k_weight)\n",
    "        try:\n",
    "            corrected = integrator.integrate(\n",
    "            key_correct=\"X_lsi\",\n",
    "            row_normalize=True,\n",
    "            k_weight=k_weight,\n",
    "            sd=1,\n",
    "            alignments=[[[0], [1]]],\n",
    "            )\n",
    "        except BaseException:\n",
    "            pass\n",
    "\n",
    "adata_merge.obsm['X_lsi_integrate'] = np.concatenate(corrected)"
   ]
  },
  {
   "cell_type": "markdown",
   "id": "1b0ab55c",
   "metadata": {
    "papermill": {
     "duration": 0.012696,
     "end_time": "2022-10-30T22:34:45.337436",
     "exception": false,
     "start_time": "2022-10-30T22:34:45.324740",
     "status": "completed"
    },
    "pycharm": {
     "name": "#%% md\n"
    },
    "tags": []
   },
   "source": [
    "## Label transfer"
   ]
  },
  {
   "cell_type": "code",
   "execution_count": 19,
   "id": "7eb06547",
   "metadata": {
    "ExecuteTime": {
     "end_time": "2022-06-15T07:50:28.796820Z",
     "start_time": "2022-06-15T07:50:24.774526Z"
    },
    "execution": {
     "iopub.execute_input": "2022-10-30T22:34:45.359400Z",
     "iopub.status.busy": "2022-10-30T22:34:45.359112Z",
     "iopub.status.idle": "2022-10-30T22:34:45.362929Z",
     "shell.execute_reply": "2022-10-30T22:34:45.362299Z"
    },
    "papermill": {
     "duration": 0.016906,
     "end_time": "2022-10-30T22:34:45.364171",
     "exception": false,
     "start_time": "2022-10-30T22:34:45.347265",
     "status": "completed"
    },
    "pycharm": {
     "name": "#%%\n"
    },
    "tags": []
   },
   "outputs": [],
   "source": [
    "# transfer_results = integrator.label_transfer(\n",
    "#     ref=[0],\n",
    "#     qry=[1],\n",
    "#     categorical_key=categorical_key,\n",
    "#     key_dist='X_lsi'\n",
    "# )\n",
    "# for k, v in transfer_results.items():\n",
    "#     v.to_hdf(f'{k}_transfer.hdf', key='data')\n",
    "# integrator.save_transfer_results_to_adata(adata_merge, transfer_results)"
   ]
  },
  {
   "cell_type": "markdown",
   "id": "504cb48a",
   "metadata": {
    "papermill": {
     "duration": 0.009551,
     "end_time": "2022-10-30T22:34:45.383362",
     "exception": false,
     "start_time": "2022-10-30T22:34:45.373811",
     "status": "completed"
    },
    "pycharm": {
     "name": "#%% md\n"
    },
    "tags": []
   },
   "source": [
    "## Save"
   ]
  },
  {
   "cell_type": "code",
   "execution_count": 20,
   "id": "a8b610a7",
   "metadata": {
    "ExecuteTime": {
     "end_time": "2022-06-15T07:51:17.927133Z",
     "start_time": "2022-06-15T07:51:17.551175Z"
    },
    "execution": {
     "iopub.execute_input": "2022-10-30T22:34:45.403837Z",
     "iopub.status.busy": "2022-10-30T22:34:45.403621Z",
     "iopub.status.idle": "2022-10-30T22:34:48.863506Z",
     "shell.execute_reply": "2022-10-30T22:34:48.862664Z"
    },
    "papermill": {
     "duration": 3.472652,
     "end_time": "2022-10-30T22:34:48.865758",
     "exception": false,
     "start_time": "2022-10-30T22:34:45.393106",
     "status": "completed"
    },
    "pycharm": {
     "name": "#%%\n"
    },
    "tags": []
   },
   "outputs": [],
   "source": [
    "adata_merge.write_h5ad('final.h5ad')"
   ]
  },
  {
   "cell_type": "code",
   "execution_count": 21,
   "id": "a879d512",
   "metadata": {
    "execution": {
     "iopub.execute_input": "2022-10-30T22:34:48.888104Z",
     "iopub.status.busy": "2022-10-30T22:34:48.887818Z",
     "iopub.status.idle": "2022-10-30T22:34:48.892876Z",
     "shell.execute_reply": "2022-10-30T22:34:48.892257Z"
    },
    "papermill": {
     "duration": 0.017227,
     "end_time": "2022-10-30T22:34:48.894120",
     "exception": false,
     "start_time": "2022-10-30T22:34:48.876893",
     "status": "completed"
    },
    "tags": []
   },
   "outputs": [
    {
     "data": {
      "text/plain": [
       "AnnData object with n_obs × n_vars = 594767 × 299329\n",
       "    obs: 'read_count', 'Modality', 'L4Region', 'DissectionRegion'\n",
       "    var: 'chrom', 'end', 'start'\n",
       "    obsm: 'X_lsi_integrate'"
      ]
     },
     "execution_count": 21,
     "metadata": {},
     "output_type": "execute_result"
    }
   ],
   "source": [
    "adata_merge"
   ]
  },
  {
   "cell_type": "code",
   "execution_count": 22,
   "id": "900cde6e",
   "metadata": {
    "execution": {
     "iopub.execute_input": "2022-10-30T22:34:48.914359Z",
     "iopub.status.busy": "2022-10-30T22:34:48.914164Z",
     "iopub.status.idle": "2022-10-30T22:34:48.944536Z",
     "shell.execute_reply": "2022-10-30T22:34:48.943907Z"
    },
    "papermill": {
     "duration": 0.042323,
     "end_time": "2022-10-30T22:34:48.945895",
     "exception": false,
     "start_time": "2022-10-30T22:34:48.903572",
     "status": "completed"
    },
    "pycharm": {
     "name": "#%%\n"
    },
    "tags": []
   },
   "outputs": [],
   "source": [
    "integrator.save('integration')"
   ]
  },
  {
   "cell_type": "code",
   "execution_count": 23,
   "id": "a6b82e5c",
   "metadata": {
    "execution": {
     "iopub.execute_input": "2022-10-30T22:34:48.966743Z",
     "iopub.status.busy": "2022-10-30T22:34:48.966544Z",
     "iopub.status.idle": "2022-10-30T22:34:52.576180Z",
     "shell.execute_reply": "2022-10-30T22:34:52.575358Z"
    },
    "papermill": {
     "duration": 3.622219,
     "end_time": "2022-10-30T22:34:52.577630",
     "exception": false,
     "start_time": "2022-10-30T22:34:48.955411",
     "status": "completed"
    },
    "pycharm": {
     "name": "#%%\n"
    },
    "tags": []
   },
   "outputs": [
    {
     "data": {
      "text/plain": [
       "CompletedProcess(args=['rm', '-f', 'mc_lsi.h5ad', 'atac_lsi.h5ad'], returncode=0)"
      ]
     },
     "execution_count": 23,
     "metadata": {},
     "output_type": "execute_result"
    }
   ],
   "source": [
    "import subprocess\n",
    "subprocess.run(['rm', '-f', 'mc_lsi.h5ad', 'atac_lsi.h5ad'])"
   ]
  },
  {
   "cell_type": "code",
   "execution_count": null,
   "id": "1db0538f",
   "metadata": {
    "papermill": {
     "duration": 0.010375,
     "end_time": "2022-10-30T22:34:52.600081",
     "exception": false,
     "start_time": "2022-10-30T22:34:52.589706",
     "status": "completed"
    },
    "pycharm": {
     "name": "#%%\n"
    },
    "tags": []
   },
   "outputs": [],
   "source": []
  },
  {
   "cell_type": "code",
   "execution_count": null,
   "id": "edcfb8b6",
   "metadata": {
    "papermill": {
     "duration": 0.009691,
     "end_time": "2022-10-30T22:34:52.619880",
     "exception": false,
     "start_time": "2022-10-30T22:34:52.610189",
     "status": "completed"
    },
    "pycharm": {
     "name": "#%%\n"
    },
    "tags": []
   },
   "outputs": [],
   "source": []
  }
 ],
 "metadata": {
  "celltoolbar": "Tags",
  "hide_input": false,
  "kernelspec": {
   "display_name": "Python 3 (ipykernel)",
   "language": "python",
   "name": "python3"
  },
  "language_info": {
   "codemirror_mode": {
    "name": "ipython",
    "version": 3
   },
   "file_extension": ".py",
   "mimetype": "text/x-python",
   "name": "python",
   "nbconvert_exporter": "python",
   "pygments_lexer": "ipython3",
   "version": "3.7.12"
  },
  "papermill": {
   "default_parameters": {},
   "duration": 1858.336411,
   "end_time": "2022-10-30T22:34:54.553756",
   "environment_variables": {},
   "exception": null,
   "input_path": "/mnt/filestore/221030-cemba-mc-cemba-atac-integration/template/03.integration.ipynb",
   "output_path": "/mnt/filestore/221030-cemba-mc-cemba-atac-integration/Round1/Isocortex/03.integration.ipynb",
   "parameters": {
    "categorical_key": [
     "L4Region",
     "DissectionRegion"
    ],
    "cpu": 1,
    "group_name": "Isocortex",
    "mem_gb": 1
   },
   "start_time": "2022-10-30T22:03:56.217345",
   "version": "2.4.0"
  },
  "toc": {
   "base_numbering": 1,
   "nav_menu": {},
   "number_sections": true,
   "sideBar": true,
   "skip_h1_title": true,
   "title_cell": "Table of Contents",
   "title_sidebar": "Contents",
   "toc_cell": false,
   "toc_position": {},
   "toc_section_display": true,
   "toc_window_display": true
  }
 },
 "nbformat": 4,
 "nbformat_minor": 5
}