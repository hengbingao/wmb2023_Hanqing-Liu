{
 "cells": [
  {
   "cell_type": "code",
   "execution_count": 1,
   "id": "ef4956f5",
   "metadata": {
    "execution": {
     "iopub.execute_input": "2022-10-30T21:00:02.935001Z",
     "iopub.status.busy": "2022-10-30T21:00:02.934530Z",
     "iopub.status.idle": "2022-10-30T21:00:02.943372Z",
     "shell.execute_reply": "2022-10-30T21:00:02.942769Z"
    },
    "papermill": {
     "duration": 0.026957,
     "end_time": "2022-10-30T21:00:02.946103",
     "exception": false,
     "start_time": "2022-10-30T21:00:02.919146",
     "status": "completed"
    },
    "tags": [
     "injected-parameters"
    ]
   },
   "outputs": [],
   "source": [
    "# Parameters\n",
    "cpu = 1\n",
    "group_name = \"Isocortex\"\n",
    "mem_gb = 1\n"
   ]
  },
  {
   "cell_type": "code",
   "execution_count": 2,
   "id": "fc8a8b6d",
   "metadata": {
    "ExecuteTime": {
     "end_time": "2022-06-15T06:11:08.188018Z",
     "start_time": "2022-06-15T06:11:01.985439Z"
    },
    "execution": {
     "iopub.execute_input": "2022-10-30T21:00:02.968130Z",
     "iopub.status.busy": "2022-10-30T21:00:02.967497Z",
     "iopub.status.idle": "2022-10-30T21:00:06.452960Z",
     "shell.execute_reply": "2022-10-30T21:00:06.451636Z"
    },
    "papermill": {
     "duration": 3.499334,
     "end_time": "2022-10-30T21:00:06.455813",
     "exception": false,
     "start_time": "2022-10-30T21:00:02.956479",
     "status": "completed"
    },
    "pycharm": {
     "name": "#%%\n"
    },
    "tags": []
   },
   "outputs": [],
   "source": [
    "from ALLCools.clustering import *\n",
    "import anndata"
   ]
  },
  {
   "cell_type": "markdown",
   "id": "bd6dd2a1",
   "metadata": {
    "papermill": {
     "duration": 0.012557,
     "end_time": "2022-10-30T21:00:06.516188",
     "exception": false,
     "start_time": "2022-10-30T21:00:06.503631",
     "status": "completed"
    },
    "pycharm": {
     "name": "#%% md\n"
    },
    "tags": []
   },
   "source": [
    "## Merge Adata"
   ]
  },
  {
   "cell_type": "code",
   "execution_count": 3,
   "id": "faf92a2f",
   "metadata": {
    "ExecuteTime": {
     "end_time": "2022-06-15T06:11:08.956851Z",
     "start_time": "2022-06-15T06:11:08.189526Z"
    },
    "execution": {
     "iopub.execute_input": "2022-10-30T21:00:06.540781Z",
     "iopub.status.busy": "2022-10-30T21:00:06.539856Z",
     "iopub.status.idle": "2022-10-30T21:10:19.530564Z",
     "shell.execute_reply": "2022-10-30T21:10:19.528142Z"
    },
    "papermill": {
     "duration": 613.007072,
     "end_time": "2022-10-30T21:10:19.534594",
     "exception": false,
     "start_time": "2022-10-30T21:00:06.527522",
     "status": "completed"
    },
    "pycharm": {
     "name": "#%%\n"
    },
    "tags": []
   },
   "outputs": [],
   "source": [
    "mc_adata = anndata.read_h5ad('mc_input.h5ad')\n",
    "atac_adata = anndata.read_h5ad('atac_input.h5ad')"
   ]
  },
  {
   "cell_type": "code",
   "execution_count": 4,
   "id": "4f97dad6",
   "metadata": {
    "ExecuteTime": {
     "end_time": "2022-06-15T06:11:09.551893Z",
     "start_time": "2022-06-15T06:11:08.958966Z"
    },
    "execution": {
     "iopub.execute_input": "2022-10-30T21:10:20.094289Z",
     "iopub.status.busy": "2022-10-30T21:10:20.092467Z",
     "iopub.status.idle": "2022-10-30T21:11:44.716381Z",
     "shell.execute_reply": "2022-10-30T21:11:44.710564Z"
    },
    "papermill": {
     "duration": 84.91466,
     "end_time": "2022-10-30T21:11:44.719384",
     "exception": false,
     "start_time": "2022-10-30T21:10:19.804724",
     "status": "completed"
    },
    "pycharm": {
     "name": "#%%\n"
    },
    "tags": []
   },
   "outputs": [],
   "source": [
    "use_var = mc_adata.var_names.intersection(atac_adata.var_names)\n",
    "mc_adata._inplace_subset_var(use_var)\n",
    "atac_adata._inplace_subset_var(use_var)"
   ]
  },
  {
   "cell_type": "code",
   "execution_count": 5,
   "id": "16181217",
   "metadata": {
    "ExecuteTime": {
     "end_time": "2022-06-15T06:11:10.139736Z",
     "start_time": "2022-06-15T06:11:09.553318Z"
    },
    "execution": {
     "iopub.execute_input": "2022-10-30T21:11:44.743515Z",
     "iopub.status.busy": "2022-10-30T21:11:44.741888Z",
     "iopub.status.idle": "2022-10-30T21:12:03.900216Z",
     "shell.execute_reply": "2022-10-30T21:12:03.899129Z"
    },
    "papermill": {
     "duration": 19.174591,
     "end_time": "2022-10-30T21:12:03.903541",
     "exception": false,
     "start_time": "2022-10-30T21:11:44.728950",
     "status": "completed"
    },
    "pycharm": {
     "name": "#%%\n"
    },
    "tags": []
   },
   "outputs": [
    {
     "name": "stderr",
     "output_type": "stream",
     "text": [
      "/opt/conda/lib/python3.7/site-packages/anndata/_core/anndata.py:1785: FutureWarning: X.dtype being converted to np.float32 from float64. In the next version of anndata (0.9) conversion will not be automatic. Pass dtype explicitly to avoid this warning. Pass `AnnData(X, dtype=X.dtype, ...)` to get the future behavour.\n",
      "  [AnnData(sparse.csr_matrix(a.shape), obs=a.obs) for a in all_adatas],\n"
     ]
    },
    {
     "data": {
      "text/plain": [
       "AnnData object with n_obs × n_vars = 594767 × 299329\n",
       "    obs: 'read_count', 'Modality'\n",
       "    var: 'chrom', 'end', 'start'"
      ]
     },
     "execution_count": 5,
     "metadata": {},
     "output_type": "execute_result"
    }
   ],
   "source": [
    "adata_merge = mc_adata.concatenate(atac_adata,\n",
    "                                   batch_categories=['mC', 'ATAC'],\n",
    "                                   batch_key='Modality',\n",
    "                                   index_unique=None)\n",
    "adata_merge"
   ]
  },
  {
   "cell_type": "markdown",
   "id": "9de25aba",
   "metadata": {
    "papermill": {
     "duration": 0.197154,
     "end_time": "2022-10-30T21:12:04.343923",
     "exception": false,
     "start_time": "2022-10-30T21:12:04.146769",
     "status": "completed"
    },
    "pycharm": {
     "name": "#%% md\n"
    },
    "tags": []
   },
   "source": [
    "## Run LSI on Merged Adata"
   ]
  },
  {
   "cell_type": "code",
   "execution_count": 6,
   "id": "2a642423",
   "metadata": {
    "ExecuteTime": {
     "end_time": "2022-06-15T06:11:10.143366Z",
     "start_time": "2022-06-15T06:11:10.140941Z"
    },
    "execution": {
     "iopub.execute_input": "2022-10-30T21:12:04.726794Z",
     "iopub.status.busy": "2022-10-30T21:12:04.726465Z",
     "iopub.status.idle": "2022-10-30T21:12:04.746858Z",
     "shell.execute_reply": "2022-10-30T21:12:04.746327Z"
    },
    "papermill": {
     "duration": 0.265036,
     "end_time": "2022-10-30T21:12:04.748590",
     "exception": false,
     "start_time": "2022-10-30T21:12:04.483554",
     "status": "completed"
    },
    "pycharm": {
     "name": "#%%\n"
    },
    "tags": []
   },
   "outputs": [],
   "source": [
    "model = LSI(scale_factor=10000,\n",
    "            n_components=50,\n",
    "            algorithm=\"randomized\",\n",
    "            random_state=0)"
   ]
  },
  {
   "cell_type": "code",
   "execution_count": 7,
   "id": "3027b992",
   "metadata": {
    "execution": {
     "iopub.execute_input": "2022-10-30T21:12:05.183940Z",
     "iopub.status.busy": "2022-10-30T21:12:05.183590Z",
     "iopub.status.idle": "2022-10-30T21:12:05.189356Z",
     "shell.execute_reply": "2022-10-30T21:12:05.188628Z"
    },
    "papermill": {
     "duration": 0.205186,
     "end_time": "2022-10-30T21:12:05.190856",
     "exception": false,
     "start_time": "2022-10-30T21:12:04.985670",
     "status": "completed"
    },
    "pycharm": {
     "name": "#%%\n"
    },
    "tags": []
   },
   "outputs": [],
   "source": [
    "use_cells_judge = adata_merge.obs['Modality'] == 'mC'"
   ]
  },
  {
   "cell_type": "code",
   "execution_count": 8,
   "id": "127e0554",
   "metadata": {
    "ExecuteTime": {
     "end_time": "2022-06-15T06:12:10.996954Z",
     "start_time": "2022-06-15T06:11:10.144475Z"
    },
    "execution": {
     "iopub.execute_input": "2022-10-30T21:12:05.703916Z",
     "iopub.status.busy": "2022-10-30T21:12:05.703616Z",
     "iopub.status.idle": "2022-10-30T21:50:48.954947Z",
     "shell.execute_reply": "2022-10-30T21:50:48.953814Z"
    },
    "papermill": {
     "duration": 2323.528615,
     "end_time": "2022-10-30T21:50:48.978504",
     "exception": false,
     "start_time": "2022-10-30T21:12:05.449889",
     "status": "completed"
    },
    "pycharm": {
     "name": "#%%\n"
    },
    "tags": []
   },
   "outputs": [
    {
     "data": {
      "text/plain": [
       "<ALLCools.clustering.lsi.LSI at 0x7f881ff05ad0>"
      ]
     },
     "execution_count": 8,
     "metadata": {},
     "output_type": "execute_result"
    }
   ],
   "source": [
    "model.fit(adata_merge[use_cells_judge, :], downsample=200000)"
   ]
  },
  {
   "cell_type": "code",
   "execution_count": 9,
   "id": "af589004",
   "metadata": {
    "execution": {
     "iopub.execute_input": "2022-10-30T21:50:49.044145Z",
     "iopub.status.busy": "2022-10-30T21:50:49.038736Z",
     "iopub.status.idle": "2022-10-30T22:00:16.857953Z",
     "shell.execute_reply": "2022-10-30T22:00:16.856857Z"
    },
    "papermill": {
     "duration": 567.844187,
     "end_time": "2022-10-30T22:00:16.860332",
     "exception": false,
     "start_time": "2022-10-30T21:50:49.016145",
     "status": "completed"
    },
    "pycharm": {
     "name": "#%%\n"
    },
    "tags": []
   },
   "outputs": [],
   "source": [
    "model.transform(adata_merge)"
   ]
  },
  {
   "cell_type": "code",
   "execution_count": 10,
   "id": "0aae8489",
   "metadata": {
    "ExecuteTime": {
     "end_time": "2022-06-15T06:12:11.050015Z",
     "start_time": "2022-06-15T06:12:10.999104Z"
    },
    "execution": {
     "iopub.execute_input": "2022-10-30T22:00:16.884827Z",
     "iopub.status.busy": "2022-10-30T22:00:16.884119Z",
     "iopub.status.idle": "2022-10-30T22:00:17.840838Z",
     "shell.execute_reply": "2022-10-30T22:00:17.840052Z"
    },
    "papermill": {
     "duration": 0.970352,
     "end_time": "2022-10-30T22:00:17.842371",
     "exception": false,
     "start_time": "2022-10-30T22:00:16.872019",
     "status": "completed"
    },
    "pycharm": {
     "name": "#%%\n"
    },
    "tags": []
   },
   "outputs": [
    {
     "name": "stdout",
     "output_type": "stream",
     "text": [
      "Downsample PC matrix to 50000 cells to calculate significant PC components\n"
     ]
    },
    {
     "name": "stdout",
     "output_type": "stream",
     "text": [
      "49 components passed P cutoff of 0.1.\n",
      "Changing adata.obsm['X_pca'] from shape (594767, 50) to (594767, 49)\n"
     ]
    },
    {
     "data": {
      "text/plain": [
       "49"
      ]
     },
     "execution_count": 10,
     "metadata": {},
     "output_type": "execute_result"
    }
   ],
   "source": [
    "significant_pc_test(adata_merge, p_cutoff=0.1, obsm='X_lsi')"
   ]
  },
  {
   "cell_type": "code",
   "execution_count": 11,
   "id": "e9cc32a9",
   "metadata": {
    "ExecuteTime": {
     "end_time": "2022-06-15T06:12:11.577438Z",
     "start_time": "2022-06-15T06:12:11.051762Z"
    },
    "execution": {
     "iopub.execute_input": "2022-10-30T22:00:17.863551Z",
     "iopub.status.busy": "2022-10-30T22:00:17.863267Z",
     "iopub.status.idle": "2022-10-30T22:03:51.290324Z",
     "shell.execute_reply": "2022-10-30T22:03:51.289446Z"
    },
    "papermill": {
     "duration": 213.43936,
     "end_time": "2022-10-30T22:03:51.292348",
     "exception": false,
     "start_time": "2022-10-30T22:00:17.852988",
     "status": "completed"
    },
    "pycharm": {
     "name": "#%%\n"
    },
    "tags": []
   },
   "outputs": [],
   "source": [
    "for m in ['mC', 'ATAC']:\n",
    "    adata = adata_merge[adata_merge.obs['Modality'] == m]\n",
    "    adata.write_h5ad(f'{m.lower()}_lsi.h5ad')"
   ]
  },
  {
   "cell_type": "code",
   "execution_count": 12,
   "id": "51ca7335",
   "metadata": {
    "execution": {
     "iopub.execute_input": "2022-10-30T22:03:51.370322Z",
     "iopub.status.busy": "2022-10-30T22:03:51.370095Z",
     "iopub.status.idle": "2022-10-30T22:03:53.596953Z",
     "shell.execute_reply": "2022-10-30T22:03:53.596028Z"
    },
    "papermill": {
     "duration": 2.288058,
     "end_time": "2022-10-30T22:03:53.598411",
     "exception": false,
     "start_time": "2022-10-30T22:03:51.310353",
     "status": "completed"
    },
    "pycharm": {
     "name": "#%%\n"
    },
    "tags": []
   },
   "outputs": [
    {
     "data": {
      "text/plain": [
       "CompletedProcess(args=['rm', '-f', 'mc_input.h5ad', 'atac_input.h5ad'], returncode=0)"
      ]
     },
     "execution_count": 12,
     "metadata": {},
     "output_type": "execute_result"
    }
   ],
   "source": [
    "import subprocess\n",
    "subprocess.run(['rm', '-f', 'mc_input.h5ad', 'atac_input.h5ad'])"
   ]
  },
  {
   "cell_type": "code",
   "execution_count": null,
   "id": "263724af",
   "metadata": {
    "papermill": {
     "duration": 0.010463,
     "end_time": "2022-10-30T22:03:53.685584",
     "exception": false,
     "start_time": "2022-10-30T22:03:53.675121",
     "status": "completed"
    },
    "pycharm": {
     "name": "#%%\n"
    },
    "tags": []
   },
   "outputs": [],
   "source": []
  }
 ],
 "metadata": {
  "hide_input": false,
  "kernelspec": {
   "display_name": "Python 3 (ipykernel)",
   "language": "python",
   "name": "python3"
  },
  "language_info": {
   "codemirror_mode": {
    "name": "ipython",
    "version": 3
   },
   "file_extension": ".py",
   "mimetype": "text/x-python",
   "name": "python",
   "nbconvert_exporter": "python",
   "pygments_lexer": "ipython3",
   "version": "3.7.12"
  },
  "papermill": {
   "default_parameters": {},
   "duration": 3833.909668,
   "end_time": "2022-10-30T22:03:54.494551",
   "environment_variables": {},
   "exception": null,
   "input_path": "/mnt/filestore/221030-cemba-mc-cemba-atac-integration/template/02.merge_and_lsi.ipynb",
   "output_path": "/mnt/filestore/221030-cemba-mc-cemba-atac-integration/Round1/Isocortex/02.merge_and_lsi.ipynb",
   "parameters": {
    "cpu": 1,
    "group_name": "Isocortex",
    "mem_gb": 1
   },
   "start_time": "2022-10-30T21:00:00.584883",
   "version": "2.4.0"
  },
  "toc": {
   "base_numbering": 1,
   "nav_menu": {},
   "number_sections": true,
   "sideBar": true,
   "skip_h1_title": true,
   "title_cell": "Table of Contents",
   "title_sidebar": "Contents",
   "toc_cell": false,
   "toc_position": {},
   "toc_section_display": true,
   "toc_window_display": true
  }
 },
 "nbformat": 4,
 "nbformat_minor": 5
}