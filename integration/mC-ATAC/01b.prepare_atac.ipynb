{
 "cells": [
  {
   "cell_type": "code",
   "execution_count": 1,
   "id": "842591e7",
   "metadata": {
    "execution": {
     "iopub.execute_input": "2022-10-30T20:17:33.609248Z",
     "iopub.status.busy": "2022-10-30T20:17:33.608926Z",
     "iopub.status.idle": "2022-10-30T20:17:33.615241Z",
     "shell.execute_reply": "2022-10-30T20:17:33.614747Z"
    },
    "papermill": {
     "duration": 0.018064,
     "end_time": "2022-10-30T20:17:33.616572",
     "exception": false,
     "start_time": "2022-10-30T20:17:33.598508",
     "status": "completed"
    },
    "tags": [
     "injected-parameters"
    ]
   },
   "outputs": [],
   "source": [
    "# Parameters\n",
    "cpu = 1\n",
    "group_name = \"Isocortex\"\n",
    "mem_gb = 1\n"
   ]
  },
  {
   "cell_type": "markdown",
   "id": "34deaf20",
   "metadata": {
    "papermill": {
     "duration": 0.007198,
     "end_time": "2022-10-30T20:17:33.631409",
     "exception": false,
     "start_time": "2022-10-30T20:17:33.624211",
     "status": "completed"
    },
    "pycharm": {
     "name": "#%% md\n"
    },
    "tags": []
   },
   "source": [
    "## Import"
   ]
  },
  {
   "cell_type": "code",
   "execution_count": 2,
   "id": "eecf846f",
   "metadata": {
    "execution": {
     "iopub.execute_input": "2022-10-30T20:17:33.646893Z",
     "iopub.status.busy": "2022-10-30T20:17:33.646694Z",
     "iopub.status.idle": "2022-10-30T20:17:36.381948Z",
     "shell.execute_reply": "2022-10-30T20:17:36.381070Z"
    },
    "papermill": {
     "duration": 2.744911,
     "end_time": "2022-10-30T20:17:36.383695",
     "exception": false,
     "start_time": "2022-10-30T20:17:33.638784",
     "status": "completed"
    },
    "pycharm": {
     "name": "#%%\n"
    },
    "tags": []
   },
   "outputs": [],
   "source": [
    "from ALLCools.clustering import *\n",
    "from ALLCools.mcds import MCDS\n",
    "from wmb import brain, cemba_atac, mm10\n",
    "import numpy as np\n",
    "import pandas as pd\n",
    "import anndata\n",
    "\n",
    "import matplotlib.pyplot as plt\n",
    "from ALLCools.plot import *"
   ]
  },
  {
   "cell_type": "code",
   "execution_count": 3,
   "id": "72094c70",
   "metadata": {
    "execution": {
     "iopub.execute_input": "2022-10-30T20:17:36.403269Z",
     "iopub.status.busy": "2022-10-30T20:17:36.402972Z",
     "iopub.status.idle": "2022-10-30T20:17:36.406737Z",
     "shell.execute_reply": "2022-10-30T20:17:36.406151Z"
    },
    "papermill": {
     "duration": 0.014428,
     "end_time": "2022-10-30T20:17:36.407856",
     "exception": false,
     "start_time": "2022-10-30T20:17:36.393428",
     "status": "completed"
    },
    "pycharm": {
     "name": "#%%\n"
    },
    "tags": []
   },
   "outputs": [],
   "source": [
    "n_cell = 5\n",
    "remove_lower_features = 0.2\n",
    "zscore_abs_cutoff = 3"
   ]
  },
  {
   "cell_type": "markdown",
   "id": "8a3aa1bf",
   "metadata": {
    "papermill": {
     "duration": 0.008074,
     "end_time": "2022-10-30T20:17:36.423903",
     "exception": false,
     "start_time": "2022-10-30T20:17:36.415829",
     "status": "completed"
    },
    "pycharm": {
     "name": "#%% md\n"
    },
    "tags": []
   },
   "source": [
    "## Select cells"
   ]
  },
  {
   "cell_type": "code",
   "execution_count": 4,
   "id": "f16d1e09",
   "metadata": {
    "ExecuteTime": {
     "end_time": "2022-06-15T05:34:53.417455Z",
     "start_time": "2022-06-15T05:34:53.409122Z"
    },
    "execution": {
     "iopub.execute_input": "2022-10-30T20:17:36.442732Z",
     "iopub.status.busy": "2022-10-30T20:17:36.442376Z",
     "iopub.status.idle": "2022-10-30T20:17:36.879587Z",
     "shell.execute_reply": "2022-10-30T20:17:36.878856Z"
    },
    "papermill": {
     "duration": 0.448336,
     "end_time": "2022-10-30T20:17:36.880838",
     "exception": false,
     "start_time": "2022-10-30T20:17:36.432502",
     "status": "completed"
    },
    "pycharm": {
     "name": "#%%\n"
    },
    "tags": []
   },
   "outputs": [
    {
     "data": {
      "text/plain": [
       "500000"
      ]
     },
     "execution_count": 4,
     "metadata": {},
     "output_type": "execute_result"
    }
   ],
   "source": [
    "cells = pd.read_csv('atac_cells.txt', index_col=0, header=None).index\n",
    "cells.name = 'cell'\n",
    "cells.size"
   ]
  },
  {
   "cell_type": "markdown",
   "id": "2f339de2",
   "metadata": {
    "papermill": {
     "duration": 0.008499,
     "end_time": "2022-10-30T20:17:36.899779",
     "exception": false,
     "start_time": "2022-10-30T20:17:36.891280",
     "status": "completed"
    },
    "pycharm": {
     "name": "#%% md\n"
    },
    "tags": []
   },
   "source": [
    "## Get adata with basic feature selection"
   ]
  },
  {
   "cell_type": "code",
   "execution_count": 5,
   "id": "76e2c9e7",
   "metadata": {
    "ExecuteTime": {
     "end_time": "2022-06-15T05:34:56.845653Z",
     "start_time": "2022-06-15T05:34:53.418480Z"
    },
    "execution": {
     "iopub.execute_input": "2022-10-30T20:17:36.978315Z",
     "iopub.status.busy": "2022-10-30T20:17:36.978012Z",
     "iopub.status.idle": "2022-10-30T20:17:39.043777Z",
     "shell.execute_reply": "2022-10-30T20:17:39.042785Z"
    },
    "papermill": {
     "duration": 2.138075,
     "end_time": "2022-10-30T20:17:39.046140",
     "exception": false,
     "start_time": "2022-10-30T20:17:36.908065",
     "status": "completed"
    },
    "pycharm": {
     "name": "#%%\n"
    },
    "tags": []
   },
   "outputs": [],
   "source": [
    "atac_ds = MCDS.open(cemba_atac.CEMBA_ATAC_ZARR_PATH,\n",
    "                    use_obs=cells,\n",
    "                    var_dim='chrom5k')"
   ]
  },
  {
   "cell_type": "code",
   "execution_count": 6,
   "id": "e60a3e5f",
   "metadata": {
    "ExecuteTime": {
     "end_time": "2022-06-15T05:34:56.930451Z",
     "start_time": "2022-06-15T05:34:56.847105Z"
    },
    "execution": {
     "iopub.execute_input": "2022-10-30T20:17:39.068001Z",
     "iopub.status.busy": "2022-10-30T20:17:39.067170Z",
     "iopub.status.idle": "2022-10-30T20:17:39.145080Z",
     "shell.execute_reply": "2022-10-30T20:17:39.144181Z"
    },
    "papermill": {
     "duration": 0.091386,
     "end_time": "2022-10-30T20:17:39.147534",
     "exception": false,
     "start_time": "2022-10-30T20:17:39.056148",
     "status": "completed"
    },
    "pycharm": {
     "name": "#%%\n"
    },
    "scrolled": true,
    "tags": []
   },
   "outputs": [
    {
     "data": {
      "text/html": [
       "<div><svg style=\"position: absolute; width: 0; height: 0; overflow: hidden\">\n",
       "<defs>\n",
       "<symbol id=\"icon-database\" viewBox=\"0 0 32 32\">\n",
       "<path d=\"M16 0c-8.837 0-16 2.239-16 5v4c0 2.761 7.163 5 16 5s16-2.239 16-5v-4c0-2.761-7.163-5-16-5z\"></path>\n",
       "<path d=\"M16 17c-8.837 0-16-2.239-16-5v6c0 2.761 7.163 5 16 5s16-2.239 16-5v-6c0 2.761-7.163 5-16 5z\"></path>\n",
       "<path d=\"M16 26c-8.837 0-16-2.239-16-5v6c0 2.761 7.163 5 16 5s16-2.239 16-5v-6c0 2.761-7.163 5-16 5z\"></path>\n",
       "</symbol>\n",
       "<symbol id=\"icon-file-text2\" viewBox=\"0 0 32 32\">\n",
       "<path d=\"M28.681 7.159c-0.694-0.947-1.662-2.053-2.724-3.116s-2.169-2.030-3.116-2.724c-1.612-1.182-2.393-1.319-2.841-1.319h-15.5c-1.378 0-2.5 1.121-2.5 2.5v27c0 1.378 1.122 2.5 2.5 2.5h23c1.378 0 2.5-1.122 2.5-2.5v-19.5c0-0.448-0.137-1.23-1.319-2.841zM24.543 5.457c0.959 0.959 1.712 1.825 2.268 2.543h-4.811v-4.811c0.718 0.556 1.584 1.309 2.543 2.268zM28 29.5c0 0.271-0.229 0.5-0.5 0.5h-23c-0.271 0-0.5-0.229-0.5-0.5v-27c0-0.271 0.229-0.5 0.5-0.5 0 0 15.499-0 15.5 0v7c0 0.552 0.448 1 1 1h7v19.5z\"></path>\n",
       "<path d=\"M23 26h-14c-0.552 0-1-0.448-1-1s0.448-1 1-1h14c0.552 0 1 0.448 1 1s-0.448 1-1 1z\"></path>\n",
       "<path d=\"M23 22h-14c-0.552 0-1-0.448-1-1s0.448-1 1-1h14c0.552 0 1 0.448 1 1s-0.448 1-1 1z\"></path>\n",
       "<path d=\"M23 18h-14c-0.552 0-1-0.448-1-1s0.448-1 1-1h14c0.552 0 1 0.448 1 1s-0.448 1-1 1z\"></path>\n",
       "</symbol>\n",
       "</defs>\n",
       "</svg>\n",
       "<style>/* CSS stylesheet for displaying xarray objects in jupyterlab.\n",
       " *\n",
       " */\n",
       "\n",
       ":root {\n",
       "  --xr-font-color0: var(--jp-content-font-color0, rgba(0, 0, 0, 1));\n",
       "  --xr-font-color2: var(--jp-content-font-color2, rgba(0, 0, 0, 0.54));\n",
       "  --xr-font-color3: var(--jp-content-font-color3, rgba(0, 0, 0, 0.38));\n",
       "  --xr-border-color: var(--jp-border-color2, #e0e0e0);\n",
       "  --xr-disabled-color: var(--jp-layout-color3, #bdbdbd);\n",
       "  --xr-background-color: var(--jp-layout-color0, white);\n",
       "  --xr-background-color-row-even: var(--jp-layout-color1, white);\n",
       "  --xr-background-color-row-odd: var(--jp-layout-color2, #eeeeee);\n",
       "}\n",
       "\n",
       "html[theme=dark],\n",
       "body.vscode-dark {\n",
       "  --xr-font-color0: rgba(255, 255, 255, 1);\n",
       "  --xr-font-color2: rgba(255, 255, 255, 0.54);\n",
       "  --xr-font-color3: rgba(255, 255, 255, 0.38);\n",
       "  --xr-border-color: #1F1F1F;\n",
       "  --xr-disabled-color: #515151;\n",
       "  --xr-background-color: #111111;\n",
       "  --xr-background-color-row-even: #111111;\n",
       "  --xr-background-color-row-odd: #313131;\n",
       "}\n",
       "\n",
       ".xr-wrap {\n",
       "  display: block !important;\n",
       "  min-width: 300px;\n",
       "  max-width: 700px;\n",
       "}\n",
       "\n",
       ".xr-text-repr-fallback {\n",
       "  /* fallback to plain text repr when CSS is not injected (untrusted notebook) */\n",
       "  display: none;\n",
       "}\n",
       "\n",
       ".xr-header {\n",
       "  padding-top: 6px;\n",
       "  padding-bottom: 6px;\n",
       "  margin-bottom: 4px;\n",
       "  border-bottom: solid 1px var(--xr-border-color);\n",
       "}\n",
       "\n",
       ".xr-header > div,\n",
       ".xr-header > ul {\n",
       "  display: inline;\n",
       "  margin-top: 0;\n",
       "  margin-bottom: 0;\n",
       "}\n",
       "\n",
       ".xr-obj-type,\n",
       ".xr-array-name {\n",
       "  margin-left: 2px;\n",
       "  margin-right: 10px;\n",
       "}\n",
       "\n",
       ".xr-obj-type {\n",
       "  color: var(--xr-font-color2);\n",
       "}\n",
       "\n",
       ".xr-sections {\n",
       "  padding-left: 0 !important;\n",
       "  display: grid;\n",
       "  grid-template-columns: 150px auto auto 1fr 20px 20px;\n",
       "}\n",
       "\n",
       ".xr-section-item {\n",
       "  display: contents;\n",
       "}\n",
       "\n",
       ".xr-section-item input {\n",
       "  display: none;\n",
       "}\n",
       "\n",
       ".xr-section-item input + label {\n",
       "  color: var(--xr-disabled-color);\n",
       "}\n",
       "\n",
       ".xr-section-item input:enabled + label {\n",
       "  cursor: pointer;\n",
       "  color: var(--xr-font-color2);\n",
       "}\n",
       "\n",
       ".xr-section-item input:enabled + label:hover {\n",
       "  color: var(--xr-font-color0);\n",
       "}\n",
       "\n",
       ".xr-section-summary {\n",
       "  grid-column: 1;\n",
       "  color: var(--xr-font-color2);\n",
       "  font-weight: 500;\n",
       "}\n",
       "\n",
       ".xr-section-summary > span {\n",
       "  display: inline-block;\n",
       "  padding-left: 0.5em;\n",
       "}\n",
       "\n",
       ".xr-section-summary-in:disabled + label {\n",
       "  color: var(--xr-font-color2);\n",
       "}\n",
       "\n",
       ".xr-section-summary-in + label:before {\n",
       "  display: inline-block;\n",
       "  content: '►';\n",
       "  font-size: 11px;\n",
       "  width: 15px;\n",
       "  text-align: center;\n",
       "}\n",
       "\n",
       ".xr-section-summary-in:disabled + label:before {\n",
       "  color: var(--xr-disabled-color);\n",
       "}\n",
       "\n",
       ".xr-section-summary-in:checked + label:before {\n",
       "  content: '▼';\n",
       "}\n",
       "\n",
       ".xr-section-summary-in:checked + label > span {\n",
       "  display: none;\n",
       "}\n",
       "\n",
       ".xr-section-summary,\n",
       ".xr-section-inline-details {\n",
       "  padding-top: 4px;\n",
       "  padding-bottom: 4px;\n",
       "}\n",
       "\n",
       ".xr-section-inline-details {\n",
       "  grid-column: 2 / -1;\n",
       "}\n",
       "\n",
       ".xr-section-details {\n",
       "  display: none;\n",
       "  grid-column: 1 / -1;\n",
       "  margin-bottom: 5px;\n",
       "}\n",
       "\n",
       ".xr-section-summary-in:checked ~ .xr-section-details {\n",
       "  display: contents;\n",
       "}\n",
       "\n",
       ".xr-array-wrap {\n",
       "  grid-column: 1 / -1;\n",
       "  display: grid;\n",
       "  grid-template-columns: 20px auto;\n",
       "}\n",
       "\n",
       ".xr-array-wrap > label {\n",
       "  grid-column: 1;\n",
       "  vertical-align: top;\n",
       "}\n",
       "\n",
       ".xr-preview {\n",
       "  color: var(--xr-font-color3);\n",
       "}\n",
       "\n",
       ".xr-array-preview,\n",
       ".xr-array-data {\n",
       "  padding: 0 5px !important;\n",
       "  grid-column: 2;\n",
       "}\n",
       "\n",
       ".xr-array-data,\n",
       ".xr-array-in:checked ~ .xr-array-preview {\n",
       "  display: none;\n",
       "}\n",
       "\n",
       ".xr-array-in:checked ~ .xr-array-data,\n",
       ".xr-array-preview {\n",
       "  display: inline-block;\n",
       "}\n",
       "\n",
       ".xr-dim-list {\n",
       "  display: inline-block !important;\n",
       "  list-style: none;\n",
       "  padding: 0 !important;\n",
       "  margin: 0;\n",
       "}\n",
       "\n",
       ".xr-dim-list li {\n",
       "  display: inline-block;\n",
       "  padding: 0;\n",
       "  margin: 0;\n",
       "}\n",
       "\n",
       ".xr-dim-list:before {\n",
       "  content: '(';\n",
       "}\n",
       "\n",
       ".xr-dim-list:after {\n",
       "  content: ')';\n",
       "}\n",
       "\n",
       ".xr-dim-list li:not(:last-child):after {\n",
       "  content: ',';\n",
       "  padding-right: 5px;\n",
       "}\n",
       "\n",
       ".xr-has-index {\n",
       "  font-weight: bold;\n",
       "}\n",
       "\n",
       ".xr-var-list,\n",
       ".xr-var-item {\n",
       "  display: contents;\n",
       "}\n",
       "\n",
       ".xr-var-item > div,\n",
       ".xr-var-item label,\n",
       ".xr-var-item > .xr-var-name span {\n",
       "  background-color: var(--xr-background-color-row-even);\n",
       "  margin-bottom: 0;\n",
       "}\n",
       "\n",
       ".xr-var-item > .xr-var-name:hover span {\n",
       "  padding-right: 5px;\n",
       "}\n",
       "\n",
       ".xr-var-list > li:nth-child(odd) > div,\n",
       ".xr-var-list > li:nth-child(odd) > label,\n",
       ".xr-var-list > li:nth-child(odd) > .xr-var-name span {\n",
       "  background-color: var(--xr-background-color-row-odd);\n",
       "}\n",
       "\n",
       ".xr-var-name {\n",
       "  grid-column: 1;\n",
       "}\n",
       "\n",
       ".xr-var-dims {\n",
       "  grid-column: 2;\n",
       "}\n",
       "\n",
       ".xr-var-dtype {\n",
       "  grid-column: 3;\n",
       "  text-align: right;\n",
       "  color: var(--xr-font-color2);\n",
       "}\n",
       "\n",
       ".xr-var-preview {\n",
       "  grid-column: 4;\n",
       "}\n",
       "\n",
       ".xr-var-name,\n",
       ".xr-var-dims,\n",
       ".xr-var-dtype,\n",
       ".xr-preview,\n",
       ".xr-attrs dt {\n",
       "  white-space: nowrap;\n",
       "  overflow: hidden;\n",
       "  text-overflow: ellipsis;\n",
       "  padding-right: 10px;\n",
       "}\n",
       "\n",
       ".xr-var-name:hover,\n",
       ".xr-var-dims:hover,\n",
       ".xr-var-dtype:hover,\n",
       ".xr-attrs dt:hover {\n",
       "  overflow: visible;\n",
       "  width: auto;\n",
       "  z-index: 1;\n",
       "}\n",
       "\n",
       ".xr-var-attrs,\n",
       ".xr-var-data {\n",
       "  display: none;\n",
       "  background-color: var(--xr-background-color) !important;\n",
       "  padding-bottom: 5px !important;\n",
       "}\n",
       "\n",
       ".xr-var-attrs-in:checked ~ .xr-var-attrs,\n",
       ".xr-var-data-in:checked ~ .xr-var-data {\n",
       "  display: block;\n",
       "}\n",
       "\n",
       ".xr-var-data > table {\n",
       "  float: right;\n",
       "}\n",
       "\n",
       ".xr-var-name span,\n",
       ".xr-var-data,\n",
       ".xr-attrs {\n",
       "  padding-left: 25px !important;\n",
       "}\n",
       "\n",
       ".xr-attrs,\n",
       ".xr-var-attrs,\n",
       ".xr-var-data {\n",
       "  grid-column: 1 / -1;\n",
       "}\n",
       "\n",
       "dl.xr-attrs {\n",
       "  padding: 0;\n",
       "  margin: 0;\n",
       "  display: grid;\n",
       "  grid-template-columns: 125px auto;\n",
       "}\n",
       "\n",
       ".xr-attrs dt,\n",
       ".xr-attrs dd {\n",
       "  padding: 0;\n",
       "  margin: 0;\n",
       "  float: left;\n",
       "  padding-right: 10px;\n",
       "  width: auto;\n",
       "}\n",
       "\n",
       ".xr-attrs dt {\n",
       "  font-weight: normal;\n",
       "  grid-column: 1;\n",
       "}\n",
       "\n",
       ".xr-attrs dt:hover span {\n",
       "  display: inline-block;\n",
       "  background: var(--xr-background-color);\n",
       "  padding-right: 10px;\n",
       "}\n",
       "\n",
       ".xr-attrs dd {\n",
       "  grid-column: 2;\n",
       "  white-space: pre-wrap;\n",
       "  word-break: break-all;\n",
       "}\n",
       "\n",
       ".xr-icon-database,\n",
       ".xr-icon-file-text2 {\n",
       "  display: inline-block;\n",
       "  vertical-align: middle;\n",
       "  width: 1em;\n",
       "  height: 1.5em !important;\n",
       "  stroke-width: 0;\n",
       "  stroke: currentColor;\n",
       "  fill: currentColor;\n",
       "}\n",
       "</style><pre class='xr-text-repr-fallback'>&lt;xarray.MCDS&gt;\n",
       "Dimensions:        (cell: 500000, chrom5k: 546206)\n",
       "Coordinates:\n",
       "  * cell           (cell) &lt;U47 &#x27;CEMBA180205_4A_AGCGATAGATGCGCAGACTGCATATATAGC...\n",
       "  * chrom5k        (chrom5k) &lt;U24 &#x27;chrUn_GL456387_0&#x27; ... &#x27;chrUn_GL456381_5&#x27;\n",
       "    chrom5k_chrom  (chrom5k) &lt;U20 &#x27;chrUn_GL456387&#x27; ... &#x27;chrUn_GL456381&#x27;\n",
       "    chrom5k_end    (chrom5k) int64 5000 10000 15000 20000 ... 20000 25000 30000\n",
       "    chrom5k_start  (chrom5k) int64 0 5000 10000 15000 ... 15000 20000 25000\n",
       "    read_count     (cell) uint64 8898 1392 1977 1495 ... 38241 37368 45658 31288\n",
       "Data variables:\n",
       "    chrom5k_da     (cell, chrom5k) uint8 dask.array&lt;chunksize=(1000, 546206), meta=np.ndarray&gt;\n",
       "Attributes:\n",
       "    obs_dim:  cell\n",
       "    var_dim:  chrom5k</pre><div class='xr-wrap' style='display:none'><div class='xr-header'><div class='xr-obj-type'>xarray.MCDS</div></div><ul class='xr-sections'><li class='xr-section-item'><input id='section-0a6d0de0-478a-471f-88f3-36e95d64578f' class='xr-section-summary-in' type='checkbox' disabled ><label for='section-0a6d0de0-478a-471f-88f3-36e95d64578f' class='xr-section-summary'  title='Expand/collapse section'>Dimensions:</label><div class='xr-section-inline-details'><ul class='xr-dim-list'><li><span class='xr-has-index'>cell</span>: 500000</li><li><span class='xr-has-index'>chrom5k</span>: 546206</li></ul></div><div class='xr-section-details'></div></li><li class='xr-section-item'><input id='section-e202069f-307b-4bba-acf0-8e8d3fbcd5b8' class='xr-section-summary-in' type='checkbox'  checked><label for='section-e202069f-307b-4bba-acf0-8e8d3fbcd5b8' class='xr-section-summary' >Coordinates: <span>(6)</span></label><div class='xr-section-inline-details'></div><div class='xr-section-details'><ul class='xr-var-list'><li class='xr-var-item'><div class='xr-var-name'><span class='xr-has-index'>cell</span></div><div class='xr-var-dims'>(cell)</div><div class='xr-var-dtype'>&lt;U47</div><div class='xr-var-preview xr-preview'>&#x27;CEMBA180205_4A_AGCGATAGATGCGCAG...</div><input id='attrs-746a7a5d-7763-46c6-b1d2-3ee135006dfd' class='xr-var-attrs-in' type='checkbox' disabled><label for='attrs-746a7a5d-7763-46c6-b1d2-3ee135006dfd' title='Show/Hide attributes'><svg class='icon xr-icon-file-text2'><use xlink:href='#icon-file-text2'></use></svg></label><input id='data-fcbaeccb-c533-4230-abd1-5131c5d2a623' class='xr-var-data-in' type='checkbox'><label for='data-fcbaeccb-c533-4230-abd1-5131c5d2a623' title='Show/Hide data repr'><svg class='icon xr-icon-database'><use xlink:href='#icon-database'></use></svg></label><div class='xr-var-attrs'><dl class='xr-attrs'></dl></div><div class='xr-var-data'><pre>array([&#x27;CEMBA180205_4A_AGCGATAGATGCGCAGACTGCATATATAGCCT&#x27;,\n",
       "       &#x27;CEMBA180206_4A_GAATTCGTACGAATCTGGATACTATAATCTTA&#x27;,\n",
       "       &#x27;CEMBA180206_4A_TCCGGAGAGTCATGAAGGATACTACCTATCCT&#x27;, ...,\n",
       "       &#x27;CEMBA201015_12C_TTGCATGTTGTCTTTGACGCTG&#x27;,\n",
       "       &#x27;CEMBA201015_12C_TTGCATGTTGTTTGTGTTACCG&#x27;,\n",
       "       &#x27;CEMBA201015_12C_TTTGCGATACGTGCAATGTCGT&#x27;], dtype=&#x27;&lt;U47&#x27;)</pre></div></li><li class='xr-var-item'><div class='xr-var-name'><span class='xr-has-index'>chrom5k</span></div><div class='xr-var-dims'>(chrom5k)</div><div class='xr-var-dtype'>&lt;U24</div><div class='xr-var-preview xr-preview'>&#x27;chrUn_GL456387_0&#x27; ... &#x27;chrUn_GL...</div><input id='attrs-5b19727a-7a93-4a1b-886c-60054c735e53' class='xr-var-attrs-in' type='checkbox' disabled><label for='attrs-5b19727a-7a93-4a1b-886c-60054c735e53' title='Show/Hide attributes'><svg class='icon xr-icon-file-text2'><use xlink:href='#icon-file-text2'></use></svg></label><input id='data-2c18412b-3c86-4873-9741-ce2e918cedc0' class='xr-var-data-in' type='checkbox'><label for='data-2c18412b-3c86-4873-9741-ce2e918cedc0' title='Show/Hide data repr'><svg class='icon xr-icon-database'><use xlink:href='#icon-database'></use></svg></label><div class='xr-var-attrs'><dl class='xr-attrs'></dl></div><div class='xr-var-data'><pre>array([&#x27;chrUn_GL456387_0&#x27;, &#x27;chrUn_GL456387_1&#x27;, &#x27;chrUn_GL456387_2&#x27;, ...,\n",
       "       &#x27;chrUn_GL456381_3&#x27;, &#x27;chrUn_GL456381_4&#x27;, &#x27;chrUn_GL456381_5&#x27;],\n",
       "      dtype=&#x27;&lt;U24&#x27;)</pre></div></li><li class='xr-var-item'><div class='xr-var-name'><span>chrom5k_chrom</span></div><div class='xr-var-dims'>(chrom5k)</div><div class='xr-var-dtype'>&lt;U20</div><div class='xr-var-preview xr-preview'>&#x27;chrUn_GL456387&#x27; ... &#x27;chrUn_GL45...</div><input id='attrs-a6b11c47-2965-4cef-afff-33f923ff7e0f' class='xr-var-attrs-in' type='checkbox' disabled><label for='attrs-a6b11c47-2965-4cef-afff-33f923ff7e0f' title='Show/Hide attributes'><svg class='icon xr-icon-file-text2'><use xlink:href='#icon-file-text2'></use></svg></label><input id='data-81cece40-5b66-499e-92c7-5d9992b1ba7f' class='xr-var-data-in' type='checkbox'><label for='data-81cece40-5b66-499e-92c7-5d9992b1ba7f' title='Show/Hide data repr'><svg class='icon xr-icon-database'><use xlink:href='#icon-database'></use></svg></label><div class='xr-var-attrs'><dl class='xr-attrs'></dl></div><div class='xr-var-data'><pre>array([&#x27;chrUn_GL456387&#x27;, &#x27;chrUn_GL456387&#x27;, &#x27;chrUn_GL456387&#x27;, ...,\n",
       "       &#x27;chrUn_GL456381&#x27;, &#x27;chrUn_GL456381&#x27;, &#x27;chrUn_GL456381&#x27;], dtype=&#x27;&lt;U20&#x27;)</pre></div></li><li class='xr-var-item'><div class='xr-var-name'><span>chrom5k_end</span></div><div class='xr-var-dims'>(chrom5k)</div><div class='xr-var-dtype'>int64</div><div class='xr-var-preview xr-preview'>5000 10000 15000 ... 25000 30000</div><input id='attrs-3925ff4f-5aab-4f03-bb7f-1b00fb26b975' class='xr-var-attrs-in' type='checkbox' disabled><label for='attrs-3925ff4f-5aab-4f03-bb7f-1b00fb26b975' title='Show/Hide attributes'><svg class='icon xr-icon-file-text2'><use xlink:href='#icon-file-text2'></use></svg></label><input id='data-d01097ec-2dae-4c61-826c-81120422927d' class='xr-var-data-in' type='checkbox'><label for='data-d01097ec-2dae-4c61-826c-81120422927d' title='Show/Hide data repr'><svg class='icon xr-icon-database'><use xlink:href='#icon-database'></use></svg></label><div class='xr-var-attrs'><dl class='xr-attrs'></dl></div><div class='xr-var-data'><pre>array([ 5000, 10000, 15000, ..., 20000, 25000, 30000])</pre></div></li><li class='xr-var-item'><div class='xr-var-name'><span>chrom5k_start</span></div><div class='xr-var-dims'>(chrom5k)</div><div class='xr-var-dtype'>int64</div><div class='xr-var-preview xr-preview'>0 5000 10000 ... 15000 20000 25000</div><input id='attrs-4688d7e0-a709-411d-86e9-5b6c19dceb12' class='xr-var-attrs-in' type='checkbox' disabled><label for='attrs-4688d7e0-a709-411d-86e9-5b6c19dceb12' title='Show/Hide attributes'><svg class='icon xr-icon-file-text2'><use xlink:href='#icon-file-text2'></use></svg></label><input id='data-93625b99-c0bd-4186-90c2-b1b7dd3c7473' class='xr-var-data-in' type='checkbox'><label for='data-93625b99-c0bd-4186-90c2-b1b7dd3c7473' title='Show/Hide data repr'><svg class='icon xr-icon-database'><use xlink:href='#icon-database'></use></svg></label><div class='xr-var-attrs'><dl class='xr-attrs'></dl></div><div class='xr-var-data'><pre>array([    0,  5000, 10000, ..., 15000, 20000, 25000])</pre></div></li><li class='xr-var-item'><div class='xr-var-name'><span>read_count</span></div><div class='xr-var-dims'>(cell)</div><div class='xr-var-dtype'>uint64</div><div class='xr-var-preview xr-preview'>8898 1392 1977 ... 45658 31288</div><input id='attrs-3b02cfac-0409-4b4c-96c6-0e6736b63dd2' class='xr-var-attrs-in' type='checkbox' disabled><label for='attrs-3b02cfac-0409-4b4c-96c6-0e6736b63dd2' title='Show/Hide attributes'><svg class='icon xr-icon-file-text2'><use xlink:href='#icon-file-text2'></use></svg></label><input id='data-df54a718-f37c-4380-a25a-01145e43ddb7' class='xr-var-data-in' type='checkbox'><label for='data-df54a718-f37c-4380-a25a-01145e43ddb7' title='Show/Hide data repr'><svg class='icon xr-icon-database'><use xlink:href='#icon-database'></use></svg></label><div class='xr-var-attrs'><dl class='xr-attrs'></dl></div><div class='xr-var-data'><pre>array([ 8898,  1392,  1977, ..., 37368, 45658, 31288], dtype=uint64)</pre></div></li></ul></div></li><li class='xr-section-item'><input id='section-8df34fee-0bd4-40b3-a5b4-21459186d917' class='xr-section-summary-in' type='checkbox'  checked><label for='section-8df34fee-0bd4-40b3-a5b4-21459186d917' class='xr-section-summary' >Data variables: <span>(1)</span></label><div class='xr-section-inline-details'></div><div class='xr-section-details'><ul class='xr-var-list'><li class='xr-var-item'><div class='xr-var-name'><span>chrom5k_da</span></div><div class='xr-var-dims'>(cell, chrom5k)</div><div class='xr-var-dtype'>uint8</div><div class='xr-var-preview xr-preview'>dask.array&lt;chunksize=(1000, 546206), meta=np.ndarray&gt;</div><input id='attrs-b5827c1f-005c-4721-aadc-f12c3d97c671' class='xr-var-attrs-in' type='checkbox' disabled><label for='attrs-b5827c1f-005c-4721-aadc-f12c3d97c671' title='Show/Hide attributes'><svg class='icon xr-icon-file-text2'><use xlink:href='#icon-file-text2'></use></svg></label><input id='data-47fad086-87a1-4337-a00b-4e9b5aa1435e' class='xr-var-data-in' type='checkbox'><label for='data-47fad086-87a1-4337-a00b-4e9b5aa1435e' title='Show/Hide data repr'><svg class='icon xr-icon-database'><use xlink:href='#icon-database'></use></svg></label><div class='xr-var-attrs'><dl class='xr-attrs'></dl></div><div class='xr-var-data'><table>\n",
       "    <tr>\n",
       "        <td>\n",
       "            <table>\n",
       "                <thead>\n",
       "                    <tr>\n",
       "                        <td> </td>\n",
       "                        <th> Array </th>\n",
       "                        <th> Chunk </th>\n",
       "                    </tr>\n",
       "                </thead>\n",
       "                <tbody>\n",
       "                    \n",
       "                    <tr>\n",
       "                        <th> Bytes </th>\n",
       "                        <td> 254.35 GiB </td>\n",
       "                        <td> 520.90 MiB </td>\n",
       "                    </tr>\n",
       "                    \n",
       "                    <tr>\n",
       "                        <th> Shape </th>\n",
       "                        <td> (500000, 546206) </td>\n",
       "                        <td> (1000, 546206) </td>\n",
       "                    </tr>\n",
       "                    <tr>\n",
       "                        <th> Count </th>\n",
       "                        <td> 501 Tasks </td>\n",
       "                        <td> 500 Chunks </td>\n",
       "                    </tr>\n",
       "                    <tr>\n",
       "                    <th> Type </th>\n",
       "                    <td> uint8 </td>\n",
       "                    <td> numpy.ndarray </td>\n",
       "                    </tr>\n",
       "                </tbody>\n",
       "            </table>\n",
       "        </td>\n",
       "        <td>\n",
       "        <svg width=\"170\" height=\"159\" style=\"stroke:rgb(0,0,0);stroke-width:1\" >\n",
       "\n",
       "  <!-- Horizontal lines -->\n",
       "  <line x1=\"0\" y1=\"0\" x2=\"120\" y2=\"0\" style=\"stroke-width:2\" />\n",
       "  <line x1=\"0\" y1=\"5\" x2=\"120\" y2=\"5\" />\n",
       "  <line x1=\"0\" y1=\"11\" x2=\"120\" y2=\"11\" />\n",
       "  <line x1=\"0\" y1=\"17\" x2=\"120\" y2=\"17\" />\n",
       "  <line x1=\"0\" y1=\"23\" x2=\"120\" y2=\"23\" />\n",
       "  <line x1=\"0\" y1=\"28\" x2=\"120\" y2=\"28\" />\n",
       "  <line x1=\"0\" y1=\"34\" x2=\"120\" y2=\"34\" />\n",
       "  <line x1=\"0\" y1=\"40\" x2=\"120\" y2=\"40\" />\n",
       "  <line x1=\"0\" y1=\"46\" x2=\"120\" y2=\"46\" />\n",
       "  <line x1=\"0\" y1=\"51\" x2=\"120\" y2=\"51\" />\n",
       "  <line x1=\"0\" y1=\"57\" x2=\"120\" y2=\"57\" />\n",
       "  <line x1=\"0\" y1=\"63\" x2=\"120\" y2=\"63\" />\n",
       "  <line x1=\"0\" y1=\"69\" x2=\"120\" y2=\"69\" />\n",
       "  <line x1=\"0\" y1=\"75\" x2=\"120\" y2=\"75\" />\n",
       "  <line x1=\"0\" y1=\"80\" x2=\"120\" y2=\"80\" />\n",
       "  <line x1=\"0\" y1=\"86\" x2=\"120\" y2=\"86\" />\n",
       "  <line x1=\"0\" y1=\"92\" x2=\"120\" y2=\"92\" />\n",
       "  <line x1=\"0\" y1=\"98\" x2=\"120\" y2=\"98\" />\n",
       "  <line x1=\"0\" y1=\"103\" x2=\"120\" y2=\"103\" />\n",
       "  <line x1=\"0\" y1=\"109\" x2=\"120\" y2=\"109\" style=\"stroke-width:2\" />\n",
       "\n",
       "  <!-- Vertical lines -->\n",
       "  <line x1=\"0\" y1=\"0\" x2=\"0\" y2=\"109\" style=\"stroke-width:2\" />\n",
       "  <line x1=\"120\" y1=\"0\" x2=\"120\" y2=\"109\" style=\"stroke-width:2\" />\n",
       "\n",
       "  <!-- Colored Rectangle -->\n",
       "  <polygon points=\"0.0,0.0 120.0,0.0 120.0,109.84866515563726 0.0,109.84866515563726\" style=\"fill:#8B4903A0;stroke-width:0\"/>\n",
       "\n",
       "  <!-- Text -->\n",
       "  <text x=\"60.000000\" y=\"129.848665\" font-size=\"1.0rem\" font-weight=\"100\" text-anchor=\"middle\" >546206</text>\n",
       "  <text x=\"140.000000\" y=\"54.924333\" font-size=\"1.0rem\" font-weight=\"100\" text-anchor=\"middle\" transform=\"rotate(-90,140.000000,54.924333)\">500000</text>\n",
       "</svg>\n",
       "        </td>\n",
       "    </tr>\n",
       "</table></div></li></ul></div></li><li class='xr-section-item'><input id='section-e6662994-d592-4a8f-9e35-1873f95012ee' class='xr-section-summary-in' type='checkbox'  checked><label for='section-e6662994-d592-4a8f-9e35-1873f95012ee' class='xr-section-summary' >Attributes: <span>(2)</span></label><div class='xr-section-inline-details'></div><div class='xr-section-details'><dl class='xr-attrs'><dt><span>obs_dim :</span></dt><dd>cell</dd><dt><span>var_dim :</span></dt><dd>chrom5k</dd></dl></div></li></ul></div></div>"
      ],
      "text/plain": [
       "<xarray.MCDS>\n",
       "Dimensions:        (cell: 500000, chrom5k: 546206)\n",
       "Coordinates:\n",
       "  * cell           (cell) <U47 'CEMBA180205_4A_AGCGATAGATGCGCAGACTGCATATATAGC...\n",
       "  * chrom5k        (chrom5k) <U24 'chrUn_GL456387_0' ... 'chrUn_GL456381_5'\n",
       "    chrom5k_chrom  (chrom5k) <U20 'chrUn_GL456387' ... 'chrUn_GL456381'\n",
       "    chrom5k_end    (chrom5k) int64 5000 10000 15000 20000 ... 20000 25000 30000\n",
       "    chrom5k_start  (chrom5k) int64 0 5000 10000 15000 ... 15000 20000 25000\n",
       "    read_count     (cell) uint64 8898 1392 1977 1495 ... 38241 37368 45658 31288\n",
       "Data variables:\n",
       "    chrom5k_da     (cell, chrom5k) uint8 dask.array<chunksize=(1000, 546206), meta=np.ndarray>\n",
       "Attributes:\n",
       "    obs_dim:  cell\n",
       "    var_dim:  chrom5k"
      ]
     },
     "execution_count": 6,
     "metadata": {},
     "output_type": "execute_result"
    }
   ],
   "source": [
    "atac_ds"
   ]
  },
  {
   "cell_type": "code",
   "execution_count": 7,
   "id": "b5de1e5a",
   "metadata": {
    "ExecuteTime": {
     "end_time": "2022-06-15T05:37:42.881802Z",
     "start_time": "2022-06-15T05:34:57.643718Z"
    },
    "execution": {
     "iopub.execute_input": "2022-10-30T20:17:39.171877Z",
     "iopub.status.busy": "2022-10-30T20:17:39.171296Z",
     "iopub.status.idle": "2022-10-30T20:47:28.838366Z",
     "shell.execute_reply": "2022-10-30T20:47:28.837382Z"
    },
    "papermill": {
     "duration": 1789.682201,
     "end_time": "2022-10-30T20:47:28.840955",
     "exception": false,
     "start_time": "2022-10-30T20:17:39.158754",
     "status": "completed"
    },
    "pycharm": {
     "name": "#%%\n"
    },
    "tags": []
   },
   "outputs": [
    {
     "name": "stdout",
     "output_type": "stream",
     "text": [
      "Loading chunk 0-30000/500000\n"
     ]
    },
    {
     "name": "stdout",
     "output_type": "stream",
     "text": [
      "Loading chunk 30000-60000/500000\n"
     ]
    },
    {
     "name": "stdout",
     "output_type": "stream",
     "text": [
      "Loading chunk 60000-90000/500000\n"
     ]
    },
    {
     "name": "stdout",
     "output_type": "stream",
     "text": [
      "Loading chunk 90000-120000/500000\n"
     ]
    },
    {
     "name": "stdout",
     "output_type": "stream",
     "text": [
      "Loading chunk 120000-150000/500000\n"
     ]
    },
    {
     "name": "stdout",
     "output_type": "stream",
     "text": [
      "Loading chunk 150000-180000/500000\n"
     ]
    },
    {
     "name": "stdout",
     "output_type": "stream",
     "text": [
      "Loading chunk 180000-210000/500000\n"
     ]
    },
    {
     "name": "stdout",
     "output_type": "stream",
     "text": [
      "Loading chunk 210000-240000/500000\n"
     ]
    },
    {
     "name": "stdout",
     "output_type": "stream",
     "text": [
      "Loading chunk 240000-270000/500000\n"
     ]
    },
    {
     "name": "stdout",
     "output_type": "stream",
     "text": [
      "Loading chunk 270000-300000/500000\n"
     ]
    },
    {
     "name": "stdout",
     "output_type": "stream",
     "text": [
      "Loading chunk 300000-330000/500000\n"
     ]
    },
    {
     "name": "stdout",
     "output_type": "stream",
     "text": [
      "Loading chunk 330000-360000/500000\n"
     ]
    },
    {
     "name": "stdout",
     "output_type": "stream",
     "text": [
      "Loading chunk 360000-390000/500000\n"
     ]
    },
    {
     "name": "stdout",
     "output_type": "stream",
     "text": [
      "Loading chunk 390000-420000/500000\n"
     ]
    },
    {
     "name": "stdout",
     "output_type": "stream",
     "text": [
      "Loading chunk 420000-450000/500000\n"
     ]
    },
    {
     "name": "stdout",
     "output_type": "stream",
     "text": [
      "Loading chunk 450000-480000/500000\n"
     ]
    },
    {
     "name": "stdout",
     "output_type": "stream",
     "text": [
      "Loading chunk 480000-500000/500000\n"
     ]
    }
   ],
   "source": [
    "adata = atac_ds.get_count_adata(da_name='chrom5k_da',\n",
    "                                binarize_cutoff=0,\n",
    "                                sparse=True,\n",
    "                                loading_chunk=30000)"
   ]
  },
  {
   "cell_type": "markdown",
   "id": "fedf318d",
   "metadata": {
    "papermill": {
     "duration": 2.362673,
     "end_time": "2022-10-30T20:47:34.253209",
     "exception": false,
     "start_time": "2022-10-30T20:47:31.890536",
     "status": "completed"
    },
    "pycharm": {
     "name": "#%% md\n"
    },
    "tags": []
   },
   "source": [
    "## Basic Feature Filtering"
   ]
  },
  {
   "cell_type": "code",
   "execution_count": 8,
   "id": "820d0a28",
   "metadata": {
    "execution": {
     "iopub.execute_input": "2022-10-30T20:47:37.666359Z",
     "iopub.status.busy": "2022-10-30T20:47:37.666008Z",
     "iopub.status.idle": "2022-10-30T20:48:33.298560Z",
     "shell.execute_reply": "2022-10-30T20:48:33.295995Z"
    },
    "papermill": {
     "duration": 57.470483,
     "end_time": "2022-10-30T20:48:33.639277",
     "exception": false,
     "start_time": "2022-10-30T20:47:36.168794",
     "status": "completed"
    },
    "pycharm": {
     "name": "#%%\n"
    },
    "tags": []
   },
   "outputs": [
    {
     "name": "stdout",
     "output_type": "stream",
     "text": [
      "492558 regions remained.\n"
     ]
    }
   ],
   "source": [
    "chroms = [\n",
    "    'chr1', 'chr2', 'chr3', 'chr4', 'chr5', 'chr6', 'chr7', 'chr8', 'chr9',\n",
    "    'chr10', 'chr11', 'chr12', 'chr13', 'chr14', 'chr15', 'chr16', 'chr17',\n",
    "    'chr18', 'chr19'\n",
    "]\n",
    "\n",
    "remove_chromosomes(adata, include_chromosomes=chroms)"
   ]
  },
  {
   "cell_type": "code",
   "execution_count": 9,
   "id": "c927181e",
   "metadata": {
    "ExecuteTime": {
     "end_time": "2022-06-15T05:37:43.245865Z",
     "start_time": "2022-06-15T05:37:42.884276Z"
    },
    "execution": {
     "iopub.execute_input": "2022-10-30T20:48:34.629889Z",
     "iopub.status.busy": "2022-10-30T20:48:34.627654Z",
     "iopub.status.idle": "2022-10-30T20:51:15.499005Z",
     "shell.execute_reply": "2022-10-30T20:51:15.490640Z"
    },
    "papermill": {
     "duration": 164.382182,
     "end_time": "2022-10-30T20:51:18.736534",
     "exception": false,
     "start_time": "2022-10-30T20:48:34.354352",
     "status": "completed"
    },
    "pycharm": {
     "name": "#%%\n"
    },
    "tags": []
   },
   "outputs": [
    {
     "name": "stdout",
     "output_type": "stream",
     "text": [
      "470522 regions remained.\n"
     ]
    }
   ],
   "source": [
    "filter_regions(adata, n_cell=n_cell, zscore_abs_cutoff=zscore_abs_cutoff)"
   ]
  },
  {
   "cell_type": "code",
   "execution_count": 10,
   "id": "6dc985e3",
   "metadata": {
    "ExecuteTime": {
     "end_time": "2022-06-15T05:37:43.944684Z",
     "start_time": "2022-06-15T05:37:43.247077Z"
    },
    "execution": {
     "iopub.execute_input": "2022-10-30T20:51:22.785730Z",
     "iopub.status.busy": "2022-10-30T20:51:22.784677Z",
     "iopub.status.idle": "2022-10-30T20:52:52.473881Z",
     "shell.execute_reply": "2022-10-30T20:52:52.472525Z"
    },
    "papermill": {
     "duration": 91.680782,
     "end_time": "2022-10-30T20:52:52.476680",
     "exception": false,
     "start_time": "2022-10-30T20:51:20.795898",
     "status": "completed"
    },
    "pycharm": {
     "name": "#%%\n"
    },
    "tags": []
   },
   "outputs": [
    {
     "name": "stdout",
     "output_type": "stream",
     "text": [
      "14529 features removed due to overlapping (bedtools intersect -f 0.2) with black list regions.\n"
     ]
    }
   ],
   "source": [
    "remove_black_list_region(adata, black_list_path=mm10.ENCODE_BLACKLIST_PATH)"
   ]
  },
  {
   "cell_type": "code",
   "execution_count": 11,
   "id": "9d0ae01b-83e7-46bc-bc19-aa04e712a5eb",
   "metadata": {
    "execution": {
     "iopub.execute_input": "2022-10-30T20:52:53.219981Z",
     "iopub.status.busy": "2022-10-30T20:52:53.219210Z",
     "iopub.status.idle": "2022-10-30T20:53:02.091462Z",
     "shell.execute_reply": "2022-10-30T20:53:02.090411Z"
    },
    "papermill": {
     "duration": 9.290928,
     "end_time": "2022-10-30T20:53:02.094809",
     "exception": false,
     "start_time": "2022-10-30T20:52:52.803881",
     "status": "completed"
    },
    "tags": []
   },
   "outputs": [],
   "source": [
    "if adata.shape[1] > 50000:\n",
    "    feature_sum = adata.X.sum(axis=0).A1\n",
    "    use_features = feature_sum > np.quantile(feature_sum, remove_lower_features)\n",
    "    adata = adata[:, use_features]"
   ]
  },
  {
   "cell_type": "code",
   "execution_count": 12,
   "id": "39d36e18",
   "metadata": {
    "ExecuteTime": {
     "end_time": "2022-06-15T05:37:44.103007Z",
     "start_time": "2022-06-15T05:37:43.946181Z"
    },
    "execution": {
     "iopub.execute_input": "2022-10-30T20:53:02.129454Z",
     "iopub.status.busy": "2022-10-30T20:53:02.129009Z",
     "iopub.status.idle": "2022-10-30T20:59:47.797977Z",
     "shell.execute_reply": "2022-10-30T20:59:47.796755Z"
    },
    "papermill": {
     "duration": 405.689718,
     "end_time": "2022-10-30T20:59:47.800619",
     "exception": false,
     "start_time": "2022-10-30T20:53:02.110901",
     "status": "completed"
    },
    "pycharm": {
     "name": "#%%\n"
    },
    "tags": []
   },
   "outputs": [],
   "source": [
    "adata.write_h5ad('atac_input.h5ad')"
   ]
  },
  {
   "cell_type": "code",
   "execution_count": 13,
   "id": "753c3e1d",
   "metadata": {
    "ExecuteTime": {
     "end_time": "2022-06-15T05:37:44.283195Z",
     "start_time": "2022-06-15T05:37:44.104244Z"
    },
    "execution": {
     "iopub.execute_input": "2022-10-30T20:59:50.693827Z",
     "iopub.status.busy": "2022-10-30T20:59:50.693192Z",
     "iopub.status.idle": "2022-10-30T20:59:51.974182Z",
     "shell.execute_reply": "2022-10-30T20:59:51.973309Z"
    },
    "papermill": {
     "duration": 2.833518,
     "end_time": "2022-10-30T20:59:51.976102",
     "exception": false,
     "start_time": "2022-10-30T20:59:49.142584",
     "status": "completed"
    },
    "pycharm": {
     "name": "#%%\n"
    },
    "tags": []
   },
   "outputs": [],
   "source": [
    "pd.Series(adata.var_names).to_csv('atac_features.txt', index=None, header=False)"
   ]
  },
  {
   "cell_type": "code",
   "execution_count": 14,
   "id": "34934d6a",
   "metadata": {
    "ExecuteTime": {
     "end_time": "2022-06-15T05:37:44.315380Z",
     "start_time": "2022-06-15T05:37:44.312132Z"
    },
    "execution": {
     "iopub.execute_input": "2022-10-30T20:59:54.381395Z",
     "iopub.status.busy": "2022-10-30T20:59:54.380636Z",
     "iopub.status.idle": "2022-10-30T20:59:54.386246Z",
     "shell.execute_reply": "2022-10-30T20:59:54.385563Z"
    },
    "papermill": {
     "duration": 1.040647,
     "end_time": "2022-10-30T20:59:54.387561",
     "exception": false,
     "start_time": "2022-10-30T20:59:53.346914",
     "status": "completed"
    },
    "pycharm": {
     "name": "#%%\n"
    },
    "tags": []
   },
   "outputs": [
    {
     "data": {
      "text/plain": [
       "View of AnnData object with n_obs × n_vars = 500000 × 364670\n",
       "    obs: 'read_count'\n",
       "    var: 'chrom', 'end', 'start'"
      ]
     },
     "execution_count": 14,
     "metadata": {},
     "output_type": "execute_result"
    }
   ],
   "source": [
    "adata"
   ]
  },
  {
   "cell_type": "code",
   "execution_count": null,
   "id": "576a7480",
   "metadata": {
    "papermill": {
     "duration": 0.603535,
     "end_time": "2022-10-30T20:59:56.121802",
     "exception": false,
     "start_time": "2022-10-30T20:59:55.518267",
     "status": "completed"
    },
    "pycharm": {
     "name": "#%%\n"
    },
    "tags": []
   },
   "outputs": [],
   "source": []
  },
  {
   "cell_type": "code",
   "execution_count": null,
   "id": "6891988a",
   "metadata": {
    "papermill": {
     "duration": 0.225142,
     "end_time": "2022-10-30T20:59:56.510952",
     "exception": false,
     "start_time": "2022-10-30T20:59:56.285810",
     "status": "completed"
    },
    "pycharm": {
     "name": "#%%\n"
    },
    "tags": []
   },
   "outputs": [],
   "source": []
  },
  {
   "cell_type": "code",
   "execution_count": null,
   "id": "b3a82800",
   "metadata": {
    "papermill": {
     "duration": 0.015162,
     "end_time": "2022-10-30T20:59:56.549247",
     "exception": false,
     "start_time": "2022-10-30T20:59:56.534085",
     "status": "completed"
    },
    "pycharm": {
     "name": "#%%\n"
    },
    "tags": []
   },
   "outputs": [],
   "source": []
  }
 ],
 "metadata": {
  "hide_input": false,
  "kernelspec": {
   "display_name": "Python 3 (ipykernel)",
   "language": "python",
   "name": "python3"
  },
  "language_info": {
   "codemirror_mode": {
    "name": "ipython",
    "version": 3
   },
   "file_extension": ".py",
   "mimetype": "text/x-python",
   "name": "python",
   "nbconvert_exporter": "python",
   "pygments_lexer": "ipython3",
   "version": "3.7.12"
  },
  "papermill": {
   "default_parameters": {},
   "duration": 2545.957779,
   "end_time": "2022-10-30T20:59:58.199435",
   "environment_variables": {},
   "exception": null,
   "input_path": "/mnt/filestore/221030-cemba-mc-cemba-atac-integration/template/01b.prepare_atac.ipynb",
   "output_path": "/mnt/filestore/221030-cemba-mc-cemba-atac-integration/Round1/Isocortex/01b.prepare_atac.ipynb",
   "parameters": {
    "cpu": 1,
    "group_name": "Isocortex",
    "mem_gb": 1
   },
   "start_time": "2022-10-30T20:17:32.241656",
   "version": "2.4.0"
  },
  "toc": {
   "base_numbering": 1,
   "nav_menu": {},
   "number_sections": true,
   "sideBar": true,
   "skip_h1_title": true,
   "title_cell": "Table of Contents",
   "title_sidebar": "Contents",
   "toc_cell": false,
   "toc_position": {},
   "toc_section_display": true,
   "toc_window_display": true
  }
 },
 "nbformat": 4,
 "nbformat_minor": 5
}