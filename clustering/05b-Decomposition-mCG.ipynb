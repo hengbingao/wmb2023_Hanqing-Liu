{
 "cells": [
  {
   "cell_type": "code",
   "execution_count": 1,
   "id": "bba071ba",
   "metadata": {
    "ExecuteTime": {
     "end_time": "2022-05-03T17:36:28.656829Z",
     "start_time": "2022-05-03T17:36:26.678214Z"
    },
    "execution": {
     "iopub.execute_input": "2022-05-09T04:09:01.459545Z",
     "iopub.status.busy": "2022-05-09T04:09:01.432110Z",
     "iopub.status.idle": "2022-05-09T04:09:04.909864Z",
     "shell.execute_reply": "2022-05-09T04:09:04.914810Z"
    },
    "papermill": {
     "duration": 3.506405,
     "end_time": "2022-05-09T04:09:04.915093",
     "exception": false,
     "start_time": "2022-05-09T04:09:01.408688",
     "status": "completed"
    },
    "tags": []
   },
   "outputs": [],
   "source": [
    "import yaml\n",
    "import anndata\n",
    "import scanpy as sc\n",
    "from scipy.sparse import csr_matrix\n",
    "from ALLCools.clustering import significant_pc_test, log_scale, balanced_pca"
   ]
  },
  {
   "cell_type": "markdown",
   "id": "e7061091",
   "metadata": {
    "papermill": {
     "duration": 0.01068,
     "end_time": "2022-05-09T04:09:04.936300",
     "exception": false,
     "start_time": "2022-05-09T04:09:04.925620",
     "status": "completed"
    },
    "tags": []
   },
   "source": [
    "## Parameters"
   ]
  },
  {
   "cell_type": "code",
   "execution_count": 2,
   "id": "33140abe",
   "metadata": {
    "ExecuteTime": {
     "end_time": "2022-05-03T17:36:28.663755Z",
     "start_time": "2022-05-03T17:36:28.658749Z"
    },
    "execution": {
     "iopub.execute_input": "2022-05-09T04:09:04.964275Z",
     "iopub.status.busy": "2022-05-09T04:09:04.963724Z",
     "iopub.status.idle": "2022-05-09T04:09:04.966125Z",
     "shell.execute_reply": "2022-05-09T04:09:04.964717Z"
    },
    "papermill": {
     "duration": 0.020331,
     "end_time": "2022-05-09T04:09:04.966246",
     "exception": false,
     "start_time": "2022-05-09T04:09:04.945915",
     "status": "completed"
    },
    "tags": [
     "parameters"
    ]
   },
   "outputs": [
    {
     "name": "stdout",
     "output_type": "stream",
     "text": [
      "Notebook configs:\n",
      "adata_path = mCG.CEF.h5ad\n",
      "max_cell_prop = 0.1\n",
      "n_components = auto\n",
      "p_cutoff = 0.1\n",
      "pre_cluster_name = leiden\n"
     ]
    }
   ],
   "source": [
    "with open('config/05b.yaml', 'r') as f:\n",
    "    config = yaml.safe_load(f)\n",
    "    locals().update(config)\n",
    "    print('Notebook configs:')\n",
    "    for _k, _v in config.items():\n",
    "        print(f'{_k} = {_v}')"
   ]
  },
  {
   "cell_type": "code",
   "execution_count": 3,
   "id": "9ac2c801",
   "metadata": {
    "execution": {
     "iopub.execute_input": "2022-05-09T04:09:05.014128Z",
     "iopub.status.busy": "2022-05-09T04:09:05.013272Z",
     "iopub.status.idle": "2022-05-09T04:09:05.014587Z",
     "shell.execute_reply": "2022-05-09T04:09:05.013682Z"
    },
    "papermill": {
     "duration": 0.020477,
     "end_time": "2022-05-09T04:09:05.014691",
     "exception": false,
     "start_time": "2022-05-09T04:09:04.994214",
     "status": "completed"
    },
    "tags": [
     "injected-parameters"
    ]
   },
   "outputs": [],
   "source": [
    "# Parameters\n",
    "adata_path = \"mCG.CEF.h5ad\"\n",
    "max_cell_prop = 0.1\n",
    "n_components = \"auto\"\n",
    "p_cutoff = 0.1\n",
    "pre_cluster_name = \"leiden\"\n"
   ]
  },
  {
   "cell_type": "markdown",
   "id": "28d0db0a",
   "metadata": {
    "papermill": {
     "duration": 0.022314,
     "end_time": "2022-05-09T04:09:05.047040",
     "exception": false,
     "start_time": "2022-05-09T04:09:05.024726",
     "status": "completed"
    },
    "tags": []
   },
   "source": [
    "## Load Data"
   ]
  },
  {
   "cell_type": "code",
   "execution_count": 4,
   "id": "00ff80c4",
   "metadata": {
    "ExecuteTime": {
     "end_time": "2022-05-03T17:36:33.389582Z",
     "start_time": "2022-05-03T17:36:29.324833Z"
    },
    "execution": {
     "iopub.execute_input": "2022-05-09T04:09:05.085247Z",
     "iopub.status.busy": "2022-05-09T04:09:05.084752Z",
     "iopub.status.idle": "2022-05-09T04:09:05.249489Z",
     "shell.execute_reply": "2022-05-09T04:09:05.249871Z"
    },
    "papermill": {
     "duration": 0.192645,
     "end_time": "2022-05-09T04:09:05.250008",
     "exception": false,
     "start_time": "2022-05-09T04:09:05.057363",
     "status": "completed"
    },
    "tags": []
   },
   "outputs": [],
   "source": [
    "adata = anndata.read_h5ad(adata_path)"
   ]
  },
  {
   "cell_type": "markdown",
   "id": "dfad6339",
   "metadata": {
    "papermill": {
     "duration": 0.010304,
     "end_time": "2022-05-09T04:09:05.270626",
     "exception": false,
     "start_time": "2022-05-09T04:09:05.260322",
     "status": "completed"
    },
    "tags": []
   },
   "source": [
    "## Scale"
   ]
  },
  {
   "cell_type": "code",
   "execution_count": 5,
   "id": "c2bb7f2b",
   "metadata": {
    "ExecuteTime": {
     "end_time": "2022-05-03T17:37:17.712147Z",
     "start_time": "2022-05-03T17:36:33.391754Z"
    },
    "execution": {
     "iopub.execute_input": "2022-05-09T04:09:05.309085Z",
     "iopub.status.busy": "2022-05-09T04:09:05.308622Z",
     "iopub.status.idle": "2022-05-09T04:09:06.402003Z",
     "shell.execute_reply": "2022-05-09T04:09:06.402428Z"
    },
    "papermill": {
     "duration": 1.121679,
     "end_time": "2022-05-09T04:09:06.402588",
     "exception": false,
     "start_time": "2022-05-09T04:09:05.280909",
     "status": "completed"
    },
    "tags": []
   },
   "outputs": [],
   "source": [
    "scaler = log_scale(adata)"
   ]
  },
  {
   "cell_type": "markdown",
   "id": "7ec87a2f",
   "metadata": {
    "papermill": {
     "duration": 0.010368,
     "end_time": "2022-05-09T04:09:06.423814",
     "exception": false,
     "start_time": "2022-05-09T04:09:06.413446",
     "status": "completed"
    },
    "tags": []
   },
   "source": [
    "## PCA"
   ]
  },
  {
   "cell_type": "code",
   "execution_count": 6,
   "id": "1cb632b1",
   "metadata": {
    "ExecuteTime": {
     "end_time": "2022-05-03T17:42:10.512748Z",
     "start_time": "2022-05-03T17:37:17.714211Z"
    },
    "execution": {
     "iopub.execute_input": "2022-05-09T04:09:06.451059Z",
     "iopub.status.busy": "2022-05-09T04:09:06.450587Z",
     "iopub.status.idle": "2022-05-09T04:09:26.676054Z",
     "shell.execute_reply": "2022-05-09T04:09:26.676480Z"
    },
    "papermill": {
     "duration": 20.242213,
     "end_time": "2022-05-09T04:09:26.676643",
     "exception": false,
     "start_time": "2022-05-09T04:09:06.434430",
     "status": "completed"
    },
    "tags": []
   },
   "outputs": [
    {
     "data": {
      "image/png": "[encoded data removed]",
      "text/plain": [
       "<Figure size 432x288 with 1 Axes>"
      ]
     },
     "metadata": {
      "needs_background": "light"
     },
     "output_type": "display_data"
    },
    {
     "name": "stdout",
     "output_type": "stream",
     "text": [
      "50 components passed P cutoff of 0.1.\n",
      "Changing adata.obsm['X_pca'] from shape (12291, 100) to (12291, 50)\n"
     ]
    }
   ],
   "source": [
    "if adata.shape[1] > 3:\n",
    "    balanced_pca(adata, groups=pre_cluster_name, max_cell_prop=max_cell_prop)\n",
    "    sc.pl.pca_variance_ratio(adata)\n",
    "    ch_n_components = significant_pc_test(adata, p_cutoff=p_cutoff)\n",
    "else:\n",
    "    adata.obsm['X_pca'] = adata.X\n",
    "    import numpy as np\n",
    "    mat = np.zeros(shape=(adata.shape[1], adata.shape[1]))\n",
    "    np.fill_diagonal(mat, 1)\n",
    "    adata.varm['PCs'] = mat"
   ]
  },
  {
   "cell_type": "markdown",
   "id": "ea2c7d1f",
   "metadata": {
    "papermill": {
     "duration": 0.01165,
     "end_time": "2022-05-09T04:09:26.700696",
     "exception": false,
     "start_time": "2022-05-09T04:09:26.689046",
     "status": "completed"
    },
    "tags": []
   },
   "source": [
    "## Save"
   ]
  },
  {
   "cell_type": "code",
   "execution_count": 7,
   "id": "2e49f3d8",
   "metadata": {
    "ExecuteTime": {
     "end_time": "2022-05-03T17:42:11.565576Z",
     "start_time": "2022-05-03T17:42:10.514792Z"
    },
    "execution": {
     "iopub.execute_input": "2022-05-09T04:09:26.749122Z",
     "iopub.status.busy": "2022-05-09T04:09:26.748598Z",
     "iopub.status.idle": "2022-05-09T04:09:26.824969Z",
     "shell.execute_reply": "2022-05-09T04:09:26.825407Z"
    },
    "papermill": {
     "duration": 0.113141,
     "end_time": "2022-05-09T04:09:26.825577",
     "exception": false,
     "start_time": "2022-05-09T04:09:26.712436",
     "status": "completed"
    },
    "tags": []
   },
   "outputs": [],
   "source": [
    "# empty X to save space and memory, following analysis won't need X\n",
    "adata.X = csr_matrix(adata.shape)\n",
    "adata.write_h5ad('mcg_adata.with_coords.h5ad')"
   ]
  },
  {
   "cell_type": "code",
   "execution_count": 8,
   "id": "cdd07633",
   "metadata": {
    "ExecuteTime": {
     "end_time": "2022-05-03T18:47:23.477637Z",
     "start_time": "2022-05-03T18:47:23.466602Z"
    },
    "execution": {
     "iopub.execute_input": "2022-05-09T04:09:26.855429Z",
     "iopub.status.busy": "2022-05-09T04:09:26.854667Z",
     "iopub.status.idle": "2022-05-09T04:09:26.860573Z",
     "shell.execute_reply": "2022-05-09T04:09:26.861411Z"
    },
    "papermill": {
     "duration": 0.023852,
     "end_time": "2022-05-09T04:09:26.861668",
     "exception": false,
     "start_time": "2022-05-09T04:09:26.837816",
     "status": "completed"
    },
    "tags": []
   },
   "outputs": [],
   "source": [
    "from ALLCools.clustering import ReproduciblePCA\n",
    "\n",
    "rpca = ReproduciblePCA(scaler=scaler, mc_type='CGN', adata=adata)\n",
    "rpca.dump('mCG.ReproduciblePCA.lib')"
   ]
  },
  {
   "cell_type": "code",
   "execution_count": null,
   "id": "be899985",
   "metadata": {
    "papermill": {
     "duration": 0.011752,
     "end_time": "2022-05-09T04:09:26.885900",
     "exception": false,
     "start_time": "2022-05-09T04:09:26.874148",
     "status": "completed"
    },
    "tags": []
   },
   "outputs": [],
   "source": []
  }
 ],
 "metadata": {
  "hide_input": false,
  "kernelspec": {
   "display_name": "Python 3 (ipykernel)",
   "language": "python",
   "name": "python3"
  },
  "language_info": {
   "codemirror_mode": {
    "name": "ipython",
    "version": 3
   },
   "file_extension": ".py",
   "mimetype": "text/x-python",
   "name": "python",
   "nbconvert_exporter": "python",
   "pygments_lexer": "ipython3",
   "version": "3.8.12"
  },
  "papermill": {
   "default_parameters": {},
   "duration": 28.584051,
   "end_time": "2022-05-09T04:09:27.705016",
   "environment_variables": {},
   "exception": null,
   "input_path": "/home/hanliu/project/cemba/study/Clustering/CEMBA_MC/template/05b-Decomposition-mCG.ipynb",
   "output_path": "CB/05b-Decomposition-mCG.ipynb",
   "parameters": {
    "adata_path": "mCG.CEF.h5ad",
    "max_cell_prop": 0.1,
    "n_components": "auto",
    "p_cutoff": 0.1,
    "pre_cluster_name": "leiden"
   },
   "start_time": "2022-05-09T04:08:59.120965",
   "version": "2.3.3"
  },
  "toc": {
   "base_numbering": 1,
   "nav_menu": {},
   "number_sections": true,
   "sideBar": true,
   "skip_h1_title": true,
   "title_cell": "Table of Contents",
   "title_sidebar": "Contents",
   "toc_cell": false,
   "toc_position": {},
   "toc_section_display": true,
   "toc_window_display": true
  }
 },
 "nbformat": 4,
 "nbformat_minor": 5
}