{
 "cells": [
  {
   "cell_type": "markdown",
   "id": "f8e7c9ab",
   "metadata": {
    "papermill": {
     "duration": 0.015605,
     "end_time": "2022-05-09T04:02:17.098499",
     "exception": false,
     "start_time": "2022-05-09T04:02:17.082894",
     "status": "completed"
    },
    "tags": []
   },
   "source": [
    "# Preclustering and Cluster Enriched Features\n",
    "\n",
    "## Purpose\n",
    "The purpose of this step is to perform a simple pre-clustering using the highly variable features to get a pre-clusters labeling. We then select top enriched features for each cluster (CEF) for further analysis.\n",
    "\n",
    "## Input\n",
    "- HVF adata file.\n",
    "\n",
    "## Output\n",
    "- HVF adata file with pre-clusters and CEF annotated."
   ]
  },
  {
   "cell_type": "markdown",
   "id": "ca1f3beb",
   "metadata": {
    "papermill": {
     "duration": 0.012204,
     "end_time": "2022-05-09T04:02:17.123338",
     "exception": false,
     "start_time": "2022-05-09T04:02:17.111134",
     "status": "completed"
    },
    "tags": []
   },
   "source": [
    "## Import"
   ]
  },
  {
   "cell_type": "code",
   "execution_count": 1,
   "id": "90e20275",
   "metadata": {
    "ExecuteTime": {
     "end_time": "2022-05-03T07:50:54.197274Z",
     "start_time": "2022-05-03T07:50:52.234550Z"
    },
    "execution": {
     "iopub.execute_input": "2022-05-09T04:02:17.153543Z",
     "iopub.status.busy": "2022-05-09T04:02:17.153101Z",
     "iopub.status.idle": "2022-05-09T04:02:20.008702Z",
     "shell.execute_reply": "2022-05-09T04:02:20.009126Z"
    },
    "papermill": {
     "duration": 2.873781,
     "end_time": "2022-05-09T04:02:20.009376",
     "exception": false,
     "start_time": "2022-05-09T04:02:17.135595",
     "status": "completed"
    },
    "tags": []
   },
   "outputs": [],
   "source": [
    "import yaml\n",
    "import anndata\n",
    "import scanpy as sc\n",
    "import pandas as pd\n",
    "from ALLCools.clustering import cluster_enriched_features, significant_pc_test, log_scale"
   ]
  },
  {
   "cell_type": "markdown",
   "id": "a221ac7f",
   "metadata": {
    "papermill": {
     "duration": 0.012283,
     "end_time": "2022-05-09T04:02:20.033698",
     "exception": false,
     "start_time": "2022-05-09T04:02:20.021415",
     "status": "completed"
    },
    "tags": []
   },
   "source": [
    "## Parameters"
   ]
  },
  {
   "cell_type": "code",
   "execution_count": 2,
   "id": "2e5ae8f5",
   "metadata": {
    "ExecuteTime": {
     "end_time": "2022-05-03T07:50:54.232271Z",
     "start_time": "2022-05-03T07:50:54.226837Z"
    },
    "execution": {
     "iopub.execute_input": "2022-05-09T04:02:20.065189Z",
     "iopub.status.busy": "2022-05-09T04:02:20.062846Z",
     "iopub.status.idle": "2022-05-09T04:02:20.068003Z",
     "shell.execute_reply": "2022-05-09T04:02:20.068396Z"
    },
    "papermill": {
     "duration": 0.022689,
     "end_time": "2022-05-09T04:02:20.068523",
     "exception": false,
     "start_time": "2022-05-09T04:02:20.045834",
     "status": "completed"
    },
    "tags": [
     "parameters"
    ]
   },
   "outputs": [
    {
     "name": "stdout",
     "output_type": "stream",
     "text": [
      "Notebook configs:\n",
      "adata_path = mCG.HVF.h5ad\n",
      "alpha = 0.05\n",
      "cluster_col = None\n",
      "cluster_plot = False\n",
      "downsample = 1000\n",
      "knn = 25\n",
      "resolution = 1\n",
      "stat_plot = True\n",
      "top_n = 200\n"
     ]
    }
   ],
   "source": [
    "with open('config/04b.yaml', 'r') as f:\n",
    "    config = yaml.safe_load(f)\n",
    "    locals().update(config)\n",
    "    print('Notebook configs:')\n",
    "    for _k, _v in config.items():\n",
    "        print(f'{_k} = {_v}')"
   ]
  },
  {
   "cell_type": "code",
   "execution_count": 3,
   "id": "2e2fc7f0",
   "metadata": {
    "execution": {
     "iopub.execute_input": "2022-05-09T04:02:20.103342Z",
     "iopub.status.busy": "2022-05-09T04:02:20.102454Z",
     "iopub.status.idle": "2022-05-09T04:02:20.103796Z",
     "shell.execute_reply": "2022-05-09T04:02:20.102880Z"
    },
    "papermill": {
     "duration": 0.022427,
     "end_time": "2022-05-09T04:02:20.103900",
     "exception": false,
     "start_time": "2022-05-09T04:02:20.081473",
     "status": "completed"
    },
    "tags": [
     "injected-parameters"
    ]
   },
   "outputs": [],
   "source": [
    "# Parameters\n",
    "adata_path = \"mCG.HVF.h5ad\"\n",
    "alpha = 0.05\n",
    "cluster_col = None\n",
    "cluster_plot = False\n",
    "downsample = 1000\n",
    "knn = 25\n",
    "resolution = 1\n",
    "stat_plot = True\n",
    "top_n = 200\n"
   ]
  },
  {
   "cell_type": "markdown",
   "id": "6ef4db34",
   "metadata": {
    "papermill": {
     "duration": 0.012733,
     "end_time": "2022-05-09T04:02:20.129334",
     "exception": false,
     "start_time": "2022-05-09T04:02:20.116601",
     "status": "completed"
    },
    "tags": []
   },
   "source": [
    "## Load Data"
   ]
  },
  {
   "cell_type": "code",
   "execution_count": 4,
   "id": "b81d2356",
   "metadata": {
    "ExecuteTime": {
     "end_time": "2022-05-03T07:51:06.572338Z",
     "start_time": "2022-05-03T07:50:54.233997Z"
    },
    "execution": {
     "iopub.execute_input": "2022-05-09T04:02:20.168173Z",
     "iopub.status.busy": "2022-05-09T04:02:20.167687Z",
     "iopub.status.idle": "2022-05-09T04:02:20.814897Z",
     "shell.execute_reply": "2022-05-09T04:02:20.815324Z"
    },
    "papermill": {
     "duration": 0.67317,
     "end_time": "2022-05-09T04:02:20.815483",
     "exception": false,
     "start_time": "2022-05-09T04:02:20.142313",
     "status": "completed"
    },
    "tags": []
   },
   "outputs": [],
   "source": [
    "adata = anndata.read_h5ad(adata_path)"
   ]
  },
  {
   "cell_type": "markdown",
   "id": "cb5b211d",
   "metadata": {
    "papermill": {
     "duration": 0.013138,
     "end_time": "2022-05-09T04:02:20.855098",
     "exception": false,
     "start_time": "2022-05-09T04:02:20.841960",
     "status": "completed"
    },
    "tags": []
   },
   "source": [
    "## Pre-Clustering\n",
    "\n",
    "If cluster label is not provided, will perform basic clustering here"
   ]
  },
  {
   "cell_type": "code",
   "execution_count": 5,
   "id": "f99cfe33",
   "metadata": {
    "ExecuteTime": {
     "end_time": "2022-05-03T08:11:20.759838Z",
     "start_time": "2022-05-03T08:03:24.183696Z"
    },
    "execution": {
     "iopub.execute_input": "2022-05-09T04:02:20.899288Z",
     "iopub.status.busy": "2022-05-09T04:02:20.898775Z",
     "iopub.status.idle": "2022-05-09T04:08:44.920751Z",
     "shell.execute_reply": "2022-05-09T04:08:44.921177Z"
    },
    "papermill": {
     "duration": 384.052637,
     "end_time": "2022-05-09T04:08:44.921337",
     "exception": false,
     "start_time": "2022-05-09T04:02:20.868700",
     "status": "completed"
    },
    "tags": []
   },
   "outputs": [
    {
     "name": "stdout",
     "output_type": "stream",
     "text": [
      "28 components passed P cutoff of 0.1.\n",
      "Changing adata.obsm['X_pca'] from shape (12291, 100) to (12291, 28)\n"
     ]
    }
   ],
   "source": [
    "if cluster_col is None:\n",
    "    # IMPORTANT\n",
    "    # put the unscaled matrix in adata.raw\n",
    "    adata.raw = adata\n",
    "    log_scale(adata)\n",
    "    \n",
    "    sc.tl.pca(adata, n_comps=min(min(adata.shape) - 1, 100))\n",
    "    significant_pc_test(adata, p_cutoff=0.1, update=True)\n",
    "    \n",
    "    sc.pp.neighbors(adata, n_neighbors=knn)\n",
    "    sc.tl.leiden(adata, resolution=resolution)\n",
    "    \n",
    "    if cluster_plot:\n",
    "        sc.tl.umap(adata)\n",
    "        sc.pl.umap(adata, color='leiden')\n",
    "    \n",
    "    # return to unscaled X, CEF need to use the unscaled matrix\n",
    "    adata = adata.raw.to_adata()\n",
    "    del adata.uns['log']\n",
    "    \n",
    "    cluster_col = 'leiden'"
   ]
  },
  {
   "cell_type": "markdown",
   "id": "57b666ac",
   "metadata": {
    "papermill": {
     "duration": 0.013343,
     "end_time": "2022-05-09T04:08:44.947184",
     "exception": false,
     "start_time": "2022-05-09T04:08:44.933841",
     "status": "completed"
    },
    "tags": []
   },
   "source": [
    "## Downsample if the adata is too large"
   ]
  },
  {
   "cell_type": "code",
   "execution_count": 6,
   "id": "a84198a8",
   "metadata": {
    "ExecuteTime": {
     "end_time": "2022-05-03T08:11:26.724756Z",
     "start_time": "2022-05-03T08:11:20.762251Z"
    },
    "execution": {
     "iopub.execute_input": "2022-05-09T04:08:44.996667Z",
     "iopub.status.busy": "2022-05-09T04:08:44.979026Z",
     "iopub.status.idle": "2022-05-09T04:08:46.326584Z",
     "shell.execute_reply": "2022-05-09T04:08:46.327135Z"
    },
    "papermill": {
     "duration": 1.366727,
     "end_time": "2022-05-09T04:08:46.327302",
     "exception": false,
     "start_time": "2022-05-09T04:08:44.960575",
     "status": "completed"
    },
    "tags": []
   },
   "outputs": [],
   "source": [
    "if downsample is not None:\n",
    "    use_cells = []\n",
    "    for cluster, sub_df in adata.obs.groupby(cluster_col):\n",
    "        if sub_df.shape[0] > downsample:\n",
    "            cells = sub_df.sample(downsample).index\n",
    "        else:\n",
    "            cells = sub_df.index\n",
    "        use_cells += cells.tolist()\n",
    "    use_adata = adata[pd.Index(use_cells), :].copy()\n",
    "else:\n",
    "    use_adata = adata"
   ]
  },
  {
   "cell_type": "markdown",
   "id": "3e7806a6",
   "metadata": {
    "papermill": {
     "duration": 0.013608,
     "end_time": "2022-05-09T04:08:46.358263",
     "exception": false,
     "start_time": "2022-05-09T04:08:46.344655",
     "status": "completed"
    },
    "tags": []
   },
   "source": [
    "## Cluster Enriched Features (CEF)"
   ]
  },
  {
   "cell_type": "code",
   "execution_count": 7,
   "id": "f00638c5",
   "metadata": {
    "ExecuteTime": {
     "end_time": "2022-05-03T08:11:49.420952Z",
     "start_time": "2022-05-03T08:11:26.726118Z"
    },
    "execution": {
     "iopub.execute_input": "2022-05-09T04:08:46.389665Z",
     "iopub.status.busy": "2022-05-09T04:08:46.389149Z",
     "iopub.status.idle": "2022-05-09T04:08:54.346450Z",
     "shell.execute_reply": "2022-05-09T04:08:54.346958Z"
    },
    "papermill": {
     "duration": 7.975286,
     "end_time": "2022-05-09T04:08:54.347115",
     "exception": false,
     "start_time": "2022-05-09T04:08:46.371829",
     "status": "completed"
    },
    "tags": []
   },
   "outputs": [
    {
     "name": "stdout",
     "output_type": "stream",
     "text": [
      "Found 29 clusters to compute feature enrichment score\n",
      "Computing enrichment score\n"
     ]
    },
    {
     "name": "stdout",
     "output_type": "stream",
     "text": [
      "Computing enrichment score FDR-corrected P values\n"
     ]
    },
    {
     "name": "stdout",
     "output_type": "stream",
     "text": [
      "Selected 2750 unique features\n"
     ]
    },
    {
     "data": {
      "image/png": "[encoded data removed]",
      "text/plain": [
       "<Figure size 1080x360 with 3 Axes>"
      ]
     },
     "metadata": {
      "needs_background": "light"
     },
     "output_type": "display_data"
    }
   ],
   "source": [
    "cluster_enriched_features(use_adata,\n",
    "                          cluster_col=cluster_col,\n",
    "                          top_n=top_n,\n",
    "                          alpha=alpha,\n",
    "                          stat_plot=True)"
   ]
  },
  {
   "cell_type": "code",
   "execution_count": 8,
   "id": "e882af74",
   "metadata": {
    "ExecuteTime": {
     "end_time": "2022-05-03T08:11:49.426879Z",
     "start_time": "2022-05-03T08:11:49.422937Z"
    },
    "execution": {
     "iopub.execute_input": "2022-05-09T04:08:54.402274Z",
     "iopub.status.busy": "2022-05-09T04:08:54.401741Z",
     "iopub.status.idle": "2022-05-09T04:08:54.409245Z",
     "shell.execute_reply": "2022-05-09T04:08:54.408816Z"
    },
    "papermill": {
     "duration": 0.032972,
     "end_time": "2022-05-09T04:08:54.409372",
     "exception": false,
     "start_time": "2022-05-09T04:08:54.376400",
     "status": "completed"
    },
    "tags": []
   },
   "outputs": [
    {
     "data": {
      "text/plain": [
       "AnnData object with n_obs × n_vars = 11307 × 15000\n",
       "    obs: 'leiden'\n",
       "    var: 'chrom', 'cov_mean', 'end', 'start', 'CGN_feature_select', 'leiden_enriched_features'\n",
       "    uns: 'pca', 'neighbors', 'leiden', 'leiden_feature_enrichment'\n",
       "    obsm: 'X_pca'"
      ]
     },
     "execution_count": 8,
     "metadata": {},
     "output_type": "execute_result"
    }
   ],
   "source": [
    "use_adata"
   ]
  },
  {
   "cell_type": "code",
   "execution_count": 9,
   "id": "e145aeeb",
   "metadata": {
    "ExecuteTime": {
     "end_time": "2022-05-03T08:11:49.431467Z",
     "start_time": "2022-05-03T08:11:49.427977Z"
    },
    "execution": {
     "iopub.execute_input": "2022-05-09T04:08:54.458446Z",
     "iopub.status.busy": "2022-05-09T04:08:54.457530Z",
     "iopub.status.idle": "2022-05-09T04:08:54.458896Z",
     "shell.execute_reply": "2022-05-09T04:08:54.457974Z"
    },
    "papermill": {
     "duration": 0.024453,
     "end_time": "2022-05-09T04:08:54.459011",
     "exception": false,
     "start_time": "2022-05-09T04:08:54.434558",
     "status": "completed"
    },
    "tags": []
   },
   "outputs": [],
   "source": [
    "if downsample is not None:\n",
    "    adata.uns[f'{cluster_col}_feature_enrichment'] = use_adata.uns[f'{cluster_col}_feature_enrichment']\n",
    "    adata.var[f'{cluster_col}_enriched_features'] = use_adata.var[f'{cluster_col}_enriched_features']\n",
    "else:\n",
    "    adata = use_adata"
   ]
  },
  {
   "cell_type": "markdown",
   "id": "2d92f86f",
   "metadata": {
    "papermill": {
     "duration": 0.015691,
     "end_time": "2022-05-09T04:08:54.491434",
     "exception": false,
     "start_time": "2022-05-09T04:08:54.475743",
     "status": "completed"
    },
    "tags": []
   },
   "source": [
    "## Save AnnData"
   ]
  },
  {
   "cell_type": "code",
   "execution_count": 10,
   "id": "68cb0b8c",
   "metadata": {
    "ExecuteTime": {
     "start_time": "2022-05-03T08:03:31.677Z"
    },
    "execution": {
     "iopub.execute_input": "2022-05-09T04:08:54.531189Z",
     "iopub.status.busy": "2022-05-09T04:08:54.530682Z",
     "iopub.status.idle": "2022-05-09T04:08:55.623656Z",
     "shell.execute_reply": "2022-05-09T04:08:55.624042Z"
    },
    "papermill": {
     "duration": 1.11635,
     "end_time": "2022-05-09T04:08:55.624185",
     "exception": false,
     "start_time": "2022-05-09T04:08:54.507835",
     "status": "completed"
    },
    "tags": []
   },
   "outputs": [],
   "source": [
    "adata = adata[:, adata.var[f'{cluster_col}_enriched_features']]\n",
    "adata.write_h5ad('mCG.CEF.h5ad')"
   ]
  },
  {
   "cell_type": "code",
   "execution_count": null,
   "id": "285ad4e3",
   "metadata": {
    "papermill": {
     "duration": 0.016358,
     "end_time": "2022-05-09T04:08:55.656509",
     "exception": false,
     "start_time": "2022-05-09T04:08:55.640151",
     "status": "completed"
    },
    "tags": []
   },
   "outputs": [],
   "source": []
  }
 ],
 "metadata": {
  "hide_input": false,
  "kernelspec": {
   "display_name": "Python 3 (ipykernel)",
   "language": "python",
   "name": "python3"
  },
  "language_info": {
   "codemirror_mode": {
    "name": "ipython",
    "version": 3
   },
   "file_extension": ".py",
   "mimetype": "text/x-python",
   "name": "python",
   "nbconvert_exporter": "python",
   "pygments_lexer": "ipython3",
   "version": "3.8.12"
  },
  "papermill": {
   "default_parameters": {},
   "duration": 402.784282,
   "end_time": "2022-05-09T04:08:57.869267",
   "environment_variables": {},
   "exception": null,
   "input_path": "/home/hanliu/project/cemba/study/Clustering/CEMBA_MC/template/04b-PreclusteringAndClusterEnrichedFeatures-mCG.ipynb",
   "output_path": "CB/04b-PreclusteringAndClusterEnrichedFeatures-mCG.ipynb",
   "parameters": {
    "adata_path": "mCG.HVF.h5ad",
    "alpha": 0.05,
    "cluster_col": null,
    "cluster_plot": false,
    "downsample": 1000,
    "knn": 25,
    "resolution": 1,
    "stat_plot": true,
    "top_n": 200
   },
   "start_time": "2022-05-09T04:02:15.084985",
   "version": "2.3.3"
  },
  "toc": {
   "base_numbering": 1,
   "nav_menu": {},
   "number_sections": true,
   "sideBar": true,
   "skip_h1_title": true,
   "title_cell": "Table of Contents",
   "title_sidebar": "Contents",
   "toc_cell": false,
   "toc_position": {},
   "toc_section_display": true,
   "toc_window_display": true
  }
 },
 "nbformat": 4,
 "nbformat_minor": 5
}