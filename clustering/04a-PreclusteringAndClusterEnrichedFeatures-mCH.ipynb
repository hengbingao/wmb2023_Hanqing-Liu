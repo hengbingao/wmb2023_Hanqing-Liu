{
 "cells": [
  {
   "cell_type": "markdown",
   "id": "b8dca992",
   "metadata": {
    "papermill": {
     "duration": 0.050154,
     "end_time": "2022-05-09T03:08:32.178248",
     "exception": false,
     "start_time": "2022-05-09T03:08:32.128094",
     "status": "completed"
    },
    "tags": []
   },
   "source": [
    "# Preclustering and Cluster Enriched Features\n",
    "\n",
    "## Purpose\n",
    "The purpose of this step is to perform a simple pre-clustering using the highly variable features to get a pre-clusters labeling. We then select top enriched features for each cluster (CEF) for further analysis.\n",
    "\n",
    "## Input\n",
    "- HVF adata file.\n",
    "\n",
    "## Output\n",
    "- HVF adata file with pre-clusters and CEF annotated."
   ]
  },
  {
   "cell_type": "markdown",
   "id": "b73bbb32",
   "metadata": {
    "papermill": {
     "duration": 0.00867,
     "end_time": "2022-05-09T03:08:32.294975",
     "exception": false,
     "start_time": "2022-05-09T03:08:32.286305",
     "status": "completed"
    },
    "tags": []
   },
   "source": [
    "## Import"
   ]
  },
  {
   "cell_type": "code",
   "execution_count": 1,
   "id": "4df11e42",
   "metadata": {
    "ExecuteTime": {
     "end_time": "2022-05-03T07:28:26.803735Z",
     "start_time": "2022-05-03T07:28:06.754284Z"
    },
    "execution": {
     "iopub.execute_input": "2022-05-09T03:08:32.318640Z",
     "iopub.status.busy": "2022-05-09T03:08:32.318220Z",
     "iopub.status.idle": "2022-05-09T03:08:34.576601Z",
     "shell.execute_reply": "2022-05-09T03:08:34.576093Z"
    },
    "papermill": {
     "duration": 2.273169,
     "end_time": "2022-05-09T03:08:34.576723",
     "exception": false,
     "start_time": "2022-05-09T03:08:32.303554",
     "status": "completed"
    },
    "tags": []
   },
   "outputs": [],
   "source": [
    "import yaml\n",
    "import anndata\n",
    "import scanpy as sc\n",
    "import pandas as pd\n",
    "from ALLCools.clustering import cluster_enriched_features, significant_pc_test, log_scale"
   ]
  },
  {
   "cell_type": "markdown",
   "id": "88146a08",
   "metadata": {
    "papermill": {
     "duration": 0.008781,
     "end_time": "2022-05-09T03:08:34.594593",
     "exception": false,
     "start_time": "2022-05-09T03:08:34.585812",
     "status": "completed"
    },
    "tags": []
   },
   "source": [
    "## Parameters"
   ]
  },
  {
   "cell_type": "code",
   "execution_count": 2,
   "id": "1c5f4d27",
   "metadata": {
    "ExecuteTime": {
     "end_time": "2022-05-03T07:40:17.236288Z",
     "start_time": "2022-05-03T07:40:17.230407Z"
    },
    "execution": {
     "iopub.execute_input": "2022-05-09T03:08:34.618422Z",
     "iopub.status.busy": "2022-05-09T03:08:34.618005Z",
     "iopub.status.idle": "2022-05-09T03:08:34.620783Z",
     "shell.execute_reply": "2022-05-09T03:08:34.621103Z"
    },
    "papermill": {
     "duration": 0.018031,
     "end_time": "2022-05-09T03:08:34.621236",
     "exception": false,
     "start_time": "2022-05-09T03:08:34.603205",
     "status": "completed"
    },
    "tags": [
     "parameters"
    ]
   },
   "outputs": [
    {
     "name": "stdout",
     "output_type": "stream",
     "text": [
      "Notebook configs:\n",
      "adata_path = mCH.HVF.h5ad\n",
      "alpha = 0.05\n",
      "cluster_col = None\n",
      "cluster_plot = False\n",
      "downsample = 1000\n",
      "knn = 25\n",
      "resolution = 1\n",
      "stat_plot = True\n",
      "top_n = 200\n"
     ]
    }
   ],
   "source": [
    "with open('config/04a.yaml', 'r') as f:\n",
    "    config = yaml.safe_load(f)\n",
    "    locals().update(config)\n",
    "    print('Notebook configs:')\n",
    "    for _k, _v in config.items():\n",
    "        print(f'{_k} = {_v}')"
   ]
  },
  {
   "cell_type": "code",
   "execution_count": 3,
   "id": "1d11b803",
   "metadata": {
    "execution": {
     "iopub.execute_input": "2022-05-09T03:08:34.642649Z",
     "iopub.status.busy": "2022-05-09T03:08:34.642261Z",
     "iopub.status.idle": "2022-05-09T03:08:34.643914Z",
     "shell.execute_reply": "2022-05-09T03:08:34.644233Z"
    },
    "papermill": {
     "duration": 0.014102,
     "end_time": "2022-05-09T03:08:34.644330",
     "exception": false,
     "start_time": "2022-05-09T03:08:34.630228",
     "status": "completed"
    },
    "tags": [
     "injected-parameters"
    ]
   },
   "outputs": [],
   "source": [
    "# Parameters\n",
    "adata_path = \"mCH.HVF.h5ad\"\n",
    "alpha = 0.05\n",
    "cluster_col = None\n",
    "cluster_plot = False\n",
    "downsample = 1000\n",
    "knn = 25\n",
    "resolution = 1\n",
    "stat_plot = True\n",
    "top_n = 200\n"
   ]
  },
  {
   "cell_type": "markdown",
   "id": "6332a001",
   "metadata": {
    "papermill": {
     "duration": 0.009263,
     "end_time": "2022-05-09T03:08:34.662360",
     "exception": false,
     "start_time": "2022-05-09T03:08:34.653097",
     "status": "completed"
    },
    "tags": []
   },
   "source": [
    "## Load Data"
   ]
  },
  {
   "cell_type": "code",
   "execution_count": 4,
   "id": "29398c93",
   "metadata": {
    "ExecuteTime": {
     "end_time": "2022-05-03T07:28:45.031944Z",
     "start_time": "2022-05-03T07:28:26.816852Z"
    },
    "execution": {
     "iopub.execute_input": "2022-05-09T03:08:34.686658Z",
     "iopub.status.busy": "2022-05-09T03:08:34.686245Z",
     "iopub.status.idle": "2022-05-09T03:08:35.232684Z",
     "shell.execute_reply": "2022-05-09T03:08:35.232170Z"
    },
    "papermill": {
     "duration": 0.561061,
     "end_time": "2022-05-09T03:08:35.232819",
     "exception": false,
     "start_time": "2022-05-09T03:08:34.671758",
     "status": "completed"
    },
    "tags": []
   },
   "outputs": [],
   "source": [
    "adata = anndata.read_h5ad(adata_path)"
   ]
  },
  {
   "cell_type": "markdown",
   "id": "dfd5bcdf",
   "metadata": {
    "papermill": {
     "duration": 0.012577,
     "end_time": "2022-05-09T03:08:35.257214",
     "exception": false,
     "start_time": "2022-05-09T03:08:35.244637",
     "status": "completed"
    },
    "tags": []
   },
   "source": [
    "## Pre-Clustering\n",
    "\n",
    "If cluster label is not provided, will perform basic clustering here"
   ]
  },
  {
   "cell_type": "code",
   "execution_count": 5,
   "id": "78986409",
   "metadata": {
    "ExecuteTime": {
     "end_time": "2022-05-03T07:48:26.805528Z",
     "start_time": "2022-05-03T07:40:40.939147Z"
    },
    "execution": {
     "iopub.execute_input": "2022-05-09T03:08:35.288538Z",
     "iopub.status.busy": "2022-05-09T03:08:35.288028Z",
     "iopub.status.idle": "2022-05-09T03:14:20.810283Z",
     "shell.execute_reply": "2022-05-09T03:14:20.809789Z"
    },
    "papermill": {
     "duration": 345.54062,
     "end_time": "2022-05-09T03:14:20.810420",
     "exception": false,
     "start_time": "2022-05-09T03:08:35.269800",
     "status": "completed"
    },
    "tags": []
   },
   "outputs": [
    {
     "name": "stdout",
     "output_type": "stream",
     "text": [
      "38 components passed P cutoff of 0.1.\n",
      "Changing adata.obsm['X_pca'] from shape (12291, 100) to (12291, 38)\n"
     ]
    }
   ],
   "source": [
    "if cluster_col is None:\n",
    "    # IMPORTANT\n",
    "    # put the unscaled matrix in adata.raw\n",
    "    adata.raw = adata\n",
    "    log_scale(adata)\n",
    "    \n",
    "    sc.tl.pca(adata, n_comps=min(min(adata.shape) - 1, 100))\n",
    "    significant_pc_test(adata, p_cutoff=0.1, update=True)\n",
    "    \n",
    "    sc.pp.neighbors(adata, n_neighbors=knn)\n",
    "    sc.tl.leiden(adata, resolution=resolution)\n",
    "    \n",
    "    if cluster_plot:\n",
    "        sc.tl.umap(adata)\n",
    "        sc.pl.umap(adata, color='leiden')\n",
    "    \n",
    "    # return to unscaled X, CEF need to use the unscaled matrix\n",
    "    adata = adata.raw.to_adata()\n",
    "    del adata.uns['log']\n",
    "    \n",
    "    cluster_col = 'leiden'"
   ]
  },
  {
   "cell_type": "markdown",
   "id": "5228b565",
   "metadata": {
    "papermill": {
     "duration": 0.01285,
     "end_time": "2022-05-09T03:14:20.836706",
     "exception": false,
     "start_time": "2022-05-09T03:14:20.823856",
     "status": "completed"
    },
    "tags": []
   },
   "source": [
    "## Downsample if the adata is too large"
   ]
  },
  {
   "cell_type": "code",
   "execution_count": 6,
   "id": "7f092141",
   "metadata": {
    "ExecuteTime": {
     "end_time": "2022-05-03T07:48:33.377022Z",
     "start_time": "2022-05-03T07:48:26.808676Z"
    },
    "execution": {
     "iopub.execute_input": "2022-05-09T03:14:20.873340Z",
     "iopub.status.busy": "2022-05-09T03:14:20.872854Z",
     "iopub.status.idle": "2022-05-09T03:14:22.183980Z",
     "shell.execute_reply": "2022-05-09T03:14:22.184413Z"
    },
    "papermill": {
     "duration": 1.334995,
     "end_time": "2022-05-09T03:14:22.184594",
     "exception": false,
     "start_time": "2022-05-09T03:14:20.849599",
     "status": "completed"
    },
    "tags": []
   },
   "outputs": [],
   "source": [
    "if downsample is not None:\n",
    "    use_cells = []\n",
    "    for cluster, sub_df in adata.obs.groupby(cluster_col):\n",
    "        if sub_df.shape[0] > downsample:\n",
    "            cells = sub_df.sample(downsample).index\n",
    "        else:\n",
    "            cells = sub_df.index\n",
    "        use_cells += cells.tolist()\n",
    "    use_adata = adata[pd.Index(use_cells), :].copy()\n",
    "else:\n",
    "    use_adata = adata"
   ]
  },
  {
   "cell_type": "markdown",
   "id": "258e1d68",
   "metadata": {
    "papermill": {
     "duration": 0.013078,
     "end_time": "2022-05-09T03:14:22.211346",
     "exception": false,
     "start_time": "2022-05-09T03:14:22.198268",
     "status": "completed"
    },
    "tags": []
   },
   "source": [
    "## Cluster Enriched Features (CEF)"
   ]
  },
  {
   "cell_type": "code",
   "execution_count": 7,
   "id": "5364f6ac",
   "metadata": {
    "ExecuteTime": {
     "end_time": "2022-05-03T07:48:53.805296Z",
     "start_time": "2022-05-03T07:48:33.378507Z"
    },
    "execution": {
     "iopub.execute_input": "2022-05-09T03:14:22.250211Z",
     "iopub.status.busy": "2022-05-09T03:14:22.249716Z",
     "iopub.status.idle": "2022-05-09T03:14:30.700976Z",
     "shell.execute_reply": "2022-05-09T03:14:30.701390Z"
    },
    "papermill": {
     "duration": 8.477908,
     "end_time": "2022-05-09T03:14:30.701560",
     "exception": false,
     "start_time": "2022-05-09T03:14:22.223652",
     "status": "completed"
    },
    "scrolled": false,
    "tags": []
   },
   "outputs": [
    {
     "name": "stdout",
     "output_type": "stream",
     "text": [
      "Found 33 clusters to compute feature enrichment score\n",
      "Computing enrichment score\n"
     ]
    },
    {
     "name": "stdout",
     "output_type": "stream",
     "text": [
      "Computing enrichment score FDR-corrected P values\n"
     ]
    },
    {
     "name": "stdout",
     "output_type": "stream",
     "text": [
      "Selected 2244 unique features\n"
     ]
    },
    {
     "data": {
      "image/png": "[encoded data removed]",
      "text/plain": [
       "<Figure size 1080x360 with 3 Axes>"
      ]
     },
     "metadata": {
      "needs_background": "light"
     },
     "output_type": "display_data"
    }
   ],
   "source": [
    "cluster_enriched_features(use_adata,\n",
    "                          cluster_col=cluster_col,\n",
    "                          top_n=top_n,\n",
    "                          alpha=alpha,\n",
    "                          stat_plot=True)"
   ]
  },
  {
   "cell_type": "code",
   "execution_count": 8,
   "id": "dbf10d55",
   "metadata": {
    "ExecuteTime": {
     "end_time": "2022-05-03T07:48:53.810704Z",
     "start_time": "2022-05-03T07:48:53.807079Z"
    },
    "execution": {
     "iopub.execute_input": "2022-05-09T03:14:30.739537Z",
     "iopub.status.busy": "2022-05-09T03:14:30.738994Z",
     "iopub.status.idle": "2022-05-09T03:14:30.740701Z",
     "shell.execute_reply": "2022-05-09T03:14:30.740208Z"
    },
    "papermill": {
     "duration": 0.023512,
     "end_time": "2022-05-09T03:14:30.740821",
     "exception": false,
     "start_time": "2022-05-09T03:14:30.717309",
     "status": "completed"
    },
    "tags": []
   },
   "outputs": [],
   "source": [
    "if downsample is not None:\n",
    "    adata.uns[f'{cluster_col}_feature_enrichment'] = use_adata.uns[f'{cluster_col}_feature_enrichment']\n",
    "    adata.var[f'{cluster_col}_enriched_features'] = use_adata.var[f'{cluster_col}_enriched_features']\n",
    "else:\n",
    "    adata = use_adata"
   ]
  },
  {
   "cell_type": "markdown",
   "id": "5d9fdf5e",
   "metadata": {
    "papermill": {
     "duration": 0.014053,
     "end_time": "2022-05-09T03:14:30.767990",
     "exception": false,
     "start_time": "2022-05-09T03:14:30.753937",
     "status": "completed"
    },
    "tags": []
   },
   "source": [
    "## Save AnnData"
   ]
  },
  {
   "cell_type": "code",
   "execution_count": 9,
   "id": "2a18d572",
   "metadata": {
    "ExecuteTime": {
     "end_time": "2022-05-03T07:49:58.449537Z",
     "start_time": "2022-05-03T07:48:53.811853Z"
    },
    "execution": {
     "iopub.execute_input": "2022-05-09T03:14:30.809464Z",
     "iopub.status.busy": "2022-05-09T03:14:30.808973Z",
     "iopub.status.idle": "2022-05-09T03:14:32.046478Z",
     "shell.execute_reply": "2022-05-09T03:14:32.046910Z"
    },
    "papermill": {
     "duration": 1.263768,
     "end_time": "2022-05-09T03:14:32.047082",
     "exception": false,
     "start_time": "2022-05-09T03:14:30.783314",
     "status": "completed"
    },
    "tags": []
   },
   "outputs": [],
   "source": [
    "adata = adata[:, adata.var[f'{cluster_col}_enriched_features']]\n",
    "adata.write_h5ad('mCH.CEF.h5ad')"
   ]
  },
  {
   "cell_type": "code",
   "execution_count": null,
   "id": "bc02abbe",
   "metadata": {
    "papermill": {
     "duration": 0.014804,
     "end_time": "2022-05-09T03:14:32.091366",
     "exception": false,
     "start_time": "2022-05-09T03:14:32.076562",
     "status": "completed"
    },
    "tags": []
   },
   "outputs": [],
   "source": []
  }
 ],
 "metadata": {
  "hide_input": false,
  "kernelspec": {
   "display_name": "Python 3 (ipykernel)",
   "language": "python",
   "name": "python3"
  },
  "language_info": {
   "codemirror_mode": {
    "name": "ipython",
    "version": 3
   },
   "file_extension": ".py",
   "mimetype": "text/x-python",
   "name": "python",
   "nbconvert_exporter": "python",
   "pygments_lexer": "ipython3",
   "version": "3.8.12"
  },
  "papermill": {
   "default_parameters": {},
   "duration": 364.616024,
   "end_time": "2022-05-09T03:14:35.122320",
   "environment_variables": {},
   "exception": null,
   "input_path": "/home/hanliu/project/cemba/study/Clustering/CEMBA_MC/template/04a-PreclusteringAndClusterEnrichedFeatures-mCH.ipynb",
   "output_path": "CB/04a-PreclusteringAndClusterEnrichedFeatures-mCH.ipynb",
   "parameters": {
    "adata_path": "mCH.HVF.h5ad",
    "alpha": 0.05,
    "cluster_col": null,
    "cluster_plot": false,
    "downsample": 1000,
    "knn": 25,
    "resolution": 1,
    "stat_plot": true,
    "top_n": 200
   },
   "start_time": "2022-05-09T03:08:30.506296",
   "version": "2.3.3"
  },
  "toc": {
   "base_numbering": 1,
   "nav_menu": {},
   "number_sections": true,
   "sideBar": true,
   "skip_h1_title": true,
   "title_cell": "Table of Contents",
   "title_sidebar": "Contents",
   "toc_cell": false,
   "toc_position": {},
   "toc_section_display": true,
   "toc_window_display": true
  }
 },
 "nbformat": 4,
 "nbformat_minor": 5
}