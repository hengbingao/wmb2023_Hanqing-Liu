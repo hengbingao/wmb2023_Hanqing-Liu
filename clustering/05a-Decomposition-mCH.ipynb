{
 "cells": [
  {
   "cell_type": "code",
   "execution_count": 1,
   "id": "c2ba48e2",
   "metadata": {
    "ExecuteTime": {
     "end_time": "2022-05-03T17:36:07.595325Z",
     "start_time": "2022-05-03T17:36:05.659192Z"
    },
    "execution": {
     "iopub.execute_input": "2022-05-09T03:14:38.646116Z",
     "iopub.status.busy": "2022-05-09T03:14:38.645603Z",
     "iopub.status.idle": "2022-05-09T03:14:42.364587Z",
     "shell.execute_reply": "2022-05-09T03:14:42.365031Z"
    },
    "papermill": {
     "duration": 3.760473,
     "end_time": "2022-05-09T03:14:42.365313",
     "exception": false,
     "start_time": "2022-05-09T03:14:38.604840",
     "status": "completed"
    },
    "tags": []
   },
   "outputs": [],
   "source": [
    "import yaml\n",
    "import anndata\n",
    "import scanpy as sc\n",
    "from scipy.sparse import csr_matrix\n",
    "from ALLCools.clustering import significant_pc_test, log_scale, balanced_pca"
   ]
  },
  {
   "cell_type": "markdown",
   "id": "26e96010",
   "metadata": {
    "papermill": {
     "duration": 0.009782,
     "end_time": "2022-05-09T03:14:42.385751",
     "exception": false,
     "start_time": "2022-05-09T03:14:42.375969",
     "status": "completed"
    },
    "tags": []
   },
   "source": [
    "## Parameters"
   ]
  },
  {
   "cell_type": "code",
   "execution_count": 2,
   "id": "8db099ad",
   "metadata": {
    "ExecuteTime": {
     "end_time": "2022-05-03T17:36:07.603587Z",
     "start_time": "2022-05-03T17:36:07.598150Z"
    },
    "execution": {
     "iopub.execute_input": "2022-05-09T03:14:42.414484Z",
     "iopub.status.busy": "2022-05-09T03:14:42.413889Z",
     "iopub.status.idle": "2022-05-09T03:14:42.416350Z",
     "shell.execute_reply": "2022-05-09T03:14:42.414933Z"
    },
    "papermill": {
     "duration": 0.020956,
     "end_time": "2022-05-09T03:14:42.416461",
     "exception": false,
     "start_time": "2022-05-09T03:14:42.395505",
     "status": "completed"
    },
    "tags": [
     "parameters"
    ]
   },
   "outputs": [
    {
     "name": "stdout",
     "output_type": "stream",
     "text": [
      "Notebook configs:\n",
      "adata_path = mCH.CEF.h5ad\n",
      "max_cell_prop = 0.1\n",
      "n_components = auto\n",
      "p_cutoff = 0.1\n",
      "pre_cluster_name = leiden\n"
     ]
    }
   ],
   "source": [
    "with open('config/05a.yaml', 'r') as f:\n",
    "    config = yaml.safe_load(f)\n",
    "    locals().update(config)\n",
    "    print('Notebook configs:')\n",
    "    for _k, _v in config.items():\n",
    "        print(f'{_k} = {_v}')"
   ]
  },
  {
   "cell_type": "code",
   "execution_count": 3,
   "id": "6e150492",
   "metadata": {
    "execution": {
     "iopub.execute_input": "2022-05-09T03:14:42.440635Z",
     "iopub.status.busy": "2022-05-09T03:14:42.440150Z",
     "iopub.status.idle": "2022-05-09T03:14:42.442453Z",
     "shell.execute_reply": "2022-05-09T03:14:42.442807Z"
    },
    "papermill": {
     "duration": 0.016082,
     "end_time": "2022-05-09T03:14:42.442927",
     "exception": false,
     "start_time": "2022-05-09T03:14:42.426845",
     "status": "completed"
    },
    "tags": [
     "injected-parameters"
    ]
   },
   "outputs": [],
   "source": [
    "# Parameters\n",
    "adata_path = \"mCH.CEF.h5ad\"\n",
    "max_cell_prop = 0.1\n",
    "n_components = \"auto\"\n",
    "p_cutoff = 0.1\n",
    "pre_cluster_name = \"leiden\"\n"
   ]
  },
  {
   "cell_type": "markdown",
   "id": "1a44ef8a",
   "metadata": {
    "papermill": {
     "duration": 0.026178,
     "end_time": "2022-05-09T03:14:42.503198",
     "exception": false,
     "start_time": "2022-05-09T03:14:42.477020",
     "status": "completed"
    },
    "tags": []
   },
   "source": [
    "## Load Data"
   ]
  },
  {
   "cell_type": "code",
   "execution_count": 4,
   "id": "6629e6e0",
   "metadata": {
    "ExecuteTime": {
     "end_time": "2022-05-03T17:36:12.555850Z",
     "start_time": "2022-05-03T17:36:08.310005Z"
    },
    "execution": {
     "iopub.execute_input": "2022-05-09T03:14:42.537169Z",
     "iopub.status.busy": "2022-05-09T03:14:42.536681Z",
     "iopub.status.idle": "2022-05-09T03:14:42.674836Z",
     "shell.execute_reply": "2022-05-09T03:14:42.675403Z"
    },
    "papermill": {
     "duration": 0.162063,
     "end_time": "2022-05-09T03:14:42.675566",
     "exception": false,
     "start_time": "2022-05-09T03:14:42.513503",
     "status": "completed"
    },
    "tags": []
   },
   "outputs": [],
   "source": [
    "adata = anndata.read_h5ad(adata_path)"
   ]
  },
  {
   "cell_type": "markdown",
   "id": "a377f196",
   "metadata": {
    "papermill": {
     "duration": 0.010671,
     "end_time": "2022-05-09T03:14:42.697075",
     "exception": false,
     "start_time": "2022-05-09T03:14:42.686404",
     "status": "completed"
    },
    "tags": []
   },
   "source": [
    "## Scale"
   ]
  },
  {
   "cell_type": "code",
   "execution_count": 5,
   "id": "6dc1e031",
   "metadata": {
    "ExecuteTime": {
     "end_time": "2022-05-03T17:36:47.602239Z",
     "start_time": "2022-05-03T17:36:12.558787Z"
    },
    "execution": {
     "iopub.execute_input": "2022-05-09T03:14:42.741594Z",
     "iopub.status.busy": "2022-05-09T03:14:42.741062Z",
     "iopub.status.idle": "2022-05-09T03:14:43.652459Z",
     "shell.execute_reply": "2022-05-09T03:14:43.653116Z"
    },
    "papermill": {
     "duration": 0.945729,
     "end_time": "2022-05-09T03:14:43.653341",
     "exception": false,
     "start_time": "2022-05-09T03:14:42.707612",
     "status": "completed"
    },
    "tags": []
   },
   "outputs": [],
   "source": [
    "scaler = log_scale(adata)"
   ]
  },
  {
   "cell_type": "markdown",
   "id": "da32d209",
   "metadata": {
    "papermill": {
     "duration": 0.014422,
     "end_time": "2022-05-09T03:14:43.683916",
     "exception": false,
     "start_time": "2022-05-09T03:14:43.669494",
     "status": "completed"
    },
    "tags": []
   },
   "source": [
    "## PCA"
   ]
  },
  {
   "cell_type": "code",
   "execution_count": 6,
   "id": "9b019bc6",
   "metadata": {
    "ExecuteTime": {
     "end_time": "2022-05-03T17:41:38.752546Z",
     "start_time": "2022-05-03T17:36:47.604098Z"
    },
    "execution": {
     "iopub.execute_input": "2022-05-09T03:14:43.725265Z",
     "iopub.status.busy": "2022-05-09T03:14:43.724766Z",
     "iopub.status.idle": "2022-05-09T03:14:52.075716Z",
     "shell.execute_reply": "2022-05-09T03:14:52.076110Z"
    },
    "papermill": {
     "duration": 8.38152,
     "end_time": "2022-05-09T03:14:52.076277",
     "exception": false,
     "start_time": "2022-05-09T03:14:43.694757",
     "status": "completed"
    },
    "tags": []
   },
   "outputs": [
    {
     "data": {
      "image/png": "[encoded data removed]",
      "text/plain": [
       "<Figure size 432x288 with 1 Axes>"
      ]
     },
     "metadata": {
      "needs_background": "light"
     },
     "output_type": "display_data"
    },
    {
     "name": "stdout",
     "output_type": "stream",
     "text": [
      "28 components passed P cutoff of 0.1.\n",
      "Changing adata.obsm['X_pca'] from shape (12291, 100) to (12291, 28)\n"
     ]
    }
   ],
   "source": [
    "if adata.shape[1] > 3:\n",
    "    balanced_pca(adata, groups=pre_cluster_name, max_cell_prop=max_cell_prop)\n",
    "    sc.pl.pca_variance_ratio(adata)\n",
    "    ch_n_components = significant_pc_test(adata, p_cutoff=p_cutoff)\n",
    "else:\n",
    "    adata.obsm['X_pca'] = adata.X\n",
    "    import numpy as np\n",
    "    mat = np.zeros(shape=(adata.shape[1], adata.shape[1]))\n",
    "    np.fill_diagonal(mat, 1)\n",
    "    adata.varm['PCs'] = mat"
   ]
  },
  {
   "cell_type": "markdown",
   "id": "7d6bd1fd",
   "metadata": {
    "papermill": {
     "duration": 0.011724,
     "end_time": "2022-05-09T03:14:52.100425",
     "exception": false,
     "start_time": "2022-05-09T03:14:52.088701",
     "status": "completed"
    },
    "tags": []
   },
   "source": [
    "## Save"
   ]
  },
  {
   "cell_type": "code",
   "execution_count": 7,
   "id": "ef7289a2",
   "metadata": {
    "ExecuteTime": {
     "end_time": "2022-05-03T17:41:41.486757Z",
     "start_time": "2022-05-03T17:41:38.757084Z"
    },
    "execution": {
     "iopub.execute_input": "2022-05-09T03:14:52.147995Z",
     "iopub.status.busy": "2022-05-09T03:14:52.147442Z",
     "iopub.status.idle": "2022-05-09T03:14:52.225454Z",
     "shell.execute_reply": "2022-05-09T03:14:52.225898Z"
    },
    "papermill": {
     "duration": 0.114156,
     "end_time": "2022-05-09T03:14:52.226086",
     "exception": false,
     "start_time": "2022-05-09T03:14:52.111930",
     "status": "completed"
    },
    "tags": []
   },
   "outputs": [],
   "source": [
    "# empty X to save space and memory, following analysis won't need X\n",
    "adata.X = csr_matrix(adata.shape)\n",
    "adata.write_h5ad('mch_adata.with_coords.h5ad')"
   ]
  },
  {
   "cell_type": "code",
   "execution_count": 8,
   "id": "bb45d4a7",
   "metadata": {
    "ExecuteTime": {
     "end_time": "2022-05-03T18:47:31.464749Z",
     "start_time": "2022-05-03T18:47:31.454569Z"
    },
    "execution": {
     "iopub.execute_input": "2022-05-09T03:14:52.258342Z",
     "iopub.status.busy": "2022-05-09T03:14:52.257618Z",
     "iopub.status.idle": "2022-05-09T03:14:52.269326Z",
     "shell.execute_reply": "2022-05-09T03:14:52.269693Z"
    },
    "papermill": {
     "duration": 0.03097,
     "end_time": "2022-05-09T03:14:52.269835",
     "exception": false,
     "start_time": "2022-05-09T03:14:52.238865",
     "status": "completed"
    },
    "tags": []
   },
   "outputs": [],
   "source": [
    "from ALLCools.clustering import ReproduciblePCA\n",
    "\n",
    "rpca = ReproduciblePCA(scaler=scaler, mc_type='CHN', adata=adata)\n",
    "rpca.dump('mCH.ReproduciblePCA.lib')"
   ]
  },
  {
   "cell_type": "code",
   "execution_count": null,
   "id": "adf41e48",
   "metadata": {
    "papermill": {
     "duration": 0.011028,
     "end_time": "2022-05-09T03:14:52.293849",
     "exception": false,
     "start_time": "2022-05-09T03:14:52.282821",
     "status": "completed"
    },
    "tags": []
   },
   "outputs": [],
   "source": []
  }
 ],
 "metadata": {
  "hide_input": false,
  "kernelspec": {
   "display_name": "Python 3 (ipykernel)",
   "language": "python",
   "name": "python3"
  },
  "language_info": {
   "codemirror_mode": {
    "name": "ipython",
    "version": 3
   },
   "file_extension": ".py",
   "mimetype": "text/x-python",
   "name": "python",
   "nbconvert_exporter": "python",
   "pygments_lexer": "ipython3",
   "version": "3.8.12"
  },
  "papermill": {
   "default_parameters": {},
   "duration": 17.682203,
   "end_time": "2022-05-09T03:14:54.038145",
   "environment_variables": {},
   "exception": null,
   "input_path": "/home/hanliu/project/cemba/study/Clustering/CEMBA_MC/template/05a-Decomposition-mCH.ipynb",
   "output_path": "CB/05a-Decomposition-mCH.ipynb",
   "parameters": {
    "adata_path": "mCH.CEF.h5ad",
    "max_cell_prop": 0.1,
    "n_components": "auto",
    "p_cutoff": 0.1,
    "pre_cluster_name": "leiden"
   },
   "start_time": "2022-05-09T03:14:36.355942",
   "version": "2.3.3"
  },
  "toc": {
   "base_numbering": 1,
   "nav_menu": {},
   "number_sections": true,
   "sideBar": true,
   "skip_h1_title": true,
   "title_cell": "Table of Contents",
   "title_sidebar": "Contents",
   "toc_cell": false,
   "toc_position": {},
   "toc_section_display": true,
   "toc_window_display": true
  }
 },
 "nbformat": 4,
 "nbformat_minor": 5
}